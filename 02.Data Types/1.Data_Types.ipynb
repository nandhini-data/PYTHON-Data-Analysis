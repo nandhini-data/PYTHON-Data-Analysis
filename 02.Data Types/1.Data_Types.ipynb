{
 "cells": [
  {
   "cell_type": "markdown",
   "id": "6459d408",
   "metadata": {},
   "source": [
    "# <center>Python Data Types</center>"
   ]
  },
  {
   "cell_type": "markdown",
   "id": "cf14f410",
   "metadata": {},
   "source": [
    "* [<span style='color:purple'>**Introduction**](#Introduction)\n",
    "    * [<span style='color:purple'>Single value](#Single-value:)\n",
    "    * [<span style='color:purple'>Multiple values](#Multiple-values:)\n",
    "    * [<span style='color:purple'>The Type Function](#The-Type-Function)\n",
    "    * [<span style='color:purple'>Type Conversion](#Type-conversion)\n",
    "    * [<span style='color:purple'>Iterables](#Iterables)\n",
    "    * [<span style='color:purple'>Mutablity](#Mutability)\n",
    "    * [<span style='color:purple'>Note](#Note:)"
   ]
  },
  {
   "cell_type": "markdown",
   "id": "b837f672",
   "metadata": {},
   "source": [
    "##  <center>Introduction</center>"
   ]
  },
  {
   "cell_type": "markdown",
   "id": "7a6c1ef6",
   "metadata": {},
   "source": [
    "Python has a series of built-in **data types** with different properties.<br>\n",
    "Python datatypes are grouped into following categories:\n",
    "* Numeric  \n",
    "* Text        \n",
    "* Boolean\n",
    "* None\n",
    "* Sequence\n",
    "* Mapping\n",
    "* Set\n"
   ]
  },
  {
   "cell_type": "markdown",
   "id": "23003bdd",
   "metadata": {},
   "source": [
    "## Single value:\n",
    "\n",
    "**Numeric:** This data type represent numeric values.<br>\n",
    "1. integer(int) - 5<br>\n",
    "2. float(float) - 3.18<br>\n",
    "3. complex(complex) - 5+7j\n",
    "            "
   ]
  },
  {
   "cell_type": "markdown",
   "id": "b3e341ad",
   "metadata": {},
   "source": [
    "**Text:** This data type represent sequence of character,usually text.<br>\n",
    "1. string(str) - 'Enjoying'"
   ]
  },
  {
   "cell_type": "markdown",
   "id": "53c21f9e",
   "metadata": {},
   "source": [
    "**Boolean:** This data type represent true and false values.<br>\n",
    "1. Boolean(Bool) - True,False\n"
   ]
  },
  {
   "cell_type": "markdown",
   "id": "9864797b",
   "metadata": {},
   "source": [
    "**None:** This data type represent the absence of a value.<br>\n",
    "1. Nonetype - None"
   ]
  },
  {
   "cell_type": "markdown",
   "id": "0ec5e61f",
   "metadata": {},
   "source": [
    "## Multiple values:\n",
    "\n",
    "**Sequence:** This data type represent sequences of values,usually text or numeric.<br>\n",
    "1. List(list) - [5,6,7,8,9]\n",
    "2. Tuple(tuple) - ('Enjoy', 'happy')\n",
    "3. Range(range) - range(3,10,2)"
   ]
  },
  {
   "cell_type": "markdown",
   "id": "8cef474f",
   "metadata": {},
   "source": [
    "**Mapping:** Map keys to value for efficient information retrieval<br>\n",
    "1. Dictionary(dict) - {'learn': 2,'play': 6}"
   ]
  },
  {
   "cell_type": "markdown",
   "id": "07df2fa6",
   "metadata": {},
   "source": [
    "**Set:** This dataset represent collection of unique,non-duplicate values.<br>\n",
    "1. set{set} - {'learn','play'}\n",
    "2. Frozen set{frozenset} - {'learn','play'}"
   ]
  },
  {
   "cell_type": "markdown",
   "id": "dd2a89ab",
   "metadata": {},
   "source": [
    "## The Type Function"
   ]
  },
  {
   "cell_type": "markdown",
   "id": "1f787240",
   "metadata": {},
   "source": [
    "The **type()** function return the datatype of object passed to it."
   ]
  },
  {
   "cell_type": "code",
   "execution_count": 1,
   "id": "1a2745ce",
   "metadata": {},
   "outputs": [
    {
     "data": {
      "text/plain": [
       "int"
      ]
     },
     "execution_count": 1,
     "metadata": {},
     "output_type": "execute_result"
    }
   ],
   "source": [
    "type(4)"
   ]
  },
  {
   "cell_type": "code",
   "execution_count": 2,
   "id": "2ccd9b30",
   "metadata": {},
   "outputs": [
    {
     "data": {
      "text/plain": [
       "int"
      ]
     },
     "execution_count": 2,
     "metadata": {},
     "output_type": "execute_result"
    }
   ],
   "source": [
    "type(12)"
   ]
  },
  {
   "cell_type": "code",
   "execution_count": 3,
   "id": "f220cbb5",
   "metadata": {},
   "outputs": [
    {
     "data": {
      "text/plain": [
       "int"
      ]
     },
     "execution_count": 3,
     "metadata": {},
     "output_type": "execute_result"
    }
   ],
   "source": [
    "type(30)"
   ]
  },
  {
   "cell_type": "code",
   "execution_count": 4,
   "id": "b0e0d027",
   "metadata": {},
   "outputs": [
    {
     "data": {
      "text/plain": [
       "str"
      ]
     },
     "execution_count": 4,
     "metadata": {},
     "output_type": "execute_result"
    }
   ],
   "source": [
    "type('Enjoy')"
   ]
  },
  {
   "cell_type": "code",
   "execution_count": 5,
   "id": "8b05c50f",
   "metadata": {},
   "outputs": [
    {
     "data": {
      "text/plain": [
       "str"
      ]
     },
     "execution_count": 5,
     "metadata": {},
     "output_type": "execute_result"
    }
   ],
   "source": [
    "type(\"play\")"
   ]
  },
  {
   "cell_type": "code",
   "execution_count": 6,
   "id": "699e0929",
   "metadata": {},
   "outputs": [
    {
     "data": {
      "text/plain": [
       "str"
      ]
     },
     "execution_count": 6,
     "metadata": {},
     "output_type": "execute_result"
    }
   ],
   "source": [
    "type(\"happy\")"
   ]
  },
  {
   "cell_type": "code",
   "execution_count": 7,
   "id": "7be12979",
   "metadata": {},
   "outputs": [
    {
     "data": {
      "text/plain": [
       "bool"
      ]
     },
     "execution_count": 7,
     "metadata": {},
     "output_type": "execute_result"
    }
   ],
   "source": [
    "type(True)"
   ]
  },
  {
   "cell_type": "code",
   "execution_count": 8,
   "id": "ccc635d1",
   "metadata": {},
   "outputs": [
    {
     "data": {
      "text/plain": [
       "bool"
      ]
     },
     "execution_count": 8,
     "metadata": {},
     "output_type": "execute_result"
    }
   ],
   "source": [
    "type(False)"
   ]
  },
  {
   "cell_type": "code",
   "execution_count": 12,
   "id": "3ff0d95b",
   "metadata": {},
   "outputs": [
    {
     "data": {
      "text/plain": [
       "NoneType"
      ]
     },
     "execution_count": 12,
     "metadata": {},
     "output_type": "execute_result"
    }
   ],
   "source": [
    "type(None)"
   ]
  },
  {
   "cell_type": "code",
   "execution_count": 36,
   "id": "a9457134",
   "metadata": {},
   "outputs": [
    {
     "data": {
      "text/plain": [
       "list"
      ]
     },
     "execution_count": 36,
     "metadata": {},
     "output_type": "execute_result"
    }
   ],
   "source": [
    "type([1,10,1,2])"
   ]
  },
  {
   "cell_type": "code",
   "execution_count": 37,
   "id": "bce324c2",
   "metadata": {},
   "outputs": [
    {
     "data": {
      "text/plain": [
       "list"
      ]
     },
     "execution_count": 37,
     "metadata": {},
     "output_type": "execute_result"
    }
   ],
   "source": [
    "type([21,'number',None])"
   ]
  },
  {
   "cell_type": "code",
   "execution_count": 14,
   "id": "c5c016c0",
   "metadata": {},
   "outputs": [
    {
     "data": {
      "text/plain": [
       "dict"
      ]
     },
     "execution_count": 14,
     "metadata": {},
     "output_type": "execute_result"
    }
   ],
   "source": [
    "type({'a':4,'c':5})"
   ]
  },
  {
   "cell_type": "code",
   "execution_count": 15,
   "id": "365e82d8",
   "metadata": {},
   "outputs": [
    {
     "data": {
      "text/plain": [
       "tuple"
      ]
     },
     "execution_count": 15,
     "metadata": {},
     "output_type": "execute_result"
    }
   ],
   "source": [
    "type((1,10,1,2))"
   ]
  },
  {
   "cell_type": "code",
   "execution_count": 26,
   "id": "f67e4b5e",
   "metadata": {},
   "outputs": [
    {
     "name": "stdout",
     "output_type": "stream",
     "text": [
      "<class 'set'>\n",
      "{'play', 'eat', 'happy', 'learn'}\n"
     ]
    }
   ],
   "source": [
    "#set\n",
    "a = {'happy','play','learn','eat','eat'}\n",
    "print(type(a))\n",
    "print(a)  #set represent collection of unique,non-duplicate values"
   ]
  },
  {
   "cell_type": "markdown",
   "id": "1cf51eb3",
   "metadata": {},
   "source": [
    "## Type Conversion"
   ]
  },
  {
   "cell_type": "markdown",
   "id": "ecde0236",
   "metadata": {},
   "source": [
    "Convert the datatype of object by using **datatype(object)**"
   ]
  },
  {
   "cell_type": "code",
   "execution_count": 35,
   "id": "9a937556",
   "metadata": {},
   "outputs": [
    {
     "name": "stdout",
     "output_type": "stream",
     "text": [
      "<class 'str'>\n",
      "123\n"
     ]
    }
   ],
   "source": [
    "a='123'\n",
    "type_of_a=print(type(a))\n",
    "convert_str_to_integer=print(int(a))#converting string to integer."
   ]
  },
  {
   "cell_type": "code",
   "execution_count": 29,
   "id": "c9152726",
   "metadata": {},
   "outputs": [
    {
     "name": "stdout",
     "output_type": "stream",
     "text": [
      "3.24\n",
      "3\n"
     ]
    }
   ],
   "source": [
    "a = 3.24\n",
    "print(a)\n",
    "type_conversion = int(a)\n",
    "print(type_conversion)"
   ]
  },
  {
   "cell_type": "code",
   "execution_count": 31,
   "id": "c99afe13",
   "metadata": {},
   "outputs": [
    {
     "data": {
      "text/plain": [
       "5.0"
      ]
     },
     "execution_count": 31,
     "metadata": {},
     "output_type": "execute_result"
    }
   ],
   "source": [
    "float(5)"
   ]
  },
  {
   "cell_type": "code",
   "execution_count": 49,
   "id": "5876c284",
   "metadata": {},
   "outputs": [
    {
     "name": "stdout",
     "output_type": "stream",
     "text": [
      "type_of_b <class 'list'>\n",
      "list b =  [22, 'eight', 22, 'ten', 'ten']\n",
      "list b to set =  {'eight', 'ten', 22}\n"
     ]
    }
   ],
   "source": [
    "b = [22,'eight',22,'ten','ten']\n",
    "type_of_b = type(b)\n",
    "print(\"type_of_b\",type_of_b)\n",
    "print('list b = ',b)\n",
    "list_to_set = set(b)\n",
    "print('list b to set = ',list_to_set)"
   ]
  },
  {
   "cell_type": "markdown",
   "id": "7b5c9c82",
   "metadata": {},
   "source": [
    "## Iterables"
   ]
  },
  {
   "cell_type": "markdown",
   "id": "3680d996",
   "metadata": {},
   "source": [
    "Iterables are datatypes that can be iterated or looped through,allow to move from one value to the next.\n",
    "These datatypes are iterable:\n",
    "* Sequence\n",
    "* Mapping\n",
    "* Set\n",
    "* Text(while text strings are considered as single value,individual character in a text string is iterated)\n"
   ]
  },
  {
   "cell_type": "markdown",
   "id": "564a4822",
   "metadata": {},
   "source": [
    "## Mutability"
   ]
  },
  {
   "cell_type": "markdown",
   "id": "21b9c156",
   "metadata": {},
   "source": [
    "A data type is mutable if it can be modified after its creation.<br>\n",
    "\n",
    "**Mutable datatypes** - can modify,add,remove a value in the object\n",
    "* List\n",
    "* Dictionaries\n",
    "* Sets<br>\n",
    "\n",
    "**Immutable datatypes** - To modify a value we must delete and recreate the entire object.<br>\n",
    "* Integers\n",
    "* Floats\n",
    "* Strings\n",
    "* Booleans\n",
    "* Tuples\n",
    "* Frozenset<br>\n",
    "<span style= 'color:red'>all simple datatypes are immutable"
   ]
  },
  {
   "cell_type": "markdown",
   "id": "6b6c4a57",
   "metadata": {},
   "source": [
    "### Note:\n",
    "\n",
    "<span style='color:purple'>1. Python has awide variety of **datatypes** with different properties.<br>\n",
    "    2. The **type()** function determine the object data type.<br>\n",
    "    3. **Iterables** are datatype with values that you can loop through.<br>\n",
    "    4. Data types can be **Mutable or Immutable**"
   ]
  },
  {
   "cell_type": "code",
   "execution_count": null,
   "id": "5a80f213",
   "metadata": {},
   "outputs": [],
   "source": []
  }
 ],
 "metadata": {
  "kernelspec": {
   "display_name": "Python 3 (ipykernel)",
   "language": "python",
   "name": "python3"
  },
  "language_info": {
   "codemirror_mode": {
    "name": "ipython",
    "version": 3
   },
   "file_extension": ".py",
   "mimetype": "text/x-python",
   "name": "python",
   "nbconvert_exporter": "python",
   "pygments_lexer": "ipython3",
   "version": "3.10.9"
  }
 },
 "nbformat": 4,
 "nbformat_minor": 5
}
