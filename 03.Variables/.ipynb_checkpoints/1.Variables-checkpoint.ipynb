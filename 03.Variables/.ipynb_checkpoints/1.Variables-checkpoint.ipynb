{
 "cells": [
  {
   "cell_type": "markdown",
   "id": "d87fd76d",
   "metadata": {},
   "source": [
    "# <center>Variables</center>"
   ]
  },
  {
   "cell_type": "markdown",
   "id": "47ff11e3",
   "metadata": {},
   "source": [
    "* [<span style='color:purple'>**Introduction**](#Introduction)\n",
    "* [<span style='color:purple'>**Variable Assignment**](#Variable-Assignment)\n",
    "    * [<span style='color:purple'>Task 1:Variable Assignment](#Task-1:Variable-Assignment)\n",
    "* [<span style='color:purple'>**Overwriting Variables**](#Overwriting-Variables)\n",
    "* [<span style='color:purple'>**Deleting Variables**](#Deleting-Variables)\n",
    "* [<span style='color:purple'>**Naming Rules**](#Naming-Rules)\n",
    "* [<span style='color:purple'>**Tracking Variables**](#Tracking-Variables)\n",
    "    * [<span style='color:purple'>Task 2:Fix the Variable Names](#Task-2:Fix-the-Variable-Names)\n",
    "* [<span style='color:purple'>**Note**](#Note:)"
   ]
  },
  {
   "cell_type": "markdown",
   "id": "3e4f0d81",
   "metadata": {},
   "source": [
    "## <center>Introduction</center>"
   ]
  },
  {
   "cell_type": "markdown",
   "id": "9f7618a4",
   "metadata": {},
   "source": [
    "Variables are the container used to label and store the value for future references.<br>\n",
    "Variables can store any python data type.<br>\n",
    " **Variable_name = value** "
   ]
  },
  {
   "cell_type": "markdown",
   "id": "54a58f3e",
   "metadata": {},
   "source": [
    "## Variable Assignment"
   ]
  },
  {
   "cell_type": "code",
   "execution_count": 6,
   "id": "39c5013e",
   "metadata": {},
   "outputs": [],
   "source": [
    "amount = 5"
   ]
  },
  {
   "cell_type": "code",
   "execution_count": 7,
   "id": "ec26dfeb",
   "metadata": {},
   "outputs": [
    {
     "name": "stdout",
     "output_type": "stream",
     "text": [
      "5\n"
     ]
    }
   ],
   "source": [
    "print(amount)"
   ]
  },
  {
   "cell_type": "code",
   "execution_count": 8,
   "id": "5be36ec9",
   "metadata": {},
   "outputs": [],
   "source": [
    "promotion = 'yes'"
   ]
  },
  {
   "cell_type": "code",
   "execution_count": 9,
   "id": "d61b42f9",
   "metadata": {},
   "outputs": [
    {
     "name": "stdout",
     "output_type": "stream",
     "text": [
      "yes\n"
     ]
    }
   ],
   "source": [
    "print(promotion)"
   ]
  },
  {
   "cell_type": "code",
   "execution_count": 11,
   "id": "423bbd42",
   "metadata": {},
   "outputs": [
    {
     "name": "stdout",
     "output_type": "stream",
     "text": [
      "[500, 350, 240, None]\n"
     ]
    }
   ],
   "source": [
    "#creating a variable for list\n",
    "\n",
    "amount = [500,350,240,None]\n",
    "amount_list = print(amount)\n",
    "amount_list"
   ]
  },
  {
   "cell_type": "markdown",
   "id": "b77dfb0a",
   "metadata": {},
   "source": [
    "***"
   ]
  },
  {
   "cell_type": "markdown",
   "id": "87f888c0",
   "metadata": {},
   "source": [
    "## Task 1:Variable Assignment\n",
    "\n",
    "For the first task, I’d like you to change the code that adds a dollar in tax to the price before printing. The tax will no longer be fixed at one dollar, so:\n",
    "\n",
    "Create a ‘tax’ variable and assign it a value of 2\n",
    "Create a ‘total’ variable equal to ‘price’ + ‘tax’\n",
    "Print ‘total’\n",
    "\n",
    "**original tax code**\n",
    "\n",
    "price = 5\n",
    "\n",
    "print(price + 1)"
   ]
  },
  {
   "cell_type": "code",
   "execution_count": 13,
   "id": "a922bb98",
   "metadata": {},
   "outputs": [
    {
     "name": "stdout",
     "output_type": "stream",
     "text": [
      "7\n"
     ]
    }
   ],
   "source": [
    "tax = 2\n",
    "price =5\n",
    "total =price + tax\n",
    "total = print(total)"
   ]
  },
  {
   "cell_type": "markdown",
   "id": "0871b568",
   "metadata": {},
   "source": [
    "***"
   ]
  },
  {
   "cell_type": "markdown",
   "id": "b402a6e2",
   "metadata": {},
   "source": [
    "## Overwriting Variables"
   ]
  },
  {
   "cell_type": "markdown",
   "id": "7ec6c39e",
   "metadata": {},
   "source": [
    "You can overwrite the variable by assigning a new value to it"
   ]
  },
  {
   "cell_type": "code",
   "execution_count": 14,
   "id": "256f2316",
   "metadata": {},
   "outputs": [
    {
     "name": "stdout",
     "output_type": "stream",
     "text": [
      "3\n"
     ]
    }
   ],
   "source": [
    "colors = 3\n",
    "print(colors)"
   ]
  },
  {
   "cell_type": "code",
   "execution_count": 15,
   "id": "b49f6e13",
   "metadata": {},
   "outputs": [],
   "source": [
    "colors =12"
   ]
  },
  {
   "cell_type": "code",
   "execution_count": 17,
   "id": "1477aa44",
   "metadata": {},
   "outputs": [
    {
     "name": "stdout",
     "output_type": "stream",
     "text": [
      "12\n"
     ]
    }
   ],
   "source": [
    "print(colors) #for the variable colors the value will be 12 its not 3\n",
    "            #here the variable colors get overwritten"
   ]
  },
  {
   "cell_type": "markdown",
   "id": "701e571b",
   "metadata": {},
   "source": [
    "Variables can be assigned as a value to the other variables"
   ]
  },
  {
   "cell_type": "code",
   "execution_count": 19,
   "id": "c255612e",
   "metadata": {},
   "outputs": [
    {
     "name": "stdout",
     "output_type": "stream",
     "text": [
      "colors 12\n",
      "colors 30\n",
      "new_colors 42\n"
     ]
    }
   ],
   "source": [
    "new_colors = 30\n",
    "print('colors',colors)\n",
    "\n",
    "colors = new_colors\n",
    "print('colors',colors)\n",
    "\n",
    "new_colors=42\n",
    "print('new_colors',new_colors)\n",
    "\n",
    "\n"
   ]
  },
  {
   "cell_type": "markdown",
   "id": "48266989",
   "metadata": {},
   "source": [
    "***"
   ]
  },
  {
   "cell_type": "markdown",
   "id": "9bf1f213",
   "metadata": {},
   "source": [
    "## Deleting Variables"
   ]
  },
  {
   "cell_type": "markdown",
   "id": "f3a0567a",
   "metadata": {},
   "source": [
    "The **del** keyword will permanently remove the variables"
   ]
  },
  {
   "cell_type": "markdown",
   "id": "ea869290",
   "metadata": {},
   "source": [
    "del variable_name<br>\n",
    "Deleting the variable is generally unnecessary,instead reassign the variable and python will get rid of the old value\n"
   ]
  },
  {
   "cell_type": "markdown",
   "id": "c33f5d27",
   "metadata": {},
   "source": [
    "***"
   ]
  },
  {
   "cell_type": "markdown",
   "id": "1726a229",
   "metadata": {},
   "source": [
    "## Naming Rules"
   ]
  },
  {
   "cell_type": "markdown",
   "id": "9ee2e9fc",
   "metadata": {},
   "source": [
    "Variables have some naming rules<br>\n",
    "Variable names <span style='color:green'>can</span>:<br>\n",
    "* Contain letters(case sensitive)\n",
    "* contain numbers\n",
    "* contain underscore\n",
    "* can begin with a letter or underscore<br>\n",
    "\n",
    "Variable names <span style='color:red'>cannot</span>:<br>\n",
    "* Begin with a number\n",
    "* contain space or other special character\n",
    "* Be reserved python keyword(like list del)\n"
   ]
  },
  {
   "cell_type": "markdown",
   "id": "27eabfd0",
   "metadata": {},
   "source": [
    "**snake case** *is the recommended naming style for python variable,which are lowercase with words seperated by underscores*(first_second,new_price)"
   ]
  },
  {
   "cell_type": "markdown",
   "id": "ea79ff6d",
   "metadata": {},
   "source": [
    "***"
   ]
  },
  {
   "cell_type": "markdown",
   "id": "0a941f63",
   "metadata": {},
   "source": [
    "## Tracking Variables"
   ]
  },
  {
   "cell_type": "markdown",
   "id": "6f796d5b",
   "metadata": {},
   "source": [
    "use %who and %whos to track the variables you have created"
   ]
  },
  {
   "cell_type": "code",
   "execution_count": 20,
   "id": "7c9d31d3",
   "metadata": {},
   "outputs": [],
   "source": [
    "amount = 100\n",
    "store ='toy'\n",
    "date = '11-feb-2024'\n",
    "list_price=[20,45,65]"
   ]
  },
  {
   "cell_type": "code",
   "execution_count": 21,
   "id": "e496dd16",
   "metadata": {},
   "outputs": [
    {
     "name": "stdout",
     "output_type": "stream",
     "text": [
      "Learning\t amount\t amount_list\t colors\t date\t learning\t list_price\t new_colors\t price\t \n",
      "promotion\t store\t tax\t total\t \n"
     ]
    }
   ],
   "source": [
    "%who"
   ]
  },
  {
   "cell_type": "code",
   "execution_count": 22,
   "id": "48d3f5bc",
   "metadata": {},
   "outputs": [
    {
     "name": "stdout",
     "output_type": "stream",
     "text": [
      "Variable      Type        Data/Info\n",
      "-----------------------------------\n",
      "Learning      str         3 hours\n",
      "amount        int         100\n",
      "amount_list   NoneType    None\n",
      "colors        int         30\n",
      "date          str         11-feb-2024\n",
      "learning      str         3 hours\n",
      "list_price    list        n=3\n",
      "new_colors    int         42\n",
      "price         int         5\n",
      "promotion     str         yes\n",
      "store         str         toy\n",
      "tax           int         2\n",
      "total         NoneType    None\n"
     ]
    }
   ],
   "source": [
    "%whos"
   ]
  },
  {
   "cell_type": "markdown",
   "id": "13f3aa84",
   "metadata": {},
   "source": [
    "***"
   ]
  },
  {
   "cell_type": "markdown",
   "id": "eeee9c9d",
   "metadata": {},
   "source": [
    "## Task 2:Fix the Variable Names"
   ]
  },
  {
   "cell_type": "code",
   "execution_count": null,
   "id": "c3d7a7c9",
   "metadata": {},
   "outputs": [],
   "source": [
    "#fix the variable name and print 2018,2019,2020 price list\n",
    "#2018_price_list = [4.99, 8.99, 17.99, 22.99, 94.99]\n",
    "#price_list-2019 = [5.99, 9.99, 19.99, 24.99, 99.99]\n",
    "#2020 list = [6.49, 10.49, 19.99, 26.99, 104.99]"
   ]
  },
  {
   "cell_type": "markdown",
   "id": "6f11cd16",
   "metadata": {},
   "source": [
    "2018_price_list = [4.99, 8.99, 17.99, 22.99, 94.99]  this one isn't working - probably a random bug<br>\n",
    "variable name cannot begin with numbers"
   ]
  },
  {
   "cell_type": "code",
   "execution_count": 1,
   "id": "06970117",
   "metadata": {},
   "outputs": [],
   "source": [
    "price_list_2018 = [4.99,8.99,17.99,22.99,94.99]"
   ]
  },
  {
   "cell_type": "markdown",
   "id": "9bfcf36a",
   "metadata": {},
   "source": [
    "price_list-2019 = [5.99, 9.99, 19.99, 24.99, 99.99]  this one isn't working<br>\n",
    "arithmetic operator - cannot be used as a variable name"
   ]
  },
  {
   "cell_type": "code",
   "execution_count": 5,
   "id": "2daae4ea",
   "metadata": {},
   "outputs": [],
   "source": [
    "price_list_2019 = [5.99, 9.99, 19.99, 24.99, 99.99]"
   ]
  },
  {
   "cell_type": "markdown",
   "id": "b91887ef",
   "metadata": {},
   "source": [
    "2020 list = [6.49, 10.49, 19.99, 26.99, 104.99]<br> this is not working\n",
    "variable name cannot contain space"
   ]
  },
  {
   "cell_type": "code",
   "execution_count": 7,
   "id": "0c2a19af",
   "metadata": {},
   "outputs": [],
   "source": [
    "price_list_2020 = [6.49, 10.49, 19.99, 26.99, 104.99]"
   ]
  },
  {
   "cell_type": "code",
   "execution_count": 14,
   "id": "a4b7935f",
   "metadata": {},
   "outputs": [
    {
     "name": "stdout",
     "output_type": "stream",
     "text": [
      "2018 price -  [4.99, 8.99, 17.99, 22.99, 94.99]\n",
      "2019 price -  [5.99, 9.99, 19.99, 24.99, 99.99]\n",
      "2020 price -  [6.49, 10.49, 19.99, 26.99, 104.99]\n"
     ]
    }
   ],
   "source": [
    "print('2018 price - ',price_list_2018)\n",
    "print('2019 price - ',price_list_2019)\n",
    "print('2020 price - ',price_list_2020)\n"
   ]
  },
  {
   "cell_type": "markdown",
   "id": "1ff8899a",
   "metadata": {},
   "source": [
    "***"
   ]
  },
  {
   "cell_type": "markdown",
   "id": "c3a085a2",
   "metadata": {},
   "source": [
    "### Note:"
   ]
  },
  {
   "cell_type": "markdown",
   "id": "0ea34efc",
   "metadata": {},
   "source": [
    "<span style='color:purple'>1. variables are container used to **store values** from any data type.<br>2. **Overwrite Variables** by assigning new values to them.<br>3.Variable names must follow python's naming rules.**snake case** is recommended.<br>4.Give variable **intuitive** names."
   ]
  },
  {
   "cell_type": "code",
   "execution_count": null,
   "id": "6e41d718",
   "metadata": {},
   "outputs": [],
   "source": []
  }
 ],
 "metadata": {
  "kernelspec": {
   "display_name": "Python 3 (ipykernel)",
   "language": "python",
   "name": "python3"
  },
  "language_info": {
   "codemirror_mode": {
    "name": "ipython",
    "version": 3
   },
   "file_extension": ".py",
   "mimetype": "text/x-python",
   "name": "python",
   "nbconvert_exporter": "python",
   "pygments_lexer": "ipython3",
   "version": "3.10.9"
  }
 },
 "nbformat": 4,
 "nbformat_minor": 5
}
