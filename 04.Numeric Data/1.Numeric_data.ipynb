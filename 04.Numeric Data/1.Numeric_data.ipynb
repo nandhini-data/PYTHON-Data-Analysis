{
 "cells": [
  {
   "cell_type": "markdown",
   "id": "248f646e",
   "metadata": {},
   "source": [
    "# <center>Numeric Data</center>"
   ]
  },
  {
   "cell_type": "markdown",
   "id": "37d148ec",
   "metadata": {},
   "source": [
    "* [<span style='color:purple'>**Introduction**](#Introduction)\n",
    "    * [<span style='color:purple'>Numeric Type conversion](#Numeric-Type-conversion)\n",
    "    * [<span style='color:purple'>Multiple values](#Multiple-values:)\n",
    "    * [<span style='color:purple'>Arithmetic Operators](#Arithmetic-Operators)\n",
    "    * [<span style='color:purple'>Order of operations](#Order-of-operations)\n",
    "        * [<span style='color:purple'>Task 1:Arithmetic Operators](#Task-1:Arithmetic-operators)\n",
    "    * [<span style='color:purple'>Numeric Functions](#Numeric-Functions)\n",
    "        * [<span style='color:purple'>Task 2:Numeric Functions](#Task-2:Numeric-Functions)\n",
    "    * [<span style='color:purple'>Note:](#Note:)"
   ]
  },
  {
   "cell_type": "markdown",
   "id": "5d77972a",
   "metadata": {},
   "source": [
    "## <center>Introduction</center>"
   ]
  },
  {
   "cell_type": "markdown",
   "id": "9e50e933",
   "metadata": {},
   "source": [
    "There are three types of **Numeric data types** in python:<br>\n",
    "1. Integer(int) -whole number without decimal point.\n",
    "2. Float(float) - real number with decimal point.\n",
    "3. Complex(complex) - numbers with real and imaginary portions."
   ]
  },
  {
   "cell_type": "markdown",
   "id": "d28f3714",
   "metadata": {},
   "source": [
    "## Numeric Type conversion"
   ]
  },
  {
   "cell_type": "code",
   "execution_count": 1,
   "id": "8b1bba75",
   "metadata": {},
   "outputs": [
    {
     "data": {
      "text/plain": [
       "1.6899"
      ]
     },
     "execution_count": 1,
     "metadata": {},
     "output_type": "execute_result"
    }
   ],
   "source": [
    "number = 1.6899\n",
    "number"
   ]
  },
  {
   "cell_type": "code",
   "execution_count": 2,
   "id": "5e171ab9",
   "metadata": {},
   "outputs": [
    {
     "data": {
      "text/plain": [
       "float"
      ]
     },
     "execution_count": 2,
     "metadata": {},
     "output_type": "execute_result"
    }
   ],
   "source": [
    "type(number)"
   ]
  },
  {
   "cell_type": "code",
   "execution_count": 4,
   "id": "2567bd7f",
   "metadata": {},
   "outputs": [
    {
     "data": {
      "text/plain": [
       "1"
      ]
     },
     "execution_count": 4,
     "metadata": {},
     "output_type": "execute_result"
    }
   ],
   "source": [
    "int_number = int(number)\n",
    "int_number"
   ]
  },
  {
   "cell_type": "code",
   "execution_count": 5,
   "id": "d4647d25",
   "metadata": {},
   "outputs": [
    {
     "data": {
      "text/plain": [
       "int"
      ]
     },
     "execution_count": 5,
     "metadata": {},
     "output_type": "execute_result"
    }
   ],
   "source": [
    "type(int_number)"
   ]
  },
  {
   "cell_type": "code",
   "execution_count": 1,
   "id": "98071cf2",
   "metadata": {},
   "outputs": [
    {
     "data": {
      "text/plain": [
       "str"
      ]
     },
     "execution_count": 1,
     "metadata": {},
     "output_type": "execute_result"
    }
   ],
   "source": [
    "text = '1.2'\n",
    "type(text)"
   ]
  },
  {
   "cell_type": "code",
   "execution_count": 2,
   "id": "4a95582a",
   "metadata": {},
   "outputs": [],
   "source": [
    "float_number = float(text)"
   ]
  },
  {
   "cell_type": "code",
   "execution_count": 3,
   "id": "f0062f3e",
   "metadata": {},
   "outputs": [
    {
     "data": {
      "text/plain": [
       "(1.2, float)"
      ]
     },
     "execution_count": 3,
     "metadata": {},
     "output_type": "execute_result"
    }
   ],
   "source": [
    "float_number,type(float_number)"
   ]
  },
  {
   "cell_type": "markdown",
   "id": "07aac4e2",
   "metadata": {},
   "source": [
    "## Arithmetic Operators"
   ]
  },
  {
   "cell_type": "markdown",
   "id": "80df9418",
   "metadata": {},
   "source": [
    "\n",
    "| Operators| to  |Example|\n",
    "| :---: |  :---: | :---: |\n",
    "| + Addition  | Add two values |  5 + 3 =8 | \n",
    "| - Subtraction | Subtract one value from another | 5-3 =2|\n",
    "| * Multiplication|Multiplies two value|6 * 6=36|\n",
    "| / Division |Divides one value by another|64/8=8|\n",
    "| //Floor division|Divide one value by another and round down to nearest integer|5//3=1|\n",
    "| % Modulo|Return the remainder of a division|5%3=2|\n",
    "| ** Exponentiation|Raise one value to the power of another|3 ** 3=27|"
   ]
  },
  {
   "cell_type": "markdown",
   "id": "8800d67d",
   "metadata": {},
   "source": [
    "## Order of operations"
   ]
  },
  {
   "cell_type": "markdown",
   "id": "435a0bd8",
   "metadata": {},
   "source": [
    "Python uses the standard PEMDAS **Order of orperations** to perform calculations\n",
    "1. Parantheses\n",
    "2. Exponentiation\n",
    "3. Multiplication and division(also floor division and modulo)from left to right\n",
    "4. Addition and subtraction from left to right\n"
   ]
  },
  {
   "cell_type": "markdown",
   "id": "963915c8",
   "metadata": {},
   "source": [
    "## Task 1:Arithmetic operators"
   ]
  },
  {
   "cell_type": "markdown",
   "id": "9dbcbcdc",
   "metadata": {},
   "source": [
    " calculate the following numbers<br>\n",
    " \n",
    " * Gross profit from selling a snowboard\n",
    " * Gross margin from selling a snowboard\n",
    " * Price needed for a gross margin of 70%\n",
    " * Sales tax on a snowboard sale\n",
    " * Amount of money if the gross profit from \n",
    "selling 5 snowboards is invested for one year"
   ]
  },
  {
   "cell_type": "markdown",
   "id": "bb92675e",
   "metadata": {},
   "source": [
    "### 1. Calculate the gross profit on our snowboard\n",
    "\n",
    "Formula: Price minus cost\n",
    "\n",
    "\n",
    "\n",
    "\n",
    "\n"
   ]
  },
  {
   "cell_type": "code",
   "execution_count": 4,
   "id": "e6ed24e1",
   "metadata": {},
   "outputs": [],
   "source": [
    "snowboard_price = 499.99\n",
    "snowboard_cost = 199.99\n"
   ]
  },
  {
   "cell_type": "code",
   "execution_count": 5,
   "id": "223f03dc",
   "metadata": {},
   "outputs": [],
   "source": [
    "profit_snowboard = snowboard_price - snowboard_cost"
   ]
  },
  {
   "cell_type": "code",
   "execution_count": 8,
   "id": "4c06577f",
   "metadata": {},
   "outputs": [
    {
     "name": "stdout",
     "output_type": "stream",
     "text": [
      "gross profit on snowboard = 300.0\n"
     ]
    }
   ],
   "source": [
    "print(\"gross profit on snowboard =\", profit_snowboard)"
   ]
  },
  {
   "cell_type": "markdown",
   "id": "fa862dc7",
   "metadata": {},
   "source": [
    "### 2. Calculate the gross margin on our snowboard\n",
    "Formula: Gross profit divided by price"
   ]
  },
  {
   "cell_type": "code",
   "execution_count": 9,
   "id": "fb91aae0",
   "metadata": {},
   "outputs": [
    {
     "name": "stdout",
     "output_type": "stream",
     "text": [
      "gross margin on snowboard =  0.6000120002400048\n"
     ]
    }
   ],
   "source": [
    "gross_margin = profit_snowboard / snowboard_price\n",
    "print(\"gross margin on snowboard = \",gross_margin)"
   ]
  },
  {
   "cell_type": "markdown",
   "id": "ed81f9e3",
   "metadata": {},
   "source": [
    "### 3. Calculate the price needed to obtain a gross margin of 70%\n",
    "\n",
    "Formula:  cost divided by (1 minus the desired margin)."
   ]
  },
  {
   "cell_type": "code",
   "execution_count": 12,
   "id": "d016e410",
   "metadata": {},
   "outputs": [
    {
     "name": "stdout",
     "output_type": "stream",
     "text": [
      "the price needed to obtain a gross margin of 70% = 666.6333333333332\n"
     ]
    }
   ],
   "source": [
    "desired_margin = 0.7\n",
    "price_needed_70_percent =snowboard_cost/(1-desired_margin)\n",
    "print(\"the price needed to obtain a gross margin of 70% =\",price_needed_70_percent)"
   ]
  },
  {
   "cell_type": "markdown",
   "id": "a21eb3f9",
   "metadata": {},
   "source": [
    "### 4. Calculate the sales tax on a sale of our snowboard\n",
    "Tax rate: 8%\n",
    "\n",
    "Formula: Price times tax rate"
   ]
  },
  {
   "cell_type": "code",
   "execution_count": 15,
   "id": "665a822e",
   "metadata": {},
   "outputs": [],
   "source": [
    "Tax_rate = 0.08\n",
    "sales_tax =snowboard_price * Tax_rate"
   ]
  },
  {
   "cell_type": "code",
   "execution_count": 16,
   "id": "fb3a06c0",
   "metadata": {},
   "outputs": [
    {
     "name": "stdout",
     "output_type": "stream",
     "text": [
      "the sales tax on a sale of our snowboard =  39.9992\n"
     ]
    }
   ],
   "source": [
    "print(\"the sales tax on a sale of our snowboard = \",sales_tax)"
   ]
  },
  {
   "cell_type": "markdown",
   "id": "3eb791f6",
   "metadata": {},
   "source": [
    "### 5. Return on Profits\n",
    "\n",
    "Calculate the amount of money we'd have if we invested the profit from selling 5 snowboards for one year.\n",
    "\n",
    "Assume an interest rate of 5%.\n",
    "\n",
    "The formula is the amount_invested plus  (amount_invested times interest_rate)"
   ]
  },
  {
   "cell_type": "code",
   "execution_count": 21,
   "id": "6d5d4121",
   "metadata": {},
   "outputs": [],
   "source": [
    "interest_rate = 0.05\n",
    "amount_invested = 5*profit_snowboard\n",
    "return_on_profits = amount_invested+(amount_invested * interest_rate)"
   ]
  },
  {
   "cell_type": "code",
   "execution_count": 22,
   "id": "e4195b1b",
   "metadata": {},
   "outputs": [
    {
     "data": {
      "text/plain": [
       "1575.0"
      ]
     },
     "execution_count": 22,
     "metadata": {},
     "output_type": "execute_result"
    }
   ],
   "source": [
    "return_on_profits"
   ]
  },
  {
   "cell_type": "markdown",
   "id": "645d75cd",
   "metadata": {},
   "source": [
    "## Numeric Functions"
   ]
  },
  {
   "cell_type": "markdown",
   "id": "e9b13fa8",
   "metadata": {},
   "source": [
    "**Single Numbers:**<br>\n",
    "1. round() -round a number to specific number of digit\n",
    "2. abs() - returns the absolute value of a number<br>\n",
    "\n",
    "**Multiple Numbers:**<br>\n",
    "1. sum() - sum all the numbers in iterable\n",
    "2. min() - return the smallest number from iterable\n",
    "3. max() - return the largest number from iterable\n"
   ]
  },
  {
   "cell_type": "code",
   "execution_count": 23,
   "id": "aa72482f",
   "metadata": {},
   "outputs": [
    {
     "data": {
      "text/plain": [
       "3.73"
      ]
     },
     "execution_count": 23,
     "metadata": {},
     "output_type": "execute_result"
    }
   ],
   "source": [
    "a =3.72912\n",
    "round(a,2)"
   ]
  },
  {
   "cell_type": "code",
   "execution_count": 24,
   "id": "6c528b3e",
   "metadata": {},
   "outputs": [
    {
     "data": {
      "text/plain": [
       "3.72912"
      ]
     },
     "execution_count": 24,
     "metadata": {},
     "output_type": "execute_result"
    }
   ],
   "source": [
    "a"
   ]
  },
  {
   "cell_type": "code",
   "execution_count": 26,
   "id": "fa0cfffa",
   "metadata": {},
   "outputs": [
    {
     "data": {
      "text/plain": [
       "45"
      ]
     },
     "execution_count": 26,
     "metadata": {},
     "output_type": "execute_result"
    }
   ],
   "source": [
    "b =-45\n",
    "abs(b)# this will always return positive number"
   ]
  },
  {
   "cell_type": "code",
   "execution_count": 27,
   "id": "d236fff5",
   "metadata": {},
   "outputs": [
    {
     "data": {
      "text/plain": [
       "73"
      ]
     },
     "execution_count": 27,
     "metadata": {},
     "output_type": "execute_result"
    }
   ],
   "source": [
    "sum((4,19,20,30))#sum all the number in tuples"
   ]
  },
  {
   "cell_type": "code",
   "execution_count": 28,
   "id": "31a789bd",
   "metadata": {},
   "outputs": [],
   "source": [
    "c =(10,20,30,80,100,200,1,2,4,8)"
   ]
  },
  {
   "cell_type": "code",
   "execution_count": 29,
   "id": "497c553a",
   "metadata": {},
   "outputs": [
    {
     "data": {
      "text/plain": [
       "455"
      ]
     },
     "execution_count": 29,
     "metadata": {},
     "output_type": "execute_result"
    }
   ],
   "source": [
    "sum(c)"
   ]
  },
  {
   "cell_type": "code",
   "execution_count": 30,
   "id": "11d37dc3",
   "metadata": {},
   "outputs": [
    {
     "data": {
      "text/plain": [
       "1"
      ]
     },
     "execution_count": 30,
     "metadata": {},
     "output_type": "execute_result"
    }
   ],
   "source": [
    "min(c)"
   ]
  },
  {
   "cell_type": "code",
   "execution_count": 31,
   "id": "77f0e81c",
   "metadata": {},
   "outputs": [
    {
     "data": {
      "text/plain": [
       "200"
      ]
     },
     "execution_count": 31,
     "metadata": {},
     "output_type": "execute_result"
    }
   ],
   "source": [
    "max(c)"
   ]
  },
  {
   "cell_type": "markdown",
   "id": "46ae878c",
   "metadata": {},
   "source": [
    "## Task 2:Numeric Functions"
   ]
  },
  {
   "cell_type": "markdown",
   "id": "8c081c87",
   "metadata": {},
   "source": [
    " * What is the highest priced item we sell?\n",
    " * What is the lowest priced item we sell?\n",
    " * How much would it cost for a customer to \n",
    "purchase two of every item, rounded to the \n",
    "nearest dollar"
   ]
  },
  {
   "cell_type": "markdown",
   "id": "c3a2a086",
   "metadata": {},
   "source": [
    "###  What are the highest and lowest priced items we sell?\n",
    "\n",
    "Based on the list of prices below. Use Python to determine this."
   ]
  },
  {
   "cell_type": "code",
   "execution_count": 34,
   "id": "58381d6c",
   "metadata": {},
   "outputs": [
    {
     "name": "stdout",
     "output_type": "stream",
     "text": [
      "highest price =  129.99\n"
     ]
    }
   ],
   "source": [
    "price_list = [129.99, 99.99, 119.19, 99.99, 89.99, 79.99, 49.99]\n",
    "print(\"highest price = \",max(price_list))"
   ]
  },
  {
   "cell_type": "code",
   "execution_count": 35,
   "id": "47c00156",
   "metadata": {},
   "outputs": [
    {
     "name": "stdout",
     "output_type": "stream",
     "text": [
      "lowest price =  49.99\n"
     ]
    }
   ],
   "source": [
    "print(\"lowest price = \",min(price_list))"
   ]
  },
  {
   "cell_type": "markdown",
   "id": "3050f5b4",
   "metadata": {},
   "source": [
    "### How much would it cost for a customer to purchase two of every item, rounded to the nearest dollar"
   ]
  },
  {
   "cell_type": "code",
   "execution_count": 36,
   "id": "819c473a",
   "metadata": {},
   "outputs": [],
   "source": [
    "purchase_two = 2*sum(price_list)"
   ]
  },
  {
   "cell_type": "code",
   "execution_count": 37,
   "id": "b6711c48",
   "metadata": {},
   "outputs": [
    {
     "data": {
      "text/plain": [
       "1338.26"
      ]
     },
     "execution_count": 37,
     "metadata": {},
     "output_type": "execute_result"
    }
   ],
   "source": [
    "purchase_two"
   ]
  },
  {
   "cell_type": "code",
   "execution_count": 41,
   "id": "633e86ef",
   "metadata": {},
   "outputs": [],
   "source": [
    "nearest_dollar = round(purchase_two)"
   ]
  },
  {
   "cell_type": "code",
   "execution_count": 43,
   "id": "29f232cf",
   "metadata": {},
   "outputs": [
    {
     "name": "stdout",
     "output_type": "stream",
     "text": [
      "cost for a customer to purchase two of every item =  1338\n"
     ]
    }
   ],
   "source": [
    "print(\"cost for a customer to purchase two of every item = \",nearest_dollar)"
   ]
  },
  {
   "cell_type": "markdown",
   "id": "0c7a2c20",
   "metadata": {},
   "source": [
    "### Note:"
   ]
  },
  {
   "cell_type": "markdown",
   "id": "0109eb1d",
   "metadata": {},
   "source": [
    "<span style='color:purple'>1.**integer,float and complex**are the numeric data types<br>2. Arithmetic operation follow the **PEMDAS** order of operation<br>3.Python has a built-in-functions that work specially with numbers\n",
    "**round,abs,sum,min,max**"
   ]
  }
 ],
 "metadata": {
  "kernelspec": {
   "display_name": "Python 3 (ipykernel)",
   "language": "python",
   "name": "python3"
  },
  "language_info": {
   "codemirror_mode": {
    "name": "ipython",
    "version": 3
   },
   "file_extension": ".py",
   "mimetype": "text/x-python",
   "name": "python",
   "nbconvert_exporter": "python",
   "pygments_lexer": "ipython3",
   "version": "3.10.9"
  }
 },
 "nbformat": 4,
 "nbformat_minor": 5
}
