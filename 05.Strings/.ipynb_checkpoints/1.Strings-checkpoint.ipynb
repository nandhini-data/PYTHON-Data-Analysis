{
 "cells": [
  {
   "cell_type": "markdown",
   "id": "d073c25c",
   "metadata": {},
   "source": [
    "# <center>String</center>"
   ]
  },
  {
   "cell_type": "markdown",
   "id": "49828583",
   "metadata": {},
   "source": [
    "* [<span style='color:purple'>**Introduction**](#Introduction)\n",
    "* [<span style='color:purple'>**String Arithmetic**](#String-Arithmetic)\n",
    "* [<span style='color:purple'>**String Indexing**](#String-Indexing)\n",
    "    * [<span style='color:purple'>Task 1:String Indexing](#Task-1:String-Indexing)\n",
    "* [<span style='color:purple'>**String Slicing**](#String-Slicing)\n",
    "    * [<span style='color:purple'>Task 2:String Slicing](#Task-2:String-Slicing)\n",
    "* [<span style='color:purple'>**The Length function**](#The-Length-Function)\n",
    "    * [<span style='color:purple'>Task 3:String Length](#Task-3:String-Length)\n",
    "* [<span style='color:purple'>**String Methods**](#String-Methods)\n",
    "    * [<span style='color:purple'>Task 4:String Methods](#Task-4:String-Methods)\n",
    "* [<span style='color:purple'>**F-strings**](#F-strings)\n",
    "* [<span style='color:purple'>**Note:**](#Note:)"
   ]
  },
  {
   "cell_type": "markdown",
   "id": "e4cc1db8",
   "metadata": {},
   "source": [
    "## <center>Introduction</center>"
   ]
  },
  {
   "cell_type": "markdown",
   "id": "608b306c",
   "metadata": {},
   "source": [
    "Strings are sequence of character data commonly used to store text.\n",
    "strings can created by using quotation marks.\n"
   ]
  },
  {
   "cell_type": "code",
   "execution_count": 2,
   "id": "9c918453",
   "metadata": {},
   "outputs": [
    {
     "name": "stdout",
     "output_type": "stream",
     "text": [
      "it is a first \"string\"\n"
     ]
    }
   ],
   "source": [
    "#single quotes\n",
    "string1 ='it is a first \"string\"'\n",
    "print(string1)"
   ]
  },
  {
   "cell_type": "code",
   "execution_count": 3,
   "id": "e6adbf79",
   "metadata": {},
   "outputs": [
    {
     "name": "stdout",
     "output_type": "stream",
     "text": [
      "you can use ' in between the sentence\n"
     ]
    }
   ],
   "source": [
    "#double quotes\n",
    "string2 = \"you can use ' in between the sentence\"\n",
    "print(string2)"
   ]
  },
  {
   "cell_type": "code",
   "execution_count": 4,
   "id": "3a7b4424",
   "metadata": {},
   "outputs": [
    {
     "name": "stdout",
     "output_type": "stream",
     "text": [
      "Triple quotes allow us to write\n",
      "multiline string.we don't have to worry about \"errors\".It's pretty straight\n",
      "forward\n"
     ]
    }
   ],
   "source": [
    "#triple quotes\n",
    "string3 = '''Triple quotes allow us to write\n",
    "multiline string.we don't have to worry about \"errors\".It's pretty straight\n",
    "forward'''\n",
    "print(string3)"
   ]
  },
  {
   "cell_type": "code",
   "execution_count": 5,
   "id": "16dc5d49",
   "metadata": {},
   "outputs": [
    {
     "name": "stdout",
     "output_type": "stream",
     "text": [
      "520\n"
     ]
    }
   ],
   "source": [
    "#output with quote represent string\n",
    "n ='520'\n",
    "print(n)"
   ]
  },
  {
   "cell_type": "code",
   "execution_count": 8,
   "id": "644e2821",
   "metadata": {},
   "outputs": [
    {
     "data": {
      "text/plain": [
       "'520'"
      ]
     },
     "execution_count": 8,
     "metadata": {},
     "output_type": "execute_result"
    }
   ],
   "source": [
    "string4 = str(n)\n",
    "string4\n",
    "#this output is not a number it's a string"
   ]
  },
  {
   "cell_type": "markdown",
   "id": "02537bcc",
   "metadata": {},
   "source": [
    "***"
   ]
  },
  {
   "cell_type": "markdown",
   "id": "59b60c3c",
   "metadata": {},
   "source": [
    "## String Arithmetic"
   ]
  },
  {
   "cell_type": "markdown",
   "id": "35c43081",
   "metadata": {},
   "source": [
    "Some aritmetic operator(+,* )are compatible with string<br>concatenate string with +"
   ]
  },
  {
   "cell_type": "code",
   "execution_count": 9,
   "id": "1905fe5f",
   "metadata": {},
   "outputs": [
    {
     "data": {
      "text/plain": [
       "'sheistalented'"
      ]
     },
     "execution_count": 9,
     "metadata": {},
     "output_type": "execute_result"
    }
   ],
   "source": [
    "subject ='she'\n",
    "verb ='is'\n",
    "adjective ='talented'\n",
    "subject + verb+adjective"
   ]
  },
  {
   "cell_type": "code",
   "execution_count": 13,
   "id": "f1d71aae",
   "metadata": {},
   "outputs": [],
   "source": [
    "sentence =subject + ' '+verb+' '+adjective"
   ]
  },
  {
   "cell_type": "code",
   "execution_count": 14,
   "id": "1949f3be",
   "metadata": {},
   "outputs": [],
   "source": [
    "#repeat the sentence\n",
    "repeat = 3*sentence"
   ]
  },
  {
   "cell_type": "code",
   "execution_count": 15,
   "id": "625e8df1",
   "metadata": {},
   "outputs": [
    {
     "name": "stdout",
     "output_type": "stream",
     "text": [
      "she is talentedshe is talentedshe is talented\n"
     ]
    }
   ],
   "source": [
    "print(repeat)"
   ]
  },
  {
   "cell_type": "markdown",
   "id": "0f0ccbe5",
   "metadata": {},
   "source": [
    "***"
   ]
  },
  {
   "cell_type": "markdown",
   "id": "13c5324d",
   "metadata": {},
   "source": [
    "## String Indexing"
   ]
  },
  {
   "cell_type": "markdown",
   "id": "3892107d",
   "metadata": {},
   "source": [
    "Python is a **0 indexed** ,first item in the sequence has a index of 0 not 1."
   ]
  },
  {
   "cell_type": "code",
   "execution_count": 16,
   "id": "dc8d13ff",
   "metadata": {},
   "outputs": [
    {
     "data": {
      "text/plain": [
       "'Today is sunny day.we can go to park'"
      ]
     },
     "execution_count": 16,
     "metadata": {},
     "output_type": "execute_result"
    }
   ],
   "source": [
    "string =\"Today is sunny day.we can go to park\"\n",
    "string"
   ]
  },
  {
   "cell_type": "code",
   "execution_count": 17,
   "id": "7016856c",
   "metadata": {},
   "outputs": [
    {
     "data": {
      "text/plain": [
       "'T'"
      ]
     },
     "execution_count": 17,
     "metadata": {},
     "output_type": "execute_result"
    }
   ],
   "source": [
    "string[0]"
   ]
  },
  {
   "cell_type": "code",
   "execution_count": 18,
   "id": "5e139c4e",
   "metadata": {},
   "outputs": [
    {
     "data": {
      "text/plain": [
       "'k'"
      ]
     },
     "execution_count": 18,
     "metadata": {},
     "output_type": "execute_result"
    }
   ],
   "source": [
    "string[-1] #return the last item in the sequence"
   ]
  },
  {
   "cell_type": "markdown",
   "id": "52fb5bd9",
   "metadata": {},
   "source": [
    "***"
   ]
  },
  {
   "cell_type": "markdown",
   "id": "95d8a594",
   "metadata": {},
   "source": [
    "## Task 1:String Indexing"
   ]
  },
  {
   "cell_type": "markdown",
   "id": "92f76732",
   "metadata": {},
   "source": [
    "* Spell the word 'data' by grabbing one letter from each text message"
   ]
  },
  {
   "cell_type": "code",
   "execution_count": 19,
   "id": "bd0dacee",
   "metadata": {},
   "outputs": [],
   "source": [
    "text1 = '          Your friend Mark'\n",
    "text2 = 'was'\n",
    "text3 = 'having'\n",
    "text4 = 'a great day'\n",
    "text5 = 'on the mountain'"
   ]
  },
  {
   "cell_type": "code",
   "execution_count": 22,
   "id": "4ef07a60",
   "metadata": {},
   "outputs": [],
   "source": [
    "text = text1[-6]+text2[1]+text4[-5]+text4[0]\n"
   ]
  },
  {
   "cell_type": "code",
   "execution_count": 23,
   "id": "ae6e191a",
   "metadata": {},
   "outputs": [
    {
     "name": "stdout",
     "output_type": "stream",
     "text": [
      "data\n"
     ]
    }
   ],
   "source": [
    "print(text)"
   ]
  },
  {
   "cell_type": "code",
   "execution_count": 28,
   "id": "ac8ba591",
   "metadata": {},
   "outputs": [
    {
     "name": "stdout",
     "output_type": "stream",
     "text": [
      "10\n"
     ]
    }
   ],
   "source": [
    "x =text1.index('Y')#index()method find the occurence of specified element\n",
    "print(x)"
   ]
  },
  {
   "cell_type": "markdown",
   "id": "b69e1e31",
   "metadata": {},
   "source": [
    "***"
   ]
  },
  {
   "cell_type": "markdown",
   "id": "677ff789",
   "metadata": {},
   "source": [
    "## String Slicing"
   ]
  },
  {
   "cell_type": "markdown",
   "id": "d8ae5737",
   "metadata": {},
   "source": [
    "Slicing returns the multiple element in a string,sequence using indexing<br>\n",
    "[start:stop:stepsize]"
   ]
  },
  {
   "cell_type": "code",
   "execution_count": 29,
   "id": "60746d99",
   "metadata": {},
   "outputs": [],
   "source": [
    "new_text =\"I hope it rains tonight\""
   ]
  },
  {
   "cell_type": "code",
   "execution_count": 30,
   "id": "698bcc50",
   "metadata": {},
   "outputs": [
    {
     "data": {
      "text/plain": [
       "'I hope it rains tonight'"
      ]
     },
     "execution_count": 30,
     "metadata": {},
     "output_type": "execute_result"
    }
   ],
   "source": [
    "new_text"
   ]
  },
  {
   "cell_type": "code",
   "execution_count": 32,
   "id": "6b03516d",
   "metadata": {},
   "outputs": [
    {
     "data": {
      "text/plain": [
       "'Ihp '"
      ]
     },
     "execution_count": 32,
     "metadata": {},
     "output_type": "execute_result"
    }
   ],
   "source": [
    "new_text[0:8:2]"
   ]
  },
  {
   "cell_type": "code",
   "execution_count": 33,
   "id": "2ffcd62a",
   "metadata": {},
   "outputs": [
    {
     "data": {
      "text/plain": [
       "'I ho'"
      ]
     },
     "execution_count": 33,
     "metadata": {},
     "output_type": "execute_result"
    }
   ],
   "source": [
    "new_text[:4]"
   ]
  },
  {
   "cell_type": "code",
   "execution_count": 34,
   "id": "9a02d5da",
   "metadata": {},
   "outputs": [
    {
     "data": {
      "text/plain": [
       "'hope it '"
      ]
     },
     "execution_count": 34,
     "metadata": {},
     "output_type": "execute_result"
    }
   ],
   "source": [
    "new_text[2:10]"
   ]
  },
  {
   "cell_type": "code",
   "execution_count": 35,
   "id": "13463d41",
   "metadata": {},
   "outputs": [
    {
     "data": {
      "text/plain": [
       "'rains tonight'"
      ]
     },
     "execution_count": 35,
     "metadata": {},
     "output_type": "execute_result"
    }
   ],
   "source": [
    "new_text[10:]"
   ]
  },
  {
   "cell_type": "code",
   "execution_count": 36,
   "id": "617fbf0c",
   "metadata": {},
   "outputs": [
    {
     "data": {
      "text/plain": [
       "10"
      ]
     },
     "execution_count": 36,
     "metadata": {},
     "output_type": "execute_result"
    }
   ],
   "source": [
    "new_text.index('r')"
   ]
  },
  {
   "cell_type": "code",
   "execution_count": 37,
   "id": "f9d5ef3d",
   "metadata": {},
   "outputs": [
    {
     "data": {
      "text/plain": [
       "'t'"
      ]
     },
     "execution_count": 37,
     "metadata": {},
     "output_type": "execute_result"
    }
   ],
   "source": [
    "new_text[-1:]"
   ]
  },
  {
   "cell_type": "code",
   "execution_count": 38,
   "id": "b6252092",
   "metadata": {},
   "outputs": [
    {
     "data": {
      "text/plain": [
       "'thginot sniar ti epoh I'"
      ]
     },
     "execution_count": 38,
     "metadata": {},
     "output_type": "execute_result"
    }
   ],
   "source": [
    "new_text[::-1]"
   ]
  },
  {
   "cell_type": "code",
   "execution_count": 39,
   "id": "1711070e",
   "metadata": {},
   "outputs": [
    {
     "data": {
      "text/plain": [
       "'s tonight'"
      ]
     },
     "execution_count": 39,
     "metadata": {},
     "output_type": "execute_result"
    }
   ],
   "source": [
    "new_text[-9::]"
   ]
  },
  {
   "cell_type": "markdown",
   "id": "089c5998",
   "metadata": {},
   "source": [
    "***"
   ]
  },
  {
   "cell_type": "markdown",
   "id": "00d50e35",
   "metadata": {},
   "source": [
    "##  Task 2:String Slicing\n",
    "\n",
    "Our testimonial is in the first cell below, assigned to `testimonial`.\n",
    "\n",
    "Run the cell to create the string."
   ]
  },
  {
   "cell_type": "code",
   "execution_count": 48,
   "id": "d09b3167",
   "metadata": {},
   "outputs": [],
   "source": [
    "testimonial = '''I love skiing. Its my favorite hobby.\n",
    "Some people say, \"Its not a hobby, its life.\"\n",
    "'''"
   ]
  },
  {
   "cell_type": "code",
   "execution_count": 49,
   "id": "f899c023",
   "metadata": {},
   "outputs": [
    {
     "data": {
      "text/plain": [
       "'I love skiing. Its my favorite hobby.\\nSome people say, \"Its not a hobby, its life.\"\\n'"
      ]
     },
     "execution_count": 49,
     "metadata": {},
     "output_type": "execute_result"
    }
   ],
   "source": [
    "testimonial"
   ]
  },
  {
   "cell_type": "markdown",
   "id": "dcfa619a",
   "metadata": {},
   "source": [
    "### First Draft\n",
    "\n",
    "Please create the message 'I love skiing. It's my life.' by slicing  `testimonial`.\n",
    "\n",
    "Assign this message to a variable called `short_testimonial`, and print it."
   ]
  },
  {
   "cell_type": "code",
   "execution_count": 74,
   "id": "a29047a7",
   "metadata": {},
   "outputs": [],
   "source": [
    "short_testimonial = testimonial[0:21]+' '+testimonial[-7:-2]"
   ]
  },
  {
   "cell_type": "code",
   "execution_count": 75,
   "id": "fdfed8f1",
   "metadata": {},
   "outputs": [
    {
     "name": "stdout",
     "output_type": "stream",
     "text": [
      "I love skiing. Its my life.\n"
     ]
    }
   ],
   "source": [
    "print(short_testimonial)"
   ]
  },
  {
   "cell_type": "markdown",
   "id": "e5a117c0",
   "metadata": {},
   "source": [
    "### Second Draft\n",
    "\n",
    "We might need to shorten the message (we pay by the word). \n",
    "\n",
    "Slice `short_testimonial` down to 'I love my life!'.\n",
    "\n",
    "You may need to add an exclamation point. Assign this message to `happy_customer`, and print it."
   ]
  },
  {
   "cell_type": "code",
   "execution_count": 86,
   "id": "49335d48",
   "metadata": {},
   "outputs": [
    {
     "name": "stdout",
     "output_type": "stream",
     "text": [
      "I love skiing. Its my life.\n"
     ]
    }
   ],
   "source": [
    "print(short_testimonial)"
   ]
  },
  {
   "cell_type": "code",
   "execution_count": 84,
   "id": "81ef9fab",
   "metadata": {},
   "outputs": [],
   "source": [
    "happy_customer = short_testimonial[0:6]+' '+short_testimonial[-8:-1]+'!'"
   ]
  },
  {
   "cell_type": "code",
   "execution_count": 87,
   "id": "73d809af",
   "metadata": {},
   "outputs": [
    {
     "name": "stdout",
     "output_type": "stream",
     "text": [
      "I love my life!\n"
     ]
    }
   ],
   "source": [
    "print(happy_customer)"
   ]
  },
  {
   "cell_type": "markdown",
   "id": "38ca53f5",
   "metadata": {},
   "source": [
    "***"
   ]
  },
  {
   "cell_type": "markdown",
   "id": "5bf88401",
   "metadata": {},
   "source": [
    "## The Length Function"
   ]
  },
  {
   "cell_type": "markdown",
   "id": "75b310d4",
   "metadata": {},
   "source": [
    "len()function used to display number of elements in iterable"
   ]
  },
  {
   "cell_type": "code",
   "execution_count": 88,
   "id": "8ff5e6f1",
   "metadata": {},
   "outputs": [
    {
     "data": {
      "text/plain": [
       "15"
      ]
     },
     "execution_count": 88,
     "metadata": {},
     "output_type": "execute_result"
    }
   ],
   "source": [
    "len(happy_customer)"
   ]
  },
  {
   "cell_type": "code",
   "execution_count": 89,
   "id": "980b8ef4",
   "metadata": {},
   "outputs": [
    {
     "data": {
      "text/plain": [
       "3"
      ]
     },
     "execution_count": 89,
     "metadata": {},
     "output_type": "execute_result"
    }
   ],
   "source": [
    "len(['happy','enjoy','play'])"
   ]
  },
  {
   "cell_type": "markdown",
   "id": "27fcdc44",
   "metadata": {},
   "source": [
    "***"
   ]
  },
  {
   "cell_type": "markdown",
   "id": "b66e5e27",
   "metadata": {},
   "source": [
    "## Task 3:String Length\n",
    " \n",
    "\n",
    "There are five text message below. I've also convieniently pasted the alphabet for you, which we'll need to crack the code.\n",
    "\n",
    "The length of each message represents the letter in the alphabet for each character in the password. "
   ]
  },
  {
   "cell_type": "code",
   "execution_count": 135,
   "id": "f43e7757",
   "metadata": {},
   "outputs": [],
   "source": [
    "alphabet = 'abcdefghijklmnopqrstuvwxyz'\n",
    "message1 = 'Hello World!'\n",
    "message2 = ''\n",
    "message3 = 'It snowed a lot today'\n",
    "message4 = 'eeee'\n",
    "message5 = 'I love snow!!'"
   ]
  },
  {
   "cell_type": "code",
   "execution_count": 136,
   "id": "933340a2",
   "metadata": {},
   "outputs": [],
   "source": [
    "first_letter=alphabet[len(message1)]"
   ]
  },
  {
   "cell_type": "code",
   "execution_count": 137,
   "id": "cddf0d52",
   "metadata": {},
   "outputs": [
    {
     "data": {
      "text/plain": [
       "'m'"
      ]
     },
     "execution_count": 137,
     "metadata": {},
     "output_type": "execute_result"
    }
   ],
   "source": [
    "first_letter"
   ]
  },
  {
   "cell_type": "code",
   "execution_count": 94,
   "id": "73e392c7",
   "metadata": {},
   "outputs": [],
   "source": [
    "second_letter=alphabet[len(message2)]"
   ]
  },
  {
   "cell_type": "code",
   "execution_count": 95,
   "id": "f1efc0b0",
   "metadata": {},
   "outputs": [
    {
     "data": {
      "text/plain": [
       "'a'"
      ]
     },
     "execution_count": 95,
     "metadata": {},
     "output_type": "execute_result"
    }
   ],
   "source": [
    "second_letter"
   ]
  },
  {
   "cell_type": "code",
   "execution_count": 109,
   "id": "a025dec3",
   "metadata": {},
   "outputs": [],
   "source": [
    "third_letter=alphabet[len(message3)]"
   ]
  },
  {
   "cell_type": "code",
   "execution_count": 110,
   "id": "0d6e5a40",
   "metadata": {},
   "outputs": [
    {
     "data": {
      "text/plain": [
       "'v'"
      ]
     },
     "execution_count": 110,
     "metadata": {},
     "output_type": "execute_result"
    }
   ],
   "source": [
    "third_letter"
   ]
  },
  {
   "cell_type": "code",
   "execution_count": 100,
   "id": "1881e996",
   "metadata": {},
   "outputs": [],
   "source": [
    "fourth_letter=alphabet[len(message4)]"
   ]
  },
  {
   "cell_type": "code",
   "execution_count": 101,
   "id": "56799d72",
   "metadata": {},
   "outputs": [
    {
     "data": {
      "text/plain": [
       "'e'"
      ]
     },
     "execution_count": 101,
     "metadata": {},
     "output_type": "execute_result"
    }
   ],
   "source": [
    "fourth_letter"
   ]
  },
  {
   "cell_type": "code",
   "execution_count": 102,
   "id": "078c4d44",
   "metadata": {},
   "outputs": [],
   "source": [
    "fifth_letter=alphabet[len(message5)]"
   ]
  },
  {
   "cell_type": "code",
   "execution_count": 103,
   "id": "7a5faba1",
   "metadata": {},
   "outputs": [
    {
     "data": {
      "text/plain": [
       "'n'"
      ]
     },
     "execution_count": 103,
     "metadata": {},
     "output_type": "execute_result"
    }
   ],
   "source": [
    "fifth_letter"
   ]
  },
  {
   "cell_type": "code",
   "execution_count": 106,
   "id": "c2d47a50",
   "metadata": {},
   "outputs": [],
   "source": [
    "password=first_letter+second_letter+third_letter+fourth_letter+fifth_letter"
   ]
  },
  {
   "cell_type": "code",
   "execution_count": 107,
   "id": "0e4848ad",
   "metadata": {},
   "outputs": [
    {
     "data": {
      "text/plain": [
       "'maven'"
      ]
     },
     "execution_count": 107,
     "metadata": {},
     "output_type": "execute_result"
    }
   ],
   "source": [
    "password"
   ]
  },
  {
   "cell_type": "markdown",
   "id": "2678f86f",
   "metadata": {},
   "source": [
    "***"
   ]
  },
  {
   "cell_type": "markdown",
   "id": "893db86d",
   "metadata": {},
   "source": [
    "## String Methods"
   ]
  },
  {
   "cell_type": "markdown",
   "id": "d0088999",
   "metadata": {},
   "source": [
    "**Methods** are functions that only apply to specific data type or object"
   ]
  },
  {
   "cell_type": "code",
   "execution_count": 112,
   "id": "70772706",
   "metadata": {},
   "outputs": [],
   "source": [
    "#replace \n",
    "text1 =\"we are ready for party\""
   ]
  },
  {
   "cell_type": "code",
   "execution_count": 114,
   "id": "7291ea7e",
   "metadata": {},
   "outputs": [
    {
     "data": {
      "text/plain": [
       "'we are ready for shopping'"
      ]
     },
     "execution_count": 114,
     "metadata": {},
     "output_type": "execute_result"
    }
   ],
   "source": [
    "text1.replace(\"party\",\"shopping\")"
   ]
  },
  {
   "cell_type": "code",
   "execution_count": 116,
   "id": "9614c1cf",
   "metadata": {},
   "outputs": [
    {
     "data": {
      "text/plain": [
       "7"
      ]
     },
     "execution_count": 116,
     "metadata": {},
     "output_type": "execute_result"
    }
   ],
   "source": [
    "#replace is used only for string it cannot be used for integer\n",
    "#find\n",
    "text1.find('ready')"
   ]
  },
  {
   "cell_type": "code",
   "execution_count": 119,
   "id": "7b9c68e0",
   "metadata": {},
   "outputs": [
    {
     "name": "stdout",
     "output_type": "stream",
     "text": [
      "WE ARE READY FOR PARTY\n"
     ]
    }
   ],
   "source": [
    "#upper and lower\n",
    "text2=print(text1.upper())"
   ]
  },
  {
   "cell_type": "code",
   "execution_count": 120,
   "id": "f057973f",
   "metadata": {},
   "outputs": [
    {
     "data": {
      "text/plain": [
       "'we are ready for party'"
      ]
     },
     "execution_count": 120,
     "metadata": {},
     "output_type": "execute_result"
    }
   ],
   "source": [
    "text1"
   ]
  },
  {
   "cell_type": "code",
   "execution_count": 121,
   "id": "50c89cec",
   "metadata": {},
   "outputs": [],
   "source": [
    "#.strip method removes leading and trailing space\n",
    "text3 =\"        hello how are you\""
   ]
  },
  {
   "cell_type": "code",
   "execution_count": 122,
   "id": "3ee6d9db",
   "metadata": {},
   "outputs": [
    {
     "data": {
      "text/plain": [
       "'        hello how are you'"
      ]
     },
     "execution_count": 122,
     "metadata": {},
     "output_type": "execute_result"
    }
   ],
   "source": [
    "text3"
   ]
  },
  {
   "cell_type": "code",
   "execution_count": 125,
   "id": "d717a1d4",
   "metadata": {},
   "outputs": [],
   "source": [
    "copy_text3 = text3.strip()"
   ]
  },
  {
   "cell_type": "code",
   "execution_count": 126,
   "id": "ce0d95d1",
   "metadata": {},
   "outputs": [
    {
     "data": {
      "text/plain": [
       "'hello how are you'"
      ]
     },
     "execution_count": 126,
     "metadata": {},
     "output_type": "execute_result"
    }
   ],
   "source": [
    "copy_text3"
   ]
  },
  {
   "cell_type": "code",
   "execution_count": 128,
   "id": "aa2822f1",
   "metadata": {},
   "outputs": [],
   "source": [
    "#split method seperate a string into list \n",
    "text1_list = text1.split()"
   ]
  },
  {
   "cell_type": "code",
   "execution_count": 129,
   "id": "9f58eb58",
   "metadata": {},
   "outputs": [
    {
     "data": {
      "text/plain": [
       "['we', 'are', 'ready', 'for', 'party']"
      ]
     },
     "execution_count": 129,
     "metadata": {},
     "output_type": "execute_result"
    }
   ],
   "source": [
    "text1_list"
   ]
  },
  {
   "cell_type": "code",
   "execution_count": 131,
   "id": "5151a83c",
   "metadata": {},
   "outputs": [
    {
     "data": {
      "text/plain": [
       "'we are ready for party'"
      ]
     },
     "execution_count": 131,
     "metadata": {},
     "output_type": "execute_result"
    }
   ],
   "source": [
    "#.join()\n",
    "' '.join(text1_list)"
   ]
  },
  {
   "cell_type": "markdown",
   "id": "3bbd7c37",
   "metadata": {},
   "source": [
    "### Chaining Methods"
   ]
  },
  {
   "cell_type": "code",
   "execution_count": 132,
   "id": "0871f4cf",
   "metadata": {},
   "outputs": [
    {
     "data": {
      "text/plain": [
       "'we are ready for party'"
      ]
     },
     "execution_count": 132,
     "metadata": {},
     "output_type": "execute_result"
    }
   ],
   "source": [
    "text1"
   ]
  },
  {
   "cell_type": "code",
   "execution_count": 134,
   "id": "0bb31f12",
   "metadata": {},
   "outputs": [
    {
     "data": {
      "text/plain": [
       "['ARE', 'READY', 'FOR', 'PARTY']"
      ]
     },
     "execution_count": 134,
     "metadata": {},
     "output_type": "execute_result"
    }
   ],
   "source": [
    "text1[2:len(text1)].upper().split()"
   ]
  },
  {
   "cell_type": "markdown",
   "id": "f4d99fe5",
   "metadata": {},
   "source": [
    "***"
   ]
  },
  {
   "cell_type": "markdown",
   "id": "c013e6fb",
   "metadata": {},
   "source": [
    "## Task 4:String Methods \n",
    "\n",
    "\n",
    "From the below  five text messages we need to draw from drw ski shop."
   ]
  },
  {
   "cell_type": "code",
   "execution_count": 138,
   "id": "6dbbe882",
   "metadata": {},
   "outputs": [],
   "source": [
    "text1 = '          Your friend Mark'\n",
    "text2 = 'was'\n",
    "text3 = 'having'\n",
    "text4 = 'a great day'\n",
    "text5 = 'on the mountain'"
   ]
  },
  {
   "cell_type": "markdown",
   "id": "1b79cc1c",
   "metadata": {},
   "source": [
    "### Combine the Texts\n",
    "\n",
    "Combine the messages into a single string, assigned to `full_text`."
   ]
  },
  {
   "cell_type": "code",
   "execution_count": 139,
   "id": "55c022fd",
   "metadata": {},
   "outputs": [],
   "source": [
    "full_text =text1+' '+text2+' '+text3+' '+text4+' '+text5"
   ]
  },
  {
   "cell_type": "code",
   "execution_count": 140,
   "id": "fc88e2f2",
   "metadata": {},
   "outputs": [
    {
     "data": {
      "text/plain": [
       "'          Your friend Mark was having a great day on the mountain'"
      ]
     },
     "execution_count": 140,
     "metadata": {},
     "output_type": "execute_result"
    }
   ],
   "source": [
    "full_text"
   ]
  },
  {
   "cell_type": "markdown",
   "id": "cb50470d",
   "metadata": {},
   "source": [
    "### Clean it up\n",
    "\n",
    "Remove the leading spaces and let's make it all lower case for now. "
   ]
  },
  {
   "cell_type": "code",
   "execution_count": 143,
   "id": "938fc893",
   "metadata": {},
   "outputs": [],
   "source": [
    "clean_text=full_text.strip()"
   ]
  },
  {
   "cell_type": "code",
   "execution_count": 151,
   "id": "e41787ab",
   "metadata": {},
   "outputs": [
    {
     "data": {
      "text/plain": [
       "'Your friend Mark was having a great day on the mountain'"
      ]
     },
     "execution_count": 151,
     "metadata": {},
     "output_type": "execute_result"
    }
   ],
   "source": [
    "clean_text"
   ]
  },
  {
   "cell_type": "markdown",
   "id": "eb1b2622",
   "metadata": {},
   "source": [
    "### A *SLIGHT* Change\n",
    "\n",
    "Change the portion of the message that reads 'on the mountain' to 'at the ski shop'."
   ]
  },
  {
   "cell_type": "code",
   "execution_count": 154,
   "id": "b278425d",
   "metadata": {},
   "outputs": [],
   "source": [
    "changed_text=clean_text.replace(\"on the mountain\",\"at the ski shop\")"
   ]
  },
  {
   "cell_type": "code",
   "execution_count": 155,
   "id": "2a7f0035",
   "metadata": {},
   "outputs": [
    {
     "data": {
      "text/plain": [
       "'Your friend Mark was having a great day at the ski shop'"
      ]
     },
     "execution_count": 155,
     "metadata": {},
     "output_type": "execute_result"
    }
   ],
   "source": [
    "changed_text"
   ]
  },
  {
   "cell_type": "markdown",
   "id": "37977e31",
   "metadata": {},
   "source": [
    "### Count the words"
   ]
  },
  {
   "cell_type": "code",
   "execution_count": 156,
   "id": "4c7c34e2",
   "metadata": {},
   "outputs": [
    {
     "data": {
      "text/plain": [
       "11"
      ]
     },
     "execution_count": 156,
     "metadata": {},
     "output_type": "execute_result"
    }
   ],
   "source": [
    "changed_text.count(' ')"
   ]
  },
  {
   "cell_type": "code",
   "execution_count": 158,
   "id": "4a30f7db",
   "metadata": {},
   "outputs": [],
   "source": [
    "words_in_the_changed_text = changed_text.count(' ')+1\n"
   ]
  },
  {
   "cell_type": "code",
   "execution_count": 159,
   "id": "6e623596",
   "metadata": {},
   "outputs": [
    {
     "data": {
      "text/plain": [
       "12"
      ]
     },
     "execution_count": 159,
     "metadata": {},
     "output_type": "execute_result"
    }
   ],
   "source": [
    "words_in_the_changed_text"
   ]
  },
  {
   "cell_type": "markdown",
   "id": "a288f154",
   "metadata": {},
   "source": [
    "***"
   ]
  },
  {
   "cell_type": "markdown",
   "id": "62e3030b",
   "metadata": {},
   "source": [
    "## F-strings"
   ]
  },
  {
   "cell_type": "markdown",
   "id": "c1980912",
   "metadata": {},
   "source": [
    "You can include variable in string by using f-strings.<br>\n",
    "Based on the variable values changes,f string allow to change the output text."
   ]
  },
  {
   "cell_type": "code",
   "execution_count": 163,
   "id": "90631f24",
   "metadata": {},
   "outputs": [
    {
     "name": "stdout",
     "output_type": "stream",
     "text": [
      "kree has 1000 in his account\n"
     ]
    }
   ],
   "source": [
    "name = \"kree\"\n",
    "value =\"1000\"\n",
    "\n",
    "print(f\"{name} has {value} in his account\")"
   ]
  },
  {
   "cell_type": "code",
   "execution_count": 164,
   "id": "44c0364b",
   "metadata": {},
   "outputs": [
    {
     "name": "stdout",
     "output_type": "stream",
     "text": [
      "hett has 4000 in his account\n"
     ]
    }
   ],
   "source": [
    "name = \"hett\"\n",
    "value =4000\n",
    "print(f\"{name} has {value} in his account\")"
   ]
  },
  {
   "cell_type": "markdown",
   "id": "89efed5f",
   "metadata": {},
   "source": [
    "***"
   ]
  },
  {
   "cell_type": "markdown",
   "id": "1732ca91",
   "metadata": {},
   "source": [
    "### Note:"
   ]
  },
  {
   "cell_type": "markdown",
   "id": "5808aabb",
   "metadata": {},
   "source": [
    "<span style='color:purple'>1. String are used to store **text** and other sequence of character.<br>2. Access the single character with **indexing** and multiple character with **slicing**.<br>3. **String methods** are used to facilitate working with strings.<br>4. **F-string** are used to incorporate variables into the string."
   ]
  },
  {
   "cell_type": "code",
   "execution_count": null,
   "id": "d2359867",
   "metadata": {},
   "outputs": [],
   "source": []
  }
 ],
 "metadata": {
  "kernelspec": {
   "display_name": "Python 3 (ipykernel)",
   "language": "python",
   "name": "python3"
  },
  "language_info": {
   "codemirror_mode": {
    "name": "ipython",
    "version": 3
   },
   "file_extension": ".py",
   "mimetype": "text/x-python",
   "name": "python",
   "nbconvert_exporter": "python",
   "pygments_lexer": "ipython3",
   "version": "3.10.9"
  }
 },
 "nbformat": 4,
 "nbformat_minor": 5
}
