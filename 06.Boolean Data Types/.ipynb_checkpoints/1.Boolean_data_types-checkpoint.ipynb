{
 "cells": [
  {
   "cell_type": "markdown",
   "id": "5c7956aa",
   "metadata": {},
   "source": [
    "# <center>Boolean Data Type</center>"
   ]
  },
  {
   "cell_type": "markdown",
   "id": "127378ba",
   "metadata": {},
   "source": [
    "* [<span style='color:purple'>**Introduction**](#Introduction)\n",
    "    * [<span style='color:purple'>Comparison Operator](#Comparison-Operator)\n",
    "    * [<span style='color:purple'>Membership Tests](#Membership-Tests)\n",
    "    * [<span style='color:purple'>Boolean Operator](#Boolean-Operator)\n",
    "        * [<span style='color:purple'>Task 1:Boolean Operators](#Task-1:Boolean-Operators)\n",
    "    * [<span style='color:purple'>Note:](#Note:)"
   ]
  },
  {
   "cell_type": "markdown",
   "id": "25b7c309",
   "metadata": {},
   "source": [
    "## <center>Introduction</center>"
   ]
  },
  {
   "cell_type": "markdown",
   "id": "a12c469b",
   "metadata": {},
   "source": [
    "Boolean data type has two possible values:**True & False**<br>\n",
    "* True - 1\n",
    "* False - 0\n",
    "    "
   ]
  },
  {
   "cell_type": "markdown",
   "id": "b014a3d9",
   "metadata": {},
   "source": [
    "The **Not** keyword inverts Boolean Values<br>\n",
    "* Not true is equivalent to false.\n",
    "* Not false is equivalent to true."
   ]
  },
  {
   "cell_type": "markdown",
   "id": "97949db2",
   "metadata": {},
   "source": [
    "## Comparison Operator\n",
    "\n",
    "| Operator |  True | False|\n",
    "| :---: | :---: | :---: |\n",
    "|== Equal|6==6|7==8|\n",
    "|!= Not equal|'heloo'!='Hai'|10!=10|\n",
    "|< Less than|5<6|12<10|\n",
    "|> Greater than|6>5|10<5|\n",
    "|<= less than or equal to|5<=5|(2+2)<=1|\n",
    "|>= Greater than equal to|11>=9|len('h')>=len('his')|"
   ]
  },
  {
   "cell_type": "markdown",
   "id": "5824449c",
   "metadata": {},
   "source": [
    "## Membership Tests\n",
    "\n",
    "Membership test check if the value exists inside a iterable data type.<br>\n",
    "**in,not in** are used to conduct the membership test."
   ]
  },
  {
   "cell_type": "code",
   "execution_count": 1,
   "id": "ab182e64",
   "metadata": {},
   "outputs": [],
   "source": [
    "message1='I like to eat icecream'"
   ]
  },
  {
   "cell_type": "code",
   "execution_count": 3,
   "id": "cc1b4afb",
   "metadata": {},
   "outputs": [
    {
     "name": "stdout",
     "output_type": "stream",
     "text": [
      "True\n"
     ]
    }
   ],
   "source": [
    "print('icecream' in message1)"
   ]
  },
  {
   "cell_type": "code",
   "execution_count": 4,
   "id": "f74be585",
   "metadata": {},
   "outputs": [
    {
     "name": "stdout",
     "output_type": "stream",
     "text": [
      "False\n"
     ]
    }
   ],
   "source": [
    "print('salt'in message1)"
   ]
  },
  {
   "cell_type": "markdown",
   "id": "61e40073",
   "metadata": {},
   "source": [
    "## Boolean Operator\n",
    "\n",
    "Boolean operator allow you to combine multiple comparison operator\n",
    "* **and** opeartor require all the statement to be true.\n",
    "* **or** operator require one statement to be true.\n"
   ]
  },
  {
   "cell_type": "code",
   "execution_count": 5,
   "id": "133002c4",
   "metadata": {},
   "outputs": [
    {
     "data": {
      "text/plain": [
       "True"
      ]
     },
     "execution_count": 5,
     "metadata": {},
     "output_type": "execute_result"
    }
   ],
   "source": [
    "10>4 and 6>4"
   ]
  },
  {
   "cell_type": "code",
   "execution_count": 6,
   "id": "46919343",
   "metadata": {},
   "outputs": [
    {
     "data": {
      "text/plain": [
       "False"
      ]
     },
     "execution_count": 6,
     "metadata": {},
     "output_type": "execute_result"
    }
   ],
   "source": [
    "10>4 and 10<1"
   ]
  },
  {
   "cell_type": "code",
   "execution_count": 7,
   "id": "8095a6c5",
   "metadata": {},
   "outputs": [
    {
     "data": {
      "text/plain": [
       "True"
      ]
     },
     "execution_count": 7,
     "metadata": {},
     "output_type": "execute_result"
    }
   ],
   "source": [
    "10>4 or 10<1"
   ]
  },
  {
   "cell_type": "code",
   "execution_count": 9,
   "id": "973ff1f3",
   "metadata": {},
   "outputs": [
    {
     "data": {
      "text/plain": [
       "True"
      ]
     },
     "execution_count": 9,
     "metadata": {},
     "output_type": "execute_result"
    }
   ],
   "source": [
    "amount =500\n",
    "product ='box'\n",
    "(amount<550 and product =='box')"
   ]
  },
  {
   "cell_type": "markdown",
   "id": "f5a01e0f",
   "metadata": {},
   "source": [
    "## Task 1:Boolean Operators\n",
    " \n",
    " Develop logic that displays Boolean values \n",
    "based on our inventory levels (current inventory = 5):\n",
    " 1. Check if inventory is equal to 0\n",
    " 2. Check if inventory is greater than 5\n",
    " 3. If #2 is True, return a price of dollar 99, 0.0 if not\n",
    " 4. Check if inventory is positive and price is less than dollar 100\n",
    " 5. Check if the customer’s name is ‘Chris’ and the product is ‘super snowboard’, or if the inventory is greater than 0"
   ]
  },
  {
   "cell_type": "code",
   "execution_count": 11,
   "id": "16b04253",
   "metadata": {},
   "outputs": [],
   "source": [
    "current_inventory = 5"
   ]
  },
  {
   "cell_type": "markdown",
   "id": "adaedd03",
   "metadata": {},
   "source": [
    "### Do we have any stock?\n",
    "\n",
    "Write logic that returns True if we have 0 units of inventory."
   ]
  },
  {
   "cell_type": "code",
   "execution_count": 12,
   "id": "0a580cbb",
   "metadata": {},
   "outputs": [
    {
     "data": {
      "text/plain": [
       "False"
      ]
     },
     "execution_count": 12,
     "metadata": {},
     "output_type": "execute_result"
    }
   ],
   "source": [
    "current_inventory == 0"
   ]
  },
  {
   "cell_type": "markdown",
   "id": "88d93136",
   "metadata": {},
   "source": [
    "### Do we have a safe level of inventory?\n",
    "\n",
    "Write logic that returns True if we have more than five units of inventory."
   ]
  },
  {
   "cell_type": "code",
   "execution_count": 13,
   "id": "6a18c09a",
   "metadata": {},
   "outputs": [
    {
     "data": {
      "text/plain": [
       "False"
      ]
     },
     "execution_count": 13,
     "metadata": {},
     "output_type": "execute_result"
    }
   ],
   "source": [
    "current_inventory >5"
   ]
  },
  {
   "cell_type": "markdown",
   "id": "608ad0ae",
   "metadata": {},
   "source": [
    "### Display price if we have more than five units of inventory\n",
    "\n",
    "Now, write logic that displays the price of our product if we have more than five units of inventory, and 0.0 if not.\n",
    "\n",
    "Our current price is 99.99."
   ]
  },
  {
   "cell_type": "code",
   "execution_count": 14,
   "id": "4ae3ded1",
   "metadata": {},
   "outputs": [
    {
     "data": {
      "text/plain": [
       "0.0"
      ]
     },
     "execution_count": 14,
     "metadata": {},
     "output_type": "execute_result"
    }
   ],
   "source": [
    "(current_inventory >5)*99.99"
   ]
  },
  {
   "cell_type": "code",
   "execution_count": 18,
   "id": "a9249589",
   "metadata": {},
   "outputs": [
    {
     "data": {
      "text/plain": [
       "99.99"
      ]
     },
     "execution_count": 18,
     "metadata": {},
     "output_type": "execute_result"
    }
   ],
   "source": [
    "(current_inventory ==5)*99.99"
   ]
  },
  {
   "cell_type": "markdown",
   "id": "b9004c70",
   "metadata": {},
   "source": [
    "### Discount Sale Item Flag\n",
    "\n",
    "Now write logic that returns True if inventory is greater than 0 and the product price is less than 100 dollars."
   ]
  },
  {
   "cell_type": "code",
   "execution_count": 20,
   "id": "57a00718",
   "metadata": {},
   "outputs": [
    {
     "data": {
      "text/plain": [
       "True"
      ]
     },
     "execution_count": 20,
     "metadata": {},
     "output_type": "execute_result"
    }
   ],
   "source": [
    "product_price =99.9\n",
    "current_inventory >0 and product_price <100"
   ]
  },
  {
   "cell_type": "markdown",
   "id": "68ae9a14",
   "metadata": {},
   "source": [
    "### Special Customer Flag\n",
    "\n",
    "Finally, we need to create logic that returns True if inventory is greater than 0, or the customer's name is Chris AND the product is named 'super_snowboard'."
   ]
  },
  {
   "cell_type": "code",
   "execution_count": 23,
   "id": "0141ae8c",
   "metadata": {},
   "outputs": [
    {
     "data": {
      "text/plain": [
       "True"
      ]
     },
     "execution_count": 23,
     "metadata": {},
     "output_type": "execute_result"
    }
   ],
   "source": [
    "customer_name ='Berry'\n",
    "product_name ='super_snowboard'\n",
    "current_inventory >0 or (customer_name =='Chris' and product_name=='super_snowboard')"
   ]
  },
  {
   "cell_type": "markdown",
   "id": "93610bb5",
   "metadata": {},
   "source": [
    "### Note:\n",
    "<span style='color:purple'>1.**Boolean data type** is the foundation of conditional logic.<br>\n",
    "    2.There are two values for boolean data type **True and false**.<br>\n",
    "    3.You can write logical statement using **comparison operator,membership operator,boolean opeartor**."
   ]
  },
  {
   "cell_type": "code",
   "execution_count": null,
   "id": "b63b2ce0",
   "metadata": {},
   "outputs": [],
   "source": []
  }
 ],
 "metadata": {
  "kernelspec": {
   "display_name": "Python 3 (ipykernel)",
   "language": "python",
   "name": "python3"
  },
  "language_info": {
   "codemirror_mode": {
    "name": "ipython",
    "version": 3
   },
   "file_extension": ".py",
   "mimetype": "text/x-python",
   "name": "python",
   "nbconvert_exporter": "python",
   "pygments_lexer": "ipython3",
   "version": "3.10.9"
  }
 },
 "nbformat": 4,
 "nbformat_minor": 5
}
