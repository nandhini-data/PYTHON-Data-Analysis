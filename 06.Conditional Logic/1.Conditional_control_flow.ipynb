{
 "cells": [
  {
   "cell_type": "markdown",
   "id": "024f41a2",
   "metadata": {},
   "source": [
    "# <center>Conditional Control Flow</center>"
   ]
  },
  {
   "cell_type": "markdown",
   "id": "49c0f35d",
   "metadata": {},
   "source": [
    "* [<span style='color:purple'>**Introduction**](#Introduction)\n",
    "     * [<span style='color:purple'>Task 1:Control Flow](#Task-1:Control-Flow)\n",
    "     * [<span style='color:purple'>Task 2:Nested if statements](#Task-2:Nested-if-statements)"
   ]
  },
  {
   "cell_type": "markdown",
   "id": "e95241a3",
   "metadata": {},
   "source": [
    "## <center>Introduction</center>"
   ]
  },
  {
   "cell_type": "markdown",
   "id": "2d579758",
   "metadata": {},
   "source": [
    "\n",
    "* if statement\n",
    "* if else statement\n",
    "* Elif statement\n",
    "* Nested if statement<br>\n",
    "\n",
    "Control flow is a programming concept that allow you to choose which line to execute rather than simply running all line from top to bottom"
   ]
  },
  {
   "cell_type": "code",
   "execution_count": 3,
   "id": "3af4fc02",
   "metadata": {},
   "outputs": [
    {
     "name": "stdout",
     "output_type": "stream",
     "text": [
      "This amount is good for shopping\n",
      "more amount needed\n"
     ]
    }
   ],
   "source": [
    "#if statement\n",
    "amount = 450\n",
    "if amount > 400:\n",
    "    print(\"This amount is good for shopping\")\n",
    "print(\"more amount needed\")#this code will run whether the if statement is true \n",
    "                            #or not"
   ]
  },
  {
   "cell_type": "code",
   "execution_count": 4,
   "id": "3e8423f4",
   "metadata": {},
   "outputs": [
    {
     "name": "stdout",
     "output_type": "stream",
     "text": [
      "more amount needed\n"
     ]
    }
   ],
   "source": [
    "#if-else statement\n",
    "amount = 300\n",
    "if amount > 400:\n",
    "    print(\"This amount is good for shopping\")\n",
    "else:\n",
    "    print(\"more amount needed\")"
   ]
  },
  {
   "cell_type": "code",
   "execution_count": 5,
   "id": "6c6f4400",
   "metadata": {},
   "outputs": [
    {
     "name": "stdout",
     "output_type": "stream",
     "text": [
      "This is suitable for experienced\n"
     ]
    }
   ],
   "source": [
    "price = 700 \n",
    "price_expert = 720\n",
    "price_intermediate = 400\n",
    "\n",
    "if price >price_expert:\n",
    "    print(\"this is suitable for expert\")\n",
    "elif price > price_intermediate:\n",
    "    print(\"This is suitable for experienced\")\n",
    "else:\n",
    "    print(\"this is suitable for begineer\")"
   ]
  },
  {
   "cell_type": "markdown",
   "id": "315eb2b3",
   "metadata": {},
   "source": [
    "elif statement is evaluated when the logical condition in if statement is not met.<br>\n",
    "Any number of elif statement is used in between if and else statement."
   ]
  },
  {
   "cell_type": "code",
   "execution_count": 11,
   "id": "27542cef",
   "metadata": {},
   "outputs": [
    {
     "name": "stdout",
     "output_type": "stream",
     "text": [
      "This is suitable for experienced\n"
     ]
    }
   ],
   "source": [
    "price = 1700 \n",
    "price_expert = 720\n",
    "price_intermediate = 400\n",
    "price_luxury =1000\n",
    "\n",
    "if price < price_expert:\n",
    "    print(\"this is suitable for expert\")\n",
    "elif price > price_intermediate:\n",
    "    print(\"This is suitable for experienced\")\n",
    "elif price >price_luxury:\n",
    "    print(\"It is great\")\n",
    "else:\n",
    "    print(\"this is suitable for begineer\")"
   ]
  },
  {
   "cell_type": "code",
   "execution_count": 12,
   "id": "c99dea3f",
   "metadata": {},
   "outputs": [
    {
     "name": "stdout",
     "output_type": "stream",
     "text": [
      "this is suitable for expert\n"
     ]
    }
   ],
   "source": [
    "if price > price_expert:\n",
    "    print(\"this is suitable for expert\")\n",
    "elif price > price_intermediate:\n",
    "    print(\"This is suitable for experienced\")\n",
    "else:\n",
    "    print(\"this is suitable for begineer\")"
   ]
  },
  {
   "cell_type": "markdown",
   "id": "125a0461",
   "metadata": {},
   "source": [
    "## Task 1:Control Flow"
   ]
  },
  {
   "cell_type": "markdown",
   "id": "e6bfdcbc",
   "metadata": {},
   "source": [
    "### Inventory Message\n",
    "\n",
    "Let's add and out of stock flag to our products. \n",
    " \n",
    "* If inventory is negative or 0, print 'OUT OF STOCK'. \n",
    "* If inventory is greater than 0, and less than or equal to 5, print 'Low Stock'. \n",
    "* If inventory is anything else, print 'In Stock'"
   ]
  },
  {
   "cell_type": "code",
   "execution_count": 14,
   "id": "f20a88d9",
   "metadata": {},
   "outputs": [
    {
     "name": "stdout",
     "output_type": "stream",
     "text": [
      "LOW STOCK\n"
     ]
    }
   ],
   "source": [
    "inventory = 3\n",
    "if inventory <= 0:\n",
    "    print(\"OUT OF STOCK\")\n",
    "elif inventory > 0 and inventory <=5:\n",
    "    print(\"LOW STOCK\")\n",
    "else:\n",
    "    print(\"In Stock\")"
   ]
  },
  {
   "cell_type": "markdown",
   "id": "74498a46",
   "metadata": {},
   "source": [
    "Nested if statements let you specify additional criteria to evaluate after a logical condition in an if statement met"
   ]
  },
  {
   "cell_type": "markdown",
   "id": "d3346f78",
   "metadata": {},
   "source": [
    "## Task 2:Nested if statements"
   ]
  },
  {
   "cell_type": "markdown",
   "id": "96f38d17",
   "metadata": {},
   "source": [
    "### Inventory Message - VIP Request\n",
    "\n",
    "Hi there, modify the previous inventory logic to handle a special customer.\n",
    "\n",
    "* Print 'Out of Stock' if the inventory is less than or equal to zero, unless our customer's name is Chris.\n",
    "\n",
    "    * If inventory is less than or equal to zero, we can give our customer named Chris the display model. \n",
    "\n",
    "\n",
    "\n",
    "* Modify the logic below to print the following message if the new logic is met:\n",
    "\n",
    "    * 'You can have the display model, sir'\n",
    "\n"
   ]
  },
  {
   "cell_type": "code",
   "execution_count": 24,
   "id": "fafd9844",
   "metadata": {},
   "outputs": [
    {
     "name": "stdout",
     "output_type": "stream",
     "text": [
      "out of stock\n"
     ]
    }
   ],
   "source": [
    "inventory = 0\n",
    "customer_name = 'chris'\n",
    "\n",
    "if inventory <=0 :\n",
    "    if customer_name == 'chris':\n",
    "        print(\"out of stock\")\n",
    "    else:\n",
    "        print(\"chris the display model\")\n",
    "elif inventory <=5:\n",
    "    print(\"Low stock\")\n",
    "\n",
    "    "
   ]
  }
 ],
 "metadata": {
  "kernelspec": {
   "display_name": "Python 3 (ipykernel)",
   "language": "python",
   "name": "python3"
  },
  "language_info": {
   "codemirror_mode": {
    "name": "ipython",
    "version": 3
   },
   "file_extension": ".py",
   "mimetype": "text/x-python",
   "name": "python",
   "nbconvert_exporter": "python",
   "pygments_lexer": "ipython3",
   "version": "3.10.9"
  }
 },
 "nbformat": 4,
 "nbformat_minor": 5
}
