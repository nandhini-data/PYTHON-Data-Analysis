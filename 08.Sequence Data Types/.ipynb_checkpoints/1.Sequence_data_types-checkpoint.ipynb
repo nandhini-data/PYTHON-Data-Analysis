{
 "cells": [
  {
   "cell_type": "markdown",
   "id": "effc44c1",
   "metadata": {},
   "source": [
    "# <center>Sequence Data Types</center>"
   ]
  },
  {
   "cell_type": "markdown",
   "id": "e191e9f4",
   "metadata": {},
   "source": [
    "* [<span style='color:purple'>**Introduction**](#Introduction)\n",
    "* [<span style='color:purple'>**List**](#List)\n",
    "* [<span style='color:purple'>**Membership Tests**](#Membership-Tests.)\n",
    "* [<span style='color:purple'>**List Indexing**](#List-Indexing)\n",
    "* [<span style='color:purple'>**List Slicing**](#List-Slicing)\n",
    "* [<span style='color:purple'>**Unpacking list**](#Unpacking-list)\n",
    "     * [<span style='color:purple'>Task 1:List Operation](#Task-1:List-Operation)\n",
    "* [<span style='color:purple'>**changing list elements**](#changing-list-elements)\n",
    "* [<span style='color:purple'>**Adding list elements**](#Adding-list-elements)\n",
    "* [<span style='color:purple'>**combining and repeating list**](#combining-and-repeating-list)\n",
    "* [<span style='color:purple'>**Remove the list elements**](#Remove-the-list-elements)\n",
    "     * [<span style='color:purple'>Task 2: Adding list elements](#Task-2:-Adding-list-elements)\n",
    "* [<span style='color:purple'>**List functions**](#List-functions)\n",
    "* [<span style='color:purple'>**List methods**](#List-methods)\n",
    "    * [<span style='color:purple'>Task 3: List functions and methods](#Task-3:-List-functions-and-methods)\n",
    "* [<span style='color:purple'>**Nested list**](#Nested-list)\n",
    "* [<span style='color:purple'>**Copying lists**](#Copying-lists)\n",
    "    * [<span style='color:purple'>Task 4: Nested list and copying](#Task-4:-Nested-list-and-copying)\n",
    "* [<span style='color:purple'>**Tuples**](#Tuples)\n",
    "* [<span style='color:purple'>**Why use tuples**](#Why-use-tuples)\n",
    "    * [<span style='color:purple'>Task 5: Tuples](#Task-5:-Tuples)\n",
    "* [<span style='color:purple'>**Ranges**](#Ranges)\n",
    "    * [<span style='color:purple'>Task 6:Ranges](#Task-6:Ranges)\n",
    "* [<span style='color:purple'>**Note:**](#Note:)"
   ]
  },
  {
   "cell_type": "markdown",
   "id": "51353827",
   "metadata": {},
   "source": [
    "## <center>Introduction</center>"
   ]
  },
  {
   "cell_type": "markdown",
   "id": "19b4bbb9",
   "metadata": {},
   "source": [
    "**Sequence data types** include list,tuples and range which are capable of storing many values."
   ]
  },
  {
   "cell_type": "markdown",
   "id": "8bce90b8",
   "metadata": {},
   "source": [
    "## List"
   ]
  },
  {
   "cell_type": "markdown",
   "id": "2a738c9a",
   "metadata": {},
   "source": [
    "List are iterable data types capable of storing many individual elements.<br>\n",
    "List elements can by any data type, that can be added,changed or removed at any time."
   ]
  },
  {
   "cell_type": "code",
   "execution_count": 1,
   "id": "121dfff4",
   "metadata": {},
   "outputs": [],
   "source": [
    "list1 = ['box','fruit box',None,True,100,200,-1,0.5]"
   ]
  },
  {
   "cell_type": "code",
   "execution_count": 2,
   "id": "c91ca7dd",
   "metadata": {},
   "outputs": [],
   "source": [
    "list2 = ['pencil','scale','rubber','boxes','books']"
   ]
  },
  {
   "cell_type": "code",
   "execution_count": 3,
   "id": "b1b40b68",
   "metadata": {},
   "outputs": [],
   "source": [
    "empty_list =[]"
   ]
  },
  {
   "cell_type": "code",
   "execution_count": 4,
   "id": "17dc284c",
   "metadata": {},
   "outputs": [
    {
     "data": {
      "text/plain": [
       "['box', 'fruit box', None, True, 100, 200, -1, 0.5]"
      ]
     },
     "execution_count": 4,
     "metadata": {},
     "output_type": "execute_result"
    }
   ],
   "source": [
    "list1"
   ]
  },
  {
   "cell_type": "code",
   "execution_count": 5,
   "id": "8ff6e745",
   "metadata": {},
   "outputs": [
    {
     "data": {
      "text/plain": [
       "['pencil', 'scale', 'rubber', 'boxes', 'books']"
      ]
     },
     "execution_count": 5,
     "metadata": {},
     "output_type": "execute_result"
    }
   ],
   "source": [
    "list2"
   ]
  },
  {
   "cell_type": "code",
   "execution_count": 6,
   "id": "9a239ad6",
   "metadata": {},
   "outputs": [
    {
     "data": {
      "text/plain": [
       "[]"
      ]
     },
     "execution_count": 6,
     "metadata": {},
     "output_type": "execute_result"
    }
   ],
   "source": [
    "empty_list"
   ]
  },
  {
   "cell_type": "code",
   "execution_count": 8,
   "id": "7c44fc05",
   "metadata": {},
   "outputs": [],
   "source": [
    "#string to list\n",
    "a = 'hello'"
   ]
  },
  {
   "cell_type": "code",
   "execution_count": 10,
   "id": "f3657f74",
   "metadata": {},
   "outputs": [
    {
     "data": {
      "text/plain": [
       "['h', 'e', 'l', 'l', 'o']"
      ]
     },
     "execution_count": 10,
     "metadata": {},
     "output_type": "execute_result"
    }
   ],
   "source": [
    "list(a)"
   ]
  },
  {
   "cell_type": "markdown",
   "id": "dc3ff25d",
   "metadata": {},
   "source": [
    "***"
   ]
  },
  {
   "cell_type": "markdown",
   "id": "b0e0c766",
   "metadata": {},
   "source": [
    "## Membership Tests."
   ]
  },
  {
   "cell_type": "code",
   "execution_count": 12,
   "id": "97a14fd8",
   "metadata": {},
   "outputs": [
    {
     "data": {
      "text/plain": [
       "['pencil', 'scale', 'rubber', 'boxes', 'books']"
      ]
     },
     "execution_count": 12,
     "metadata": {},
     "output_type": "execute_result"
    }
   ],
   "source": [
    "list2"
   ]
  },
  {
   "cell_type": "code",
   "execution_count": 14,
   "id": "89feed44",
   "metadata": {},
   "outputs": [
    {
     "data": {
      "text/plain": [
       "True"
      ]
     },
     "execution_count": 14,
     "metadata": {},
     "output_type": "execute_result"
    }
   ],
   "source": [
    "'scale' in list2"
   ]
  },
  {
   "cell_type": "code",
   "execution_count": 16,
   "id": "46fb5ec7",
   "metadata": {},
   "outputs": [
    {
     "data": {
      "text/plain": [
       "True"
      ]
     },
     "execution_count": 16,
     "metadata": {},
     "output_type": "execute_result"
    }
   ],
   "source": [
    "'scale' and 'rubber' in list2"
   ]
  },
  {
   "cell_type": "code",
   "execution_count": 18,
   "id": "b5107b35",
   "metadata": {},
   "outputs": [
    {
     "name": "stdout",
     "output_type": "stream",
     "text": [
      "fill the list3\n"
     ]
    }
   ],
   "source": [
    "if 'scale' and 'rubber' in list2:\n",
    "    print(\"fill the list3\")\n",
    "else:\n",
    "    print(\"dont fill list3\")"
   ]
  },
  {
   "cell_type": "markdown",
   "id": "74a8bb41",
   "metadata": {},
   "source": [
    "***"
   ]
  },
  {
   "cell_type": "markdown",
   "id": "4eb541cf",
   "metadata": {},
   "source": [
    "## List Indexing"
   ]
  },
  {
   "cell_type": "code",
   "execution_count": 19,
   "id": "7e8fbb5f",
   "metadata": {},
   "outputs": [
    {
     "data": {
      "text/plain": [
       "['pencil', 'scale', 'rubber', 'boxes', 'books']"
      ]
     },
     "execution_count": 19,
     "metadata": {},
     "output_type": "execute_result"
    }
   ],
   "source": [
    "list2"
   ]
  },
  {
   "cell_type": "code",
   "execution_count": 20,
   "id": "9c5b3013",
   "metadata": {},
   "outputs": [
    {
     "data": {
      "text/plain": [
       "'pencil'"
      ]
     },
     "execution_count": 20,
     "metadata": {},
     "output_type": "execute_result"
    }
   ],
   "source": [
    "list2[0]"
   ]
  },
  {
   "cell_type": "code",
   "execution_count": 21,
   "id": "c72476dc",
   "metadata": {},
   "outputs": [
    {
     "data": {
      "text/plain": [
       "'scale'"
      ]
     },
     "execution_count": 21,
     "metadata": {},
     "output_type": "execute_result"
    }
   ],
   "source": [
    "list2[1]"
   ]
  },
  {
   "cell_type": "markdown",
   "id": "50b2c26f",
   "metadata": {},
   "source": [
    "***"
   ]
  },
  {
   "cell_type": "markdown",
   "id": "f7df9d5c",
   "metadata": {},
   "source": [
    "## List Slicing"
   ]
  },
  {
   "cell_type": "code",
   "execution_count": 22,
   "id": "c83cc891",
   "metadata": {},
   "outputs": [
    {
     "data": {
      "text/plain": [
       "['pencil', 'scale']"
      ]
     },
     "execution_count": 22,
     "metadata": {},
     "output_type": "execute_result"
    }
   ],
   "source": [
    "list2[0:2]"
   ]
  },
  {
   "cell_type": "code",
   "execution_count": 23,
   "id": "351b6c19",
   "metadata": {},
   "outputs": [
    {
     "data": {
      "text/plain": [
       "['pencil', 'rubber', 'books']"
      ]
     },
     "execution_count": 23,
     "metadata": {},
     "output_type": "execute_result"
    }
   ],
   "source": [
    "list2[::2]"
   ]
  },
  {
   "cell_type": "code",
   "execution_count": 24,
   "id": "4d086968",
   "metadata": {},
   "outputs": [
    {
     "data": {
      "text/plain": [
       "['rubber', 'boxes']"
      ]
     },
     "execution_count": 24,
     "metadata": {},
     "output_type": "execute_result"
    }
   ],
   "source": [
    "list2[2:4]"
   ]
  },
  {
   "cell_type": "markdown",
   "id": "9a5a919b",
   "metadata": {},
   "source": [
    "***"
   ]
  },
  {
   "cell_type": "markdown",
   "id": "0f9f5ae9",
   "metadata": {},
   "source": [
    "## Unpacking list"
   ]
  },
  {
   "cell_type": "markdown",
   "id": "f851eb7a",
   "metadata": {},
   "source": [
    "List can be unpacked to individual variables."
   ]
  },
  {
   "cell_type": "code",
   "execution_count": 25,
   "id": "555fa341",
   "metadata": {},
   "outputs": [
    {
     "data": {
      "text/plain": [
       "['pencil', 'scale', 'rubber', 'boxes', 'books']"
      ]
     },
     "execution_count": 25,
     "metadata": {},
     "output_type": "execute_result"
    }
   ],
   "source": [
    "list2"
   ]
  },
  {
   "cell_type": "code",
   "execution_count": 26,
   "id": "0df3c929",
   "metadata": {},
   "outputs": [],
   "source": [
    "a,b,c,d,e =list2"
   ]
  },
  {
   "cell_type": "code",
   "execution_count": 27,
   "id": "48e00185",
   "metadata": {},
   "outputs": [
    {
     "name": "stdout",
     "output_type": "stream",
     "text": [
      "pencil scale\n"
     ]
    }
   ],
   "source": [
    "print(a,b)"
   ]
  },
  {
   "cell_type": "code",
   "execution_count": 28,
   "id": "483af7e7",
   "metadata": {},
   "outputs": [
    {
     "data": {
      "text/plain": [
       "'pencil'"
      ]
     },
     "execution_count": 28,
     "metadata": {},
     "output_type": "execute_result"
    }
   ],
   "source": [
    "a"
   ]
  },
  {
   "cell_type": "code",
   "execution_count": 29,
   "id": "cd4ec0de",
   "metadata": {},
   "outputs": [
    {
     "name": "stdout",
     "output_type": "stream",
     "text": [
      "pencil scale rubber boxes books\n"
     ]
    }
   ],
   "source": [
    "print(a,b,c,d,e)"
   ]
  },
  {
   "cell_type": "code",
   "execution_count": 30,
   "id": "7ab7ea46",
   "metadata": {},
   "outputs": [
    {
     "data": {
      "text/plain": [
       "['pencil', 'scale', 'rubber', 'boxes', 'books']"
      ]
     },
     "execution_count": 30,
     "metadata": {},
     "output_type": "execute_result"
    }
   ],
   "source": [
    "list2"
   ]
  },
  {
   "cell_type": "markdown",
   "id": "c56ae1e7",
   "metadata": {},
   "source": [
    "***"
   ]
  },
  {
   "cell_type": "markdown",
   "id": "8425c8d3",
   "metadata": {},
   "source": [
    "## Task 1:List Operation"
   ]
  },
  {
   "cell_type": "markdown",
   "id": "4e220899",
   "metadata": {},
   "source": [
    "### Create a List the customers that made purchases on black friday\n",
    "\n",
    "The customers that made purchases on Black Friday were:\n",
    "\n",
    "C00001, C00003, C00004, C00005 C00006, C00007, C00018, C00010, C00013, C00014, C00015, C00016 and C00029\n",
    "\n",
    "Call your list `customer_list`."
   ]
  },
  {
   "cell_type": "code",
   "execution_count": 31,
   "id": "f1c59638",
   "metadata": {},
   "outputs": [],
   "source": [
    "customer_list = ['C00001', 'C00003', 'C00004', 'C00005','C00006', 'C00007', 'C00018', 'C00010', 'C00013', 'C00014', 'C00015', 'C00016','C00029']"
   ]
  },
  {
   "cell_type": "code",
   "execution_count": 33,
   "id": "0bc8e969",
   "metadata": {},
   "outputs": [
    {
     "name": "stdout",
     "output_type": "stream",
     "text": [
      "['C00001', 'C00003', 'C00004', 'C00005', 'C00006', 'C00007', 'C00018', 'C00010', 'C00013', 'C00014', 'C00015', 'C00016', 'C00029']\n"
     ]
    }
   ],
   "source": [
    "print(customer_list)"
   ]
  },
  {
   "cell_type": "markdown",
   "id": "bf02aa10",
   "metadata": {},
   "source": [
    "### Did C00009 make a purchase?\n",
    "\n",
    "This customer said they made a purchase we're not seeing it in our data. If they did, we need to record the revenue.\n",
    "\n",
    "Write code that returns 99.99 if C00009 is in the list. If not, return 0.0."
   ]
  },
  {
   "cell_type": "code",
   "execution_count": 34,
   "id": "a568cb2d",
   "metadata": {},
   "outputs": [
    {
     "name": "stdout",
     "output_type": "stream",
     "text": [
      "0.0\n"
     ]
    }
   ],
   "source": [
    "if 'C000009' in customer_list:\n",
    "    print(99.99)\n",
    "else:\n",
    "    print(0.0)"
   ]
  },
  {
   "cell_type": "markdown",
   "id": "0ac84432",
   "metadata": {},
   "source": [
    "### Market Research Samples\n",
    "\n",
    "1. Using slicing, create a list containing the fifth and sixth customer in the list called `fifth_sixth`.\n"
   ]
  },
  {
   "cell_type": "code",
   "execution_count": 56,
   "id": "eeead3a2",
   "metadata": {},
   "outputs": [],
   "source": [
    "fifth_sixth = customer_list[4:6]"
   ]
  },
  {
   "cell_type": "code",
   "execution_count": 57,
   "id": "8845c8c1",
   "metadata": {},
   "outputs": [
    {
     "data": {
      "text/plain": [
       "['C00006', 'C00007']"
      ]
     },
     "execution_count": 57,
     "metadata": {},
     "output_type": "execute_result"
    }
   ],
   "source": [
    "fifth_sixth"
   ]
  },
  {
   "cell_type": "markdown",
   "id": "9928b2b7",
   "metadata": {},
   "source": [
    "2. Create a list called `every_third` that contains every third customer in the list (1st, 4rd, 7th, and so on...)."
   ]
  },
  {
   "cell_type": "code",
   "execution_count": 47,
   "id": "35514f04",
   "metadata": {},
   "outputs": [],
   "source": [
    "every_third = customer_list[0:len(customer_list):3]"
   ]
  },
  {
   "cell_type": "code",
   "execution_count": 48,
   "id": "69723cdf",
   "metadata": {},
   "outputs": [
    {
     "data": {
      "text/plain": [
       "['C00001', 'C00005', 'C00018', 'C00014', 'C00029']"
      ]
     },
     "execution_count": 48,
     "metadata": {},
     "output_type": "execute_result"
    }
   ],
   "source": [
    "every_third"
   ]
  },
  {
   "cell_type": "markdown",
   "id": "c72b3621",
   "metadata": {},
   "source": [
    "3. Finally, using slicing, create a list with the last two customers in our dataset, called `last_two`."
   ]
  },
  {
   "cell_type": "code",
   "execution_count": 60,
   "id": "04c5df85",
   "metadata": {},
   "outputs": [],
   "source": [
    "last_two = customer_list[-2:]"
   ]
  },
  {
   "cell_type": "code",
   "execution_count": 61,
   "id": "3e69755a",
   "metadata": {},
   "outputs": [
    {
     "data": {
      "text/plain": [
       "['C00016', 'C00029']"
      ]
     },
     "execution_count": 61,
     "metadata": {},
     "output_type": "execute_result"
    }
   ],
   "source": [
    "last_two"
   ]
  },
  {
   "cell_type": "markdown",
   "id": "4a2d5cca",
   "metadata": {},
   "source": [
    "## changing list elements"
   ]
  },
  {
   "cell_type": "code",
   "execution_count": 62,
   "id": "58db2799",
   "metadata": {},
   "outputs": [],
   "source": [
    "new_elements =['coat','cover','pants','backpack','wool']"
   ]
  },
  {
   "cell_type": "code",
   "execution_count": 63,
   "id": "6f8d2c58",
   "metadata": {},
   "outputs": [
    {
     "data": {
      "text/plain": [
       "['coat', 'cover', 'pants', 'backpack', 'wool']"
      ]
     },
     "execution_count": 63,
     "metadata": {},
     "output_type": "execute_result"
    }
   ],
   "source": [
    "new_elements"
   ]
  },
  {
   "cell_type": "code",
   "execution_count": 70,
   "id": "73b33481",
   "metadata": {},
   "outputs": [],
   "source": [
    "new_elements[1] ='red cover'"
   ]
  },
  {
   "cell_type": "code",
   "execution_count": 71,
   "id": "232d92ce",
   "metadata": {},
   "outputs": [
    {
     "data": {
      "text/plain": [
       "['coat', 'red cover', 'pants', 'backpack', 'wool']"
      ]
     },
     "execution_count": 71,
     "metadata": {},
     "output_type": "execute_result"
    }
   ],
   "source": [
    "new_elements"
   ]
  },
  {
   "cell_type": "code",
   "execution_count": 72,
   "id": "37449229",
   "metadata": {},
   "outputs": [
    {
     "data": {
      "text/plain": [
       "['coat', 'red cover', 'pants', 'backpack', 'wool']"
      ]
     },
     "execution_count": 72,
     "metadata": {},
     "output_type": "execute_result"
    }
   ],
   "source": [
    "new_elements"
   ]
  },
  {
   "cell_type": "markdown",
   "id": "b0db924a",
   "metadata": {},
   "source": [
    "## Adding list elements"
   ]
  },
  {
   "cell_type": "code",
   "execution_count": 73,
   "id": "de864315",
   "metadata": {},
   "outputs": [],
   "source": [
    "new_elements.append('yellow pant')"
   ]
  },
  {
   "cell_type": "code",
   "execution_count": 74,
   "id": "91e82906",
   "metadata": {},
   "outputs": [
    {
     "data": {
      "text/plain": [
       "['coat', 'red cover', 'pants', 'backpack', 'wool', 'yellow pant']"
      ]
     },
     "execution_count": 74,
     "metadata": {},
     "output_type": "execute_result"
    }
   ],
   "source": [
    "new_elements"
   ]
  },
  {
   "cell_type": "code",
   "execution_count": 76,
   "id": "45f1bcce",
   "metadata": {},
   "outputs": [],
   "source": [
    "new_elements.insert(2,'blue pant')"
   ]
  },
  {
   "cell_type": "code",
   "execution_count": 77,
   "id": "139398a9",
   "metadata": {},
   "outputs": [
    {
     "data": {
      "text/plain": [
       "['coat', 'red cover', 'blue pant', 'pants', 'backpack', 'wool', 'yellow pant']"
      ]
     },
     "execution_count": 77,
     "metadata": {},
     "output_type": "execute_result"
    }
   ],
   "source": [
    "new_elements"
   ]
  },
  {
   "cell_type": "code",
   "execution_count": 81,
   "id": "72092ce8",
   "metadata": {},
   "outputs": [
    {
     "data": {
      "text/plain": [
       "['coat', 'blue pant']"
      ]
     },
     "execution_count": 81,
     "metadata": {},
     "output_type": "execute_result"
    }
   ],
   "source": [
    "new_elements[0:3:2]"
   ]
  },
  {
   "cell_type": "markdown",
   "id": "d9486ad6",
   "metadata": {},
   "source": [
    "## combining and repeating list<br>\n",
    "\n",
    "List can be combined or concatenated with + and repeated with *"
   ]
  },
  {
   "cell_type": "code",
   "execution_count": 82,
   "id": "0165ab62",
   "metadata": {},
   "outputs": [],
   "source": [
    "new_item =new_elements + list2"
   ]
  },
  {
   "cell_type": "code",
   "execution_count": 83,
   "id": "e3911c84",
   "metadata": {},
   "outputs": [
    {
     "data": {
      "text/plain": [
       "['coat',\n",
       " 'red cover',\n",
       " 'blue pant',\n",
       " 'pants',\n",
       " 'backpack',\n",
       " 'wool',\n",
       " 'yellow pant',\n",
       " 'pencil',\n",
       " 'scale',\n",
       " 'rubber',\n",
       " 'boxes',\n",
       " 'books']"
      ]
     },
     "execution_count": 83,
     "metadata": {},
     "output_type": "execute_result"
    }
   ],
   "source": [
    "new_item"
   ]
  },
  {
   "cell_type": "code",
   "execution_count": 84,
   "id": "06bc49e4",
   "metadata": {},
   "outputs": [
    {
     "name": "stdout",
     "output_type": "stream",
     "text": [
      "['coat', 'red cover', 'blue pant', 'pants', 'backpack', 'wool', 'yellow pant', 'pencil', 'scale', 'rubber', 'boxes', 'books']\n"
     ]
    }
   ],
   "source": [
    "print(new_item)"
   ]
  },
  {
   "cell_type": "code",
   "execution_count": 85,
   "id": "427e5e01",
   "metadata": {},
   "outputs": [
    {
     "data": {
      "text/plain": [
       "['coat',\n",
       " 'red cover',\n",
       " 'blue pant',\n",
       " 'pants',\n",
       " 'backpack',\n",
       " 'wool',\n",
       " 'yellow pant',\n",
       " 'pencil',\n",
       " 'scale',\n",
       " 'rubber',\n",
       " 'boxes',\n",
       " 'books',\n",
       " 'coat',\n",
       " 'red cover',\n",
       " 'blue pant',\n",
       " 'pants',\n",
       " 'backpack',\n",
       " 'wool',\n",
       " 'yellow pant',\n",
       " 'pencil',\n",
       " 'scale',\n",
       " 'rubber',\n",
       " 'boxes',\n",
       " 'books',\n",
       " 'coat',\n",
       " 'red cover',\n",
       " 'blue pant',\n",
       " 'pants',\n",
       " 'backpack',\n",
       " 'wool',\n",
       " 'yellow pant',\n",
       " 'pencil',\n",
       " 'scale',\n",
       " 'rubber',\n",
       " 'boxes',\n",
       " 'books']"
      ]
     },
     "execution_count": 85,
     "metadata": {},
     "output_type": "execute_result"
    }
   ],
   "source": [
    "new_item * 3"
   ]
  },
  {
   "cell_type": "markdown",
   "id": "85365333",
   "metadata": {},
   "source": [
    "## Remove the list elements"
   ]
  },
  {
   "cell_type": "code",
   "execution_count": 89,
   "id": "3e3866b2",
   "metadata": {},
   "outputs": [
    {
     "data": {
      "text/plain": [
       "['coat',\n",
       " 'pants',\n",
       " 'backpack',\n",
       " 'wool',\n",
       " 'yellow pant',\n",
       " 'pencil',\n",
       " 'scale',\n",
       " 'rubber',\n",
       " 'boxes',\n",
       " 'books']"
      ]
     },
     "execution_count": 89,
     "metadata": {},
     "output_type": "execute_result"
    }
   ],
   "source": [
    "new_item"
   ]
  },
  {
   "cell_type": "code",
   "execution_count": 90,
   "id": "1c35446e",
   "metadata": {},
   "outputs": [
    {
     "data": {
      "text/plain": [
       "10"
      ]
     },
     "execution_count": 90,
     "metadata": {},
     "output_type": "execute_result"
    }
   ],
   "source": [
    "len(new_item)"
   ]
  },
  {
   "cell_type": "code",
   "execution_count": 91,
   "id": "42a918e2",
   "metadata": {},
   "outputs": [],
   "source": [
    "del new_item[1:3]"
   ]
  },
  {
   "cell_type": "code",
   "execution_count": 92,
   "id": "f1cfc7ac",
   "metadata": {},
   "outputs": [
    {
     "data": {
      "text/plain": [
       "['coat', 'wool', 'yellow pant', 'pencil', 'scale', 'rubber', 'boxes', 'books']"
      ]
     },
     "execution_count": 92,
     "metadata": {},
     "output_type": "execute_result"
    }
   ],
   "source": [
    "new_item"
   ]
  },
  {
   "cell_type": "code",
   "execution_count": 93,
   "id": "ea669d9c",
   "metadata": {},
   "outputs": [
    {
     "data": {
      "text/plain": [
       "8"
      ]
     },
     "execution_count": 93,
     "metadata": {},
     "output_type": "execute_result"
    }
   ],
   "source": [
    "len(new_item)"
   ]
  },
  {
   "cell_type": "code",
   "execution_count": 94,
   "id": "56dd0c33",
   "metadata": {},
   "outputs": [],
   "source": [
    "new_item.remove('wool')"
   ]
  },
  {
   "cell_type": "code",
   "execution_count": 95,
   "id": "8f0966f0",
   "metadata": {},
   "outputs": [
    {
     "data": {
      "text/plain": [
       "['coat', 'yellow pant', 'pencil', 'scale', 'rubber', 'boxes', 'books']"
      ]
     },
     "execution_count": 95,
     "metadata": {},
     "output_type": "execute_result"
    }
   ],
   "source": [
    "new_item"
   ]
  },
  {
   "cell_type": "code",
   "execution_count": 96,
   "id": "f0c16243",
   "metadata": {},
   "outputs": [
    {
     "data": {
      "text/plain": [
       "7"
      ]
     },
     "execution_count": 96,
     "metadata": {},
     "output_type": "execute_result"
    }
   ],
   "source": [
    "len(new_item)"
   ]
  },
  {
   "cell_type": "markdown",
   "id": "cd28c9c7",
   "metadata": {},
   "source": [
    "***"
   ]
  },
  {
   "cell_type": "markdown",
   "id": "55cc4b7a",
   "metadata": {},
   "source": [
    "## Task 2: Adding list elements"
   ]
  },
  {
   "cell_type": "markdown",
   "id": "4ff2f4df",
   "metadata": {},
   "source": [
    "### Updated Customer Lists\n",
    "\n",
    "Hi there, we need to add customer 'C00009' to `customer_list`, we just found their receipt in the warehouse.\n",
    "\n"
   ]
  },
  {
   "cell_type": "code",
   "execution_count": 97,
   "id": "479db810",
   "metadata": {},
   "outputs": [
    {
     "data": {
      "text/plain": [
       "['C00001',\n",
       " 'C00003',\n",
       " 'C00004',\n",
       " 'C00005',\n",
       " 'C00006',\n",
       " 'C00007',\n",
       " 'C00018',\n",
       " 'C00010',\n",
       " 'C00013',\n",
       " 'C00014',\n",
       " 'C00015',\n",
       " 'C00016',\n",
       " 'C00029']"
      ]
     },
     "execution_count": 97,
     "metadata": {},
     "output_type": "execute_result"
    }
   ],
   "source": [
    "customer_list"
   ]
  },
  {
   "cell_type": "code",
   "execution_count": 98,
   "id": "76383fd9",
   "metadata": {},
   "outputs": [],
   "source": [
    "customer_list.append('C00009')"
   ]
  },
  {
   "cell_type": "code",
   "execution_count": 99,
   "id": "68d91bf7",
   "metadata": {},
   "outputs": [
    {
     "data": {
      "text/plain": [
       "['C00001',\n",
       " 'C00003',\n",
       " 'C00004',\n",
       " 'C00005',\n",
       " 'C00006',\n",
       " 'C00007',\n",
       " 'C00018',\n",
       " 'C00010',\n",
       " 'C00013',\n",
       " 'C00014',\n",
       " 'C00015',\n",
       " 'C00016',\n",
       " 'C00029',\n",
       " 'C00009']"
      ]
     },
     "execution_count": 99,
     "metadata": {},
     "output_type": "execute_result"
    }
   ],
   "source": [
    "customer_list"
   ]
  },
  {
   "cell_type": "markdown",
   "id": "30ed84bc",
   "metadata": {},
   "source": [
    "### Adding Saturday Customers\n",
    "\n",
    "Add the customers from `saturday_list` to `customer_list` below."
   ]
  },
  {
   "cell_type": "code",
   "execution_count": 100,
   "id": "85b46853",
   "metadata": {},
   "outputs": [],
   "source": [
    "saturday_list = [\n",
    "    'C00004', 'C00017', 'C00019', 'C00002', 'C00008',\n",
    "    'C00021', 'C00022'\n",
    "]"
   ]
  },
  {
   "cell_type": "code",
   "execution_count": 101,
   "id": "8cf10d58",
   "metadata": {},
   "outputs": [
    {
     "data": {
      "text/plain": [
       "['C00004', 'C00017', 'C00019', 'C00002', 'C00008', 'C00021', 'C00022']"
      ]
     },
     "execution_count": 101,
     "metadata": {},
     "output_type": "execute_result"
    }
   ],
   "source": [
    "saturday_list"
   ]
  },
  {
   "cell_type": "code",
   "execution_count": 102,
   "id": "57b75eee",
   "metadata": {},
   "outputs": [],
   "source": [
    "customer_list =customer_list + saturday_list"
   ]
  },
  {
   "cell_type": "code",
   "execution_count": 103,
   "id": "40e99fbb",
   "metadata": {},
   "outputs": [
    {
     "data": {
      "text/plain": [
       "['C00001',\n",
       " 'C00003',\n",
       " 'C00004',\n",
       " 'C00005',\n",
       " 'C00006',\n",
       " 'C00007',\n",
       " 'C00018',\n",
       " 'C00010',\n",
       " 'C00013',\n",
       " 'C00014',\n",
       " 'C00015',\n",
       " 'C00016',\n",
       " 'C00029',\n",
       " 'C00009',\n",
       " 'C00004',\n",
       " 'C00017',\n",
       " 'C00019',\n",
       " 'C00002',\n",
       " 'C00008',\n",
       " 'C00021',\n",
       " 'C00022']"
      ]
     },
     "execution_count": 103,
     "metadata": {},
     "output_type": "execute_result"
    }
   ],
   "source": [
    "customer_list"
   ]
  },
  {
   "cell_type": "markdown",
   "id": "747ac8c1",
   "metadata": {},
   "source": [
    "### Updated Customer Lists (Final Update)\n",
    "\n",
    "We now need to remove the Saturday customers from the list. \n",
    "\n",
    "I've included the full `customer_list` below.\n",
    "\n",
    "The Saturday customers are the final seven customers in `customer_list`. "
   ]
  },
  {
   "cell_type": "markdown",
   "id": "22fe163c",
   "metadata": {},
   "source": [
    "### Delete a friend\n",
    "\n",
    "Please remove customer 'C00004' from the reduced list you just created. This is a friend of the owner and shouldn't be recorded as a sale."
   ]
  },
  {
   "cell_type": "code",
   "execution_count": 104,
   "id": "aedfe599",
   "metadata": {},
   "outputs": [
    {
     "data": {
      "text/plain": [
       "2"
      ]
     },
     "execution_count": 104,
     "metadata": {},
     "output_type": "execute_result"
    }
   ],
   "source": [
    "customer_list.index('C00004')"
   ]
  },
  {
   "cell_type": "code",
   "execution_count": 105,
   "id": "f6dea568",
   "metadata": {},
   "outputs": [],
   "source": [
    "customer_list.remove('C00004')"
   ]
  },
  {
   "cell_type": "code",
   "execution_count": 106,
   "id": "cec6309e",
   "metadata": {},
   "outputs": [
    {
     "data": {
      "text/plain": [
       "['C00001',\n",
       " 'C00003',\n",
       " 'C00005',\n",
       " 'C00006',\n",
       " 'C00007',\n",
       " 'C00018',\n",
       " 'C00010',\n",
       " 'C00013',\n",
       " 'C00014',\n",
       " 'C00015',\n",
       " 'C00016',\n",
       " 'C00029',\n",
       " 'C00009',\n",
       " 'C00004',\n",
       " 'C00017',\n",
       " 'C00019',\n",
       " 'C00002',\n",
       " 'C00008',\n",
       " 'C00021',\n",
       " 'C00022']"
      ]
     },
     "execution_count": 106,
     "metadata": {},
     "output_type": "execute_result"
    }
   ],
   "source": [
    "customer_list"
   ]
  },
  {
   "cell_type": "code",
   "execution_count": 107,
   "id": "02a00ea9",
   "metadata": {},
   "outputs": [
    {
     "name": "stdout",
     "output_type": "stream",
     "text": [
      "['C00001', 'C00003', 'C00005', 'C00006', 'C00007', 'C00018', 'C00010', 'C00013', 'C00014', 'C00015', 'C00016', 'C00029', 'C00009', 'C00004', 'C00017', 'C00019', 'C00002', 'C00008', 'C00021', 'C00022']\n"
     ]
    }
   ],
   "source": [
    "print(customer_list)"
   ]
  },
  {
   "cell_type": "markdown",
   "id": "aca02b18",
   "metadata": {},
   "source": [
    "***"
   ]
  },
  {
   "cell_type": "markdown",
   "id": "08d45553",
   "metadata": {},
   "source": [
    "## List functions"
   ]
  },
  {
   "cell_type": "code",
   "execution_count": 1,
   "id": "421d6715",
   "metadata": {},
   "outputs": [],
   "source": [
    "transaction = [20,11,30,40,50,60,100,2.07,5.8]"
   ]
  },
  {
   "cell_type": "code",
   "execution_count": 2,
   "id": "97b711fa",
   "metadata": {},
   "outputs": [
    {
     "data": {
      "text/plain": [
       "9"
      ]
     },
     "execution_count": 2,
     "metadata": {},
     "output_type": "execute_result"
    }
   ],
   "source": [
    "len(transaction)"
   ]
  },
  {
   "cell_type": "code",
   "execution_count": 3,
   "id": "cfa0d353",
   "metadata": {},
   "outputs": [
    {
     "data": {
      "text/plain": [
       "318.87"
      ]
     },
     "execution_count": 3,
     "metadata": {},
     "output_type": "execute_result"
    }
   ],
   "source": [
    "sum(transaction)"
   ]
  },
  {
   "cell_type": "code",
   "execution_count": 4,
   "id": "53d7edf3",
   "metadata": {},
   "outputs": [
    {
     "data": {
      "text/plain": [
       "2.07"
      ]
     },
     "execution_count": 4,
     "metadata": {},
     "output_type": "execute_result"
    }
   ],
   "source": [
    "min(transaction)"
   ]
  },
  {
   "cell_type": "code",
   "execution_count": 5,
   "id": "23be79f7",
   "metadata": {},
   "outputs": [
    {
     "data": {
      "text/plain": [
       "100"
      ]
     },
     "execution_count": 5,
     "metadata": {},
     "output_type": "execute_result"
    }
   ],
   "source": [
    "max(transaction)"
   ]
  },
  {
   "cell_type": "code",
   "execution_count": 6,
   "id": "8ede54b6",
   "metadata": {},
   "outputs": [],
   "source": [
    "transaction.sort() #original list will be changed"
   ]
  },
  {
   "cell_type": "code",
   "execution_count": 7,
   "id": "7bd1aceb",
   "metadata": {},
   "outputs": [
    {
     "data": {
      "text/plain": [
       "[2.07, 5.8, 11, 20, 30, 40, 50, 60, 100]"
      ]
     },
     "execution_count": 7,
     "metadata": {},
     "output_type": "execute_result"
    }
   ],
   "source": [
    "transaction"
   ]
  },
  {
   "cell_type": "code",
   "execution_count": 8,
   "id": "a9fb7aab",
   "metadata": {},
   "outputs": [],
   "source": [
    "list2 =[10.88,90,70,30,20,50,10]"
   ]
  },
  {
   "cell_type": "code",
   "execution_count": 9,
   "id": "ab499d93",
   "metadata": {},
   "outputs": [
    {
     "data": {
      "text/plain": [
       "[10.88, 90, 70, 30, 20, 50, 10]"
      ]
     },
     "execution_count": 9,
     "metadata": {},
     "output_type": "execute_result"
    }
   ],
   "source": [
    "list2"
   ]
  },
  {
   "cell_type": "code",
   "execution_count": 12,
   "id": "6709765b",
   "metadata": {},
   "outputs": [
    {
     "data": {
      "text/plain": [
       "[10, 10.88, 20, 30, 50, 70, 90]"
      ]
     },
     "execution_count": 12,
     "metadata": {},
     "output_type": "execute_result"
    }
   ],
   "source": [
    "sorted(list2) #does not change the original list"
   ]
  },
  {
   "cell_type": "code",
   "execution_count": 13,
   "id": "9a3203fe",
   "metadata": {},
   "outputs": [
    {
     "data": {
      "text/plain": [
       "[10.88, 90, 70, 30, 20, 50, 10]"
      ]
     },
     "execution_count": 13,
     "metadata": {},
     "output_type": "execute_result"
    }
   ],
   "source": [
    "list2"
   ]
  },
  {
   "cell_type": "code",
   "execution_count": 14,
   "id": "af886b53",
   "metadata": {},
   "outputs": [
    {
     "data": {
      "text/plain": [
       "[2.07, 5.8, 11, 20, 30, 40, 50, 60, 100]"
      ]
     },
     "execution_count": 14,
     "metadata": {},
     "output_type": "execute_result"
    }
   ],
   "source": [
    "transaction"
   ]
  },
  {
   "cell_type": "markdown",
   "id": "c58a533e",
   "metadata": {},
   "source": [
    "***"
   ]
  },
  {
   "cell_type": "markdown",
   "id": "b43cdbe0",
   "metadata": {},
   "source": [
    "## List methods"
   ]
  },
  {
   "cell_type": "code",
   "execution_count": 15,
   "id": "0fba6359",
   "metadata": {},
   "outputs": [
    {
     "data": {
      "text/plain": [
       "5"
      ]
     },
     "execution_count": 15,
     "metadata": {},
     "output_type": "execute_result"
    }
   ],
   "source": [
    "transaction.index(40)"
   ]
  },
  {
   "cell_type": "code",
   "execution_count": 16,
   "id": "d5b57c68",
   "metadata": {},
   "outputs": [
    {
     "data": {
      "text/plain": [
       "1"
      ]
     },
     "execution_count": 16,
     "metadata": {},
     "output_type": "execute_result"
    }
   ],
   "source": [
    "transaction.count(20)"
   ]
  },
  {
   "cell_type": "code",
   "execution_count": 18,
   "id": "f081c6ef",
   "metadata": {},
   "outputs": [],
   "source": [
    "transaction.append(20)"
   ]
  },
  {
   "cell_type": "code",
   "execution_count": 19,
   "id": "4f25b06a",
   "metadata": {},
   "outputs": [
    {
     "data": {
      "text/plain": [
       "[2.07, 5.8, 11, 20, 30, 40, 50, 60, 100, 20]"
      ]
     },
     "execution_count": 19,
     "metadata": {},
     "output_type": "execute_result"
    }
   ],
   "source": [
    "transaction"
   ]
  },
  {
   "cell_type": "code",
   "execution_count": 20,
   "id": "adc8849c",
   "metadata": {},
   "outputs": [
    {
     "data": {
      "text/plain": [
       "2"
      ]
     },
     "execution_count": 20,
     "metadata": {},
     "output_type": "execute_result"
    }
   ],
   "source": [
    "transaction.count(20)"
   ]
  },
  {
   "cell_type": "code",
   "execution_count": 21,
   "id": "01960684",
   "metadata": {},
   "outputs": [],
   "source": [
    "transaction.reverse()"
   ]
  },
  {
   "cell_type": "code",
   "execution_count": 22,
   "id": "fa2504a0",
   "metadata": {},
   "outputs": [
    {
     "data": {
      "text/plain": [
       "[20, 100, 60, 50, 40, 30, 20, 11, 5.8, 2.07]"
      ]
     },
     "execution_count": 22,
     "metadata": {},
     "output_type": "execute_result"
    }
   ],
   "source": [
    "transaction"
   ]
  },
  {
   "cell_type": "markdown",
   "id": "4d8db813",
   "metadata": {},
   "source": [
    "***"
   ]
  },
  {
   "cell_type": "markdown",
   "id": "82a5b01c",
   "metadata": {},
   "source": [
    "## Task 3: List functions and methods"
   ]
  },
  {
   "cell_type": "markdown",
   "id": "9485e75c",
   "metadata": {},
   "source": [
    "### Black Friday Data\n",
    "\n",
    "We've compiled lists of the black friday `customer_ids` and `subtotals`, the amount before tax, below"
   ]
  },
  {
   "cell_type": "code",
   "execution_count": 23,
   "id": "e54b24b4",
   "metadata": {},
   "outputs": [],
   "source": [
    "customer_ids = [\n",
    "    'C00004', 'C00007', 'C00015', 'C00016', 'C00020',\n",
    "    'C00010', 'C00006', 'C00001', 'C00003', 'C00014',\n",
    "    'C00001', 'C00001', 'C00005', 'C00008', 'C00013',\n",
    "    'C00004', 'C00017', 'C00019', 'C00002', 'C00008',\n",
    "    'C00021', 'C00022', 'C00006', 'C00018', 'C00018',\n",
    "    'C00010', 'C00016'\n",
    "]\n",
    "\n",
    "subtotals = [\n",
    "    15.98, 899.97, 799.97, 117.96, 5.99,\n",
    "    599.99, 24.99, 1799.94, 99.99, 254.95,\n",
    "    29.98, 99.99, 25.98, 649.98, 89.99,\n",
    "    119.99, 599.99, 649.98, 24.99, 99.99,\n",
    "    99.99, 5.99, 24.99, 999.96, 99.99,\n",
    "    399.97, 89.99\n",
    "]"
   ]
  },
  {
   "cell_type": "markdown",
   "id": "ed60efa9",
   "metadata": {},
   "source": [
    "### Calculate the Average Transaction\n",
    "\n",
    "Calculate the average value of the transactions in the list  `subtotals`.\n",
    "\n",
    "We don't have an average function, so we might need to use sum() and len() to do so. "
   ]
  },
  {
   "cell_type": "code",
   "execution_count": 24,
   "id": "3b02869e",
   "metadata": {},
   "outputs": [
    {
     "data": {
      "text/plain": [
       "[15.98,\n",
       " 899.97,\n",
       " 799.97,\n",
       " 117.96,\n",
       " 5.99,\n",
       " 599.99,\n",
       " 24.99,\n",
       " 1799.94,\n",
       " 99.99,\n",
       " 254.95,\n",
       " 29.98,\n",
       " 99.99,\n",
       " 25.98,\n",
       " 649.98,\n",
       " 89.99,\n",
       " 119.99,\n",
       " 599.99,\n",
       " 649.98,\n",
       " 24.99,\n",
       " 99.99,\n",
       " 99.99,\n",
       " 5.99,\n",
       " 24.99,\n",
       " 999.96,\n",
       " 99.99,\n",
       " 399.97,\n",
       " 89.99]"
      ]
     },
     "execution_count": 24,
     "metadata": {},
     "output_type": "execute_result"
    }
   ],
   "source": [
    "subtotals"
   ]
  },
  {
   "cell_type": "code",
   "execution_count": 25,
   "id": "d9f33325",
   "metadata": {},
   "outputs": [],
   "source": [
    "sum_of_all = sum(subtotals)"
   ]
  },
  {
   "cell_type": "code",
   "execution_count": 26,
   "id": "f9d99776",
   "metadata": {},
   "outputs": [
    {
     "data": {
      "text/plain": [
       "8731.469999999996"
      ]
     },
     "execution_count": 26,
     "metadata": {},
     "output_type": "execute_result"
    }
   ],
   "source": [
    "sum_of_all"
   ]
  },
  {
   "cell_type": "code",
   "execution_count": 27,
   "id": "ec7fdecd",
   "metadata": {},
   "outputs": [],
   "source": [
    "no_of_elements =len(subtotals)"
   ]
  },
  {
   "cell_type": "code",
   "execution_count": 28,
   "id": "563545b8",
   "metadata": {},
   "outputs": [
    {
     "data": {
      "text/plain": [
       "27"
      ]
     },
     "execution_count": 28,
     "metadata": {},
     "output_type": "execute_result"
    }
   ],
   "source": [
    "no_of_elements"
   ]
  },
  {
   "cell_type": "code",
   "execution_count": 29,
   "id": "12454232",
   "metadata": {},
   "outputs": [],
   "source": [
    "average_transaction = sum_of_all / no_of_elements"
   ]
  },
  {
   "cell_type": "code",
   "execution_count": 30,
   "id": "665d0df2",
   "metadata": {},
   "outputs": [
    {
     "name": "stdout",
     "output_type": "stream",
     "text": [
      "average transaction 323.3877777777776\n"
     ]
    }
   ],
   "source": [
    "print(\"average transaction\",average_transaction)"
   ]
  },
  {
   "cell_type": "markdown",
   "id": "e6c55430",
   "metadata": {},
   "source": [
    "### Customer Deep Dive\n",
    "\n",
    "How many transactions did customer C00010 make?"
   ]
  },
  {
   "cell_type": "code",
   "execution_count": 31,
   "id": "37ca7385",
   "metadata": {},
   "outputs": [
    {
     "data": {
      "text/plain": [
       "['C00004',\n",
       " 'C00007',\n",
       " 'C00015',\n",
       " 'C00016',\n",
       " 'C00020',\n",
       " 'C00010',\n",
       " 'C00006',\n",
       " 'C00001',\n",
       " 'C00003',\n",
       " 'C00014',\n",
       " 'C00001',\n",
       " 'C00001',\n",
       " 'C00005',\n",
       " 'C00008',\n",
       " 'C00013',\n",
       " 'C00004',\n",
       " 'C00017',\n",
       " 'C00019',\n",
       " 'C00002',\n",
       " 'C00008',\n",
       " 'C00021',\n",
       " 'C00022',\n",
       " 'C00006',\n",
       " 'C00018',\n",
       " 'C00018',\n",
       " 'C00010',\n",
       " 'C00016']"
      ]
     },
     "execution_count": 31,
     "metadata": {},
     "output_type": "execute_result"
    }
   ],
   "source": [
    "customer_ids"
   ]
  },
  {
   "cell_type": "code",
   "execution_count": 32,
   "id": "20afdc37",
   "metadata": {},
   "outputs": [],
   "source": [
    "no_of_transaction = customer_ids.count(\"C00010\")"
   ]
  },
  {
   "cell_type": "code",
   "execution_count": 33,
   "id": "bf81f47c",
   "metadata": {},
   "outputs": [
    {
     "name": "stdout",
     "output_type": "stream",
     "text": [
      "customer C00010 make transaction 2 times\n"
     ]
    }
   ],
   "source": [
    "print(\"customer C00010 make transaction\",no_of_transaction,\"times\")"
   ]
  },
  {
   "cell_type": "markdown",
   "id": "1ca97d41",
   "metadata": {},
   "source": [
    "What is the index of customer C00010's first transaction?"
   ]
  },
  {
   "cell_type": "code",
   "execution_count": 35,
   "id": "620693ce",
   "metadata": {},
   "outputs": [
    {
     "data": {
      "text/plain": [
       "5"
      ]
     },
     "execution_count": 35,
     "metadata": {},
     "output_type": "execute_result"
    }
   ],
   "source": [
    "customer_ids.index(\"C00010\")"
   ]
  },
  {
   "cell_type": "markdown",
   "id": "044614ff",
   "metadata": {},
   "source": [
    "What is the revenue of C00010's first transaction? \n",
    "\n",
    "We will need to index `subtotals` using the index returned in the last question."
   ]
  },
  {
   "cell_type": "code",
   "execution_count": 39,
   "id": "0637dd2d",
   "metadata": {},
   "outputs": [
    {
     "data": {
      "text/plain": [
       "599.99"
      ]
     },
     "execution_count": 39,
     "metadata": {},
     "output_type": "execute_result"
    }
   ],
   "source": [
    "subtotals[5]"
   ]
  },
  {
   "cell_type": "code",
   "execution_count": 41,
   "id": "acd83e39",
   "metadata": {},
   "outputs": [
    {
     "name": "stdout",
     "output_type": "stream",
     "text": [
      "revenue of C00010 first transaction: 599.99\n"
     ]
    }
   ],
   "source": [
    "print(\"revenue of C00010 first transaction:\",subtotals[customer_ids.index(\"C00010\")])"
   ]
  },
  {
   "cell_type": "markdown",
   "id": "d1d7e722",
   "metadata": {},
   "source": [
    "***"
   ]
  },
  {
   "cell_type": "markdown",
   "id": "d39be91c",
   "metadata": {},
   "source": [
    "## Nested list"
   ]
  },
  {
   "cell_type": "markdown",
   "id": "bb91eb9b",
   "metadata": {},
   "source": [
    "List stored as a element of another list is known as nested list"
   ]
  },
  {
   "cell_type": "code",
   "execution_count": 94,
   "id": "57287616",
   "metadata": {},
   "outputs": [],
   "source": [
    "list_list = [[1,2,3],\n",
    "            [4,5,6],\n",
    "            [7,8,9]]"
   ]
  },
  {
   "cell_type": "code",
   "execution_count": 95,
   "id": "42f0afa9",
   "metadata": {},
   "outputs": [
    {
     "data": {
      "text/plain": [
       "[[1, 2, 3], [4, 5, 6], [7, 8, 9]]"
      ]
     },
     "execution_count": 95,
     "metadata": {},
     "output_type": "execute_result"
    }
   ],
   "source": [
    "list_list"
   ]
  },
  {
   "cell_type": "code",
   "execution_count": 96,
   "id": "e5784463",
   "metadata": {},
   "outputs": [
    {
     "data": {
      "text/plain": [
       "[1, 2, 3]"
      ]
     },
     "execution_count": 96,
     "metadata": {},
     "output_type": "execute_result"
    }
   ],
   "source": [
    "list_list[0]"
   ]
  },
  {
   "cell_type": "code",
   "execution_count": 97,
   "id": "bbe05de8",
   "metadata": {},
   "outputs": [
    {
     "data": {
      "text/plain": [
       "1"
      ]
     },
     "execution_count": 97,
     "metadata": {},
     "output_type": "execute_result"
    }
   ],
   "source": [
    "list_list[0][0]"
   ]
  },
  {
   "cell_type": "code",
   "execution_count": 98,
   "id": "0aed546c",
   "metadata": {},
   "outputs": [
    {
     "data": {
      "text/plain": [
       "3"
      ]
     },
     "execution_count": 98,
     "metadata": {},
     "output_type": "execute_result"
    }
   ],
   "source": [
    "list_list[0][2]"
   ]
  },
  {
   "cell_type": "markdown",
   "id": "66692a78",
   "metadata": {},
   "source": [
    "**List methods and functions** will work with nested lists"
   ]
  },
  {
   "cell_type": "code",
   "execution_count": 99,
   "id": "de4981e8",
   "metadata": {},
   "outputs": [],
   "source": [
    "list_list1 =[['a','b','c'],\n",
    "             ['cat','dog'],\n",
    "             ['hen','goat']]"
   ]
  },
  {
   "cell_type": "code",
   "execution_count": 100,
   "id": "9373ee80",
   "metadata": {},
   "outputs": [
    {
     "data": {
      "text/plain": [
       "[['a', 'b', 'c'], ['cat', 'dog'], ['hen', 'goat']]"
      ]
     },
     "execution_count": 100,
     "metadata": {},
     "output_type": "execute_result"
    }
   ],
   "source": [
    "list_list1"
   ]
  },
  {
   "cell_type": "code",
   "execution_count": 101,
   "id": "278d62c2",
   "metadata": {},
   "outputs": [],
   "source": [
    "list_list1[1].append('k')"
   ]
  },
  {
   "cell_type": "code",
   "execution_count": 102,
   "id": "1dc78605",
   "metadata": {},
   "outputs": [
    {
     "data": {
      "text/plain": [
       "[['a', 'b', 'c'], ['cat', 'dog', 'k'], ['hen', 'goat']]"
      ]
     },
     "execution_count": 102,
     "metadata": {},
     "output_type": "execute_result"
    }
   ],
   "source": [
    "list_list1"
   ]
  },
  {
   "cell_type": "code",
   "execution_count": 103,
   "id": "b58b2196",
   "metadata": {},
   "outputs": [],
   "source": [
    "list_list1.append('a')"
   ]
  },
  {
   "cell_type": "code",
   "execution_count": 104,
   "id": "c42920a2",
   "metadata": {},
   "outputs": [
    {
     "data": {
      "text/plain": [
       "[['a', 'b', 'c'], ['cat', 'dog', 'k'], ['hen', 'goat'], 'a']"
      ]
     },
     "execution_count": 104,
     "metadata": {},
     "output_type": "execute_result"
    }
   ],
   "source": [
    "list_list1"
   ]
  },
  {
   "cell_type": "code",
   "execution_count": 105,
   "id": "36bd53a4",
   "metadata": {},
   "outputs": [
    {
     "data": {
      "text/plain": [
       "1"
      ]
     },
     "execution_count": 105,
     "metadata": {},
     "output_type": "execute_result"
    }
   ],
   "source": [
    "list_list1.count('a')"
   ]
  },
  {
   "cell_type": "code",
   "execution_count": 106,
   "id": "815014da",
   "metadata": {},
   "outputs": [],
   "source": [
    "list_list1[0].append('a')"
   ]
  },
  {
   "cell_type": "code",
   "execution_count": 107,
   "id": "0e4b05c6",
   "metadata": {},
   "outputs": [
    {
     "data": {
      "text/plain": [
       "[['a', 'b', 'c', 'a'], ['cat', 'dog', 'k'], ['hen', 'goat'], 'a']"
      ]
     },
     "execution_count": 107,
     "metadata": {},
     "output_type": "execute_result"
    }
   ],
   "source": [
    "list_list1"
   ]
  },
  {
   "cell_type": "code",
   "execution_count": 108,
   "id": "db89bc54",
   "metadata": {},
   "outputs": [
    {
     "data": {
      "text/plain": [
       "2"
      ]
     },
     "execution_count": 108,
     "metadata": {},
     "output_type": "execute_result"
    }
   ],
   "source": [
    "list_list1[0].count('a')"
   ]
  },
  {
   "cell_type": "code",
   "execution_count": 109,
   "id": "2c997c09",
   "metadata": {},
   "outputs": [
    {
     "data": {
      "text/plain": [
       "1"
      ]
     },
     "execution_count": 109,
     "metadata": {},
     "output_type": "execute_result"
    }
   ],
   "source": [
    "list_list1.count('a')"
   ]
  },
  {
   "cell_type": "markdown",
   "id": "5c46ee11",
   "metadata": {},
   "source": [
    "***"
   ]
  },
  {
   "cell_type": "markdown",
   "id": "6263beca",
   "metadata": {},
   "source": [
    "## Copying lists"
   ]
  },
  {
   "cell_type": "markdown",
   "id": "8572c1ec",
   "metadata": {},
   "source": [
    "There are three way to copy list:\n",
    "1. Variable assignment -assigning a list to  a new variable create a view\n",
    "2. .copy() -applying this method to a list create a shallow copy\n",
    "3. deepcopy() -using this function on a list create entirely independent list"
   ]
  },
  {
   "cell_type": "markdown",
   "id": "2e000523",
   "metadata": {},
   "source": [
    "### Variable assignment"
   ]
  },
  {
   "cell_type": "code",
   "execution_count": 110,
   "id": "ff0346bf",
   "metadata": {},
   "outputs": [
    {
     "data": {
      "text/plain": [
       "[['a', 'b', 'c', 'a'], ['cat', 'dog', 'k'], ['hen', 'goat'], 'a']"
      ]
     },
     "execution_count": 110,
     "metadata": {},
     "output_type": "execute_result"
    }
   ],
   "source": [
    "list_list1 #original list"
   ]
  },
  {
   "cell_type": "code",
   "execution_count": 111,
   "id": "7e1d572e",
   "metadata": {},
   "outputs": [],
   "source": [
    "#copy the list using variable assignment\n",
    "copy1 =list_list1"
   ]
  },
  {
   "cell_type": "code",
   "execution_count": 112,
   "id": "8cdb7bdb",
   "metadata": {},
   "outputs": [
    {
     "data": {
      "text/plain": [
       "[['a', 'b', 'c', 'a'], ['cat', 'dog', 'k'], ['hen', 'goat'], 'a']"
      ]
     },
     "execution_count": 112,
     "metadata": {},
     "output_type": "execute_result"
    }
   ],
   "source": [
    "copy1 #copied list"
   ]
  },
  {
   "cell_type": "code",
   "execution_count": 113,
   "id": "95ae32af",
   "metadata": {},
   "outputs": [],
   "source": [
    "#changing the element in original list\n",
    "list_list1[1].append('rat')"
   ]
  },
  {
   "cell_type": "code",
   "execution_count": 114,
   "id": "f5f4cdb5",
   "metadata": {},
   "outputs": [
    {
     "data": {
      "text/plain": [
       "[['a', 'b', 'c', 'a'], ['cat', 'dog', 'k', 'rat'], ['hen', 'goat'], 'a']"
      ]
     },
     "execution_count": 114,
     "metadata": {},
     "output_type": "execute_result"
    }
   ],
   "source": [
    "list_list1"
   ]
  },
  {
   "cell_type": "code",
   "execution_count": 115,
   "id": "0ff40fa3",
   "metadata": {},
   "outputs": [
    {
     "data": {
      "text/plain": [
       "[['a', 'b', 'c', 'a'], ['cat', 'dog', 'k', 'rat'], ['hen', 'goat'], 'a']"
      ]
     },
     "execution_count": 115,
     "metadata": {},
     "output_type": "execute_result"
    }
   ],
   "source": [
    "copy1 #original list change will reflect in copied list"
   ]
  },
  {
   "cell_type": "code",
   "execution_count": 116,
   "id": "eb746938",
   "metadata": {},
   "outputs": [],
   "source": [
    "#note in variable assignment \n",
    "#Both variable point to the same object in memory\n",
    "#changing the element in one list will result in change in other"
   ]
  },
  {
   "cell_type": "markdown",
   "id": "614eb91d",
   "metadata": {},
   "source": [
    "###  .copy()"
   ]
  },
  {
   "cell_type": "code",
   "execution_count": 117,
   "id": "cb0bdd1d",
   "metadata": {},
   "outputs": [],
   "source": [
    "main =[[1,2,3,4],[5,6,7],[8,9,10]]"
   ]
  },
  {
   "cell_type": "code",
   "execution_count": 118,
   "id": "c6a3ec80",
   "metadata": {},
   "outputs": [
    {
     "data": {
      "text/plain": [
       "[[1, 2, 3, 4], [5, 6, 7], [8, 9, 10]]"
      ]
     },
     "execution_count": 118,
     "metadata": {},
     "output_type": "execute_result"
    }
   ],
   "source": [
    "main"
   ]
  },
  {
   "cell_type": "code",
   "execution_count": 119,
   "id": "9f96a1e7",
   "metadata": {},
   "outputs": [],
   "source": [
    "shallow_copy = main.copy()"
   ]
  },
  {
   "cell_type": "code",
   "execution_count": 120,
   "id": "f4da8cfb",
   "metadata": {},
   "outputs": [
    {
     "data": {
      "text/plain": [
       "[[1, 2, 3, 4], [5, 6, 7], [8, 9, 10]]"
      ]
     },
     "execution_count": 120,
     "metadata": {},
     "output_type": "execute_result"
    }
   ],
   "source": [
    "shallow_copy"
   ]
  },
  {
   "cell_type": "code",
   "execution_count": 121,
   "id": "bee64fc8",
   "metadata": {},
   "outputs": [],
   "source": [
    "main.append([11,12])"
   ]
  },
  {
   "cell_type": "code",
   "execution_count": 122,
   "id": "de6cd296",
   "metadata": {},
   "outputs": [
    {
     "data": {
      "text/plain": [
       "[[1, 2, 3, 4], [5, 6, 7], [8, 9, 10], [11, 12]]"
      ]
     },
     "execution_count": 122,
     "metadata": {},
     "output_type": "execute_result"
    }
   ],
   "source": [
    "main"
   ]
  },
  {
   "cell_type": "code",
   "execution_count": 123,
   "id": "9e2a1753",
   "metadata": {},
   "outputs": [
    {
     "data": {
      "text/plain": [
       "[[1, 2, 3, 4], [5, 6, 7], [8, 9, 10]]"
      ]
     },
     "execution_count": 123,
     "metadata": {},
     "output_type": "execute_result"
    }
   ],
   "source": [
    "shallow_copy"
   ]
  },
  {
   "cell_type": "code",
   "execution_count": 124,
   "id": "a6256764",
   "metadata": {},
   "outputs": [],
   "source": [
    "main[0][2] ='GGGG'"
   ]
  },
  {
   "cell_type": "code",
   "execution_count": 126,
   "id": "a43bae85",
   "metadata": {},
   "outputs": [
    {
     "data": {
      "text/plain": [
       "[[1, 2, 'GGGG', 4], [5, 6, 7], [8, 9, 10], [11, 12]]"
      ]
     },
     "execution_count": 126,
     "metadata": {},
     "output_type": "execute_result"
    }
   ],
   "source": [
    "main"
   ]
  },
  {
   "cell_type": "code",
   "execution_count": 127,
   "id": "390b1ac4",
   "metadata": {},
   "outputs": [
    {
     "data": {
      "text/plain": [
       "[[1, 2, 'GGGG', 4], [5, 6, 7], [8, 9, 10]]"
      ]
     },
     "execution_count": 127,
     "metadata": {},
     "output_type": "execute_result"
    }
   ],
   "source": [
    "shallow_copy"
   ]
  },
  {
   "cell_type": "markdown",
   "id": "946a486f",
   "metadata": {},
   "source": [
    "### deepcopy"
   ]
  },
  {
   "cell_type": "code",
   "execution_count": 28,
   "id": "04c215ba",
   "metadata": {},
   "outputs": [],
   "source": [
    "from copy import deepcopy"
   ]
  },
  {
   "cell_type": "code",
   "execution_count": 131,
   "id": "282491b6",
   "metadata": {},
   "outputs": [],
   "source": [
    "main1 =[[1,2,3,4],[5,6,7],[8,9,10]]"
   ]
  },
  {
   "cell_type": "code",
   "execution_count": 132,
   "id": "2f39a74f",
   "metadata": {},
   "outputs": [
    {
     "data": {
      "text/plain": [
       "[[1, 2, 3, 4], [5, 6, 7], [8, 9, 10]]"
      ]
     },
     "execution_count": 132,
     "metadata": {},
     "output_type": "execute_result"
    }
   ],
   "source": [
    "main1"
   ]
  },
  {
   "cell_type": "code",
   "execution_count": 135,
   "id": "50ff2e83",
   "metadata": {},
   "outputs": [],
   "source": [
    "deep_copy =deepcopy(main1)"
   ]
  },
  {
   "cell_type": "code",
   "execution_count": 136,
   "id": "442cc627",
   "metadata": {},
   "outputs": [
    {
     "data": {
      "text/plain": [
       "[[1, 2, 3, 4], [5, 6, 7], [8, 9, 10]]"
      ]
     },
     "execution_count": 136,
     "metadata": {},
     "output_type": "execute_result"
    }
   ],
   "source": [
    "deep_copy"
   ]
  },
  {
   "cell_type": "code",
   "execution_count": 137,
   "id": "b2d321c1",
   "metadata": {},
   "outputs": [],
   "source": [
    "main1.append([11,13])"
   ]
  },
  {
   "cell_type": "code",
   "execution_count": 138,
   "id": "d3058260",
   "metadata": {},
   "outputs": [
    {
     "data": {
      "text/plain": [
       "[[1, 2, 3, 4], [5, 6, 7], [8, 9, 10], [11, 13]]"
      ]
     },
     "execution_count": 138,
     "metadata": {},
     "output_type": "execute_result"
    }
   ],
   "source": [
    "main1"
   ]
  },
  {
   "cell_type": "code",
   "execution_count": 139,
   "id": "78868565",
   "metadata": {},
   "outputs": [
    {
     "data": {
      "text/plain": [
       "[[1, 2, 3, 4], [5, 6, 7], [8, 9, 10]]"
      ]
     },
     "execution_count": 139,
     "metadata": {},
     "output_type": "execute_result"
    }
   ],
   "source": [
    "deep_copy"
   ]
  },
  {
   "cell_type": "code",
   "execution_count": 140,
   "id": "126d4308",
   "metadata": {},
   "outputs": [],
   "source": [
    "main1[0][2] = 'changing'"
   ]
  },
  {
   "cell_type": "code",
   "execution_count": 141,
   "id": "80099cb3",
   "metadata": {},
   "outputs": [
    {
     "data": {
      "text/plain": [
       "[[1, 2, 'changing', 4], [5, 6, 7], [8, 9, 10], [11, 13]]"
      ]
     },
     "execution_count": 141,
     "metadata": {},
     "output_type": "execute_result"
    }
   ],
   "source": [
    "main1"
   ]
  },
  {
   "cell_type": "code",
   "execution_count": 143,
   "id": "c30135a8",
   "metadata": {},
   "outputs": [
    {
     "data": {
      "text/plain": [
       "[[1, 2, 3, 4], [5, 6, 7], [8, 9, 10]]"
      ]
     },
     "execution_count": 143,
     "metadata": {},
     "output_type": "execute_result"
    }
   ],
   "source": [
    "deep_copy"
   ]
  },
  {
   "cell_type": "markdown",
   "id": "6da50628",
   "metadata": {},
   "source": [
    "***"
   ]
  },
  {
   "cell_type": "markdown",
   "id": "871194cd",
   "metadata": {},
   "source": [
    "## Task 4: Nested list and copying"
   ]
  },
  {
   "cell_type": "markdown",
   "id": "6290f58c",
   "metadata": {},
   "source": [
    "### Multi Order Customers\n",
    "\n",
    "We want to understand our multi order customers. \n",
    "\n",
    "Below are lists of transactions made by our companies that made multiple orders this weekend."
   ]
  },
  {
   "cell_type": "code",
   "execution_count": 160,
   "id": "9b441048",
   "metadata": {},
   "outputs": [],
   "source": [
    "orders_c00001 = [1799.94, 29.98, 99.99]\n",
    "orders_c00004 = [15.98, 119.99]\n",
    "orders_c00006 = [24.99, 24.99]\n",
    "orders_c00008 = [649.99, 99.99]\n",
    "orders_c00010 = [599.99, 399.97]"
   ]
  },
  {
   "cell_type": "markdown",
   "id": "9922626c",
   "metadata": {},
   "source": [
    "### VIP List \n",
    "\n",
    "Create a nested list where each element is one of the customer transaction lists above, called `vip_list`\n"
   ]
  },
  {
   "cell_type": "code",
   "execution_count": 161,
   "id": "c3a68aa3",
   "metadata": {},
   "outputs": [],
   "source": [
    "vip_list = [orders_c00001,orders_c00004,orders_c00006,orders_c00008,orders_c00010]"
   ]
  },
  {
   "cell_type": "code",
   "execution_count": 162,
   "id": "ef08bdf7",
   "metadata": {},
   "outputs": [
    {
     "data": {
      "text/plain": [
       "[[1799.94, 29.98, 99.99],\n",
       " [15.98, 119.99],\n",
       " [24.99, 24.99],\n",
       " [649.99, 99.99],\n",
       " [599.99, 399.97]]"
      ]
     },
     "execution_count": 162,
     "metadata": {},
     "output_type": "execute_result"
    }
   ],
   "source": [
    "vip_list"
   ]
  },
  {
   "cell_type": "markdown",
   "id": "0f007d67",
   "metadata": {},
   "source": [
    "Some of us are curious about customer C00001, given that they made three transactions.\n",
    "\n",
    "Report the second and third transactions they made."
   ]
  },
  {
   "cell_type": "code",
   "execution_count": 163,
   "id": "5573a4cb",
   "metadata": {},
   "outputs": [],
   "source": [
    "customer_1 =vip_list[0][1:3]"
   ]
  },
  {
   "cell_type": "code",
   "execution_count": 164,
   "id": "e298694a",
   "metadata": {},
   "outputs": [
    {
     "name": "stdout",
     "output_type": "stream",
     "text": [
      "second and third transaction [29.98, 99.99]\n"
     ]
    }
   ],
   "source": [
    "print(\"second and third transaction\",customer_1)"
   ]
  },
  {
   "cell_type": "markdown",
   "id": "f671fe9c",
   "metadata": {},
   "source": [
    "### Revenue Adjusted List\n",
    "\n",
    "We need to make a copy of our `vip_list`. We need to change an entire list inside that we DON'T want reflected in `vip_list`. \n",
    "\n",
    "Call the copy `revenue_adjusted_list`."
   ]
  },
  {
   "cell_type": "code",
   "execution_count": 165,
   "id": "259e3d26",
   "metadata": {},
   "outputs": [],
   "source": [
    "revenue_adjusted_list = deepcopy(vip_list)"
   ]
  },
  {
   "cell_type": "code",
   "execution_count": 166,
   "id": "464ad8f7",
   "metadata": {},
   "outputs": [
    {
     "data": {
      "text/plain": [
       "[[1799.94, 29.98, 99.99],\n",
       " [15.98, 119.99],\n",
       " [24.99, 24.99],\n",
       " [649.99, 99.99],\n",
       " [599.99, 399.97]]"
      ]
     },
     "execution_count": 166,
     "metadata": {},
     "output_type": "execute_result"
    }
   ],
   "source": [
    "revenue_adjusted_list"
   ]
  },
  {
   "cell_type": "markdown",
   "id": "ec0f005c",
   "metadata": {},
   "source": [
    "Once you have your copy, change both of customer C00004's transaction values to 0.0.\n",
    "\n",
    "These were gifts and shouldn't be recorded as revenue. Make sure to confirm `vip_list` hasn't changed!"
   ]
  },
  {
   "cell_type": "code",
   "execution_count": 167,
   "id": "1764edef",
   "metadata": {},
   "outputs": [
    {
     "data": {
      "text/plain": [
       "[[1799.94, 29.98, 99.99],\n",
       " [15.98, 119.99],\n",
       " [24.99, 24.99],\n",
       " [649.99, 99.99],\n",
       " [599.99, 399.97]]"
      ]
     },
     "execution_count": 167,
     "metadata": {},
     "output_type": "execute_result"
    }
   ],
   "source": [
    "vip_list"
   ]
  },
  {
   "cell_type": "code",
   "execution_count": 168,
   "id": "69070bec",
   "metadata": {},
   "outputs": [],
   "source": [
    "orders_c00004 =[0.0,0.0]"
   ]
  },
  {
   "cell_type": "code",
   "execution_count": 169,
   "id": "6478e55b",
   "metadata": {},
   "outputs": [],
   "source": [
    "revenue_adjusted_list[1] = [0.0,0.0]"
   ]
  },
  {
   "cell_type": "code",
   "execution_count": 170,
   "id": "c3897360",
   "metadata": {},
   "outputs": [
    {
     "data": {
      "text/plain": [
       "[[1799.94, 29.98, 99.99],\n",
       " [15.98, 119.99],\n",
       " [24.99, 24.99],\n",
       " [649.99, 99.99],\n",
       " [599.99, 399.97]]"
      ]
     },
     "execution_count": 170,
     "metadata": {},
     "output_type": "execute_result"
    }
   ],
   "source": [
    "vip_list"
   ]
  },
  {
   "cell_type": "code",
   "execution_count": 171,
   "id": "4f0cfbe3",
   "metadata": {},
   "outputs": [
    {
     "data": {
      "text/plain": [
       "[[1799.94, 29.98, 99.99],\n",
       " [0.0, 0.0],\n",
       " [24.99, 24.99],\n",
       " [649.99, 99.99],\n",
       " [599.99, 399.97]]"
      ]
     },
     "execution_count": 171,
     "metadata": {},
     "output_type": "execute_result"
    }
   ],
   "source": [
    "revenue_adjusted_list"
   ]
  },
  {
   "cell_type": "code",
   "execution_count": 1,
   "id": "7be8ab39",
   "metadata": {},
   "outputs": [],
   "source": [
    "number = [[1,2,2,8],[5,6,7,8],[10,100,150]]"
   ]
  },
  {
   "cell_type": "code",
   "execution_count": 2,
   "id": "93d5d8ea",
   "metadata": {},
   "outputs": [],
   "source": [
    "copy_number = number"
   ]
  },
  {
   "cell_type": "code",
   "execution_count": 3,
   "id": "bb0b0d5f",
   "metadata": {},
   "outputs": [
    {
     "data": {
      "text/plain": [
       "[[1, 2, 2, 8], [5, 6, 7, 8], [10, 100, 150]]"
      ]
     },
     "execution_count": 3,
     "metadata": {},
     "output_type": "execute_result"
    }
   ],
   "source": [
    "copy_number"
   ]
  },
  {
   "cell_type": "code",
   "execution_count": 4,
   "id": "2293e573",
   "metadata": {},
   "outputs": [
    {
     "name": "stdout",
     "output_type": "stream",
     "text": [
      "id of number--> 2285997831808\n",
      "id of copy_number 2285997831808\n"
     ]
    }
   ],
   "source": [
    "print(\"id of number-->\",id(number))\n",
    "print(\"id of copy_number-->\",id(copy_number))"
   ]
  },
  {
   "cell_type": "code",
   "execution_count": 6,
   "id": "62c88c64",
   "metadata": {},
   "outputs": [
    {
     "name": "stdout",
     "output_type": "stream",
     "text": [
      "[[1, 2, 2, 8], [5, 6, 7, 8], [10, 100, 150]]\n",
      "[[1, 2, 2, 8], [5, 6, 7, 8], [10, 100, 150]]\n"
     ]
    }
   ],
   "source": [
    "print(number)\n",
    "print(copy_number)"
   ]
  },
  {
   "cell_type": "code",
   "execution_count": 7,
   "id": "d798bc3e",
   "metadata": {},
   "outputs": [],
   "source": [
    "copy_number.append([90,99,199])"
   ]
  },
  {
   "cell_type": "code",
   "execution_count": 8,
   "id": "47551623",
   "metadata": {},
   "outputs": [
    {
     "data": {
      "text/plain": [
       "[[1, 2, 2, 8], [5, 6, 7, 8], [10, 100, 150], [90, 99, 199]]"
      ]
     },
     "execution_count": 8,
     "metadata": {},
     "output_type": "execute_result"
    }
   ],
   "source": [
    "copy_number"
   ]
  },
  {
   "cell_type": "code",
   "execution_count": 9,
   "id": "72b8c037",
   "metadata": {},
   "outputs": [
    {
     "data": {
      "text/plain": [
       "[[1, 2, 2, 8], [5, 6, 7, 8], [10, 100, 150], [90, 99, 199]]"
      ]
     },
     "execution_count": 9,
     "metadata": {},
     "output_type": "execute_result"
    }
   ],
   "source": [
    "number"
   ]
  },
  {
   "cell_type": "code",
   "execution_count": 10,
   "id": "80c254cd",
   "metadata": {},
   "outputs": [],
   "source": [
    "copy_number[0][2] ='two'"
   ]
  },
  {
   "cell_type": "code",
   "execution_count": 11,
   "id": "123dd6fa",
   "metadata": {},
   "outputs": [
    {
     "name": "stdout",
     "output_type": "stream",
     "text": [
      "[[1, 2, 'two', 8], [5, 6, 7, 8], [10, 100, 150], [90, 99, 199]]\n",
      "[[1, 2, 'two', 8], [5, 6, 7, 8], [10, 100, 150], [90, 99, 199]]\n"
     ]
    }
   ],
   "source": [
    "print(number)\n",
    "print(copy_number)"
   ]
  },
  {
   "cell_type": "code",
   "execution_count": 12,
   "id": "30ea79ac",
   "metadata": {},
   "outputs": [
    {
     "data": {
      "text/plain": [
       "[[1, 2, 'two', 8], [5, 6, 7, 8], [10, 100, 150], [90, 99, 199]]"
      ]
     },
     "execution_count": 12,
     "metadata": {},
     "output_type": "execute_result"
    }
   ],
   "source": [
    "number"
   ]
  },
  {
   "cell_type": "code",
   "execution_count": 15,
   "id": "2299f557",
   "metadata": {},
   "outputs": [
    {
     "data": {
      "text/plain": [
       "[[1, 2, 'two', 8], [5, 6, 7, 8], [10, 100, 150], [90, 99, 199]]"
      ]
     },
     "execution_count": 15,
     "metadata": {},
     "output_type": "execute_result"
    }
   ],
   "source": [
    "#shallow copy\n",
    "shallow_number = number.copy()\n",
    "shallow_number"
   ]
  },
  {
   "cell_type": "code",
   "execution_count": 18,
   "id": "462bfada",
   "metadata": {},
   "outputs": [
    {
     "name": "stdout",
     "output_type": "stream",
     "text": [
      "number id 2285997831808\n",
      "shallow number id 2286026385472\n"
     ]
    }
   ],
   "source": [
    "print(\"number id\",id(number))\n",
    "print(\"shallow number id\",id(shallow_number))"
   ]
  },
  {
   "cell_type": "code",
   "execution_count": 19,
   "id": "38afc704",
   "metadata": {},
   "outputs": [],
   "source": [
    "shallow_number.append(['five','six'])"
   ]
  },
  {
   "cell_type": "code",
   "execution_count": 21,
   "id": "0f44fedc",
   "metadata": {},
   "outputs": [
    {
     "name": "stdout",
     "output_type": "stream",
     "text": [
      "[[1, 2, 'two', 8], [5, 6, 7, 8], [10, 100, 150], [90, 99, 199], ['five', 'six']]\n"
     ]
    }
   ],
   "source": [
    "print(shallow_number)"
   ]
  },
  {
   "cell_type": "code",
   "execution_count": 22,
   "id": "9b37bcf8",
   "metadata": {},
   "outputs": [
    {
     "name": "stdout",
     "output_type": "stream",
     "text": [
      "[[1, 2, 'two', 8], [5, 6, 7, 8], [10, 100, 150], [90, 99, 199]]\n"
     ]
    }
   ],
   "source": [
    "print(number)"
   ]
  },
  {
   "cell_type": "code",
   "execution_count": 23,
   "id": "ac00d351",
   "metadata": {},
   "outputs": [],
   "source": [
    "shallow_number[0][1] =\"change to two\""
   ]
  },
  {
   "cell_type": "code",
   "execution_count": 24,
   "id": "04fcd948",
   "metadata": {},
   "outputs": [
    {
     "name": "stdout",
     "output_type": "stream",
     "text": [
      "[[1, 'change to two', 'two', 8], [5, 6, 7, 8], [10, 100, 150], [90, 99, 199], ['five', 'six']]\n",
      "[[1, 'change to two', 'two', 8], [5, 6, 7, 8], [10, 100, 150], [90, 99, 199]]\n"
     ]
    }
   ],
   "source": [
    "print(shallow_number)\n",
    "print(number)"
   ]
  },
  {
   "cell_type": "code",
   "execution_count": 25,
   "id": "d440896c",
   "metadata": {},
   "outputs": [
    {
     "data": {
      "text/plain": [
       "[[1, 'change to two', 'two', 8], [5, 6, 7, 8], [10, 100, 150], [90, 99, 199]]"
      ]
     },
     "execution_count": 25,
     "metadata": {},
     "output_type": "execute_result"
    }
   ],
   "source": [
    "#deep copy\n",
    "number "
   ]
  },
  {
   "cell_type": "code",
   "execution_count": 30,
   "id": "3a99c9d2",
   "metadata": {},
   "outputs": [],
   "source": [
    "deep_number = deepcopy(number)"
   ]
  },
  {
   "cell_type": "code",
   "execution_count": 31,
   "id": "ff62d4f8",
   "metadata": {},
   "outputs": [
    {
     "data": {
      "text/plain": [
       "[[1, 'change to two', 'two', 8], [5, 6, 7, 8], [10, 100, 150], [90, 99, 199]]"
      ]
     },
     "execution_count": 31,
     "metadata": {},
     "output_type": "execute_result"
    }
   ],
   "source": [
    "deep_number"
   ]
  },
  {
   "cell_type": "code",
   "execution_count": 32,
   "id": "db31c8c7",
   "metadata": {},
   "outputs": [
    {
     "name": "stdout",
     "output_type": "stream",
     "text": [
      "number id: 2285997831808\n",
      "deep number: 2286026906560\n"
     ]
    }
   ],
   "source": [
    "print(\"number id:\",id(number))\n",
    "print(\"deep number:\",id(deep_number))"
   ]
  },
  {
   "cell_type": "code",
   "execution_count": 33,
   "id": "fe5b0835",
   "metadata": {},
   "outputs": [
    {
     "data": {
      "text/plain": [
       "[[1, 'change to three', 'two', 8], [5, 6, 7, 8], [10, 100, 150], [90, 99, 199]]"
      ]
     },
     "execution_count": 33,
     "metadata": {},
     "output_type": "execute_result"
    }
   ],
   "source": [
    "deep_number[0][1] =\"change to three\"\n",
    "deep_number"
   ]
  },
  {
   "cell_type": "code",
   "execution_count": 34,
   "id": "fdd40c10",
   "metadata": {},
   "outputs": [
    {
     "data": {
      "text/plain": [
       "[[1, 'change to two', 'two', 8], [5, 6, 7, 8], [10, 100, 150], [90, 99, 199]]"
      ]
     },
     "execution_count": 34,
     "metadata": {},
     "output_type": "execute_result"
    }
   ],
   "source": [
    "number"
   ]
  },
  {
   "cell_type": "code",
   "execution_count": 35,
   "id": "a0f1510d",
   "metadata": {},
   "outputs": [],
   "source": [
    "deep_number.append([88,'eight'])"
   ]
  },
  {
   "cell_type": "code",
   "execution_count": 36,
   "id": "6fb52af8",
   "metadata": {},
   "outputs": [
    {
     "data": {
      "text/plain": [
       "[[1, 'change to three', 'two', 8],\n",
       " [5, 6, 7, 8],\n",
       " [10, 100, 150],\n",
       " [90, 99, 199],\n",
       " [88, 'eight']]"
      ]
     },
     "execution_count": 36,
     "metadata": {},
     "output_type": "execute_result"
    }
   ],
   "source": [
    "deep_number"
   ]
  },
  {
   "cell_type": "code",
   "execution_count": 37,
   "id": "57ece5ce",
   "metadata": {},
   "outputs": [
    {
     "data": {
      "text/plain": [
       "[[1, 'change to two', 'two', 8], [5, 6, 7, 8], [10, 100, 150], [90, 99, 199]]"
      ]
     },
     "execution_count": 37,
     "metadata": {},
     "output_type": "execute_result"
    }
   ],
   "source": [
    "number"
   ]
  },
  {
   "cell_type": "code",
   "execution_count": 38,
   "id": "c2e15230",
   "metadata": {},
   "outputs": [],
   "source": [
    "number[0][0] ='one'"
   ]
  },
  {
   "cell_type": "code",
   "execution_count": 39,
   "id": "f90b064c",
   "metadata": {},
   "outputs": [
    {
     "data": {
      "text/plain": [
       "[['one', 'change to two', 'two', 8],\n",
       " [5, 6, 7, 8],\n",
       " [10, 100, 150],\n",
       " [90, 99, 199]]"
      ]
     },
     "execution_count": 39,
     "metadata": {},
     "output_type": "execute_result"
    }
   ],
   "source": [
    "number\n"
   ]
  },
  {
   "cell_type": "code",
   "execution_count": 40,
   "id": "5dfc8bc1",
   "metadata": {},
   "outputs": [
    {
     "data": {
      "text/plain": [
       "[[1, 'change to three', 'two', 8],\n",
       " [5, 6, 7, 8],\n",
       " [10, 100, 150],\n",
       " [90, 99, 199],\n",
       " [88, 'eight']]"
      ]
     },
     "execution_count": 40,
     "metadata": {},
     "output_type": "execute_result"
    }
   ],
   "source": [
    "deep_number"
   ]
  },
  {
   "cell_type": "code",
   "execution_count": 41,
   "id": "2eba64d1",
   "metadata": {},
   "outputs": [
    {
     "data": {
      "text/plain": [
       "[['one', 'change to two', 'two', 8],\n",
       " [5, 6, 7, 8],\n",
       " [10, 100, 150],\n",
       " [90, 99, 199],\n",
       " ['five', 'six']]"
      ]
     },
     "execution_count": 41,
     "metadata": {},
     "output_type": "execute_result"
    }
   ],
   "source": [
    "shallow_number"
   ]
  },
  {
   "cell_type": "markdown",
   "id": "0f5ac22a",
   "metadata": {},
   "source": [
    "***"
   ]
  },
  {
   "cell_type": "markdown",
   "id": "11121d96",
   "metadata": {},
   "source": [
    "## Tuples"
   ]
  },
  {
   "cell_type": "markdown",
   "id": "3d423077",
   "metadata": {},
   "source": [
    "Tuples are iterable data type capable of storing many individual items\n",
    "1. Tuples are similar to list except they are immutable.\n",
    "2. Tuple items can still be any data type,but they cannot be added,change or removed"
   ]
  },
  {
   "cell_type": "code",
   "execution_count": 42,
   "id": "ef7723d2",
   "metadata": {},
   "outputs": [],
   "source": [
    "item_tuple =('box','wood','wool','helmet')"
   ]
  },
  {
   "cell_type": "code",
   "execution_count": 43,
   "id": "f8ebe6b1",
   "metadata": {},
   "outputs": [
    {
     "data": {
      "text/plain": [
       "('box', 'wood', 'wool', 'helmet')"
      ]
     },
     "execution_count": 43,
     "metadata": {},
     "output_type": "execute_result"
    }
   ],
   "source": [
    "item_tuple\n"
   ]
  },
  {
   "cell_type": "code",
   "execution_count": 44,
   "id": "a735eefd",
   "metadata": {},
   "outputs": [
    {
     "data": {
      "text/plain": [
       "tuple"
      ]
     },
     "execution_count": 44,
     "metadata": {},
     "output_type": "execute_result"
    }
   ],
   "source": [
    "type(item_tuple)"
   ]
  },
  {
   "cell_type": "code",
   "execution_count": 45,
   "id": "a2b3e306",
   "metadata": {},
   "outputs": [
    {
     "data": {
      "text/plain": [
       "'wool'"
      ]
     },
     "execution_count": 45,
     "metadata": {},
     "output_type": "execute_result"
    }
   ],
   "source": [
    "item_tuple[2]"
   ]
  },
  {
   "cell_type": "code",
   "execution_count": 47,
   "id": "d21e71b9",
   "metadata": {},
   "outputs": [
    {
     "data": {
      "text/plain": [
       "2"
      ]
     },
     "execution_count": 47,
     "metadata": {},
     "output_type": "execute_result"
    }
   ],
   "source": [
    "item_tuple.index('wool')"
   ]
  },
  {
   "cell_type": "code",
   "execution_count": 48,
   "id": "aaa68064",
   "metadata": {},
   "outputs": [
    {
     "data": {
      "text/plain": [
       "4"
      ]
     },
     "execution_count": 48,
     "metadata": {},
     "output_type": "execute_result"
    }
   ],
   "source": [
    "len(item_tuple)"
   ]
  },
  {
   "cell_type": "markdown",
   "id": "bd7869b1",
   "metadata": {},
   "source": [
    "## Why use tuples\n",
    "\n",
    "1. Tuples require less memory than a list.\n",
    "2. Tuple exected twice as fast as list\n",
    "3. Tuple resduce user error by preventing modification to data."
   ]
  },
  {
   "cell_type": "markdown",
   "id": "7413bff9",
   "metadata": {},
   "source": [
    "***"
   ]
  },
  {
   "cell_type": "markdown",
   "id": "8d694bee",
   "metadata": {},
   "source": [
    "## Task 5: Tuples"
   ]
  },
  {
   "cell_type": "markdown",
   "id": "8416af50",
   "metadata": {},
   "source": [
    "### Sales Tax\n",
    "\n",
    "We need to calculate the sales taxes for our customer that made three transactions in `multi_order_customers` below.\n",
    "\n",
    "(The customer that made three transactions was customer C00001). Run this cell to create the list."
   ]
  },
  {
   "cell_type": "code",
   "execution_count": 49,
   "id": "4e3e9716",
   "metadata": {},
   "outputs": [],
   "source": [
    "multi_order_customers = [\n",
    "    [1799.94, 29.98, 99.99],\n",
    "    [15.98, 119.99],\n",
    "    [24.99, 24.99],\n",
    "    [649.99, 99.99],\n",
    "    [599.99, 399.97]\n",
    "]"
   ]
  },
  {
   "cell_type": "markdown",
   "id": "856a7fca",
   "metadata": {},
   "source": [
    "Create a tuple from the first element in the `multi_order_customers`.\n",
    "\n",
    "Unpack this tuple into the variables `transaction1`, `transaction2`, and `transaction3`.\n",
    "\n",
    "Once you've have separated the transactions, calculate the tax of .08 rounded to 2 decimals and print it."
   ]
  },
  {
   "cell_type": "code",
   "execution_count": 53,
   "id": "f15f5088",
   "metadata": {},
   "outputs": [],
   "source": [
    "first_elements = multi_order_customers[0]"
   ]
  },
  {
   "cell_type": "code",
   "execution_count": 54,
   "id": "6596fcdc",
   "metadata": {},
   "outputs": [
    {
     "data": {
      "text/plain": [
       "[1799.94, 29.98, 99.99]"
      ]
     },
     "execution_count": 54,
     "metadata": {},
     "output_type": "execute_result"
    }
   ],
   "source": [
    "first_elements"
   ]
  },
  {
   "cell_type": "code",
   "execution_count": 55,
   "id": "158fd287",
   "metadata": {},
   "outputs": [],
   "source": [
    "first_elements =tuple(first_elements)"
   ]
  },
  {
   "cell_type": "code",
   "execution_count": 56,
   "id": "542accb8",
   "metadata": {},
   "outputs": [
    {
     "data": {
      "text/plain": [
       "(1799.94, 29.98, 99.99)"
      ]
     },
     "execution_count": 56,
     "metadata": {},
     "output_type": "execute_result"
    }
   ],
   "source": [
    "first_elements"
   ]
  },
  {
   "cell_type": "code",
   "execution_count": 59,
   "id": "0dd0ab02",
   "metadata": {},
   "outputs": [],
   "source": [
    "#unpack tuples\n",
    "transaction1,transaction2,transaction3 = first_elements"
   ]
  },
  {
   "cell_type": "code",
   "execution_count": 60,
   "id": "a713042f",
   "metadata": {},
   "outputs": [
    {
     "name": "stdout",
     "output_type": "stream",
     "text": [
      "1799.94\n",
      "29.98\n",
      "99.99\n"
     ]
    }
   ],
   "source": [
    "print(transaction1)\n",
    "print(transaction2)\n",
    "print(transaction3)"
   ]
  },
  {
   "cell_type": "code",
   "execution_count": 63,
   "id": "11492971",
   "metadata": {},
   "outputs": [
    {
     "name": "stdout",
     "output_type": "stream",
     "text": [
      "tax for transaction1 --> 144.0\n",
      "tax for transaction2 --> 2.4\n",
      "tax for transaction3 --> 8.0\n"
     ]
    }
   ],
   "source": [
    "print(\"tax for transaction1 -->\",round(transaction1 * 0.08,2))\n",
    "print(\"tax for transaction2 -->\",round(transaction2 * 0.08,2))\n",
    "print(\"tax for transaction3 -->\",round(transaction3 * 0.08,2))"
   ]
  },
  {
   "cell_type": "markdown",
   "id": "a7fe309c",
   "metadata": {},
   "source": [
    "***"
   ]
  },
  {
   "cell_type": "markdown",
   "id": "880b69ba",
   "metadata": {},
   "source": [
    "## Ranges"
   ]
  },
  {
   "cell_type": "markdown",
   "id": "17dc179d",
   "metadata": {},
   "source": [
    "**Ranges** are sequence of integer seperated by start,stop,step size\n",
    "1. They are more efficient than tuples,since they don't generate the integer until needed.\n",
    "2. They save time,as you don't need to write the list of integers manually in the code.\n",
    "3. Ranges are commonly used with loops."
   ]
  },
  {
   "cell_type": "code",
   "execution_count": 64,
   "id": "2760668e",
   "metadata": {},
   "outputs": [],
   "source": [
    "range_item = range(1,10,1)"
   ]
  },
  {
   "cell_type": "code",
   "execution_count": 66,
   "id": "1ce51e70",
   "metadata": {},
   "outputs": [
    {
     "name": "stdout",
     "output_type": "stream",
     "text": [
      "range(1, 10)\n"
     ]
    }
   ],
   "source": [
    "print(range_item) # Note printing the range does not return integer"
   ]
  },
  {
   "cell_type": "code",
   "execution_count": 67,
   "id": "655dc345",
   "metadata": {},
   "outputs": [
    {
     "name": "stdout",
     "output_type": "stream",
     "text": [
      "[1, 2, 3, 4, 5, 6, 7, 8, 9]\n"
     ]
    }
   ],
   "source": [
    "print(list(range_item))"
   ]
  },
  {
   "cell_type": "code",
   "execution_count": 68,
   "id": "b79f17de",
   "metadata": {},
   "outputs": [
    {
     "data": {
      "text/plain": [
       "9"
      ]
     },
     "execution_count": 68,
     "metadata": {},
     "output_type": "execute_result"
    }
   ],
   "source": [
    "len(range_item)"
   ]
  },
  {
   "cell_type": "code",
   "execution_count": 69,
   "id": "8562f95c",
   "metadata": {},
   "outputs": [
    {
     "name": "stdout",
     "output_type": "stream",
     "text": [
      "(1, 2, 3, 4, 5, 6, 7, 8, 9)\n"
     ]
    }
   ],
   "source": [
    "print(tuple(range_item))"
   ]
  },
  {
   "cell_type": "code",
   "execution_count": 70,
   "id": "c9c98b09",
   "metadata": {},
   "outputs": [],
   "source": [
    "range2 =range(1,10,2)\n"
   ]
  },
  {
   "cell_type": "code",
   "execution_count": 71,
   "id": "077b686c",
   "metadata": {},
   "outputs": [
    {
     "data": {
      "text/plain": [
       "range(1, 10, 2)"
      ]
     },
     "execution_count": 71,
     "metadata": {},
     "output_type": "execute_result"
    }
   ],
   "source": [
    "range2"
   ]
  },
  {
   "cell_type": "code",
   "execution_count": 73,
   "id": "0710b571",
   "metadata": {},
   "outputs": [
    {
     "name": "stdout",
     "output_type": "stream",
     "text": [
      "[1, 3, 5, 7, 9]\n"
     ]
    }
   ],
   "source": [
    "print(list(range2))"
   ]
  },
  {
   "cell_type": "markdown",
   "id": "9b826e41",
   "metadata": {},
   "source": [
    "***"
   ]
  },
  {
   "cell_type": "markdown",
   "id": "f56f9f72",
   "metadata": {},
   "source": [
    "## Task 6:Ranges"
   ]
  },
  {
   "cell_type": "markdown",
   "id": "569af16c",
   "metadata": {},
   "source": [
    "### Customer Promos\n",
    "\n",
    "1. We're working on some fun promotional giveaways for our next big sale.\n",
    "\n",
    "2. We want to generate a few different sequences of lucky numbers - customers who get lucky will receive a keychain, coffee mug, or beanie!\n",
    "\n",
    "3. Coffee mugs will be given to even numbered vistors in our first 10 visitors, please generate a sequence of even integers between 1 and 10."
   ]
  },
  {
   "cell_type": "code",
   "execution_count": 81,
   "id": "8c070c1f",
   "metadata": {},
   "outputs": [
    {
     "name": "stdout",
     "output_type": "stream",
     "text": [
      "customer receive keychain: [2, 4, 6, 8, 10]\n"
     ]
    }
   ],
   "source": [
    "even_customer =range(2,12,2)\n",
    "print(\"customer receive keychain:\",list(even_customer))"
   ]
  },
  {
   "cell_type": "code",
   "execution_count": 82,
   "id": "9cf31cfa",
   "metadata": {},
   "outputs": [
    {
     "name": "stdout",
     "output_type": "stream",
     "text": [
      "customer receive mug: [1, 3, 5, 7, 9]\n"
     ]
    }
   ],
   "source": [
    "odd_customer =range(1,10,2)\n",
    "print(\"customer receive mug:\",list(odd_customer))"
   ]
  },
  {
   "cell_type": "markdown",
   "id": "01d9176a",
   "metadata": {},
   "source": [
    "Finally, every 7th customer in our first 100 vistors will receive a beanie.\n",
    "\n",
    "Generate a sequence of integers containing multiples of 7 from 1 to 100. "
   ]
  },
  {
   "cell_type": "code",
   "execution_count": 84,
   "id": "2156d371",
   "metadata": {},
   "outputs": [
    {
     "name": "stdout",
     "output_type": "stream",
     "text": [
      "Customer receive beanie: [7, 14, 21, 28, 35, 42, 49, 56, 63, 70, 77, 84, 91, 98]\n"
     ]
    }
   ],
   "source": [
    "generate_7th =range(7,100,7)\n",
    "print(\"Customer receive beanie:\",list(generate_7th))"
   ]
  },
  {
   "cell_type": "markdown",
   "id": "c44eb9b2",
   "metadata": {},
   "source": [
    "***"
   ]
  },
  {
   "cell_type": "markdown",
   "id": "49bd85de",
   "metadata": {},
   "source": [
    "### Note:\n",
    "<span style =\"color:purple\">1. **List and Tuples** are sequence data types capable of storing many values.<br>\n",
    "    2. Use **Indexing and Slicing** to access and modify list elements.<br>\n",
    "    3. List and tuples have many Built in **Functions and Methods** to make working with sequences easier.\n"
   ]
  },
  {
   "cell_type": "code",
   "execution_count": null,
   "id": "142d4a5b",
   "metadata": {},
   "outputs": [],
   "source": []
  }
 ],
 "metadata": {
  "kernelspec": {
   "display_name": "Python 3 (ipykernel)",
   "language": "python",
   "name": "python3"
  },
  "language_info": {
   "codemirror_mode": {
    "name": "ipython",
    "version": 3
   },
   "file_extension": ".py",
   "mimetype": "text/x-python",
   "name": "python",
   "nbconvert_exporter": "python",
   "pygments_lexer": "ipython3",
   "version": "3.10.9"
  }
 },
 "nbformat": 4,
 "nbformat_minor": 5
}
