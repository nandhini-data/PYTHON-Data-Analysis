{
 "cells": [
  {
   "cell_type": "markdown",
   "id": "35cbe627",
   "metadata": {},
   "source": [
    "# <center>Loops</center>"
   ]
  },
  {
   "cell_type": "markdown",
   "id": "3d45410c",
   "metadata": {},
   "source": [
    "* [<span style='color:purple'>**Introduction**](#Introduction)\n",
    "* [<span style='color:purple'>**For Loops**](#For-Loops)\n",
    "* [<span style='color:purple'>**Looping over items**](#Looping-over-items)\n",
    "* [<span style='color:purple'>**Looping over indices**](#Looping-over-indices)\n",
    "* [<span style='color:purple'>**Looping over multiple iterables**](#Looping-over-multiple-iterables)\n",
    "* [<span style='color:purple'>**Enumerate**](#Enumerate)\n",
    "    * [<span style='color:purple'>Task 1:For loops](#Task-1:For-loops)\n",
    "    * [<span style='color:purple'>Task 2:Enumerate](#Task-2:Enumerate)\n",
    "* [<span style='color:purple'>**While Loops**](#While-Loops)\n",
    "    * [<span style='color:purple'>Task 3:While loops](#Task-3:While-loops)\n",
    "* [<span style='color:purple'>**Nested loop**](#Nested-loop)\n",
    "    * [<span style='color:purple'>Task 4:Nested loop](#Task-4:Nested-loop)\n",
    "* [<span style='color:purple'>**Loop control**](#Loop-control)\n",
    "    * [<span style='color:purple'>Task 5:Loop control](#Task-5:Loop-control)\n",
    "* [<span style='color:purple'>**Note:**](#Note:)"
   ]
  },
  {
   "cell_type": "markdown",
   "id": "1c3e3058",
   "metadata": {},
   "source": [
    "## <center>Introduction</center>"
   ]
  },
  {
   "cell_type": "markdown",
   "id": "27d95433",
   "metadata": {},
   "source": [
    "**Loop** is a block of code that will repeat until a given condition met.<br>\n",
    "There are two types of loops:<br>\n",
    "\n",
    "**For Loops**\n",
    "1. Run a specified amount of time.\n",
    "2. This often correspond with the length of list,tuple or any other iterable data type.<br>\n",
    "\n",
    "**while Loops**\n",
    "1. Run until the logical condition met.\n",
    "2. Should be used when you don't know how many times the code should run."
   ]
  },
  {
   "cell_type": "markdown",
   "id": "1ad45615",
   "metadata": {},
   "source": [
    "***"
   ]
  },
  {
   "cell_type": "markdown",
   "id": "92b60624",
   "metadata": {},
   "source": [
    "## For Loops"
   ]
  },
  {
   "cell_type": "code",
   "execution_count": 2,
   "id": "504e5480",
   "metadata": {},
   "outputs": [],
   "source": [
    "name ='nan'"
   ]
  },
  {
   "cell_type": "code",
   "execution_count": 3,
   "id": "0d08a0c8",
   "metadata": {},
   "outputs": [
    {
     "name": "stdout",
     "output_type": "stream",
     "text": [
      "nan\n",
      "nan\n",
      "nan\n"
     ]
    }
   ],
   "source": [
    "#to print name for 3 time \n",
    "print(name)\n",
    "print(name)\n",
    "print(name)"
   ]
  },
  {
   "cell_type": "code",
   "execution_count": 5,
   "id": "8b56f3a8",
   "metadata": {},
   "outputs": [
    {
     "name": "stdout",
     "output_type": "stream",
     "text": [
      "nan\n",
      "nan\n",
      "nan\n",
      "nan\n"
     ]
    }
   ],
   "source": [
    "#to print this name for three time we can use for loop\n",
    "\n",
    "for i in name:\n",
    "    print(name)\n"
   ]
  },
  {
   "cell_type": "code",
   "execution_count": 6,
   "id": "90901e39",
   "metadata": {},
   "outputs": [
    {
     "name": "stdout",
     "output_type": "stream",
     "text": [
      "nan\n",
      "nan\n",
      "nan\n",
      "nan\n",
      "nan\n"
     ]
    }
   ],
   "source": [
    "#same name have to be repeated for 5 times\n",
    "n =range(1,6)\n",
    "for i in n:\n",
    "    print(name)"
   ]
  },
  {
   "cell_type": "code",
   "execution_count": 7,
   "id": "3f2ee3f8",
   "metadata": {},
   "outputs": [
    {
     "data": {
      "text/plain": [
       "5.39"
      ]
     },
     "execution_count": 7,
     "metadata": {},
     "output_type": "execute_result"
    }
   ],
   "source": [
    "exchange = 0.90\n",
    "usd_list =[5.99,9.99,24.99]\n",
    "\n",
    "round(usd_list[0] * 0.90,2)"
   ]
  },
  {
   "cell_type": "code",
   "execution_count": 15,
   "id": "c76ca651",
   "metadata": {},
   "outputs": [
    {
     "name": "stdout",
     "output_type": "stream",
     "text": [
      "[5.39, 8.99, 22.49]\n"
     ]
    }
   ],
   "source": [
    "# to multiple all the element in the list with exchange and add in a new list\n",
    "euro_list =[]\n",
    "for i in usd_list:\n",
    "    euro_list.append(round(i *exchange,2))\n",
    "print(euro_list)"
   ]
  },
  {
   "cell_type": "code",
   "execution_count": 18,
   "id": "4d739d58",
   "metadata": {},
   "outputs": [
    {
     "name": "stdout",
     "output_type": "stream",
     "text": [
      "Current value: 1\n",
      "Current value: 2\n",
      "Current value: 3\n",
      "Current value: 4\n",
      "Current value: 5\n",
      "Current value: 6\n",
      "Current value: 7\n",
      "Current value: 8\n",
      "Current value: 9\n",
      "Current value: 10\n"
     ]
    }
   ],
   "source": [
    "# print number from 1 to 10\n",
    "\n",
    "number = range(1,11)\n",
    "\n",
    "for x in number:\n",
    "    print(\"Current value:\",x)"
   ]
  },
  {
   "cell_type": "code",
   "execution_count": 19,
   "id": "8c3a2ef3",
   "metadata": {},
   "outputs": [
    {
     "name": "stdout",
     "output_type": "stream",
     "text": [
      "h\n",
      "e\n",
      "l\n",
      "l\n",
      "o\n",
      " \n",
      "w\n",
      "o\n",
      "r\n",
      "l\n",
      "d\n"
     ]
    }
   ],
   "source": [
    "var1 ='hello world'\n",
    "\n",
    "for x in var1:\n",
    "    print(x)"
   ]
  },
  {
   "cell_type": "code",
   "execution_count": 22,
   "id": "55b89a0a",
   "metadata": {},
   "outputs": [
    {
     "name": "stdout",
     "output_type": "stream",
     "text": [
      "hello\n",
      "hello world\n"
     ]
    }
   ],
   "source": [
    "print(var1[0:5])\n",
    "print(var1[0:len(var1)])"
   ]
  },
  {
   "cell_type": "code",
   "execution_count": 23,
   "id": "20a3c336",
   "metadata": {},
   "outputs": [
    {
     "data": {
      "text/plain": [
       "'hello world'"
      ]
     },
     "execution_count": 23,
     "metadata": {},
     "output_type": "execute_result"
    }
   ],
   "source": [
    "var1"
   ]
  },
  {
   "cell_type": "code",
   "execution_count": 24,
   "id": "d1c8a737",
   "metadata": {},
   "outputs": [
    {
     "data": {
      "text/plain": [
       "'h'"
      ]
     },
     "execution_count": 24,
     "metadata": {},
     "output_type": "execute_result"
    }
   ],
   "source": [
    "var1[0]"
   ]
  },
  {
   "cell_type": "code",
   "execution_count": 33,
   "id": "aa43661e",
   "metadata": {},
   "outputs": [
    {
     "data": {
      "text/plain": [
       "'hello worl'"
      ]
     },
     "execution_count": 33,
     "metadata": {},
     "output_type": "execute_result"
    }
   ],
   "source": [
    "var1[:10]"
   ]
  },
  {
   "cell_type": "code",
   "execution_count": 26,
   "id": "e5909d60",
   "metadata": {},
   "outputs": [
    {
     "data": {
      "text/plain": [
       "11"
      ]
     },
     "execution_count": 26,
     "metadata": {},
     "output_type": "execute_result"
    }
   ],
   "source": [
    "len(var1)"
   ]
  },
  {
   "cell_type": "code",
   "execution_count": 42,
   "id": "d65685d5",
   "metadata": {},
   "outputs": [
    {
     "name": "stdout",
     "output_type": "stream",
     "text": [
      "hello world\n",
      "hello world\n",
      "hello world\n",
      "hello world\n",
      "hello world\n",
      "hello world\n",
      "hello world\n",
      "hello world\n",
      "hello world\n",
      "hello world\n",
      "hello world\n"
     ]
    }
   ],
   "source": [
    "for i in var1:\n",
    "    print(var1)"
   ]
  },
  {
   "cell_type": "code",
   "execution_count": 47,
   "id": "c5143b7b",
   "metadata": {},
   "outputs": [
    {
     "name": "stdout",
     "output_type": "stream",
     "text": [
      "h\n",
      "e\n",
      "l\n",
      "l\n",
      "o\n",
      " \n",
      "w\n",
      "o\n",
      "r\n",
      "l\n",
      "d\n"
     ]
    }
   ],
   "source": [
    "\n",
    "for i in var1:\n",
    "    print(i)"
   ]
  },
  {
   "cell_type": "code",
   "execution_count": 51,
   "id": "d8dc102d",
   "metadata": {},
   "outputs": [
    {
     "name": "stdout",
     "output_type": "stream",
     "text": [
      "h\n",
      "he\n",
      "hel\n"
     ]
    }
   ],
   "source": [
    "print(var1[0:1])\n",
    "print(var1[0:2])\n",
    "print(var1[0:3])"
   ]
  },
  {
   "cell_type": "code",
   "execution_count": 54,
   "id": "88afad5c",
   "metadata": {},
   "outputs": [
    {
     "name": "stdout",
     "output_type": "stream",
     "text": [
      "h\n",
      "he\n",
      "hel\n",
      "hell\n",
      "hello\n",
      "hello \n",
      "hello w\n",
      "hello wo\n",
      "hello wor\n",
      "hello worl\n",
      "hello world\n"
     ]
    }
   ],
   "source": [
    "x=1\n",
    "for i in var1:\n",
    "    print(var1[0:x])\n",
    "    x =x+1"
   ]
  },
  {
   "cell_type": "markdown",
   "id": "280a8466",
   "metadata": {},
   "source": [
    "***"
   ]
  },
  {
   "cell_type": "markdown",
   "id": "e5bdf293",
   "metadata": {},
   "source": [
    "## Looping over items"
   ]
  },
  {
   "cell_type": "code",
   "execution_count": 67,
   "id": "1d0908ec",
   "metadata": {},
   "outputs": [
    {
     "name": "stdout",
     "output_type": "stream",
     "text": [
      "new_list: [8000, 1600, 2400, 3200, 4000, 4800, 5600]\n",
      "sum 29600\n",
      "average 4228.57\n"
     ]
    }
   ],
   "source": [
    "#looping over items\n",
    "\n",
    "list1 =[100,20,30,40,50,60,70]\n",
    "multiplier = 80\n",
    "new_list =[]\n",
    "\n",
    "for i in list1:\n",
    "    new_list.append(i*multiplier)\n",
    "    \n",
    "    \n",
    "print(\"new_list:\",new_list)\n",
    "print(\"sum\",sum(new_list))\n",
    "print(\"average\",round(sum(new_list)/len(new_list),2))"
   ]
  },
  {
   "cell_type": "code",
   "execution_count": 72,
   "id": "d90f79d7",
   "metadata": {},
   "outputs": [
    {
     "name": "stdout",
     "output_type": "stream",
     "text": [
      "100\n",
      "20\n",
      "30\n",
      "40\n",
      "50\n",
      "60\n",
      "70\n"
     ]
    }
   ],
   "source": [
    "for x in list1:\n",
    "    print(x)"
   ]
  },
  {
   "cell_type": "code",
   "execution_count": 81,
   "id": "c02799b3",
   "metadata": {},
   "outputs": [
    {
     "name": "stdout",
     "output_type": "stream",
     "text": [
      "[20, 22, 24, 2, 62, 6, 2, 35, 12, 22]\n"
     ]
    }
   ],
   "source": [
    "list1 =[10,11,12,1,31,3,1,3,1,2]\n",
    "list2 =[10,11,12,1,31,3,1,32,11,20]\n",
    "new_element =[]\n",
    "i=0\n",
    "for x in list1:\n",
    "    new_element.append(list1[i]+list2[i])\n",
    "    i=i+1\n",
    "print(new_element)"
   ]
  },
  {
   "cell_type": "code",
   "execution_count": 18,
   "id": "17f0e740",
   "metadata": {},
   "outputs": [
    {
     "name": "stdout",
     "output_type": "stream",
     "text": [
      "54000\n",
      "60000\n",
      "6600\n",
      "12000\n",
      "18000\n"
     ]
    }
   ],
   "source": [
    "price = 600\n",
    "product = [90,100,11,20,30]\n",
    "\n",
    "#for i in product:\n",
    "    #print(i*price)\n",
    "    \n",
    "for i in range(len(product)):\n",
    "    print(product[i]*price)"
   ]
  },
  {
   "cell_type": "code",
   "execution_count": 12,
   "id": "677ac9a4",
   "metadata": {},
   "outputs": [
    {
     "name": "stdout",
     "output_type": "stream",
     "text": [
      "['box is 5.9', 'pencil is 4.2', 'tree is 3.8']\n"
     ]
    }
   ],
   "source": [
    "list1 = [5.9,4.2,3.8]\n",
    "list2 = ['box','pencil','tree'] \n",
    "new_list = []\n",
    "for i in range(len(list1)):\n",
    "    new_list.append(f\"{list2[i]} is {list1[i]}\")\n",
    "print(new_list)"
   ]
  },
  {
   "cell_type": "markdown",
   "id": "429b7e8a",
   "metadata": {},
   "source": [
    "***"
   ]
  },
  {
   "cell_type": "markdown",
   "id": "86ca7f5b",
   "metadata": {},
   "source": [
    "## Looping over indices"
   ]
  },
  {
   "cell_type": "code",
   "execution_count": null,
   "id": "11a634ae",
   "metadata": {},
   "outputs": [],
   "source": [
    "#looping over indices\n",
    "\n",
    "rate =90\n",
    "list1 = [10,11,8,30,40,50,60,70]\n",
    "empty =[]\n",
    "\n",
    "for x in range(len(list1)):\n",
    "    empty.append(list1[x]*rate)\n",
    "print(empty)"
   ]
  },
  {
   "cell_type": "code",
   "execution_count": 24,
   "id": "bc1b0c84",
   "metadata": {},
   "outputs": [
    {
     "name": "stdout",
     "output_type": "stream",
     "text": [
      "[900, 990, 720, 2700, 3600, 4500, 5400, 6300]\n"
     ]
    }
   ],
   "source": [
    "#looping over items\n",
    "\n",
    "rate =90\n",
    "list1 = [10,11,8,30,40,50,60,70]\n",
    "empty =[]\n",
    "\n",
    "for x in list1:\n",
    "    empty.append(x*rate)\n",
    "print(empty)"
   ]
  },
  {
   "cell_type": "markdown",
   "id": "17435204",
   "metadata": {},
   "source": [
    "***"
   ]
  },
  {
   "cell_type": "markdown",
   "id": "6650b9fb",
   "metadata": {},
   "source": [
    "## Looping over multiple iterables"
   ]
  },
  {
   "cell_type": "code",
   "execution_count": 27,
   "id": "d7683e4c",
   "metadata": {},
   "outputs": [
    {
     "data": {
      "text/plain": [
       "(6, 6)"
      ]
     },
     "execution_count": 27,
     "metadata": {},
     "output_type": "execute_result"
    }
   ],
   "source": [
    "list1 =[60,70,20,50,100,20]\n",
    "items = ['box','pen','pencil','sweet','chocolate','switch']\n",
    "\n",
    "len(list1),len(items)"
   ]
  },
  {
   "cell_type": "code",
   "execution_count": 37,
   "id": "371202e5",
   "metadata": {},
   "outputs": [
    {
     "name": "stdout",
     "output_type": "stream",
     "text": [
      "['box is 60', 'pen is 70', 'pencil is 20', 'sweet is 50', 'chocolate is 100', 'switch is 20']\n"
     ]
    }
   ],
   "source": [
    "new_entry = []\n",
    "for i in range(len(list1)):\n",
    "    new_entry.append(f\"{items[i]} is {list1[i]}\")\n",
    "print(new_entry)"
   ]
  },
  {
   "cell_type": "markdown",
   "id": "4e43ad44",
   "metadata": {},
   "source": [
    "***"
   ]
  },
  {
   "cell_type": "markdown",
   "id": "ef58a7be",
   "metadata": {},
   "source": [
    "## Enumerate\n",
    "\n",
    "**Enumerate** function will return both index and item of each item in an iterable as it loop through."
   ]
  },
  {
   "cell_type": "code",
   "execution_count": 39,
   "id": "9aed9f50",
   "metadata": {},
   "outputs": [
    {
     "name": "stdout",
     "output_type": "stream",
     "text": [
      "(0, 'box')\n",
      "(1, 'pen')\n",
      "(2, 'pencil')\n",
      "(3, 'sweet')\n",
      "(4, 'chocolate')\n",
      "(5, 'switch')\n"
     ]
    }
   ],
   "source": [
    "en_list =enumerate(items)\n",
    "for i in en_list:\n",
    "    print(i)"
   ]
  },
  {
   "cell_type": "code",
   "execution_count": 40,
   "id": "01828429",
   "metadata": {},
   "outputs": [
    {
     "data": {
      "text/plain": [
       "[60, 70, 20, 50, 100, 20]"
      ]
     },
     "execution_count": 40,
     "metadata": {},
     "output_type": "execute_result"
    }
   ],
   "source": [
    "list1"
   ]
  },
  {
   "cell_type": "code",
   "execution_count": 41,
   "id": "76f12850",
   "metadata": {},
   "outputs": [
    {
     "data": {
      "text/plain": [
       "['box', 'pen', 'pencil', 'sweet', 'chocolate', 'switch']"
      ]
     },
     "execution_count": 41,
     "metadata": {},
     "output_type": "execute_result"
    }
   ],
   "source": [
    "items"
   ]
  },
  {
   "cell_type": "code",
   "execution_count": 44,
   "id": "9e44719e",
   "metadata": {},
   "outputs": [
    {
     "name": "stdout",
     "output_type": "stream",
     "text": [
      "box 60\n",
      "pen 70\n",
      "pencil 20\n",
      "sweet 50\n",
      "chocolate 100\n",
      "switch 20\n"
     ]
    }
   ],
   "source": [
    "enumerate_items = enumerate(list1)\n",
    "for index,element in enumerate_items:\n",
    "    print(items[index],element)"
   ]
  },
  {
   "cell_type": "code",
   "execution_count": 23,
   "id": "d12e83b1",
   "metadata": {},
   "outputs": [],
   "source": [
    "price_list = [40,50]\n",
    "product  = ['sale','sale2']"
   ]
  },
  {
   "cell_type": "code",
   "execution_count": 24,
   "id": "0e3b0412",
   "metadata": {},
   "outputs": [],
   "source": [
    "enum_price = enumerate(price_list)"
   ]
  },
  {
   "cell_type": "code",
   "execution_count": 25,
   "id": "5139c5f1",
   "metadata": {},
   "outputs": [
    {
     "name": "stdout",
     "output_type": "stream",
     "text": [
      "sale 40\n",
      "sale2 50\n"
     ]
    }
   ],
   "source": [
    "for index,element in enum_price:\n",
    "    print(product[index],element)"
   ]
  },
  {
   "cell_type": "markdown",
   "id": "dc2e10a4",
   "metadata": {},
   "source": [
    "***"
   ]
  },
  {
   "cell_type": "markdown",
   "id": "99c1ffd8",
   "metadata": {},
   "source": [
    "## Task 1:For loops"
   ]
  },
  {
   "cell_type": "markdown",
   "id": "8817e4eb",
   "metadata": {},
   "source": [
    "### Applying Sales Tax\n",
    "\n",
    "Last weekend our system went down and we didn't have a calculator on site, so we told customers we'd charge them for tax later. \n",
    "\n",
    "The transactions are below."
   ]
  },
  {
   "cell_type": "code",
   "execution_count": 2,
   "id": "e2636ac5",
   "metadata": {},
   "outputs": [],
   "source": [
    "subtotals = [15.98, 899.97, 799.97, 117.96, 5.99, 599.99, 24.99, 1799.94, 99.99]"
   ]
  },
  {
   "cell_type": "code",
   "execution_count": 3,
   "id": "cd315c83",
   "metadata": {},
   "outputs": [
    {
     "data": {
      "text/plain": [
       "[15.98, 899.97, 799.97, 117.96, 5.99, 599.99, 24.99, 1799.94, 99.99]"
      ]
     },
     "execution_count": 3,
     "metadata": {},
     "output_type": "execute_result"
    }
   ],
   "source": [
    "subtotals"
   ]
  },
  {
   "cell_type": "markdown",
   "id": "8c78e7d6",
   "metadata": {},
   "source": [
    "Can you apply sales tax to all of the transactions?\n",
    "\n",
    "The tax rate is 8%. \n",
    "\n",
    "Once we've calculated the taxes, we'll need to add them to their subtotals and calculate the the total invoice value.\n",
    "\n",
    "Your code should produce two lists.\n",
    "\n",
    "* `taxes`:The first should be a list of the tax amounts on each transaction, rounded to the nearest .01.\n",
    "\n",
    "* `totals`: The second should be a list where each element is subtotal[i] + tax[i]"
   ]
  },
  {
   "cell_type": "code",
   "execution_count": 4,
   "id": "618c14a9",
   "metadata": {},
   "outputs": [
    {
     "name": "stdout",
     "output_type": "stream",
     "text": [
      "[1.28, 72.0, 64.0, 9.44, 0.48, 48.0, 2.0, 144.0, 8.0]\n",
      "[17.26, 971.97, 863.97, 127.4, 6.47, 647.99, 26.99, 1943.94, 107.99]\n"
     ]
    }
   ],
   "source": [
    "tax_rate =0.08\n",
    "\n",
    "taxes =[]\n",
    "totals =[]\n",
    "\n",
    "for i in subtotals:\n",
    "    taxes.append(round(i*tax_rate,2))\n",
    "print(taxes)\n",
    "\n",
    "\n",
    "for index,element in enumerate(subtotals):\n",
    "    totals.append(round(element+taxes[index],2))\n",
    "print(totals)\n"
   ]
  },
  {
   "cell_type": "code",
   "execution_count": 5,
   "id": "538c1b56",
   "metadata": {},
   "outputs": [
    {
     "data": {
      "text/plain": [
       "17.26"
      ]
     },
     "execution_count": 5,
     "metadata": {},
     "output_type": "execute_result"
    }
   ],
   "source": [
    "subtotals[0]+taxes[0]"
   ]
  },
  {
   "cell_type": "markdown",
   "id": "0a31feb3",
   "metadata": {},
   "source": [
    "***"
   ]
  },
  {
   "cell_type": "markdown",
   "id": "aaec0cb8",
   "metadata": {},
   "source": [
    "## Task 2:Enumerate"
   ]
  },
  {
   "cell_type": "markdown",
   "id": "3840dfbe",
   "metadata": {},
   "source": [
    "### Sales Tax by State\n",
    "\n",
    "We forgot to account for the fact that different states have different tax rates, so we need to modify our loop we just built. \n",
    "\n",
    "We have a list containing the location of each purchase. The transaction `subtotal[i]` took place at `locations[i]`"
   ]
  },
  {
   "cell_type": "code",
   "execution_count": 6,
   "id": "579325e4",
   "metadata": {},
   "outputs": [
    {
     "name": "stdout",
     "output_type": "stream",
     "text": [
      "subtotals--> [15.98, 899.97, 799.97, 117.96, 5.99, 599.99, 24.99, 1799.94, 99.99]\n",
      "taxes--> [1.28, 72.0, 64.0, 9.44, 0.48, 48.0, 2.0, 144.0, 8.0]\n",
      "totals--> [17.26, 971.97, 863.97, 127.4, 6.47, 647.99, 26.99, 1943.94, 107.99]\n"
     ]
    }
   ],
   "source": [
    "print('subtotals-->',subtotals)\n",
    "print('taxes-->',taxes)\n",
    "print('totals-->',totals)"
   ]
  },
  {
   "cell_type": "code",
   "execution_count": 7,
   "id": "30c72527",
   "metadata": {},
   "outputs": [],
   "source": [
    "location = [\n",
    "    'Sun Valley', 'Stowe', 'Mammoth', 'Stowe', 'Sun Valley', \n",
    "    'Mammoth', 'Mammoth', 'Mammoth', 'Sun Valley'\n",
    "]"
   ]
  },
  {
   "cell_type": "markdown",
   "id": "6a3cb992",
   "metadata": {},
   "source": [
    "The following tax rates should be applied for each location:\n",
    "\n",
    "1. Sun Valley: 8%\n",
    "2. Stowe: 6%\n",
    "3. Mammoth: 7.75%"
   ]
  },
  {
   "cell_type": "code",
   "execution_count": 8,
   "id": "cb91d290",
   "metadata": {},
   "outputs": [],
   "source": [
    "sun_valley_tax = 0.08\n",
    "stowe_tax = 0.06\n",
    "mammoth =0.0775"
   ]
  },
  {
   "cell_type": "code",
   "execution_count": 39,
   "id": "b8930a76",
   "metadata": {},
   "outputs": [
    {
     "name": "stdout",
     "output_type": "stream",
     "text": [
      "[1.28, 54.0, 62.0, 7.08, 0.48, 46.5, 1.94, 139.5, 8.0]\n"
     ]
    }
   ],
   "source": [
    "new_taxes1 =[]\n",
    "new_total2=[]\n",
    "\n",
    "for i,element in enumerate(location):\n",
    "    if element == 'Sun Valley':\n",
    "        new_taxe = round((subtotals[i]*sun_valley_tax),2)\n",
    "        \n",
    "    elif element =='Stowe':\n",
    "        new_taxe =round((subtotals[i]*stowe_tax),2)\n",
    "        \n",
    "    else:\n",
    "        new_taxe=round((subtotals[i]*mammoth),2)\n",
    "        \n",
    "    \n",
    "    new_taxes1.append(new_taxe)\n",
    "    \n",
    "\n",
    "    \n",
    "    \n",
    "print(new_taxes1)"
   ]
  },
  {
   "cell_type": "code",
   "execution_count": 40,
   "id": "3bce0bce",
   "metadata": {},
   "outputs": [
    {
     "name": "stdout",
     "output_type": "stream",
     "text": [
      "[17.26, 953.97, 861.97, 125.04, 6.47, 646.49, 26.93, 1939.44, 107.99]\n"
     ]
    }
   ],
   "source": [
    "for i in range(len(new_taxes1)):\n",
    "    total1 = round(new_taxes[i]+subtotals[i],2)\n",
    "    new_total2.append(total1)\n",
    "print(new_total2)"
   ]
  },
  {
   "cell_type": "code",
   "execution_count": 41,
   "id": "e8a48187",
   "metadata": {},
   "outputs": [
    {
     "name": "stdout",
     "output_type": "stream",
     "text": [
      "taxes --> [1.28, 54.0, 62.0, 7.08, 0.48, 46.5, 1.94, 139.5, 8.0]\n",
      "totals--> [17.26, 953.97, 861.97, 125.04, 6.47, 646.49, 26.93, 1939.44, 107.99]\n"
     ]
    }
   ],
   "source": [
    "print(\"taxes -->\",new_taxes1)\n",
    "print(\"totals-->\",new_total2)"
   ]
  },
  {
   "cell_type": "markdown",
   "id": "ac8c1d89",
   "metadata": {},
   "source": [
    "***"
   ]
  },
  {
   "cell_type": "markdown",
   "id": "0011faef",
   "metadata": {},
   "source": [
    "## While Loops"
   ]
  },
  {
   "cell_type": "markdown",
   "id": "77957e6b",
   "metadata": {},
   "source": [
    "**While Loops** run until the given logical expression is true."
   ]
  },
  {
   "cell_type": "code",
   "execution_count": 2,
   "id": "b59dc149",
   "metadata": {},
   "outputs": [
    {
     "name": "stdout",
     "output_type": "stream",
     "text": [
      "10\n",
      "20\n",
      "30\n",
      "40\n",
      "50\n",
      "60\n",
      "70\n",
      "80\n",
      "90\n"
     ]
    }
   ],
   "source": [
    "i =10\n",
    "while i <100:\n",
    "    print(i)\n",
    "    i =i+10"
   ]
  },
  {
   "cell_type": "code",
   "execution_count": 12,
   "id": "84de6d10",
   "metadata": {},
   "outputs": [
    {
     "name": "stdout",
     "output_type": "stream",
     "text": [
      "python\n",
      "python\n",
      "python\n",
      "python\n",
      "python\n",
      "python\n",
      "python\n",
      "python\n",
      "python\n"
     ]
    }
   ],
   "source": [
    "i=0\n",
    "while i <9:\n",
    "    print(\"python\")\n",
    "    i =i+1\n",
    "    \n",
    "    "
   ]
  },
  {
   "cell_type": "code",
   "execution_count": 10,
   "id": "b32deced",
   "metadata": {},
   "outputs": [
    {
     "name": "stdout",
     "output_type": "stream",
     "text": [
      "python\n",
      "python\n",
      "python\n",
      "python\n",
      "python\n",
      "python\n",
      "python\n",
      "python\n",
      "python\n"
     ]
    }
   ],
   "source": [
    "for x in range(9):\n",
    "    print(\"python\")"
   ]
  },
  {
   "cell_type": "markdown",
   "id": "012913ce",
   "metadata": {},
   "source": [
    "***"
   ]
  },
  {
   "cell_type": "markdown",
   "id": "0766431a",
   "metadata": {},
   "source": [
    "## Task 3:While loops"
   ]
  },
  {
   "cell_type": "markdown",
   "id": "1653c26e",
   "metadata": {},
   "source": [
    "### Calculate Projected Inventory for Each Month\n",
    "\n",
    "We currently have 686 pairs of skis in inventory, and sell 84 each month.\n",
    "\n",
    "Write a program that keeps track of monthly inventory, by subtracting 84 pairs of skis from inventory each month. \n",
    "\n",
    "Your program should print 'At the end of month x, we have y pairs of inventory', where x is the number of months that has gone by and y is the remaining inventory at that month.\n",
    "\n",
    "If inventory goes negative, your program should stop running.\n"
   ]
  },
  {
   "cell_type": "code",
   "execution_count": 38,
   "id": "f0def843",
   "metadata": {},
   "outputs": [],
   "source": [
    "current_inventory = 686\n",
    "monthly_sales = 84\n",
    "month =0"
   ]
  },
  {
   "cell_type": "code",
   "execution_count": 39,
   "id": "0d0aa7a5",
   "metadata": {},
   "outputs": [
    {
     "name": "stdout",
     "output_type": "stream",
     "text": [
      "At the end of month 1,We have 602 pairs of inventory\n",
      "At the end of month 2,We have 518 pairs of inventory\n",
      "At the end of month 3,We have 434 pairs of inventory\n",
      "At the end of month 4,We have 350 pairs of inventory\n",
      "At the end of month 5,We have 266 pairs of inventory\n",
      "At the end of month 6,We have 182 pairs of inventory\n",
      "At the end of month 7,We have 98 pairs of inventory\n",
      "At the end of month 8,We have 14 pairs of inventory\n",
      "At the end of month 9,We have -70 pairs of inventory\n"
     ]
    }
   ],
   "source": [
    "while current_inventory > 0:\n",
    "    current_inventory-= monthly_sales\n",
    "    month =month+1\n",
    "    \n",
    "    print(f\"At the end of month {month},We have {current_inventory} pairs of inventory\")\n",
    "    "
   ]
  },
  {
   "cell_type": "code",
   "execution_count": 45,
   "id": "2e1ffc5a",
   "metadata": {},
   "outputs": [
    {
     "name": "stdout",
     "output_type": "stream",
     "text": [
      "[0, 1, 2, 3]\n"
     ]
    }
   ],
   "source": [
    "#Adding element to the list using while loop\n",
    "my_list =[]\n",
    "i=0\n",
    "while i <4:\n",
    "    my_list.append(i)\n",
    "    i=i+1\n",
    "print(my_list)"
   ]
  },
  {
   "cell_type": "code",
   "execution_count": 48,
   "id": "d291ec57",
   "metadata": {},
   "outputs": [
    {
     "name": "stdout",
     "output_type": "stream",
     "text": [
      "1 2 3 4 5 6 7 8 9 "
     ]
    }
   ],
   "source": [
    "#python while loop to print number series\n",
    "n=1\n",
    "while n<10:\n",
    "    print(n,end =\" \")\n",
    "    n = n+1"
   ]
  },
  {
   "cell_type": "markdown",
   "id": "19e1313b",
   "metadata": {},
   "source": [
    "***"
   ]
  },
  {
   "cell_type": "markdown",
   "id": "33f65765",
   "metadata": {},
   "source": [
    "## Nested loop"
   ]
  },
  {
   "cell_type": "code",
   "execution_count": 3,
   "id": "81cfdefa",
   "metadata": {},
   "outputs": [
    {
     "name": "stdout",
     "output_type": "stream",
     "text": [
      "10   apple\n",
      "10   banana\n",
      "10   grape\n",
      "100   apple\n",
      "100   banana\n",
      "100   grape\n",
      "20   apple\n",
      "20   banana\n",
      "20   grape\n"
     ]
    }
   ],
   "source": [
    "list1 = [10,100,20]\n",
    "items =['apple','banana','grape']\n",
    "\n",
    "for i in list1:\n",
    "    for x in items:\n",
    "        print(i ,\" \",x)"
   ]
  },
  {
   "cell_type": "code",
   "execution_count": 1,
   "id": "20887779",
   "metadata": {},
   "outputs": [],
   "source": [
    "items =['cake','fruits']\n",
    "item_kg =[['1 kg','2 kg'],['10 kg','12 kg']]"
   ]
  },
  {
   "cell_type": "code",
   "execution_count": 2,
   "id": "ff598762",
   "metadata": {},
   "outputs": [
    {
     "data": {
      "text/plain": [
       "[['1 kg', '2 kg'], ['10 kg', '12 kg']]"
      ]
     },
     "execution_count": 2,
     "metadata": {},
     "output_type": "execute_result"
    }
   ],
   "source": [
    "item_kg"
   ]
  },
  {
   "cell_type": "code",
   "execution_count": 19,
   "id": "96d0c359",
   "metadata": {},
   "outputs": [
    {
     "name": "stdout",
     "output_type": "stream",
     "text": [
      "[1, 1]\n"
     ]
    }
   ],
   "source": [
    "\n",
    "\n",
    "for i,element in enumerate(item_kg):\n",
    "    number_kg=[]\n",
    "    for x in element:\n",
    "        number_kg.append(int(x[0]))\n",
    "print(number_kg)"
   ]
  },
  {
   "cell_type": "markdown",
   "id": "2240b265",
   "metadata": {},
   "source": [
    "***"
   ]
  },
  {
   "cell_type": "markdown",
   "id": "735a59aa",
   "metadata": {},
   "source": [
    "## Task 4:Nested loops"
   ]
  },
  {
   "cell_type": "markdown",
   "id": "2d1e0bb8",
   "metadata": {},
   "source": [
    "### Apply Discounts for Multi-Order Customers\n",
    "\n",
    "We need to apply a 10% discount to every transaction in the list below.\n",
    "\n",
    "Assign the discounted transactions to a new list: `discounted_prices`."
   ]
  },
  {
   "cell_type": "code",
   "execution_count": 20,
   "id": "e204245b",
   "metadata": {},
   "outputs": [],
   "source": [
    "orders_c00001 = [1799.94, 29.98, 99.99]\n",
    "orders_c00004 = [15.98, 119.99]\n",
    "orders_c00006 = [24.99, 24.99]\n",
    "orders_c00008 = [649.99, 99.99]\n",
    "orders_c00010 = [599.99, 399.97]\n",
    "\n",
    "multi_order_customers = [\n",
    "    [1799.94, 29.98, 99.99],\n",
    "    [15.98, 119.99],\n",
    "    [24.99, 24.99],\n",
    "    [649.99, 99.99],\n",
    "    [599.99, 399.97]\n",
    "]\n"
   ]
  },
  {
   "cell_type": "code",
   "execution_count": 21,
   "id": "030e67de",
   "metadata": {},
   "outputs": [
    {
     "data": {
      "text/plain": [
       "[[1799.94, 29.98, 99.99],\n",
       " [15.98, 119.99],\n",
       " [24.99, 24.99],\n",
       " [649.99, 99.99],\n",
       " [599.99, 399.97]]"
      ]
     },
     "execution_count": 21,
     "metadata": {},
     "output_type": "execute_result"
    }
   ],
   "source": [
    "multi_order_customers"
   ]
  },
  {
   "cell_type": "code",
   "execution_count": 24,
   "id": "7b4eadfe",
   "metadata": {},
   "outputs": [
    {
     "name": "stdout",
     "output_type": "stream",
     "text": [
      "[0.1, 0.2, 0.3, 0.4]\n"
     ]
    }
   ],
   "source": [
    "\n",
    "discount_list =[]\n",
    "item =[10,20,30,40]\n",
    "for i in item:\n",
    "    discount =i*0.01\n",
    "    discount_list.append(discount)\n",
    "print(discount_list)"
   ]
  },
  {
   "cell_type": "code",
   "execution_count": 40,
   "id": "0c2d2905",
   "metadata": {},
   "outputs": [
    {
     "name": "stdout",
     "output_type": "stream",
     "text": [
      "[[1619.95, 26.98, 89.99], [14.38, 107.99], [22.49, 22.49], [584.99, 89.99], [539.99, 359.97]]\n"
     ]
    }
   ],
   "source": [
    "discounted_price =[]\n",
    "for i in multi_order_customers:\n",
    "    discount_10 =[]\n",
    "    for inner in i:\n",
    "        discount_10.append(round(inner*0.9,2))\n",
    "    discounted_price.append(discount_10)\n",
    "print(discounted_price)"
   ]
  },
  {
   "cell_type": "code",
   "execution_count": 6,
   "id": "eeb76b8c",
   "metadata": {},
   "outputs": [
    {
     "name": "stdout",
     "output_type": "stream",
     "text": [
      "1\n",
      "2\n",
      "4\n",
      "6\n"
     ]
    }
   ],
   "source": [
    "nested_list =[['1 ton','2 ton'],['4 ton','6 ton']]\n",
    "print(nested_list[0][0][0])\n",
    "print(nested_list[0][1][0])\n",
    "print(nested_list[1][0][0])\n",
    "print(nested_list[1][1][0])"
   ]
  },
  {
   "cell_type": "code",
   "execution_count": 10,
   "id": "ec18e26a",
   "metadata": {},
   "outputs": [
    {
     "name": "stdout",
     "output_type": "stream",
     "text": [
      "1\n",
      "2\n",
      "4\n",
      "6\n"
     ]
    }
   ],
   "source": [
    "for x in nested_list:\n",
    "    for inner in x:\n",
    "        print(inner[0])"
   ]
  },
  {
   "cell_type": "markdown",
   "id": "483a7529",
   "metadata": {},
   "source": [
    "***"
   ]
  },
  {
   "cell_type": "markdown",
   "id": "123da29f",
   "metadata": {},
   "source": [
    "## Loop control"
   ]
  },
  {
   "cell_type": "code",
   "execution_count": 14,
   "id": "6741f957",
   "metadata": {},
   "outputs": [
    {
     "name": "stdout",
     "output_type": "stream",
     "text": [
      "[100, 200]\n"
     ]
    }
   ],
   "source": [
    "subtotal =[100,200,300,400,400,600,60,70,10]\n",
    "new_subtotal =[]\n",
    "\n",
    "for x in subtotal:\n",
    "    if x >250:\n",
    "        break\n",
    "    new_subtotal.append(x)\n",
    "print(new_subtotal)"
   ]
  },
  {
   "cell_type": "code",
   "execution_count": 15,
   "id": "91b1c1d1",
   "metadata": {},
   "outputs": [
    {
     "name": "stdout",
     "output_type": "stream",
     "text": [
      "[100, 200, 60, 70, 10]\n"
     ]
    }
   ],
   "source": [
    "subtotal1 =[]\n",
    "\n",
    "for y in subtotal:\n",
    "    if y >250:\n",
    "        continue\n",
    "    subtotal1.append(y)\n",
    "print(subtotal1)"
   ]
  },
  {
   "cell_type": "code",
   "execution_count": 23,
   "id": "756bfba6",
   "metadata": {},
   "outputs": [
    {
     "name": "stdout",
     "output_type": "stream",
     "text": [
      "200\n",
      "400\n"
     ]
    }
   ],
   "source": [
    "revenue = 100\n",
    "for sub in subtotal:\n",
    "    revenue +=sub\n",
    "    if revenue >500:\n",
    "        break\n",
    "    print(revenue)"
   ]
  },
  {
   "cell_type": "code",
   "execution_count": 28,
   "id": "0a6aa5c7",
   "metadata": {},
   "outputs": [
    {
     "name": "stdout",
     "output_type": "stream",
     "text": [
      "['snow-basic', 'snow-extreme', 'snow-comfort']\n"
     ]
    }
   ],
   "source": [
    "item =['ski-extreme','snow-basic','snow-extreme','snow-comfort']\n",
    "snow =[] \n",
    "\n",
    "for items in item:\n",
    "    if 'snow' in items:\n",
    "        snow.append(items)\n",
    "print(snow)"
   ]
  },
  {
   "cell_type": "code",
   "execution_count": 33,
   "id": "0906a005",
   "metadata": {},
   "outputs": [
    {
     "name": "stdout",
     "output_type": "stream",
     "text": [
      " 0.29950000000000004 is the percentage\n"
     ]
    },
    {
     "ename": "TypeError",
     "evalue": "can't multiply sequence by non-int of type 'float'",
     "output_type": "error",
     "traceback": [
      "\u001b[1;31m---------------------------------------------------------------------------\u001b[0m",
      "\u001b[1;31mTypeError\u001b[0m                                 Traceback (most recent call last)",
      "Cell \u001b[1;32mIn[33], line 3\u001b[0m\n\u001b[0;32m      1\u001b[0m price \u001b[38;5;241m=\u001b[39m[\u001b[38;5;241m5.99\u001b[39m,\u001b[38;5;124m'\u001b[39m\u001b[38;5;124mnone\u001b[39m\u001b[38;5;124m'\u001b[39m,\u001b[38;5;124m'\u001b[39m\u001b[38;5;124m100\u001b[39m\u001b[38;5;124m'\u001b[39m,\u001b[38;5;241m0\u001b[39m,\u001b[38;5;241m100\u001b[39m]\n\u001b[0;32m      2\u001b[0m \u001b[38;5;28;01mfor\u001b[39;00m x \u001b[38;5;129;01min\u001b[39;00m price:\n\u001b[1;32m----> 3\u001b[0m     percent \u001b[38;5;241m=\u001b[39m \u001b[43mx\u001b[49m\u001b[38;5;241;43m*\u001b[39;49m\u001b[38;5;241;43m0.05\u001b[39;49m\n\u001b[0;32m      4\u001b[0m     \u001b[38;5;28mprint\u001b[39m(\u001b[38;5;124mf\u001b[39m\u001b[38;5;124m\"\u001b[39m\u001b[38;5;124m \u001b[39m\u001b[38;5;132;01m{\u001b[39;00mpercent\u001b[38;5;132;01m}\u001b[39;00m\u001b[38;5;124m is the percentage\u001b[39m\u001b[38;5;124m\"\u001b[39m )\n",
      "\u001b[1;31mTypeError\u001b[0m: can't multiply sequence by non-int of type 'float'"
     ]
    }
   ],
   "source": [
    "price =[5.99,'none','100',0,100]\n",
    "for x in price:\n",
    "    percent = x*0.05\n",
    "    print(f\" {percent} is the percentage\" )"
   ]
  },
  {
   "cell_type": "code",
   "execution_count": 34,
   "id": "18a5716d",
   "metadata": {},
   "outputs": [],
   "source": [
    "##try except "
   ]
  },
  {
   "cell_type": "code",
   "execution_count": 32,
   "id": "6fe0048d",
   "metadata": {},
   "outputs": [
    {
     "name": "stdout",
     "output_type": "stream",
     "text": [
      "0.3 is the percentage\n",
      "price not available\n",
      "price not available\n",
      "0.0 is the percentage\n",
      "5.0 is the percentage\n"
     ]
    }
   ],
   "source": [
    "price =[5.99,'none','100',0,100]\n",
    "for x in price:\n",
    "    try:\n",
    "        percent = round(x*0.05,2)\n",
    "        print(f\"{percent} is the percentage\" )\n",
    "    except:\n",
    "        print(\"price not available\")"
   ]
  },
  {
   "cell_type": "markdown",
   "id": "e62343e5",
   "metadata": {},
   "source": [
    "***"
   ]
  },
  {
   "cell_type": "markdown",
   "id": "32283701",
   "metadata": {},
   "source": [
    "## Task 5:Loop control"
   ]
  },
  {
   "cell_type": "markdown",
   "id": "3514d237",
   "metadata": {},
   "source": [
    "### Improved Affordability Calculator.\n",
    "\n",
    "We need to make sure our affordability calculator can handle many data types without stopping - our data is VERY messy. We need to make the following changes to the code below:\n",
    "\n",
    "\n",
    "* Make sure it converts the string in the list below into a float. Print a warning that this was string data. Then process as usual.\n",
    "\n",
    "* Also, have the loop skip any instances of None data type.\n",
    "\n",
    "* Then, remove the generic except statement to avoid processing errors.\n",
    "\n",
    "* Finally, change the hard coded value 50 into a variable so we can change this value based on each customer's budget."
   ]
  },
  {
   "cell_type": "code",
   "execution_count": 36,
   "id": "76b39260",
   "metadata": {},
   "outputs": [
    {
     "name": "stdout",
     "output_type": "stream",
     "text": [
      "I can buy 8.0 of these.\n",
      "I can buy 2.0 of these.\n",
      "I can buy 2.0 of these.\n",
      "This product is free, I can take as many as I like.\n",
      "string data detected\n",
      "I can buy 0.0 of these.\n",
      "I can buy 0.0 of these.\n"
     ]
    }
   ],
   "source": [
    "price_list = [5.99, None, 19.99, 24.99, 0, '74.99', 99.99]\n",
    "budget =50\n",
    "\n",
    "for price in price_list:\n",
    "    if price == None:\n",
    "        continue\n",
    "    try:\n",
    "        affordable_quantity = budget//price  \n",
    "        print(f\"I can buy {affordable_quantity} of these.\")\n",
    "    except ZeroDivisionError:\n",
    "        print(\"This product is free, I can take as many as I like.\")\n",
    "    except:\n",
    "        affordable_quantity =budget//float(price)\n",
    "        print(\"string data detected\")\n",
    "        print(f\"I can buy {affordable_quantity} of these.\")"
   ]
  },
  {
   "cell_type": "markdown",
   "id": "234c26c4",
   "metadata": {},
   "source": [
    "***"
   ]
  },
  {
   "cell_type": "markdown",
   "id": "ce2cba23",
   "metadata": {},
   "source": [
    "### Note:\n",
    "\n",
    "<span style='color:purple'>1. For loops runs a **predetermined** number of times.<br>\n",
    "    2. While loops run untile a given **logical condition** is no longer met.<br>\n",
    "    3.Loop control statements help refine logic and handle potential errors."
   ]
  },
  {
   "cell_type": "code",
   "execution_count": null,
   "id": "3f171d7f",
   "metadata": {},
   "outputs": [],
   "source": []
  }
 ],
 "metadata": {
  "kernelspec": {
   "display_name": "Python 3 (ipykernel)",
   "language": "python",
   "name": "python3"
  },
  "language_info": {
   "codemirror_mode": {
    "name": "ipython",
    "version": 3
   },
   "file_extension": ".py",
   "mimetype": "text/x-python",
   "name": "python",
   "nbconvert_exporter": "python",
   "pygments_lexer": "ipython3",
   "version": "3.10.9"
  }
 },
 "nbformat": 4,
 "nbformat_minor": 5
}
