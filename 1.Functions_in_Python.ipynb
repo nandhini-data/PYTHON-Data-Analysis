{
 "cells": [
  {
   "cell_type": "markdown",
   "id": "fffa07c4",
   "metadata": {},
   "source": [
    "## <center>Functions</center>"
   ]
  },
  {
   "cell_type": "markdown",
   "id": "171786bb",
   "metadata": {},
   "source": [
    "* [<span style ='color:purple'>**Function Definition**](#Function-Definition)\n",
    "   * [<span style ='color:purple'>Task 1:Defining Function](#Task-1:Defining-Function)\n",
    "* [<span style ='color:purple'>**Argument Types**](#Argument-Types)\n",
    "* [<span style='color:purple'>**Return Type**](#Return-Type)"
   ]
  },
  {
   "cell_type": "markdown",
   "id": "5e24190c",
   "metadata": {},
   "source": [
    "## Function Definition\n",
    "\n",
    "**Functions** are reusable block of code that perform specific task when it is called.<br>\n",
    "They take in data and perform set of actions and return a result"
   ]
  },
  {
   "cell_type": "code",
   "execution_count": 2,
   "id": "c2cee22a",
   "metadata": {},
   "outputs": [],
   "source": [
    "price_list =[30,40,200,100,23]"
   ]
  },
  {
   "cell_type": "code",
   "execution_count": 3,
   "id": "56d6182b",
   "metadata": {},
   "outputs": [
    {
     "data": {
      "text/plain": [
       "200"
      ]
     },
     "execution_count": 3,
     "metadata": {},
     "output_type": "execute_result"
    }
   ],
   "source": [
    "max(price_list)"
   ]
  },
  {
   "cell_type": "code",
   "execution_count": 4,
   "id": "c8351074",
   "metadata": {},
   "outputs": [],
   "source": [
    "def concatenator(string1,string2):\n",
    "    return string1+\" \"+string2"
   ]
  },
  {
   "cell_type": "code",
   "execution_count": 7,
   "id": "ab5116fe",
   "metadata": {},
   "outputs": [
    {
     "data": {
      "text/plain": [
       "'hello how are you'"
      ]
     },
     "execution_count": 7,
     "metadata": {},
     "output_type": "execute_result"
    }
   ],
   "source": [
    "concatenator('hello','how are you')"
   ]
  },
  {
   "cell_type": "code",
   "execution_count": 5,
   "id": "dc8eb2db",
   "metadata": {},
   "outputs": [
    {
     "name": "stdout",
     "output_type": "stream",
     "text": [
      "1000\n"
     ]
    }
   ],
   "source": [
    "list1 =[100,200,300,400]\n",
    "\n",
    "total =0\n",
    "for i in list1:\n",
    "    total =total+i\n",
    "print(total)"
   ]
  },
  {
   "cell_type": "code",
   "execution_count": 7,
   "id": "5fe6b4f8",
   "metadata": {},
   "outputs": [
    {
     "name": "stdout",
     "output_type": "stream",
     "text": [
      "810\n"
     ]
    }
   ],
   "source": [
    "list2 =[300,400,50,60]\n",
    "\n",
    "total =0\n",
    "for i in list2:\n",
    "    total =total+i\n",
    "print(total)"
   ]
  },
  {
   "cell_type": "code",
   "execution_count": 8,
   "id": "4496f239",
   "metadata": {},
   "outputs": [],
   "source": [
    "def total(arg):\n",
    "    total =0\n",
    "    for i in arg:\n",
    "        total=total+i\n",
    "    return total"
   ]
  },
  {
   "cell_type": "code",
   "execution_count": 9,
   "id": "a94618a3",
   "metadata": {},
   "outputs": [
    {
     "data": {
      "text/plain": [
       "1000"
      ]
     },
     "execution_count": 9,
     "metadata": {},
     "output_type": "execute_result"
    }
   ],
   "source": [
    "total(list1)"
   ]
  },
  {
   "cell_type": "code",
   "execution_count": 10,
   "id": "66d577ee",
   "metadata": {},
   "outputs": [
    {
     "data": {
      "text/plain": [
       "810"
      ]
     },
     "execution_count": 10,
     "metadata": {},
     "output_type": "execute_result"
    }
   ],
   "source": [
    "total(list2)"
   ]
  },
  {
   "cell_type": "code",
   "execution_count": 6,
   "id": "cc2c8844",
   "metadata": {},
   "outputs": [],
   "source": [
    "def greet(name):\n",
    "    print(\"hello\",name)\n",
    "    "
   ]
  },
  {
   "cell_type": "code",
   "execution_count": 7,
   "id": "746ac757",
   "metadata": {},
   "outputs": [
    {
     "name": "stdout",
     "output_type": "stream",
     "text": [
      "hello nan\n"
     ]
    }
   ],
   "source": [
    "greet('nan')"
   ]
  },
  {
   "cell_type": "code",
   "execution_count": 8,
   "id": "2a23196a",
   "metadata": {},
   "outputs": [
    {
     "name": "stdout",
     "output_type": "stream",
     "text": [
      "hello grr\n"
     ]
    }
   ],
   "source": [
    "greet('grr')"
   ]
  },
  {
   "cell_type": "markdown",
   "id": "f1c08806",
   "metadata": {},
   "source": [
    "## Task 1:Defining Function"
   ]
  },
  {
   "cell_type": "markdown",
   "id": "69d3eacb",
   "metadata": {},
   "source": [
    "#### Tax Calculator\n",
    "\n",
    "Write a function that takes a subtotal and a tax rate and returns the total invoice amount.\n",
    "\n",
    "* Tax is equal to subtotal multiplied by the tax rate.\n",
    "* The total is equal to subtotal plus tax."
   ]
  },
  {
   "cell_type": "code",
   "execution_count": 10,
   "id": "06012e46",
   "metadata": {},
   "outputs": [],
   "source": [
    "def tax_calculator(subtotal,tax_rate):\n",
    "    tax = subtotal * tax_rate\n",
    "    total = subtotal + tax\n",
    "    return total\n"
   ]
  },
  {
   "cell_type": "code",
   "execution_count": 11,
   "id": "4ecfe7ef",
   "metadata": {},
   "outputs": [
    {
     "data": {
      "text/plain": [
       "106.0"
      ]
     },
     "execution_count": 11,
     "metadata": {},
     "output_type": "execute_result"
    }
   ],
   "source": [
    "tax_calculator(100,0.06)"
   ]
  },
  {
   "cell_type": "markdown",
   "id": "acc2184e",
   "metadata": {},
   "source": [
    "## Argument Types"
   ]
  },
  {
   "cell_type": "markdown",
   "id": "f9827010",
   "metadata": {},
   "source": [
    "There ara several type of arguments that can be passed on to a function:<br>\n",
    "1. Positional arguments.\n",
    "2. Keyword arguments.\n",
    "3. Default arguments.\n",
    "4. args arguments.\n",
    "5. ** kwargs arguments.\n"
   ]
  },
  {
   "cell_type": "code",
   "execution_count": 3,
   "id": "f89f2a59",
   "metadata": {},
   "outputs": [],
   "source": [
    "# Positional arguments.\n",
    "\n",
    "\n",
    "def get_name(name1,name2):\n",
    "    \n",
    "    x=print(name1+ ' '+name2)\n",
    "    return x"
   ]
  },
  {
   "cell_type": "code",
   "execution_count": 4,
   "id": "60f9e152",
   "metadata": {},
   "outputs": [
    {
     "name": "stdout",
     "output_type": "stream",
     "text": [
      "my friend\n"
     ]
    }
   ],
   "source": [
    "get_name('my' ,'friend')"
   ]
  },
  {
   "cell_type": "code",
   "execution_count": 9,
   "id": "dd67f608",
   "metadata": {},
   "outputs": [],
   "source": [
    "#Keyword arguments\n",
    "\n",
    "def  calculate(a,b):\n",
    "    multiply =a*b\n",
    "    division =b/a\n",
    "    return (division,multiply)"
   ]
  },
  {
   "cell_type": "code",
   "execution_count": 10,
   "id": "6528f74c",
   "metadata": {},
   "outputs": [
    {
     "data": {
      "text/plain": [
       "(50.0, 5000)"
      ]
     },
     "execution_count": 10,
     "metadata": {},
     "output_type": "execute_result"
    }
   ],
   "source": [
    "calculate(a=10,b=500)"
   ]
  },
  {
   "cell_type": "code",
   "execution_count": 11,
   "id": "a6f1883f",
   "metadata": {},
   "outputs": [
    {
     "ename": "SyntaxError",
     "evalue": "positional argument follows keyword argument (1095429548.py, line 1)",
     "output_type": "error",
     "traceback": [
      "\u001b[1;36m  Cell \u001b[1;32mIn[11], line 1\u001b[1;36m\u001b[0m\n\u001b[1;33m    calculate(a=10,400)\u001b[0m\n\u001b[1;37m                      ^\u001b[0m\n\u001b[1;31mSyntaxError\u001b[0m\u001b[1;31m:\u001b[0m positional argument follows keyword argument\n"
     ]
    }
   ],
   "source": [
    "calculate(a=10,400)"
   ]
  },
  {
   "cell_type": "code",
   "execution_count": 13,
   "id": "b6c45002",
   "metadata": {},
   "outputs": [
    {
     "data": {
      "text/plain": [
       "(40.0, 4000)"
      ]
     },
     "execution_count": 13,
     "metadata": {},
     "output_type": "execute_result"
    }
   ],
   "source": [
    "calculate(10,b=400) ## note:positional argument follows keyword argument"
   ]
  },
  {
   "cell_type": "code",
   "execution_count": 14,
   "id": "740193c2",
   "metadata": {},
   "outputs": [],
   "source": [
    "# Default arguments\n",
    "\n",
    "def concat(string1,string2='hai'):\n",
    "    return string1 +' '+string2"
   ]
  },
  {
   "cell_type": "code",
   "execution_count": 15,
   "id": "bcbb4256",
   "metadata": {},
   "outputs": [
    {
     "data": {
      "text/plain": [
       "'hello hai'"
      ]
     },
     "execution_count": 15,
     "metadata": {},
     "output_type": "execute_result"
    }
   ],
   "source": [
    "concat('hello')"
   ]
  },
  {
   "cell_type": "code",
   "execution_count": 18,
   "id": "4e5fb789",
   "metadata": {},
   "outputs": [],
   "source": [
    "# *args arguments\n",
    "\n",
    "def letter(*args):\n",
    "    new_string =\" \"\n",
    "    for x in args:\n",
    "        new_string +=(x+ \" \")\n",
    "    return new_string\n",
    "        "
   ]
  },
  {
   "cell_type": "code",
   "execution_count": 19,
   "id": "97f6e068",
   "metadata": {},
   "outputs": [
    {
     "data": {
      "text/plain": [
       "' apple banana boxes '"
      ]
     },
     "execution_count": 19,
     "metadata": {},
     "output_type": "execute_result"
    }
   ],
   "source": [
    "letter('apple','banana','boxes')"
   ]
  },
  {
   "cell_type": "code",
   "execution_count": 25,
   "id": "d28beadc",
   "metadata": {},
   "outputs": [],
   "source": [
    "# **kwargs arguments\n",
    "\n",
    "def dict_words(**kwargs):\n",
    "    new_word =\" \"\n",
    "    for x in kwargs.values():\n",
    "        new_word +=(x+ \" \")\n",
    "    return new_word"
   ]
  },
  {
   "cell_type": "code",
   "execution_count": 26,
   "id": "ea16272f",
   "metadata": {},
   "outputs": [
    {
     "data": {
      "text/plain": [
       "' hai hello how are you '"
      ]
     },
     "execution_count": 26,
     "metadata": {},
     "output_type": "execute_result"
    }
   ],
   "source": [
    "dict_words(a='hai',b ='hello',c ='how',d= 'are',e ='you')"
   ]
  },
  {
   "cell_type": "code",
   "execution_count": 31,
   "id": "e1d0ca76",
   "metadata": {},
   "outputs": [],
   "source": [
    "website_ratings =['5 stars','1 star','3 stars']\n",
    "forum_ratings =['stars:5','stars: 4','stars :2']"
   ]
  },
  {
   "cell_type": "code",
   "execution_count": 33,
   "id": "b7cb8ff4",
   "metadata": {},
   "outputs": [
    {
     "name": "stdout",
     "output_type": "stream",
     "text": [
      "5\n",
      "1\n",
      "3\n"
     ]
    }
   ],
   "source": [
    "for i in website_ratings:\n",
    "    number =i[0]\n",
    "    print(number)"
   ]
  },
  {
   "cell_type": "code",
   "execution_count": 37,
   "id": "a6181220",
   "metadata": {},
   "outputs": [],
   "source": [
    "def rating_number(rating):\n",
    "    number =int(rating[0])\n",
    "    return number"
   ]
  },
  {
   "cell_type": "code",
   "execution_count": 39,
   "id": "8bd11a4a",
   "metadata": {},
   "outputs": [
    {
     "data": {
      "text/plain": [
       "1"
      ]
     },
     "execution_count": 39,
     "metadata": {},
     "output_type": "execute_result"
    }
   ],
   "source": [
    "rating_number(website_ratings[1])"
   ]
  },
  {
   "cell_type": "code",
   "execution_count": 46,
   "id": "b952ae91",
   "metadata": {},
   "outputs": [],
   "source": [
    "def rating_number1(rating,index):\n",
    "    number1 = int(rating[index])\n",
    "    return number1"
   ]
  },
  {
   "cell_type": "code",
   "execution_count": 47,
   "id": "e06cd1f6",
   "metadata": {},
   "outputs": [
    {
     "data": {
      "text/plain": [
       "5"
      ]
     },
     "execution_count": 47,
     "metadata": {},
     "output_type": "execute_result"
    }
   ],
   "source": [
    "rating_number1('stars:5',-1)"
   ]
  },
  {
   "cell_type": "code",
   "execution_count": 48,
   "id": "b28d8870",
   "metadata": {},
   "outputs": [
    {
     "data": {
      "text/plain": [
       "4"
      ]
     },
     "execution_count": 48,
     "metadata": {},
     "output_type": "execute_result"
    }
   ],
   "source": [
    "rating_number1(rating='stars:4',index=-1)"
   ]
  },
  {
   "cell_type": "code",
   "execution_count": 50,
   "id": "1de5beda",
   "metadata": {},
   "outputs": [],
   "source": [
    "def rating_number2(* args):\n",
    "    for x in args:\n",
    "        number =int(x[0])\n",
    "        print(number)"
   ]
  },
  {
   "cell_type": "code",
   "execution_count": 54,
   "id": "8af1d834",
   "metadata": {},
   "outputs": [
    {
     "name": "stdout",
     "output_type": "stream",
     "text": [
      "5\n",
      "1\n",
      "3\n"
     ]
    }
   ],
   "source": [
    "rating_number2(*website_ratings) #this will unpack element in the list"
   ]
  },
  {
   "cell_type": "code",
   "execution_count": 55,
   "id": "f5006471",
   "metadata": {},
   "outputs": [
    {
     "name": "stdout",
     "output_type": "stream",
     "text": [
      "5\n",
      "1\n",
      "3\n"
     ]
    }
   ],
   "source": [
    "rating_number2('5 stars','1 star','3 stars')"
   ]
  },
  {
   "cell_type": "markdown",
   "id": "c95ed5c0",
   "metadata": {},
   "source": [
    "## Return Type"
   ]
  },
  {
   "cell_type": "code",
   "execution_count": 23,
   "id": "ce753351",
   "metadata": {},
   "outputs": [],
   "source": [
    "def concatenate(*args):\n",
    "    sentence =\"\"\n",
    "    for i in args:\n",
    "        sentence +=i +\" \"\n",
    "    last_word =sentence[2]\n",
    "    return [sentence.rstrip(),last_word]"
   ]
  },
  {
   "cell_type": "code",
   "execution_count": 24,
   "id": "17656363",
   "metadata": {},
   "outputs": [
    {
     "data": {
      "text/plain": [
       "['hello what is your name', 'l']"
      ]
     },
     "execution_count": 24,
     "metadata": {},
     "output_type": "execute_result"
    }
   ],
   "source": [
    "concatenate('hello','what','is','your','name')"
   ]
  },
  {
   "cell_type": "code",
   "execution_count": 28,
   "id": "7fd9f716",
   "metadata": {},
   "outputs": [],
   "source": [
    "rating_list = ['10 star','5 star','3 star','2 star','8 star']\n"
   ]
  },
  {
   "cell_type": "code",
   "execution_count": 31,
   "id": "10de29a8",
   "metadata": {},
   "outputs": [
    {
     "data": {
      "text/plain": [
       "1"
      ]
     },
     "execution_count": 31,
     "metadata": {},
     "output_type": "execute_result"
    }
   ],
   "source": [
    "rating_number = int(rating_list[0][0])\n",
    "rating_number"
   ]
  },
  {
   "cell_type": "code",
   "execution_count": 34,
   "id": "44b36695",
   "metadata": {},
   "outputs": [],
   "source": [
    "def rating(rating):\n",
    "    rating_no =int(rating[0])\n",
    "    return rating,rating_no"
   ]
  },
  {
   "cell_type": "code",
   "execution_count": 35,
   "id": "c72ab7a3",
   "metadata": {},
   "outputs": [
    {
     "data": {
      "text/plain": [
       "('5 star', 5)"
      ]
     },
     "execution_count": 35,
     "metadata": {},
     "output_type": "execute_result"
    }
   ],
   "source": [
    "rating('5 star')"
   ]
  },
  {
   "cell_type": "markdown",
   "id": "778a9f04",
   "metadata": {},
   "source": [
    "---"
   ]
  },
  {
   "cell_type": "markdown",
   "id": "72b0c990",
   "metadata": {},
   "source": [
    "## Creating and Importing a modules"
   ]
  },
  {
   "cell_type": "code",
   "execution_count": 6,
   "id": "431a81f6",
   "metadata": {},
   "outputs": [],
   "source": [
    "web_rating =['9 stars','2 stars','3 stars','8 stars','7 stars','5 stars']"
   ]
  },
  {
   "cell_type": "code",
   "execution_count": 7,
   "id": "135db1e7",
   "metadata": {},
   "outputs": [
    {
     "data": {
      "text/plain": [
       "9"
      ]
     },
     "execution_count": 7,
     "metadata": {},
     "output_type": "execute_result"
    }
   ],
   "source": [
    "rating_number =int(web_rating[0][0])\n",
    "rating_number"
   ]
  },
  {
   "cell_type": "code",
   "execution_count": 8,
   "id": "6c26dc9a",
   "metadata": {},
   "outputs": [],
   "source": []
  },
  {
   "cell_type": "code",
   "execution_count": 9,
   "id": "60706452",
   "metadata": {},
   "outputs": [
    {
     "data": {
      "text/plain": [
       "9"
      ]
     },
     "execution_count": 9,
     "metadata": {},
     "output_type": "execute_result"
    }
   ],
   "source": [
    "rating_clean('9 stars')"
   ]
  },
  {
   "cell_type": "code",
   "execution_count": 11,
   "id": "8c301bef",
   "metadata": {},
   "outputs": [
    {
     "name": "stdout",
     "output_type": "stream",
     "text": [
      "[9, 2, 3, 8, 7, 5]\n"
     ]
    }
   ],
   "source": [
    "numeric_list =[]\n",
    "for i in web_rating:\n",
    "    number_rating =int(i[0])\n",
    "    numeric_list.append(number_rating)\n",
    "print(numeric_list)\n",
    "\n",
    "    "
   ]
  },
  {
   "cell_type": "code",
   "execution_count": 14,
   "id": "13490072",
   "metadata": {},
   "outputs": [
    {
     "name": "stdout",
     "output_type": "stream",
     "text": [
      "Writing rating_clean_list.py\n"
     ]
    }
   ],
   "source": [
    "%%writefile rating_clean_list.py\n",
    "\n",
    "def rating_clean(rating):\n",
    "    \"\"\"gets numeric portion from web rating\n",
    "    Args:\n",
    "        rating(str):text rating from web\n",
    "        \n",
    "    Returns\n",
    "        int:integer portion of rating\n",
    "    \"\"\"\n",
    "    \n",
    "    rating_number =int(rating[0])\n",
    "    return rating_number\n",
    "\n",
    "\n",
    "def rating_list_clean(rating_list):\n",
    "    \"\"\" clean list of rating and return numeric rating list\n",
    "    Args:\n",
    "        rating_list(list):list of text string\n",
    "    Returns:\n",
    "        list:list of integer\n",
    "    \"\"\"\n",
    "    \n",
    "    number_list =[]\n",
    "    for i in rating_list:\n",
    "        number =int(i[0])\n",
    "        number_list.append(number)\n",
    "    return number_list"
   ]
  },
  {
   "cell_type": "code",
   "execution_count": 13,
   "id": "5420612e",
   "metadata": {},
   "outputs": [
    {
     "data": {
      "text/plain": [
       "[9, 2, 3, 8, 7, 5]"
      ]
     },
     "execution_count": 13,
     "metadata": {},
     "output_type": "execute_result"
    }
   ],
   "source": [
    "rating_list_clean(web_rating)"
   ]
  },
  {
   "cell_type": "code",
   "execution_count": 1,
   "id": "240b81c9",
   "metadata": {},
   "outputs": [],
   "source": [
    "## Two functions are created rating_clean and rating_list_clean"
   ]
  },
  {
   "cell_type": "code",
   "execution_count": 2,
   "id": "12344139",
   "metadata": {},
   "outputs": [
    {
     "ename": "NameError",
     "evalue": "name 'rating_clean' is not defined",
     "output_type": "error",
     "traceback": [
      "\u001b[1;31m---------------------------------------------------------------------------\u001b[0m",
      "\u001b[1;31mNameError\u001b[0m                                 Traceback (most recent call last)",
      "Cell \u001b[1;32mIn[2], line 1\u001b[0m\n\u001b[1;32m----> 1\u001b[0m \u001b[43mrating_clean\u001b[49m(\u001b[38;5;124m'\u001b[39m\u001b[38;5;124m9 star\u001b[39m\u001b[38;5;124m'\u001b[39m)\n",
      "\u001b[1;31mNameError\u001b[0m: name 'rating_clean' is not defined"
     ]
    }
   ],
   "source": [
    "rating_clean('9 star')"
   ]
  },
  {
   "cell_type": "code",
   "execution_count": 4,
   "id": "1d91ca73",
   "metadata": {},
   "outputs": [],
   "source": [
    "import rating_clean_list"
   ]
  },
  {
   "cell_type": "code",
   "execution_count": 6,
   "id": "17e29993",
   "metadata": {},
   "outputs": [
    {
     "data": {
      "text/plain": [
       "8"
      ]
     },
     "execution_count": 6,
     "metadata": {},
     "output_type": "execute_result"
    }
   ],
   "source": [
    "rating_clean_list.rating_clean('8 stars')"
   ]
  },
  {
   "cell_type": "code",
   "execution_count": 7,
   "id": "5816a181",
   "metadata": {},
   "outputs": [],
   "source": [
    "web_rating1 =['9 stars','2 stars','3 stars','8 stars','7 stars','5 stars','9 stars','2 stars','3 stars','8 stars','7 stars','5 stars']"
   ]
  },
  {
   "cell_type": "code",
   "execution_count": 8,
   "id": "f2fae395",
   "metadata": {},
   "outputs": [
    {
     "data": {
      "text/plain": [
       "[9, 2, 3, 8, 7, 5, 9, 2, 3, 8, 7, 5]"
      ]
     },
     "execution_count": 8,
     "metadata": {},
     "output_type": "execute_result"
    }
   ],
   "source": [
    "rating_clean_list.rating_list_clean(web_rating1)"
   ]
  },
  {
   "cell_type": "code",
   "execution_count": 9,
   "id": "7e020d40",
   "metadata": {},
   "outputs": [],
   "source": [
    "from rating_clean_list import rating_clean"
   ]
  },
  {
   "cell_type": "code",
   "execution_count": 10,
   "id": "f3733ade",
   "metadata": {},
   "outputs": [
    {
     "data": {
      "text/plain": [
       "6"
      ]
     },
     "execution_count": 10,
     "metadata": {},
     "output_type": "execute_result"
    }
   ],
   "source": [
    "rating_clean('6 stars')"
   ]
  },
  {
   "cell_type": "code",
   "execution_count": null,
   "id": "554aee39",
   "metadata": {},
   "outputs": [],
   "source": []
  }
 ],
 "metadata": {
  "kernelspec": {
   "display_name": "Python 3 (ipykernel)",
   "language": "python",
   "name": "python3"
  },
  "language_info": {
   "codemirror_mode": {
    "name": "ipython",
    "version": 3
   },
   "file_extension": ".py",
   "mimetype": "text/x-python",
   "name": "python",
   "nbconvert_exporter": "python",
   "pygments_lexer": "ipython3",
   "version": "3.10.9"
  }
 },
 "nbformat": 4,
 "nbformat_minor": 5
}
