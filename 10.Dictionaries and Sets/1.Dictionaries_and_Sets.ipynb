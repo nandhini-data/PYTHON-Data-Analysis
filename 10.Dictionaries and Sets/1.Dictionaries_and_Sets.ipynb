{
 "cells": [
  {
   "cell_type": "markdown",
   "id": "eedfdca6",
   "metadata": {},
   "source": [
    "# <center>Dictionaries & Sets</center>"
   ]
  },
  {
   "cell_type": "markdown",
   "id": "351fe57d",
   "metadata": {},
   "source": [
    "* [<span style='color:purple'>**Introduction**](#Introduction)\n",
    "* [<span style='color:purple'>**List Limitations**](#List-Limitations)\n",
    "* [<span style='color:purple'>**Dictionary Creation**](#Dictionary-Creation)\n",
    "* [<span style='color:purple'>**Modifying dictionaries**](#Modifying-dictionaries)\n",
    "    * [<span style='color:purple'>Task 1:Dictionary Basics](#Task-1:Dictionary-Basics)\n",
    "    * [<span style='color:purple'>Task 2:Dictionary Creation](#Task-2:Dictionary-Creation)\n",
    "* [<span style='color:purple'>**Dictionary Methods**](#Dictionary-Methods)\n",
    "    * [<span style='color:purple'>Task 3:Dictionary Methods](#Task-3:Dictionary-Methods)\n",
    "* [<span style='color:purple'>**Zip function**](#Zip-function)\n",
    "    * [<span style='color:purple'>Task 4:Zip function](#Task-4:Zip-function)\n",
    "* [<span style='color:purple'>**Nested dictionaries**](#Nested-dictionaries)\n",
    "    * [<span style='color:purple'>Task 5:Nested dictionaries](#Task-5:Nested-dictionaries)\n",
    "* [<span style='color:purple'>**Sets**](#Sets)\n",
    "* [<span style='color:purple'>**Set operations**](#Set-operations)\n",
    "* [<span style='color:purple'>**Set use cases**](#Set-use-cases)\n",
    "    * [<span style='color:purple'>Task 6: Set operations](#Task-6:-Set-operations)\n",
    "* [<span style='color:purple'>**Note:**](#Note:)"
   ]
  },
  {
   "cell_type": "markdown",
   "id": "ab2fb5b5",
   "metadata": {},
   "source": [
    "## <center>Introduction</center>"
   ]
  },
  {
   "cell_type": "markdown",
   "id": "fe9e3d77",
   "metadata": {},
   "source": [
    "Dictionaries and sets are two iterable data types which is helpful in retrieving the information quickly and store unique values.<br>\n",
    "* Store,append and look up data in dictionaries.\n",
    "* Build dictionaries using Zip()function.\n",
    "* Use set operation to find the relationship in the value across multiple datasets"
   ]
  },
  {
   "cell_type": "markdown",
   "id": "8e805cb4",
   "metadata": {},
   "source": [
    "***"
   ]
  },
  {
   "cell_type": "markdown",
   "id": "572d16d1",
   "metadata": {},
   "source": [
    "## List Limitations"
   ]
  },
  {
   "cell_type": "markdown",
   "id": "4b9b44ef",
   "metadata": {},
   "source": [
    "List can be efficient when you need to look up the specific values,as they can only be accessed via indexing."
   ]
  },
  {
   "cell_type": "code",
   "execution_count": 1,
   "id": "38d2e5bd",
   "metadata": {},
   "outputs": [],
   "source": [
    "boxes = [['apple','sold-out'],\n",
    "        ['mango','in store'],\n",
    "        ['grapes','sold-out']]"
   ]
  },
  {
   "cell_type": "code",
   "execution_count": 3,
   "id": "19eaabd4",
   "metadata": {},
   "outputs": [
    {
     "data": {
      "text/plain": [
       "[['apple', 'sold-out'], ['mango', 'in store'], ['grapes', 'sold-out']]"
      ]
     },
     "execution_count": 3,
     "metadata": {},
     "output_type": "execute_result"
    }
   ],
   "source": [
    "boxes"
   ]
  },
  {
   "cell_type": "code",
   "execution_count": 10,
   "id": "181da4c2",
   "metadata": {},
   "outputs": [
    {
     "name": "stdout",
     "output_type": "stream",
     "text": [
      "mango is in store\n"
     ]
    }
   ],
   "source": [
    "# to check the mango in the box sold out or in store \n",
    "\n",
    "for z in boxes:\n",
    "    \n",
    "    boxes_storage ='mango'\n",
    "\n",
    "for x in boxes:\n",
    "    if x[0] ==boxes_storage:\n",
    "        fruit_status = x[1]\n",
    "        print(\"mango is\",fruit_status)"
   ]
  },
  {
   "cell_type": "markdown",
   "id": "9ddc8056",
   "metadata": {},
   "source": [
    "***"
   ]
  },
  {
   "cell_type": "markdown",
   "id": "d084e4c1",
   "metadata": {},
   "source": [
    "## Dictionary Creation"
   ]
  },
  {
   "cell_type": "code",
   "execution_count": 11,
   "id": "922459e2",
   "metadata": {},
   "outputs": [],
   "source": [
    "\n",
    "\n",
    "boxes_dict ={'apple':'sold out',\n",
    "            'mango':'in store',\n",
    "            'grapes':'sold-out'}"
   ]
  },
  {
   "cell_type": "code",
   "execution_count": 12,
   "id": "1c208484",
   "metadata": {},
   "outputs": [
    {
     "data": {
      "text/plain": [
       "{'apple': 'sold out', 'mango': 'in store', 'grapes': 'sold-out'}"
      ]
     },
     "execution_count": 12,
     "metadata": {},
     "output_type": "execute_result"
    }
   ],
   "source": [
    "boxes_dict"
   ]
  },
  {
   "cell_type": "code",
   "execution_count": 13,
   "id": "91e321c4",
   "metadata": {},
   "outputs": [
    {
     "data": {
      "text/plain": [
       "'in store'"
      ]
     },
     "execution_count": 13,
     "metadata": {},
     "output_type": "execute_result"
    }
   ],
   "source": [
    "boxes_dict['mango']"
   ]
  },
  {
   "cell_type": "code",
   "execution_count": 14,
   "id": "f42576f5",
   "metadata": {},
   "outputs": [],
   "source": [
    "items_detail = {'apple':[200,11,'sold out'],\n",
    "               'mango':[300,130,'in store'],\n",
    "               'grapes':[100,23,'sold out']}"
   ]
  },
  {
   "cell_type": "code",
   "execution_count": 17,
   "id": "68650872",
   "metadata": {},
   "outputs": [
    {
     "data": {
      "text/plain": [
       "{'apple': [200, 11, 'sold out'],\n",
       " 'mango': [300, 130, 'in store'],\n",
       " 'grapes': [100, 23, 'sold out']}"
      ]
     },
     "execution_count": 17,
     "metadata": {},
     "output_type": "execute_result"
    }
   ],
   "source": [
    "items_detail"
   ]
  },
  {
   "cell_type": "code",
   "execution_count": 18,
   "id": "3855c34a",
   "metadata": {},
   "outputs": [
    {
     "data": {
      "text/plain": [
       "[300, 130, 'in store']"
      ]
     },
     "execution_count": 18,
     "metadata": {},
     "output_type": "execute_result"
    }
   ],
   "source": [
    "items_detail['mango']"
   ]
  },
  {
   "cell_type": "code",
   "execution_count": 20,
   "id": "9302846f",
   "metadata": {},
   "outputs": [
    {
     "data": {
      "text/plain": [
       "130"
      ]
     },
     "execution_count": 20,
     "metadata": {},
     "output_type": "execute_result"
    }
   ],
   "source": [
    "items_detail['mango'][1]"
   ]
  },
  {
   "cell_type": "code",
   "execution_count": 21,
   "id": "f19f26fa",
   "metadata": {},
   "outputs": [
    {
     "data": {
      "text/plain": [
       "True"
      ]
     },
     "execution_count": 21,
     "metadata": {},
     "output_type": "execute_result"
    }
   ],
   "source": [
    "# Membership test in dictioanries\n",
    "\n",
    "\"apple\" in items_detail"
   ]
  },
  {
   "cell_type": "code",
   "execution_count": 24,
   "id": "e1016b36",
   "metadata": {},
   "outputs": [
    {
     "name": "stdout",
     "output_type": "stream",
     "text": [
      "apple [200, 11, 'sold out']\n",
      "mango [300, 130, 'in store']\n",
      "grapes [100, 23, 'sold out']\n"
     ]
    }
   ],
   "source": [
    "for x in items_detail:\n",
    "    print(x,items_detail[x])"
   ]
  },
  {
   "cell_type": "markdown",
   "id": "e3a45de0",
   "metadata": {},
   "source": [
    "***"
   ]
  },
  {
   "cell_type": "markdown",
   "id": "43973d6d",
   "metadata": {},
   "source": [
    "## Modifying dictionaries"
   ]
  },
  {
   "cell_type": "code",
   "execution_count": 25,
   "id": "cbab30b0",
   "metadata": {},
   "outputs": [
    {
     "data": {
      "text/plain": [
       "{'apple': [200, 11, 'sold out'],\n",
       " 'mango': [300, 130, 'in store'],\n",
       " 'grapes': [100, 23, 'sold out']}"
      ]
     },
     "execution_count": 25,
     "metadata": {},
     "output_type": "execute_result"
    }
   ],
   "source": [
    "items_detail"
   ]
  },
  {
   "cell_type": "code",
   "execution_count": 26,
   "id": "689cb74c",
   "metadata": {},
   "outputs": [],
   "source": [
    "items_detail['oranges'] = [300,12,'in store']"
   ]
  },
  {
   "cell_type": "code",
   "execution_count": 27,
   "id": "514bd7b8",
   "metadata": {},
   "outputs": [
    {
     "data": {
      "text/plain": [
       "{'apple': [200, 11, 'sold out'],\n",
       " 'mango': [300, 130, 'in store'],\n",
       " 'grapes': [100, 23, 'sold out'],\n",
       " 'oranges': [300, 12, 'in store']}"
      ]
     },
     "execution_count": 27,
     "metadata": {},
     "output_type": "execute_result"
    }
   ],
   "source": [
    "items_detail"
   ]
  },
  {
   "cell_type": "code",
   "execution_count": 29,
   "id": "151be32d",
   "metadata": {},
   "outputs": [],
   "source": [
    "items_detail['mango'][2]='sold out'"
   ]
  },
  {
   "cell_type": "code",
   "execution_count": 30,
   "id": "d83bf864",
   "metadata": {},
   "outputs": [
    {
     "data": {
      "text/plain": [
       "{'apple': [200, 11, 'sold out'],\n",
       " 'mango': [300, 130, 'sold out'],\n",
       " 'grapes': [100, 23, 'sold out'],\n",
       " 'oranges': [300, 12, 'in store']}"
      ]
     },
     "execution_count": 30,
     "metadata": {},
     "output_type": "execute_result"
    }
   ],
   "source": [
    "items_detail"
   ]
  },
  {
   "cell_type": "code",
   "execution_count": 31,
   "id": "842b3adc",
   "metadata": {},
   "outputs": [],
   "source": [
    "del items_detail['grapes']"
   ]
  },
  {
   "cell_type": "code",
   "execution_count": 33,
   "id": "425a68b1",
   "metadata": {},
   "outputs": [
    {
     "data": {
      "text/plain": [
       "{'apple': [200, 11, 'sold out'],\n",
       " 'mango': [300, 130, 'sold out'],\n",
       " 'oranges': [300, 12, 'in store']}"
      ]
     },
     "execution_count": 33,
     "metadata": {},
     "output_type": "execute_result"
    }
   ],
   "source": [
    "items_detail"
   ]
  },
  {
   "cell_type": "markdown",
   "id": "f24d99e3",
   "metadata": {},
   "source": [
    "***"
   ]
  },
  {
   "cell_type": "markdown",
   "id": "88142fa9",
   "metadata": {},
   "source": [
    "## Task 1:Dictionary Basics"
   ]
  },
  {
   "cell_type": "markdown",
   "id": "06bf6e61",
   "metadata": {},
   "source": [
    "### Snack Dictionary\n",
    "\n",
    "Hey, the current snack dictionary is below - thanks for your help with this!\n",
    "\n",
    "Run this first cell to create the `snacks` dictionary."
   ]
  },
  {
   "cell_type": "code",
   "execution_count": 34,
   "id": "97969ca9",
   "metadata": {},
   "outputs": [],
   "source": [
    "snacks = {\n",
    "    'Sally': 'Popcorn',\n",
    "    'Ricard': 'Chocolate Ice Cream',\n",
    "    'Stuart': 'Apple Pie',\n",
    "    'Jerry': 'Raisins',\n",
    "    'Sierra': 'Peanut Butter Cookies'\n",
    "}"
   ]
  },
  {
   "cell_type": "code",
   "execution_count": 35,
   "id": "1a6f49d3",
   "metadata": {},
   "outputs": [
    {
     "data": {
      "text/plain": [
       "{'Sally': 'Popcorn',\n",
       " 'Ricard': 'Chocolate Ice Cream',\n",
       " 'Stuart': 'Apple Pie',\n",
       " 'Jerry': 'Raisins',\n",
       " 'Sierra': 'Peanut Butter Cookies'}"
      ]
     },
     "execution_count": 35,
     "metadata": {},
     "output_type": "execute_result"
    }
   ],
   "source": [
    "snacks"
   ]
  },
  {
   "cell_type": "markdown",
   "id": "9419dc91",
   "metadata": {},
   "source": [
    "Can you lookup Stuart's favorite snack?"
   ]
  },
  {
   "cell_type": "code",
   "execution_count": 38,
   "id": "61d0b9d8",
   "metadata": {},
   "outputs": [
    {
     "name": "stdout",
     "output_type": "stream",
     "text": [
      "Stuart's favourite snack is : Apple Pie\n"
     ]
    }
   ],
   "source": [
    "print(\"Stuart's favourite snack is :\",snacks['Stuart'])"
   ]
  },
  {
   "cell_type": "markdown",
   "id": "72bb3dce",
   "metadata": {},
   "source": [
    "Cool, that's one of my favorites too!\n",
    "\n",
    "Can you make the following changes do the dictionary?\n",
    "\n",
    "* Add me - 'Alfie', and my favorite snack, 'Cheese and Crackers'.\n",
    "* Change Jerry's favorite snack to 'Fig Bars'\n",
    "* Finally, remove Sierra, she never worked here, not sure how she got on the list."
   ]
  },
  {
   "cell_type": "code",
   "execution_count": 39,
   "id": "cae33b39",
   "metadata": {},
   "outputs": [],
   "source": [
    "snacks['Alfie'] ='cheese and Crackers'"
   ]
  },
  {
   "cell_type": "code",
   "execution_count": 40,
   "id": "6646f623",
   "metadata": {},
   "outputs": [
    {
     "data": {
      "text/plain": [
       "{'Sally': 'Popcorn',\n",
       " 'Ricard': 'Chocolate Ice Cream',\n",
       " 'Stuart': 'Apple Pie',\n",
       " 'Jerry': 'Raisins',\n",
       " 'Sierra': 'Peanut Butter Cookies',\n",
       " 'Alfie': 'cheese and Crackers'}"
      ]
     },
     "execution_count": 40,
     "metadata": {},
     "output_type": "execute_result"
    }
   ],
   "source": [
    "snacks"
   ]
  },
  {
   "cell_type": "code",
   "execution_count": 42,
   "id": "5c59d08a",
   "metadata": {},
   "outputs": [],
   "source": [
    "snacks['Jerry'] ='Fig Bars'"
   ]
  },
  {
   "cell_type": "code",
   "execution_count": 43,
   "id": "4aabcd57",
   "metadata": {},
   "outputs": [
    {
     "data": {
      "text/plain": [
       "{'Sally': 'Popcorn',\n",
       " 'Ricard': 'Chocolate Ice Cream',\n",
       " 'Stuart': 'Apple Pie',\n",
       " 'Jerry': 'Fig Bars',\n",
       " 'Sierra': 'Peanut Butter Cookies',\n",
       " 'Alfie': 'cheese and Crackers'}"
      ]
     },
     "execution_count": 43,
     "metadata": {},
     "output_type": "execute_result"
    }
   ],
   "source": [
    "snacks"
   ]
  },
  {
   "cell_type": "code",
   "execution_count": 44,
   "id": "0a966672",
   "metadata": {},
   "outputs": [],
   "source": [
    "del snacks['Sierra']"
   ]
  },
  {
   "cell_type": "code",
   "execution_count": 45,
   "id": "5aada0c8",
   "metadata": {},
   "outputs": [
    {
     "data": {
      "text/plain": [
       "{'Sally': 'Popcorn',\n",
       " 'Ricard': 'Chocolate Ice Cream',\n",
       " 'Stuart': 'Apple Pie',\n",
       " 'Jerry': 'Fig Bars',\n",
       " 'Alfie': 'cheese and Crackers'}"
      ]
     },
     "execution_count": 45,
     "metadata": {},
     "output_type": "execute_result"
    }
   ],
   "source": [
    "snacks"
   ]
  },
  {
   "cell_type": "markdown",
   "id": "cf1e401a",
   "metadata": {},
   "source": [
    "***"
   ]
  },
  {
   "cell_type": "markdown",
   "id": "07599216",
   "metadata": {},
   "source": [
    "## Task 2:Dictionary Creation"
   ]
  },
  {
   "cell_type": "markdown",
   "id": "8e42be59",
   "metadata": {},
   "source": [
    "### Inventory Status\n",
    "\n",
    "Our products and inventory levels are in the lists below.\n",
    "\n",
    "Run the cell below to create the lists."
   ]
  },
  {
   "cell_type": "code",
   "execution_count": 46,
   "id": "e21605e1",
   "metadata": {},
   "outputs": [],
   "source": [
    "items = ['skis', 'snowboard', 'goggles', 'boots']\n",
    "inventory = [10, 0, 0, 7] "
   ]
  },
  {
   "cell_type": "markdown",
   "id": "845b542a",
   "metadata": {},
   "source": [
    "### Inventory Status Dictionary\n",
    "\n",
    "Can you create a dictionary that:\n",
    "\n",
    "* Stores item name as keys\n",
    "* Values are 'sold out' if inventory is 0, and 'in stock' if not?\n",
    "\n",
    "Don't create this by writing out all the key value pairs!\n",
    "\n",
    "Thanks!"
   ]
  },
  {
   "cell_type": "code",
   "execution_count": 49,
   "id": "70f8f231",
   "metadata": {},
   "outputs": [],
   "source": [
    "item_sold ={}"
   ]
  },
  {
   "cell_type": "code",
   "execution_count": 51,
   "id": "27a69a4b",
   "metadata": {},
   "outputs": [
    {
     "name": "stdout",
     "output_type": "stream",
     "text": [
      "{'skis': 'sold out', 'snowboard': 'in stock', 'goggles': 'in stock', 'boots': 'sold out'}\n"
     ]
    }
   ],
   "source": [
    "inventory_status ={}\n",
    "\n",
    "\n",
    "for i,element in enumerate(items):\n",
    "    if inventory[i]==0:\n",
    "        inventory_status[element] = \"in stock\"\n",
    "    else:\n",
    "        inventory_status[element] = \"sold out\"\n",
    "        \n",
    "print(inventory_status)"
   ]
  },
  {
   "cell_type": "code",
   "execution_count": 52,
   "id": "8a5f10f8",
   "metadata": {},
   "outputs": [
    {
     "data": {
      "text/plain": [
       "{'skis': 'sold out',\n",
       " 'snowboard': 'in stock',\n",
       " 'goggles': 'in stock',\n",
       " 'boots': 'sold out'}"
      ]
     },
     "execution_count": 52,
     "metadata": {},
     "output_type": "execute_result"
    }
   ],
   "source": [
    "inventory_status"
   ]
  },
  {
   "cell_type": "markdown",
   "id": "48df509a",
   "metadata": {},
   "source": [
    "***"
   ]
  },
  {
   "cell_type": "markdown",
   "id": "caea64ad",
   "metadata": {},
   "source": [
    "## Dictionary Methods"
   ]
  },
  {
   "cell_type": "markdown",
   "id": "d20da6f6",
   "metadata": {},
   "source": [
    "* .keys() -- returns the key of the dictionary.\n",
    "* .values() -- returns the values from the dictionary.\n",
    "* .items() -- returns the key value pairs in the dictionary as list of tuples.\n",
    "* .get() --if the key is not found returns a value for a key.\n",
    "* .update() -- Appends the specific key value pair "
   ]
  },
  {
   "cell_type": "code",
   "execution_count": 1,
   "id": "4be379ed",
   "metadata": {},
   "outputs": [],
   "source": [
    "boxes ={'apple':[100,20,30,'sold-out'],\n",
    "       'banana':[200,14,30,'in-store'],\n",
    "       'grapes':[230,70,80,'sold-out']}\n"
   ]
  },
  {
   "cell_type": "code",
   "execution_count": 2,
   "id": "08d5ff2a",
   "metadata": {},
   "outputs": [
    {
     "data": {
      "text/plain": [
       "{'apple': [100, 20, 30, 'sold-out'],\n",
       " 'banana': [200, 14, 30, 'in-store'],\n",
       " 'grapes': [230, 70, 80, 'sold-out']}"
      ]
     },
     "execution_count": 2,
     "metadata": {},
     "output_type": "execute_result"
    }
   ],
   "source": [
    "boxes\n"
   ]
  },
  {
   "cell_type": "code",
   "execution_count": 3,
   "id": "f5b36782",
   "metadata": {},
   "outputs": [
    {
     "data": {
      "text/plain": [
       "[200, 14, 30, 'in-store']"
      ]
     },
     "execution_count": 3,
     "metadata": {},
     "output_type": "execute_result"
    }
   ],
   "source": [
    "boxes.get('banana')"
   ]
  },
  {
   "cell_type": "code",
   "execution_count": 5,
   "id": "4c6bb022",
   "metadata": {},
   "outputs": [
    {
     "data": {
      "text/plain": [
       "dict_keys(['apple', 'banana', 'grapes'])"
      ]
     },
     "execution_count": 5,
     "metadata": {},
     "output_type": "execute_result"
    }
   ],
   "source": [
    "boxes.keys()"
   ]
  },
  {
   "cell_type": "code",
   "execution_count": 7,
   "id": "af72206e",
   "metadata": {},
   "outputs": [
    {
     "data": {
      "text/plain": [
       "dict_values([[100, 20, 30, 'sold-out'], [200, 14, 30, 'in-store'], [230, 70, 80, 'sold-out']])"
      ]
     },
     "execution_count": 7,
     "metadata": {},
     "output_type": "execute_result"
    }
   ],
   "source": [
    "boxes.values()"
   ]
  },
  {
   "cell_type": "code",
   "execution_count": 8,
   "id": "e9520b4f",
   "metadata": {},
   "outputs": [
    {
     "data": {
      "text/plain": [
       "dict_items([('apple', [100, 20, 30, 'sold-out']), ('banana', [200, 14, 30, 'in-store']), ('grapes', [230, 70, 80, 'sold-out'])])"
      ]
     },
     "execution_count": 8,
     "metadata": {},
     "output_type": "execute_result"
    }
   ],
   "source": [
    "boxes.items()"
   ]
  },
  {
   "cell_type": "code",
   "execution_count": 12,
   "id": "28d27ac7",
   "metadata": {},
   "outputs": [
    {
     "data": {
      "text/plain": [
       "'items not found'"
      ]
     },
     "execution_count": 12,
     "metadata": {},
     "output_type": "execute_result"
    }
   ],
   "source": [
    "boxes.get('jackfruit','items not found')## this jackfruit is not found in the dictionary\n",
    "                                            # so the value return as -instead of error,this helps while loop execute"
   ]
  },
  {
   "cell_type": "code",
   "execution_count": 14,
   "id": "f3b909d0",
   "metadata": {},
   "outputs": [],
   "source": [
    "boxes.update({'watermelon':[100,2,89,'in-store']})"
   ]
  },
  {
   "cell_type": "code",
   "execution_count": 15,
   "id": "63d5bea7",
   "metadata": {},
   "outputs": [
    {
     "data": {
      "text/plain": [
       "{'apple': [100, 20, 30, 'sold-out'],\n",
       " 'banana': [200, 14, 30, 'in-store'],\n",
       " 'grapes': [230, 70, 80, 'sold-out'],\n",
       " 'watermelon': [100, 2, 89, 'in-store']}"
      ]
     },
     "execution_count": 15,
     "metadata": {},
     "output_type": "execute_result"
    }
   ],
   "source": [
    "boxes\n"
   ]
  },
  {
   "cell_type": "markdown",
   "id": "50c0d9f2",
   "metadata": {},
   "source": [
    "***"
   ]
  },
  {
   "cell_type": "markdown",
   "id": "a8aec5cc",
   "metadata": {},
   "source": [
    "## Task 3:Dictionary Methods"
   ]
  },
  {
   "cell_type": "markdown",
   "id": "d779636b",
   "metadata": {},
   "source": [
    "### Help with European Data"
   ]
  },
  {
   "cell_type": "markdown",
   "id": "1dc158ba",
   "metadata": {},
   "source": [
    "Below is our product dictionary, `item_dict`. We need to use it to get some data for our European team.\n",
    "\n",
    "Run the cell below to create the dictionary."
   ]
  },
  {
   "cell_type": "code",
   "execution_count": 16,
   "id": "1bec2784",
   "metadata": {},
   "outputs": [],
   "source": [
    "item_dict = {\n",
    "    10001: ('Coffee', 5.99, 'beverage', ['250mL']),\n",
    "    10002: ('Beanie', 9.99, 'clothing', ['Child', 'Adult']),\n",
    "    10003: ('Gloves', 19.99, 'clothing', ['Child', 'Adult']),\n",
    "    10004: ('Sweatshirt', 24.99, 'clothing', ['XS', 'S', 'M', 'L', 'XL', 'XXL']),\n",
    "    10005: ('Helmet', 99.99, 'safety', ['Child', 'Adult']),\n",
    "    10006: ('Snow Pants', 79.99, 'clothing', ['XS', 'S', 'M', 'L', 'XL', 'XXL']),\n",
    "    10007: ('Coat', 119.99, 'clothing', ['S', 'M', 'L']),\n",
    "    10008: ('Ski Poles', 99.99, 'hardware', ['S', 'M', 'L']),\n",
    "    10009: ('Ski Boots', 199.99, 'hardware', [5, 6, 7, 8, 9, 10, 11])\n",
    "}"
   ]
  },
  {
   "cell_type": "markdown",
   "id": "66f86085",
   "metadata": {},
   "source": [
    "### Size Counts\n",
    "\n",
    "First I need a dictionary with the item numbers in `item_dict` as keys, and the number of sizes available for each item as the values. Sizes are stored in lists at the end of each 'row' of data. Key 10001 has a list with one size, 250ml at the end."
   ]
  },
  {
   "cell_type": "code",
   "execution_count": 20,
   "id": "1a2d5bc3",
   "metadata": {},
   "outputs": [
    {
     "data": {
      "text/plain": [
       "dict_keys([10001, 10002, 10003, 10004, 10005, 10006, 10007, 10008, 10009])"
      ]
     },
     "execution_count": 20,
     "metadata": {},
     "output_type": "execute_result"
    }
   ],
   "source": [
    "item_dict.keys()"
   ]
  },
  {
   "cell_type": "code",
   "execution_count": 24,
   "id": "9dd8a519",
   "metadata": {},
   "outputs": [
    {
     "data": {
      "text/plain": [
       "1"
      ]
     },
     "execution_count": 24,
     "metadata": {},
     "output_type": "execute_result"
    }
   ],
   "source": [
    "len(item_dict[10001][3])"
   ]
  },
  {
   "cell_type": "code",
   "execution_count": 32,
   "id": "09b56659",
   "metadata": {},
   "outputs": [
    {
     "name": "stdout",
     "output_type": "stream",
     "text": [
      "{10001: 1, 10002: 2, 10003: 2, 10004: 6, 10005: 2, 10006: 6, 10007: 3, 10008: 3, 10009: 7}\n"
     ]
    }
   ],
   "source": [
    "size ={}\n",
    "\n",
    "for key,value in item_dict.items():\n",
    "    size[key]= len(value[3])\n",
    "print(size)"
   ]
  },
  {
   "cell_type": "markdown",
   "id": "6d47c745",
   "metadata": {},
   "source": [
    "### New Size Options\n",
    "\n",
    "Now that you've done that, we need to add two products to `size_counts`:\n",
    "\n",
    "* Item 10010 has 4 sizes.\n",
    "* Item 10011 has 7 possible sizes."
   ]
  },
  {
   "cell_type": "code",
   "execution_count": 37,
   "id": "1b1b53fa",
   "metadata": {},
   "outputs": [],
   "source": [
    "size[10010]=4"
   ]
  },
  {
   "cell_type": "code",
   "execution_count": 39,
   "id": "7d6b4b6f",
   "metadata": {},
   "outputs": [],
   "source": [
    "del item_dict[10010]"
   ]
  },
  {
   "cell_type": "code",
   "execution_count": 40,
   "id": "f1c2af75",
   "metadata": {},
   "outputs": [
    {
     "data": {
      "text/plain": [
       "{10001: ('Coffee', 5.99, 'beverage', ['250mL']),\n",
       " 10002: ('Beanie', 9.99, 'clothing', ['Child', 'Adult']),\n",
       " 10003: ('Gloves', 19.99, 'clothing', ['Child', 'Adult']),\n",
       " 10004: ('Sweatshirt', 24.99, 'clothing', ['XS', 'S', 'M', 'L', 'XL', 'XXL']),\n",
       " 10005: ('Helmet', 99.99, 'safety', ['Child', 'Adult']),\n",
       " 10006: ('Snow Pants', 79.99, 'clothing', ['XS', 'S', 'M', 'L', 'XL', 'XXL']),\n",
       " 10007: ('Coat', 119.99, 'clothing', ['S', 'M', 'L']),\n",
       " 10008: ('Ski Poles', 99.99, 'hardware', ['S', 'M', 'L']),\n",
       " 10009: ('Ski Boots', 199.99, 'hardware', [5, 6, 7, 8, 9, 10, 11])}"
      ]
     },
     "execution_count": 40,
     "metadata": {},
     "output_type": "execute_result"
    }
   ],
   "source": [
    "item_dict"
   ]
  },
  {
   "cell_type": "code",
   "execution_count": 43,
   "id": "301ccba9",
   "metadata": {},
   "outputs": [],
   "source": [
    "del size[10010]"
   ]
  },
  {
   "cell_type": "code",
   "execution_count": 44,
   "id": "c9c669e5",
   "metadata": {},
   "outputs": [
    {
     "data": {
      "text/plain": [
       "{10001: 1,\n",
       " 10002: 2,\n",
       " 10003: 2,\n",
       " 10004: 6,\n",
       " 10005: 2,\n",
       " 10006: 6,\n",
       " 10007: 3,\n",
       " 10008: 3,\n",
       " 10009: 7}"
      ]
     },
     "execution_count": 44,
     "metadata": {},
     "output_type": "execute_result"
    }
   ],
   "source": [
    "size"
   ]
  },
  {
   "cell_type": "code",
   "execution_count": 45,
   "id": "eb076248",
   "metadata": {},
   "outputs": [],
   "source": [
    "size.update({10010:4,10011:7})"
   ]
  },
  {
   "cell_type": "code",
   "execution_count": 46,
   "id": "3135000b",
   "metadata": {},
   "outputs": [
    {
     "data": {
      "text/plain": [
       "{10001: 1,\n",
       " 10002: 2,\n",
       " 10003: 2,\n",
       " 10004: 6,\n",
       " 10005: 2,\n",
       " 10006: 6,\n",
       " 10007: 3,\n",
       " 10008: 3,\n",
       " 10009: 7,\n",
       " 10010: 4,\n",
       " 10011: 7}"
      ]
     },
     "execution_count": 46,
     "metadata": {},
     "output_type": "execute_result"
    }
   ],
   "source": [
    "size"
   ]
  },
  {
   "cell_type": "markdown",
   "id": "794642de",
   "metadata": {},
   "source": [
    "### Euro Pricing\n",
    "\n",
    "Finally, pull the prices out of `item_dict` and create a list with converted Euro pricing. Use an exchange rate of .88."
   ]
  },
  {
   "cell_type": "code",
   "execution_count": 47,
   "id": "aa229a0c",
   "metadata": {},
   "outputs": [],
   "source": [
    "exchange_rate = .88\n",
    "\n"
   ]
  },
  {
   "cell_type": "code",
   "execution_count": 48,
   "id": "7bf8670e",
   "metadata": {},
   "outputs": [
    {
     "data": {
      "text/plain": [
       "{10001: ('Coffee', 5.99, 'beverage', ['250mL']),\n",
       " 10002: ('Beanie', 9.99, 'clothing', ['Child', 'Adult']),\n",
       " 10003: ('Gloves', 19.99, 'clothing', ['Child', 'Adult']),\n",
       " 10004: ('Sweatshirt', 24.99, 'clothing', ['XS', 'S', 'M', 'L', 'XL', 'XXL']),\n",
       " 10005: ('Helmet', 99.99, 'safety', ['Child', 'Adult']),\n",
       " 10006: ('Snow Pants', 79.99, 'clothing', ['XS', 'S', 'M', 'L', 'XL', 'XXL']),\n",
       " 10007: ('Coat', 119.99, 'clothing', ['S', 'M', 'L']),\n",
       " 10008: ('Ski Poles', 99.99, 'hardware', ['S', 'M', 'L']),\n",
       " 10009: ('Ski Boots', 199.99, 'hardware', [5, 6, 7, 8, 9, 10, 11])}"
      ]
     },
     "execution_count": 48,
     "metadata": {},
     "output_type": "execute_result"
    }
   ],
   "source": [
    "#pull the price \n",
    "item_dict"
   ]
  },
  {
   "cell_type": "code",
   "execution_count": 49,
   "id": "91dfb00f",
   "metadata": {},
   "outputs": [
    {
     "name": "stdout",
     "output_type": "stream",
     "text": [
      "[5.99, 9.99, 19.99, 24.99, 99.99, 79.99, 119.99, 99.99, 199.99]\n"
     ]
    }
   ],
   "source": [
    "euro_price =[]\n",
    "for key,value in item_dict.items():\n",
    "    euro_price.append(value[1])\n",
    "print(euro_price)"
   ]
  },
  {
   "cell_type": "code",
   "execution_count": 52,
   "id": "3fd26b33",
   "metadata": {},
   "outputs": [
    {
     "name": "stdout",
     "output_type": "stream",
     "text": [
      "[5.27, 8.79, 17.59, 21.99, 87.99, 70.39, 105.59, 87.99, 175.99]\n"
     ]
    }
   ],
   "source": [
    "new_price =[]\n",
    "for i in euro_price:\n",
    "    new_price.append(round(i*exchange_rate,2))\n",
    "print(new_price)\n",
    "    "
   ]
  },
  {
   "cell_type": "code",
   "execution_count": 53,
   "id": "49932c67",
   "metadata": {},
   "outputs": [
    {
     "data": {
      "text/plain": [
       "[5.27, 8.79, 17.59, 21.99, 87.99, 70.39, 105.59, 87.99, 175.99]"
      ]
     },
     "execution_count": 53,
     "metadata": {},
     "output_type": "execute_result"
    }
   ],
   "source": [
    "new_price"
   ]
  },
  {
   "cell_type": "markdown",
   "id": "723463e1",
   "metadata": {},
   "source": [
    "***"
   ]
  },
  {
   "cell_type": "markdown",
   "id": "6ea03425",
   "metadata": {},
   "source": [
    "## Zip function"
   ]
  },
  {
   "cell_type": "markdown",
   "id": "3d8d328d",
   "metadata": {},
   "source": [
    "Zip function combine two iterables like list into a single iterator of tuples."
   ]
  },
  {
   "cell_type": "code",
   "execution_count": 1,
   "id": "c1259403",
   "metadata": {},
   "outputs": [],
   "source": [
    "item_list =['snow','box','board']\n",
    "price_list =[20,40,90]"
   ]
  },
  {
   "cell_type": "code",
   "execution_count": 3,
   "id": "9fde9f1e",
   "metadata": {},
   "outputs": [],
   "source": [
    "item_price =list(zip(item_list,price_list))"
   ]
  },
  {
   "cell_type": "code",
   "execution_count": 4,
   "id": "add3b299",
   "metadata": {},
   "outputs": [
    {
     "data": {
      "text/plain": [
       "[('snow', 20), ('box', 40), ('board', 90)]"
      ]
     },
     "execution_count": 4,
     "metadata": {},
     "output_type": "execute_result"
    }
   ],
   "source": [
    "item_price"
   ]
  },
  {
   "cell_type": "code",
   "execution_count": 5,
   "id": "df2ea3e6",
   "metadata": {},
   "outputs": [],
   "source": [
    "status =['in store','sold out','in store']"
   ]
  },
  {
   "cell_type": "code",
   "execution_count": 9,
   "id": "b4e52c2a",
   "metadata": {},
   "outputs": [],
   "source": [
    "item_price_status = list(zip(item_list,price_list,status))"
   ]
  },
  {
   "cell_type": "code",
   "execution_count": 10,
   "id": "b71439f8",
   "metadata": {},
   "outputs": [
    {
     "data": {
      "text/plain": [
       "[('snow', 20, 'in store'), ('box', 40, 'sold out'), ('board', 90, 'in store')]"
      ]
     },
     "execution_count": 10,
     "metadata": {},
     "output_type": "execute_result"
    }
   ],
   "source": [
    "item_price_status"
   ]
  },
  {
   "cell_type": "markdown",
   "id": "c908f7d3",
   "metadata": {},
   "source": [
    "***"
   ]
  },
  {
   "cell_type": "markdown",
   "id": "1e80ac88",
   "metadata": {},
   "source": [
    "## Task 4:Zip function"
   ]
  },
  {
   "cell_type": "markdown",
   "id": "f1a5c96c",
   "metadata": {},
   "source": [
    "### European Item Dictionary\n",
    "\n",
    "Hi there, we need to create a European price dictionary. \n",
    "\n",
    "The data is stored in the lists below. Run the cell below to create the lists you need."
   ]
  },
  {
   "cell_type": "code",
   "execution_count": 11,
   "id": "f838ab10",
   "metadata": {},
   "outputs": [],
   "source": [
    "# Data for dictionary \n",
    "\n",
    "item_ids = [\n",
    "    10001, 10002, 10003, 10004, 10005, \n",
    "    10006, 10007, 10008, 10009\n",
    "]\n",
    "\n",
    "item_names = [\n",
    "    \"Coffee\", \"Beanie\", \"Gloves\", \"Sweatshirt\", \"Helmet\",\n",
    "    \"Snow Pants\", \"Coat\", \"Ski Poles\", \"Ski Boots\"\n",
    "]\n",
    "\n",
    "euro_prices = [\n",
    "    5.27, 8.79, 17.59, 21.99, 87.99, \n",
    "    70.39, 105.59, 87.99, 175.99\n",
    "]\n",
    "\n",
    "item_category = [\n",
    "    \"beverage\", \"clothing\", \"clothing\", \"clothing\", \"safety\",\n",
    "    \"clothing\", \"clothing\", \"hardware\", \"hardware\",\n",
    "]\n",
    "\n",
    "sizes = [\n",
    "    [\"250mL\"],\n",
    "    [\"Child\", \"Adult\"],\n",
    "    [\"Child\", \"Adult\"],\n",
    "    [\"XS\", \"S\", \"M\", \"L\", \"XL\", \"XXL\"],\n",
    "    [\"Child\", \"Adult\"],\n",
    "    [\"XS\", \"S\", \"M\", \"L\", \"XL\", \"XXL\"],\n",
    "    [\"S\", \"M\", \"L\"],\n",
    "    [\"S\", \"M\", \"L\"],\n",
    "    [5, 6, 7, 8, 9, 10, 11],\n",
    "]"
   ]
  },
  {
   "cell_type": "code",
   "execution_count": 12,
   "id": "97122ceb",
   "metadata": {},
   "outputs": [],
   "source": [
    "Euro_price ={}"
   ]
  },
  {
   "cell_type": "markdown",
   "id": "b5f85702",
   "metadata": {},
   "source": [
    "Create a dictionary with the `item_ids` as keys and the rest of the data the values. \n",
    "\n",
    "We want the values to be in the order of `item_names`,`euro_prices`, `item_category`, `sizes`."
   ]
  },
  {
   "cell_type": "code",
   "execution_count": 13,
   "id": "58495d4f",
   "metadata": {},
   "outputs": [],
   "source": [
    "value = tuple(zip(item_names,euro_prices,item_category,sizes))"
   ]
  },
  {
   "cell_type": "code",
   "execution_count": 14,
   "id": "532831f6",
   "metadata": {},
   "outputs": [
    {
     "data": {
      "text/plain": [
       "(('Coffee', 5.27, 'beverage', ['250mL']),\n",
       " ('Beanie', 8.79, 'clothing', ['Child', 'Adult']),\n",
       " ('Gloves', 17.59, 'clothing', ['Child', 'Adult']),\n",
       " ('Sweatshirt', 21.99, 'clothing', ['XS', 'S', 'M', 'L', 'XL', 'XXL']),\n",
       " ('Helmet', 87.99, 'safety', ['Child', 'Adult']),\n",
       " ('Snow Pants', 70.39, 'clothing', ['XS', 'S', 'M', 'L', 'XL', 'XXL']),\n",
       " ('Coat', 105.59, 'clothing', ['S', 'M', 'L']),\n",
       " ('Ski Poles', 87.99, 'hardware', ['S', 'M', 'L']),\n",
       " ('Ski Boots', 175.99, 'hardware', [5, 6, 7, 8, 9, 10, 11]))"
      ]
     },
     "execution_count": 14,
     "metadata": {},
     "output_type": "execute_result"
    }
   ],
   "source": [
    "value"
   ]
  },
  {
   "cell_type": "code",
   "execution_count": 17,
   "id": "4ddaaacb",
   "metadata": {},
   "outputs": [],
   "source": [
    "euro_price =dict(zip(item_ids,value))"
   ]
  },
  {
   "cell_type": "code",
   "execution_count": 18,
   "id": "db8d6bd1",
   "metadata": {},
   "outputs": [
    {
     "data": {
      "text/plain": [
       "{10001: ('Coffee', 5.27, 'beverage', ['250mL']),\n",
       " 10002: ('Beanie', 8.79, 'clothing', ['Child', 'Adult']),\n",
       " 10003: ('Gloves', 17.59, 'clothing', ['Child', 'Adult']),\n",
       " 10004: ('Sweatshirt', 21.99, 'clothing', ['XS', 'S', 'M', 'L', 'XL', 'XXL']),\n",
       " 10005: ('Helmet', 87.99, 'safety', ['Child', 'Adult']),\n",
       " 10006: ('Snow Pants', 70.39, 'clothing', ['XS', 'S', 'M', 'L', 'XL', 'XXL']),\n",
       " 10007: ('Coat', 105.59, 'clothing', ['S', 'M', 'L']),\n",
       " 10008: ('Ski Poles', 87.99, 'hardware', ['S', 'M', 'L']),\n",
       " 10009: ('Ski Boots', 175.99, 'hardware', [5, 6, 7, 8, 9, 10, 11])}"
      ]
     },
     "execution_count": 18,
     "metadata": {},
     "output_type": "execute_result"
    }
   ],
   "source": [
    "euro_price"
   ]
  },
  {
   "cell_type": "markdown",
   "id": "79a96217",
   "metadata": {},
   "source": [
    "***"
   ]
  },
  {
   "cell_type": "markdown",
   "id": "145accd4",
   "metadata": {},
   "source": [
    "## Nested dictionaries"
   ]
  },
  {
   "cell_type": "markdown",
   "id": "d45ec8c3",
   "metadata": {},
   "source": [
    "We can **Nest dictionary** as a value of another dictionary."
   ]
  },
  {
   "cell_type": "code",
   "execution_count": 19,
   "id": "f3c9c017",
   "metadata": {},
   "outputs": [],
   "source": [
    "item_year ={2009:{'snow':[100,20,'in-stock'],'boxes':[300,48,'sold-out']},\n",
    "           2010:{'snow':[111,23,'sold-out'],'boxes':[42,22,'in-store']}}"
   ]
  },
  {
   "cell_type": "code",
   "execution_count": 20,
   "id": "e822d45d",
   "metadata": {},
   "outputs": [
    {
     "data": {
      "text/plain": [
       "{'snow': [100, 20, 'in-stock'], 'boxes': [300, 48, 'sold-out']}"
      ]
     },
     "execution_count": 20,
     "metadata": {},
     "output_type": "execute_result"
    }
   ],
   "source": [
    "item_year[2009]"
   ]
  },
  {
   "cell_type": "code",
   "execution_count": 23,
   "id": "295aa969",
   "metadata": {},
   "outputs": [
    {
     "data": {
      "text/plain": [
       "[300, 48, 'sold-out']"
      ]
     },
     "execution_count": 23,
     "metadata": {},
     "output_type": "execute_result"
    }
   ],
   "source": [
    "item_year[2009]['boxes']"
   ]
  },
  {
   "cell_type": "markdown",
   "id": "8dde0876",
   "metadata": {},
   "source": [
    "***"
   ]
  },
  {
   "cell_type": "markdown",
   "id": "fe4ed3cc",
   "metadata": {},
   "source": [
    "## Task 5:Nested dictionaries"
   ]
  },
  {
   "cell_type": "markdown",
   "id": "dc4fe5d7",
   "metadata": {},
   "source": [
    "### New European Dictionary\n",
    "\n",
    "Hi There, We have an new structure for our European data - a nested dictionary. \n",
    "\n",
    "Can you help me retieve some information?\n",
    "\n",
    "Run the top two cells to create the data."
   ]
  },
  {
   "cell_type": "code",
   "execution_count": 25,
   "id": "db7d6a85",
   "metadata": {},
   "outputs": [],
   "source": [
    "item_ids = [\n",
    "    10001, 10002, 10003, 10004, 10005, \n",
    "    10006, 10007, 10008, 10009\n",
    "]\n",
    "\n",
    "item_names = [\n",
    "    \"Coffee\", \"Beanie\", \"Gloves\", \"Sweatshirt\", \"Helmet\",\n",
    "    \"Snow Pants\", \"Coat\", \"Ski Poles\", \"Ski Boots\"\n",
    "]\n",
    "\n",
    "euro_prices = [\n",
    "    5.27, 8.79, 17.59, 21.99, 87.99, \n",
    "    70.39, 105.59, 87.99, 175.99\n",
    "]\n",
    "\n",
    "item_category = [\n",
    "    \"beverage\", \"clothing\", \"clothing\", \"clothing\", \"safety\",\n",
    "    \"clothing\", \"clothing\", \"hardware\", \"hardware\",\n",
    "]\n",
    "\n",
    "sizes = [\n",
    "    [\"250mL\"],\n",
    "    [\"Child\", \"Adult\"],\n",
    "    [\"Child\", \"Adult\"],\n",
    "    [\"XS\", \"S\", \"M\", \"L\", \"XL\", \"XXL\"],\n",
    "    [\"Child\", \"Adult\"],\n",
    "    [\"XS\", \"S\", \"M\", \"L\", \"XL\", \"XXL\"],\n",
    "    [\"S\", \"M\", \"L\"],\n",
    "    [\"S\", \"M\", \"L\"],\n",
    "    [5, 6, 7, 8, 9, 10, 11],\n",
    "    [\"S\", \"M\", \"L\"],\n",
    "    [5, 6, 7, 8, 9, 10, 11],\n",
    "    [\"NA\"],\n",
    "    [\"S\", \"M\", \"L\", \"Powder\"],\n",
    "]"
   ]
  },
  {
   "cell_type": "code",
   "execution_count": 26,
   "id": "e544c74a",
   "metadata": {},
   "outputs": [
    {
     "data": {
      "text/plain": [
       "{10001: {'name': 'Coffee',\n",
       "  'price': 5.27,\n",
       "  'category': 'beverage',\n",
       "  'sizes': ['250mL']},\n",
       " 10002: {'name': 'Beanie',\n",
       "  'price': 8.79,\n",
       "  'category': 'clothing',\n",
       "  'sizes': ['Child', 'Adult']},\n",
       " 10003: {'name': 'Gloves',\n",
       "  'price': 17.59,\n",
       "  'category': 'clothing',\n",
       "  'sizes': ['Child', 'Adult']},\n",
       " 10004: {'name': 'Sweatshirt',\n",
       "  'price': 21.99,\n",
       "  'category': 'clothing',\n",
       "  'sizes': ['XS', 'S', 'M', 'L', 'XL', 'XXL']},\n",
       " 10005: {'name': 'Helmet',\n",
       "  'price': 87.99,\n",
       "  'category': 'safety',\n",
       "  'sizes': ['Child', 'Adult']},\n",
       " 10006: {'name': 'Snow Pants',\n",
       "  'price': 70.39,\n",
       "  'category': 'clothing',\n",
       "  'sizes': ['XS', 'S', 'M', 'L', 'XL', 'XXL']},\n",
       " 10007: {'name': 'Coat',\n",
       "  'price': 105.59,\n",
       "  'category': 'clothing',\n",
       "  'sizes': ['S', 'M', 'L']},\n",
       " 10008: {'name': 'Ski Poles',\n",
       "  'price': 87.99,\n",
       "  'category': 'hardware',\n",
       "  'sizes': ['S', 'M', 'L']},\n",
       " 10009: {'name': 'Ski Boots',\n",
       "  'price': 175.99,\n",
       "  'category': 'hardware',\n",
       "  'sizes': [5, 6, 7, 8, 9, 10, 11]}}"
      ]
     },
     "execution_count": 26,
     "metadata": {},
     "output_type": "execute_result"
    }
   ],
   "source": [
    "# Note: this is a dictionary comprension \n",
    "\n",
    "euro_data = {\n",
    "    item_id: {\"name\": name, \"price\": price, \"category\": category, \"sizes\": sizes}\n",
    "    for item_id, name, price, category, sizes in zip(\n",
    "        item_ids, item_names, euro_prices, item_category, sizes\n",
    "    )\n",
    "}\n",
    "\n",
    "euro_data"
   ]
  },
  {
   "cell_type": "markdown",
   "id": "c05b9127",
   "metadata": {},
   "source": [
    "### Lookup Data\n",
    "\n",
    "Can you check the price for item 10009? I want to make sure we loaded the data correctly."
   ]
  },
  {
   "cell_type": "code",
   "execution_count": 27,
   "id": "0b3b88fe",
   "metadata": {},
   "outputs": [
    {
     "data": {
      "text/plain": [
       "175.99"
      ]
     },
     "execution_count": 27,
     "metadata": {},
     "output_type": "execute_result"
    }
   ],
   "source": [
    "euro_data[10009]['price']"
   ]
  },
  {
   "cell_type": "markdown",
   "id": "429ad1f4",
   "metadata": {},
   "source": [
    "### European Sizes\n",
    "\n",
    "Now can you change the size for the boots (item 10009) to European shoe sizing? \n",
    "\n",
    "The European sizes are in a list below."
   ]
  },
  {
   "cell_type": "code",
   "execution_count": 28,
   "id": "5596e1f6",
   "metadata": {},
   "outputs": [],
   "source": [
    "boot_sizes = [37, 38, 39.5, 40.5, 41.5, 43.5, 44.5, 46.5]"
   ]
  },
  {
   "cell_type": "code",
   "execution_count": 29,
   "id": "eec24b97",
   "metadata": {},
   "outputs": [
    {
     "data": {
      "text/plain": [
       "{'name': 'Ski Boots',\n",
       " 'price': 175.99,\n",
       " 'category': 'hardware',\n",
       " 'sizes': [5, 6, 7, 8, 9, 10, 11]}"
      ]
     },
     "execution_count": 29,
     "metadata": {},
     "output_type": "execute_result"
    }
   ],
   "source": [
    "euro_data[10009]"
   ]
  },
  {
   "cell_type": "code",
   "execution_count": 30,
   "id": "6f4c821b",
   "metadata": {},
   "outputs": [],
   "source": [
    "euro_data[10009]['sizes'] =boot_sizes"
   ]
  },
  {
   "cell_type": "code",
   "execution_count": 31,
   "id": "a2d0f328",
   "metadata": {},
   "outputs": [
    {
     "data": {
      "text/plain": [
       "{'name': 'Ski Boots',\n",
       " 'price': 175.99,\n",
       " 'category': 'hardware',\n",
       " 'sizes': [37, 38, 39.5, 40.5, 41.5, 43.5, 44.5, 46.5]}"
      ]
     },
     "execution_count": 31,
     "metadata": {},
     "output_type": "execute_result"
    }
   ],
   "source": [
    "euro_data[10009]"
   ]
  },
  {
   "cell_type": "markdown",
   "id": "aeda2e95",
   "metadata": {},
   "source": [
    "### Size Dictionary\n",
    "\n",
    "Thanks for you help. The last thing I need is a dictionary with item names as keys, and sizes (keep them in a list) as the values."
   ]
  },
  {
   "cell_type": "code",
   "execution_count": 32,
   "id": "258d800a",
   "metadata": {},
   "outputs": [
    {
     "data": {
      "text/plain": [
       "{10001: {'name': 'Coffee',\n",
       "  'price': 5.27,\n",
       "  'category': 'beverage',\n",
       "  'sizes': ['250mL']},\n",
       " 10002: {'name': 'Beanie',\n",
       "  'price': 8.79,\n",
       "  'category': 'clothing',\n",
       "  'sizes': ['Child', 'Adult']},\n",
       " 10003: {'name': 'Gloves',\n",
       "  'price': 17.59,\n",
       "  'category': 'clothing',\n",
       "  'sizes': ['Child', 'Adult']},\n",
       " 10004: {'name': 'Sweatshirt',\n",
       "  'price': 21.99,\n",
       "  'category': 'clothing',\n",
       "  'sizes': ['XS', 'S', 'M', 'L', 'XL', 'XXL']},\n",
       " 10005: {'name': 'Helmet',\n",
       "  'price': 87.99,\n",
       "  'category': 'safety',\n",
       "  'sizes': ['Child', 'Adult']},\n",
       " 10006: {'name': 'Snow Pants',\n",
       "  'price': 70.39,\n",
       "  'category': 'clothing',\n",
       "  'sizes': ['XS', 'S', 'M', 'L', 'XL', 'XXL']},\n",
       " 10007: {'name': 'Coat',\n",
       "  'price': 105.59,\n",
       "  'category': 'clothing',\n",
       "  'sizes': ['S', 'M', 'L']},\n",
       " 10008: {'name': 'Ski Poles',\n",
       "  'price': 87.99,\n",
       "  'category': 'hardware',\n",
       "  'sizes': ['S', 'M', 'L']},\n",
       " 10009: {'name': 'Ski Boots',\n",
       "  'price': 175.99,\n",
       "  'category': 'hardware',\n",
       "  'sizes': [37, 38, 39.5, 40.5, 41.5, 43.5, 44.5, 46.5]}}"
      ]
     },
     "execution_count": 32,
     "metadata": {},
     "output_type": "execute_result"
    }
   ],
   "source": [
    "euro_data"
   ]
  },
  {
   "cell_type": "code",
   "execution_count": 42,
   "id": "8553558d",
   "metadata": {},
   "outputs": [
    {
     "data": {
      "text/plain": [
       "{'Coffee': ['250mL'],\n",
       " 'Beanie': ['Child', 'Adult'],\n",
       " 'Gloves': ['Child', 'Adult'],\n",
       " 'Sweatshirt': ['XS', 'S', 'M', 'L', 'XL', 'XXL'],\n",
       " 'Helmet': ['Child', 'Adult'],\n",
       " 'Snow Pants': ['XS', 'S', 'M', 'L', 'XL', 'XXL'],\n",
       " 'Coat': ['S', 'M', 'L'],\n",
       " 'Ski Poles': ['S', 'M', 'L'],\n",
       " 'Ski Boots': [37, 38, 39.5, 40.5, 41.5, 43.5, 44.5, 46.5]}"
      ]
     },
     "execution_count": 42,
     "metadata": {},
     "output_type": "execute_result"
    }
   ],
   "source": [
    "product_sizes={}\n",
    "for key,values in euro_data.items():\n",
    "    product_sizes[values['name']] = values['sizes']\n",
    "(product_sizes)"
   ]
  },
  {
   "cell_type": "markdown",
   "id": "84f41791",
   "metadata": {},
   "source": [
    "***"
   ]
  },
  {
   "cell_type": "markdown",
   "id": "4c151115",
   "metadata": {},
   "source": [
    "## Sets"
   ]
  },
  {
   "cell_type": "markdown",
   "id": "fd60c62b",
   "metadata": {},
   "source": [
    "**Set** is a collection of unique values.<br>\n",
    "1. Set are unordered which means their values cannot be accessed via indexing or key.\n",
    "2. Sets are mutable(added/removed) but set values are unique and immutable"
   ]
  },
  {
   "cell_type": "code",
   "execution_count": 43,
   "id": "3cb95020",
   "metadata": {},
   "outputs": [],
   "source": [
    "new_set ={'boxes','board','glasses','paper','pen','pen','paper'}"
   ]
  },
  {
   "cell_type": "code",
   "execution_count": 44,
   "id": "a9826c62",
   "metadata": {},
   "outputs": [
    {
     "data": {
      "text/plain": [
       "{'board', 'boxes', 'glasses', 'paper', 'pen'}"
      ]
     },
     "execution_count": 44,
     "metadata": {},
     "output_type": "execute_result"
    }
   ],
   "source": [
    "new_set"
   ]
  },
  {
   "cell_type": "code",
   "execution_count": 45,
   "id": "f1f52444",
   "metadata": {},
   "outputs": [],
   "source": [
    "new_list =['boxes',10,20,11,10]"
   ]
  },
  {
   "cell_type": "code",
   "execution_count": 46,
   "id": "a4302af2",
   "metadata": {},
   "outputs": [
    {
     "data": {
      "text/plain": [
       "['boxes', 10, 20, 11, 10]"
      ]
     },
     "execution_count": 46,
     "metadata": {},
     "output_type": "execute_result"
    }
   ],
   "source": [
    "new_list"
   ]
  },
  {
   "cell_type": "code",
   "execution_count": 47,
   "id": "a6796f93",
   "metadata": {},
   "outputs": [],
   "source": [
    "set2 =set(new_list)"
   ]
  },
  {
   "cell_type": "code",
   "execution_count": 48,
   "id": "057c8e53",
   "metadata": {},
   "outputs": [
    {
     "data": {
      "text/plain": [
       "{10, 11, 20, 'boxes'}"
      ]
     },
     "execution_count": 48,
     "metadata": {},
     "output_type": "execute_result"
    }
   ],
   "source": [
    "set2"
   ]
  },
  {
   "cell_type": "code",
   "execution_count": 49,
   "id": "498c7f4a",
   "metadata": {},
   "outputs": [
    {
     "data": {
      "text/plain": [
       "True"
      ]
     },
     "execution_count": 49,
     "metadata": {},
     "output_type": "execute_result"
    }
   ],
   "source": [
    "#membership test in set\n",
    "\n",
    "'glasses' in new_set"
   ]
  },
  {
   "cell_type": "markdown",
   "id": "91cffd79",
   "metadata": {},
   "source": [
    "### Product Category Analysis\n",
    "\n",
    "Hi There,\n",
    "\n",
    "I've supplied the code to create our European item dictionary below.\n",
    "\n",
    "Run the top cell first to create the data."
   ]
  },
  {
   "cell_type": "code",
   "execution_count": 51,
   "id": "87d1ee96",
   "metadata": {},
   "outputs": [],
   "source": [
    "item_ids = [\n",
    "    10001, 10002, 10003, 10004, 10005, \n",
    "    10006, 10007, 10008, 10009\n",
    "]\n",
    "\n",
    "item_names = [\n",
    "    \"Coffee\", \"Beanie\", \"Gloves\", \"Sweatshirt\", \"Helmet\",\n",
    "    \"Snow Pants\", \"Coat\", \"Ski Poles\", \"Ski Boots\"\n",
    "]\n",
    "\n",
    "euro_prices = [\n",
    "    5.27, 8.79, 17.59, 21.99, 87.99, \n",
    "    70.39, 105.59, 87.99, 175.99\n",
    "]\n",
    "\n",
    "item_category = [\n",
    "    \"beverage\", \"clothing\", \"clothing\", \"clothing\", \"safety\",\n",
    "    \"clothing\", \"clothing\", \"hardware\", \"hardware\",\n",
    "]\n",
    "\n",
    "sizes = [\n",
    "    [\"250mL\"],\n",
    "    [\"Child\", \"Adult\"],\n",
    "    [\"Child\", \"Adult\"],\n",
    "    [\"XS\", \"S\", \"M\", \"L\", \"XL\", \"XXL\"],\n",
    "    [\"Child\", \"Adult\"],\n",
    "    [\"XS\", \"S\", \"M\", \"L\", \"XL\", \"XXL\"],\n",
    "    [\"S\", \"M\", \"L\"],\n",
    "    [\"S\", \"M\", \"L\"],\n",
    "    [5, 6, 7, 8, 9, 10, 11],\n",
    "    [\"S\", \"M\", \"L\"],\n",
    "    [5, 6, 7, 8, 9, 10, 11],\n",
    "    [\"NA\"],\n",
    "    [\"S\", \"M\", \"L\", \"Powder\"],\n",
    "]"
   ]
  },
  {
   "cell_type": "markdown",
   "id": "d5c2bac4",
   "metadata": {},
   "source": [
    "### Unique Categories\n",
    "\n",
    "Can you collect the unique item categories from the dictionary `euro_items`? \n",
    "\n",
    "It's the first step in my analysis."
   ]
  },
  {
   "cell_type": "code",
   "execution_count": 52,
   "id": "10192869",
   "metadata": {},
   "outputs": [
    {
     "data": {
      "text/plain": [
       "['beverage',\n",
       " 'clothing',\n",
       " 'clothing',\n",
       " 'clothing',\n",
       " 'safety',\n",
       " 'clothing',\n",
       " 'clothing',\n",
       " 'hardware',\n",
       " 'hardware']"
      ]
     },
     "execution_count": 52,
     "metadata": {},
     "output_type": "execute_result"
    }
   ],
   "source": [
    "item_category"
   ]
  },
  {
   "cell_type": "code",
   "execution_count": 53,
   "id": "19f35f53",
   "metadata": {},
   "outputs": [],
   "source": [
    "unique_items =set(item_category)"
   ]
  },
  {
   "cell_type": "code",
   "execution_count": 54,
   "id": "881bf452",
   "metadata": {},
   "outputs": [
    {
     "data": {
      "text/plain": [
       "{'beverage', 'clothing', 'hardware', 'safety'}"
      ]
     },
     "execution_count": 54,
     "metadata": {},
     "output_type": "execute_result"
    }
   ],
   "source": [
    "unique_items"
   ]
  },
  {
   "cell_type": "markdown",
   "id": "dde22422",
   "metadata": {},
   "source": [
    "### How many categories are there?\n",
    "\n",
    "Now that you have that, how many categories are there?"
   ]
  },
  {
   "cell_type": "code",
   "execution_count": 56,
   "id": "3775305f",
   "metadata": {},
   "outputs": [],
   "source": [
    "category_count=(len(unique_items))"
   ]
  },
  {
   "cell_type": "code",
   "execution_count": 57,
   "id": "04ce7644",
   "metadata": {},
   "outputs": [
    {
     "data": {
      "text/plain": [
       "4"
      ]
     },
     "execution_count": 57,
     "metadata": {},
     "output_type": "execute_result"
    }
   ],
   "source": [
    "category_count"
   ]
  },
  {
   "cell_type": "markdown",
   "id": "67553c64",
   "metadata": {},
   "source": [
    "### Is 'outdoor' in our set of categories?\n",
    "\n",
    "Outdoor equipment is popular in Europe - can you see if we've added items from that category based on the unique categories you created? "
   ]
  },
  {
   "cell_type": "code",
   "execution_count": 59,
   "id": "60fca8c5",
   "metadata": {},
   "outputs": [
    {
     "data": {
      "text/plain": [
       "False"
      ]
     },
     "execution_count": 59,
     "metadata": {},
     "output_type": "execute_result"
    }
   ],
   "source": [
    "'Outdoor' in unique_items"
   ]
  },
  {
   "cell_type": "markdown",
   "id": "ebfe9995",
   "metadata": {},
   "source": [
    "***"
   ]
  },
  {
   "cell_type": "markdown",
   "id": "7f071159",
   "metadata": {},
   "source": [
    "## Set operations"
   ]
  },
  {
   "cell_type": "code",
   "execution_count": 60,
   "id": "e630b62e",
   "metadata": {},
   "outputs": [],
   "source": [
    "sunday_items ={'icecream','chocolate','fruits','vegetables','snacks'}\n",
    "monday_items ={'icecream','juices','chocolate','vegetables'}"
   ]
  },
  {
   "cell_type": "code",
   "execution_count": 62,
   "id": "2e0391dd",
   "metadata": {},
   "outputs": [
    {
     "data": {
      "text/plain": [
       "{'chocolate', 'fruits', 'icecream', 'juices', 'snacks', 'vegetables'}"
      ]
     },
     "execution_count": 62,
     "metadata": {},
     "output_type": "execute_result"
    }
   ],
   "source": [
    "union = sunday_items.union(monday_items)\n",
    "union"
   ]
  },
  {
   "cell_type": "code",
   "execution_count": 63,
   "id": "f176d6ca",
   "metadata": {},
   "outputs": [],
   "source": [
    "intersection =sunday_items.intersection(monday_items)"
   ]
  },
  {
   "cell_type": "code",
   "execution_count": 64,
   "id": "23de421c",
   "metadata": {},
   "outputs": [
    {
     "data": {
      "text/plain": [
       "{'chocolate', 'icecream', 'vegetables'}"
      ]
     },
     "execution_count": 64,
     "metadata": {},
     "output_type": "execute_result"
    }
   ],
   "source": [
    "intersection"
   ]
  },
  {
   "cell_type": "code",
   "execution_count": 69,
   "id": "6737dc01",
   "metadata": {},
   "outputs": [
    {
     "data": {
      "text/plain": [
       "{'fruits', 'snacks'}"
      ]
     },
     "execution_count": 69,
     "metadata": {},
     "output_type": "execute_result"
    }
   ],
   "source": [
    "difference1_sunday =sunday_items.difference(monday_items)\n",
    "difference1_sunday"
   ]
  },
  {
   "cell_type": "code",
   "execution_count": 70,
   "id": "f7f2d789",
   "metadata": {},
   "outputs": [],
   "source": [
    "difference2_monday =monday_items.difference(sunday_items)\n"
   ]
  },
  {
   "cell_type": "code",
   "execution_count": 71,
   "id": "eb42202e",
   "metadata": {},
   "outputs": [
    {
     "data": {
      "text/plain": [
       "{'juices'}"
      ]
     },
     "execution_count": 71,
     "metadata": {},
     "output_type": "execute_result"
    }
   ],
   "source": [
    "difference2_monday"
   ]
  },
  {
   "cell_type": "code",
   "execution_count": 72,
   "id": "9a9a50b1",
   "metadata": {},
   "outputs": [],
   "source": [
    "symmetry_items =monday_items.symmetric_difference(sunday_items)"
   ]
  },
  {
   "cell_type": "code",
   "execution_count": 73,
   "id": "c8ff7ba5",
   "metadata": {},
   "outputs": [
    {
     "data": {
      "text/plain": [
       "{'fruits', 'juices', 'snacks'}"
      ]
     },
     "execution_count": 73,
     "metadata": {},
     "output_type": "execute_result"
    }
   ],
   "source": [
    "symmetry_items"
   ]
  },
  {
   "cell_type": "markdown",
   "id": "6fa27951",
   "metadata": {},
   "source": [
    "***"
   ]
  },
  {
   "cell_type": "markdown",
   "id": "b6513992",
   "metadata": {},
   "source": [
    "# Set use cases\n"
   ]
  },
  {
   "cell_type": "markdown",
   "id": "8ab81835",
   "metadata": {},
   "source": [
    "1. Set are more efficient than list for performing membership test.\n",
    "2. Set can gather unique values efficiently without looping.\n",
    "3. Set operation(eg difference) can find the data shared,not shared between items. "
   ]
  },
  {
   "cell_type": "markdown",
   "id": "cfef94ae",
   "metadata": {},
   "source": [
    "***"
   ]
  },
  {
   "cell_type": "markdown",
   "id": "25c2278f",
   "metadata": {},
   "source": [
    "## Task 6: Set operations"
   ]
  },
  {
   "cell_type": "markdown",
   "id": "af6fb41d",
   "metadata": {},
   "source": [
    "### Weekend Sales Follow-Up Analysis\n",
    "\n",
    "Hey there, \n",
    "\n",
    "There are three lists below representing the customers who made purchases on Friday, Saturday, and Sunday.\n",
    "\n",
    "We want to target customers who made purchases on Friday and either Saturday or Sunday with follow up promotions.\n",
    "\n",
    "Run the cell below to create the customer lists."
   ]
  },
  {
   "cell_type": "code",
   "execution_count": 74,
   "id": "86618063",
   "metadata": {},
   "outputs": [],
   "source": [
    "friday_customers = [\n",
    "    'C00004', 'C00007', 'C00015', 'C00016', 'C00020',\n",
    "    'C00010', 'C00006', 'C00001', 'C00003', 'C00014',\n",
    "    'C00001', 'C00001', 'C00005', 'C00008', 'C00013'\n",
    "]\n",
    "\n",
    "saturday_customers = [\n",
    "    'C00004', 'C00017', 'C00019', 'C00002', 'C00008',\n",
    "    'C00021', 'C00022'\n",
    "]\n",
    "\n",
    "sunday_customers = ['C00006', 'C00018', 'C00018', 'C00010', 'C00016']"
   ]
  },
  {
   "cell_type": "code",
   "execution_count": 76,
   "id": "73924c93",
   "metadata": {},
   "outputs": [
    {
     "data": {
      "text/plain": [
       "{'C00002',\n",
       " 'C00004',\n",
       " 'C00006',\n",
       " 'C00008',\n",
       " 'C00010',\n",
       " 'C00016',\n",
       " 'C00017',\n",
       " 'C00018',\n",
       " 'C00019',\n",
       " 'C00021',\n",
       " 'C00022'}"
      ]
     },
     "execution_count": 76,
     "metadata": {},
     "output_type": "execute_result"
    }
   ],
   "source": [
    "weekend_customer =set(saturday_customers).union(set(sunday_customers))\n",
    "weekend_customer"
   ]
  },
  {
   "cell_type": "code",
   "execution_count": 78,
   "id": "69af30e6",
   "metadata": {},
   "outputs": [
    {
     "data": {
      "text/plain": [
       "{'C00004', 'C00006', 'C00008', 'C00010', 'C00016'}"
      ]
     },
     "execution_count": 78,
     "metadata": {},
     "output_type": "execute_result"
    }
   ],
   "source": [
    "friday_set =weekend_customer.intersection(set(friday_customers))\n",
    "friday_set"
   ]
  },
  {
   "cell_type": "markdown",
   "id": "38186cb6",
   "metadata": {},
   "source": [
    "***"
   ]
  },
  {
   "cell_type": "markdown",
   "id": "ddf0dd59",
   "metadata": {},
   "source": [
    "### Note:\n",
    "\n",
    "<span style='color:purple'>1. **Dictionaries** are used to store data in key-value pairs.<br>\n",
    "    2. **Dictionary Methods** are essential for working with dictionaries.<br>\n",
    "    3. Use the **zip()** function to create multiple iterable into a single iterable of tuples.<br>\n",
    "    4. Use **Set** to identify unique value or relationship between datasets."
   ]
  },
  {
   "cell_type": "code",
   "execution_count": null,
   "id": "fb0b7f19",
   "metadata": {},
   "outputs": [],
   "source": []
  }
 ],
 "metadata": {
  "kernelspec": {
   "display_name": "Python 3 (ipykernel)",
   "language": "python",
   "name": "python3"
  },
  "language_info": {
   "codemirror_mode": {
    "name": "ipython",
    "version": 3
   },
   "file_extension": ".py",
   "mimetype": "text/x-python",
   "name": "python",
   "nbconvert_exporter": "python",
   "pygments_lexer": "ipython3",
   "version": "3.10.9"
  }
 },
 "nbformat": 4,
 "nbformat_minor": 5
}
