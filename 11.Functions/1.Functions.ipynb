{
 "cells": [
  {
   "cell_type": "markdown",
   "id": "fffa07c4",
   "metadata": {},
   "source": [
    "# <center>Functions</center>"
   ]
  },
  {
   "cell_type": "markdown",
   "id": "171786bb",
   "metadata": {},
   "source": [
    "* [<span style ='color:purple'>**Introduction**](#Introduction)\n",
    "   * [<span style ='color:purple'>Task 1:Defining Function](#Task-1:Defining-Function)\n",
    "* [<span style ='color:purple'>**Argument Types**](#Argument-Types)\n",
    "* [<span style='color:purple'>**Return Type**](#Return-Type)\n",
    "* [<span style='color:purple'>**Creating and Importing a modules**](#Creating-and-Importing-a-modules)\n",
    "   * [<span style='color:purple'>Task 2:Creating a Module](#Task-2:Creating-a-Module)\n",
    "   * [<span style='color:purple'>Task 3:Importing a modules](#Task-3:Importing-a-modules)\n",
    " * [<span style='color:purple'>**Map function**](#Map-function)\n",
    "    * [<span style='color:purple'>Task 4:Map function](#Task-4:Map-function)\n",
    " * [<span style='color:purple'>**Lambda function**](#Lambda-function)\n",
    "    * [<span style='color:purple'>Task 5:Lambda function](#Task-5:Lambda-function)\n",
    " * [<span style='color:purple'>**Comprehensions**](#Comprehensions)\n",
    "    * [<span style='color:purple'>Task 6:List comprehension](#Task-6:List-comprehension)\n",
    " * [<span style='color:purple'>**Dictionary comprehension**](#Dictionary-comprehension)\n",
    "    * [<span style='color:purple'>Task 7:Dictionary comprehension](#Task-7:Dictionary-comprehension)\n",
    " * [<span style='color:purple'>**Note:**](#Note:)"
   ]
  },
  {
   "cell_type": "markdown",
   "id": "5e24190c",
   "metadata": {},
   "source": [
    "## <center>Introduction</center>\n",
    "\n",
    "**Functions** are reusable block of code that perform specific task when it is called.<br>\n",
    "They take in data and perform set of actions and return a result"
   ]
  },
  {
   "cell_type": "code",
   "execution_count": 2,
   "id": "c2cee22a",
   "metadata": {},
   "outputs": [],
   "source": [
    "price_list =[30,40,200,100,23]"
   ]
  },
  {
   "cell_type": "code",
   "execution_count": 3,
   "id": "56d6182b",
   "metadata": {},
   "outputs": [
    {
     "data": {
      "text/plain": [
       "200"
      ]
     },
     "execution_count": 3,
     "metadata": {},
     "output_type": "execute_result"
    }
   ],
   "source": [
    "max(price_list)"
   ]
  },
  {
   "cell_type": "code",
   "execution_count": 4,
   "id": "c8351074",
   "metadata": {},
   "outputs": [],
   "source": [
    "def concatenator(string1,string2):\n",
    "    return string1+\" \"+string2"
   ]
  },
  {
   "cell_type": "code",
   "execution_count": 7,
   "id": "ab5116fe",
   "metadata": {},
   "outputs": [
    {
     "data": {
      "text/plain": [
       "'hello how are you'"
      ]
     },
     "execution_count": 7,
     "metadata": {},
     "output_type": "execute_result"
    }
   ],
   "source": [
    "concatenator('hello','how are you')"
   ]
  },
  {
   "cell_type": "code",
   "execution_count": 5,
   "id": "dc8eb2db",
   "metadata": {},
   "outputs": [
    {
     "name": "stdout",
     "output_type": "stream",
     "text": [
      "1000\n"
     ]
    }
   ],
   "source": [
    "list1 =[100,200,300,400]\n",
    "\n",
    "total =0\n",
    "for i in list1:\n",
    "    total =total+i\n",
    "print(total)"
   ]
  },
  {
   "cell_type": "code",
   "execution_count": 7,
   "id": "5fe6b4f8",
   "metadata": {},
   "outputs": [
    {
     "name": "stdout",
     "output_type": "stream",
     "text": [
      "810\n"
     ]
    }
   ],
   "source": [
    "list2 =[300,400,50,60]\n",
    "\n",
    "total =0\n",
    "for i in list2:\n",
    "    total =total+i\n",
    "print(total)"
   ]
  },
  {
   "cell_type": "code",
   "execution_count": 8,
   "id": "4496f239",
   "metadata": {},
   "outputs": [],
   "source": [
    "def total(arg):\n",
    "    total =0\n",
    "    for i in arg:\n",
    "        total=total+i\n",
    "    return total"
   ]
  },
  {
   "cell_type": "code",
   "execution_count": 9,
   "id": "a94618a3",
   "metadata": {},
   "outputs": [
    {
     "data": {
      "text/plain": [
       "1000"
      ]
     },
     "execution_count": 9,
     "metadata": {},
     "output_type": "execute_result"
    }
   ],
   "source": [
    "total(list1)"
   ]
  },
  {
   "cell_type": "code",
   "execution_count": 10,
   "id": "66d577ee",
   "metadata": {},
   "outputs": [
    {
     "data": {
      "text/plain": [
       "810"
      ]
     },
     "execution_count": 10,
     "metadata": {},
     "output_type": "execute_result"
    }
   ],
   "source": [
    "total(list2)"
   ]
  },
  {
   "cell_type": "code",
   "execution_count": 6,
   "id": "cc2c8844",
   "metadata": {},
   "outputs": [],
   "source": [
    "def greet(name):\n",
    "    print(\"hello\",name)\n",
    "    "
   ]
  },
  {
   "cell_type": "code",
   "execution_count": 7,
   "id": "746ac757",
   "metadata": {},
   "outputs": [
    {
     "name": "stdout",
     "output_type": "stream",
     "text": [
      "hello nan\n"
     ]
    }
   ],
   "source": [
    "greet('nan')"
   ]
  },
  {
   "cell_type": "code",
   "execution_count": 8,
   "id": "2a23196a",
   "metadata": {},
   "outputs": [
    {
     "name": "stdout",
     "output_type": "stream",
     "text": [
      "hello grr\n"
     ]
    }
   ],
   "source": [
    "greet('grr')"
   ]
  },
  {
   "cell_type": "markdown",
   "id": "fb1ff2bd",
   "metadata": {},
   "source": [
    "***"
   ]
  },
  {
   "cell_type": "markdown",
   "id": "f1c08806",
   "metadata": {},
   "source": [
    "## Task 1:Defining Function"
   ]
  },
  {
   "cell_type": "markdown",
   "id": "69d3eacb",
   "metadata": {},
   "source": [
    "#### Tax Calculator\n",
    "\n",
    "Write a function that takes a subtotal and a tax rate and returns the total invoice amount.\n",
    "\n",
    "* Tax is equal to subtotal multiplied by the tax rate.\n",
    "* The total is equal to subtotal plus tax."
   ]
  },
  {
   "cell_type": "code",
   "execution_count": 10,
   "id": "06012e46",
   "metadata": {},
   "outputs": [],
   "source": [
    "def tax_calculator(subtotal,tax_rate):\n",
    "    tax = subtotal * tax_rate\n",
    "    total = subtotal + tax\n",
    "    return total\n"
   ]
  },
  {
   "cell_type": "code",
   "execution_count": 11,
   "id": "4ecfe7ef",
   "metadata": {},
   "outputs": [
    {
     "data": {
      "text/plain": [
       "106.0"
      ]
     },
     "execution_count": 11,
     "metadata": {},
     "output_type": "execute_result"
    }
   ],
   "source": [
    "tax_calculator(100,0.06)"
   ]
  },
  {
   "cell_type": "markdown",
   "id": "0dafd04a",
   "metadata": {},
   "source": [
    "***"
   ]
  },
  {
   "cell_type": "markdown",
   "id": "74207003",
   "metadata": {},
   "source": [
    "\n",
    "\n",
    "## Argument Types"
   ]
  },
  {
   "cell_type": "markdown",
   "id": "f9827010",
   "metadata": {},
   "source": [
    "There ara several type of arguments that can be passed on to a function:<br>\n",
    "1. Positional arguments.\n",
    "2. Keyword arguments.\n",
    "3. Default arguments.\n",
    "4. args arguments.\n",
    "5. ** kwargs arguments.\n"
   ]
  },
  {
   "cell_type": "code",
   "execution_count": 3,
   "id": "f89f2a59",
   "metadata": {},
   "outputs": [],
   "source": [
    "# Positional arguments.\n",
    "\n",
    "\n",
    "def get_name(name1,name2):\n",
    "    \n",
    "    x=print(name1+ ' '+name2)\n",
    "    return x"
   ]
  },
  {
   "cell_type": "code",
   "execution_count": 4,
   "id": "60f9e152",
   "metadata": {},
   "outputs": [
    {
     "name": "stdout",
     "output_type": "stream",
     "text": [
      "my friend\n"
     ]
    }
   ],
   "source": [
    "get_name('my' ,'friend')"
   ]
  },
  {
   "cell_type": "code",
   "execution_count": 9,
   "id": "dd67f608",
   "metadata": {},
   "outputs": [],
   "source": [
    "#Keyword arguments\n",
    "\n",
    "def  calculate(a,b):\n",
    "    multiply =a*b\n",
    "    division =b/a\n",
    "    return (division,multiply)"
   ]
  },
  {
   "cell_type": "code",
   "execution_count": 10,
   "id": "6528f74c",
   "metadata": {},
   "outputs": [
    {
     "data": {
      "text/plain": [
       "(50.0, 5000)"
      ]
     },
     "execution_count": 10,
     "metadata": {},
     "output_type": "execute_result"
    }
   ],
   "source": [
    "calculate(a=10,b=500)"
   ]
  },
  {
   "cell_type": "code",
   "execution_count": 11,
   "id": "a6f1883f",
   "metadata": {},
   "outputs": [
    {
     "ename": "SyntaxError",
     "evalue": "positional argument follows keyword argument (1095429548.py, line 1)",
     "output_type": "error",
     "traceback": [
      "\u001b[1;36m  Cell \u001b[1;32mIn[11], line 1\u001b[1;36m\u001b[0m\n\u001b[1;33m    calculate(a=10,400)\u001b[0m\n\u001b[1;37m                      ^\u001b[0m\n\u001b[1;31mSyntaxError\u001b[0m\u001b[1;31m:\u001b[0m positional argument follows keyword argument\n"
     ]
    }
   ],
   "source": [
    "calculate(a=10,400)"
   ]
  },
  {
   "cell_type": "code",
   "execution_count": 13,
   "id": "b6c45002",
   "metadata": {},
   "outputs": [
    {
     "data": {
      "text/plain": [
       "(40.0, 4000)"
      ]
     },
     "execution_count": 13,
     "metadata": {},
     "output_type": "execute_result"
    }
   ],
   "source": [
    "calculate(10,b=400) ## note:positional argument follows keyword argument"
   ]
  },
  {
   "cell_type": "code",
   "execution_count": 14,
   "id": "740193c2",
   "metadata": {},
   "outputs": [],
   "source": [
    "# Default arguments\n",
    "\n",
    "def concat(string1,string2='hai'):\n",
    "    return string1 +' '+string2"
   ]
  },
  {
   "cell_type": "code",
   "execution_count": 15,
   "id": "bcbb4256",
   "metadata": {},
   "outputs": [
    {
     "data": {
      "text/plain": [
       "'hello hai'"
      ]
     },
     "execution_count": 15,
     "metadata": {},
     "output_type": "execute_result"
    }
   ],
   "source": [
    "concat('hello')"
   ]
  },
  {
   "cell_type": "code",
   "execution_count": 18,
   "id": "4e5fb789",
   "metadata": {},
   "outputs": [],
   "source": [
    "# *args arguments\n",
    "\n",
    "def letter(*args):\n",
    "    new_string =\" \"\n",
    "    for x in args:\n",
    "        new_string +=(x+ \" \")\n",
    "    return new_string\n",
    "        "
   ]
  },
  {
   "cell_type": "code",
   "execution_count": 19,
   "id": "97f6e068",
   "metadata": {},
   "outputs": [
    {
     "data": {
      "text/plain": [
       "' apple banana boxes '"
      ]
     },
     "execution_count": 19,
     "metadata": {},
     "output_type": "execute_result"
    }
   ],
   "source": [
    "letter('apple','banana','boxes')"
   ]
  },
  {
   "cell_type": "code",
   "execution_count": 25,
   "id": "d28beadc",
   "metadata": {},
   "outputs": [],
   "source": [
    "# **kwargs arguments\n",
    "\n",
    "def dict_words(**kwargs):\n",
    "    new_word =\" \"\n",
    "    for x in kwargs.values():\n",
    "        new_word +=(x+ \" \")\n",
    "    return new_word"
   ]
  },
  {
   "cell_type": "code",
   "execution_count": 26,
   "id": "ea16272f",
   "metadata": {},
   "outputs": [
    {
     "data": {
      "text/plain": [
       "' hai hello how are you '"
      ]
     },
     "execution_count": 26,
     "metadata": {},
     "output_type": "execute_result"
    }
   ],
   "source": [
    "dict_words(a='hai',b ='hello',c ='how',d= 'are',e ='you')"
   ]
  },
  {
   "cell_type": "code",
   "execution_count": 31,
   "id": "e1d0ca76",
   "metadata": {},
   "outputs": [],
   "source": [
    "website_ratings =['5 stars','1 star','3 stars']\n",
    "forum_ratings =['stars:5','stars: 4','stars :2']"
   ]
  },
  {
   "cell_type": "code",
   "execution_count": 33,
   "id": "b7cb8ff4",
   "metadata": {},
   "outputs": [
    {
     "name": "stdout",
     "output_type": "stream",
     "text": [
      "5\n",
      "1\n",
      "3\n"
     ]
    }
   ],
   "source": [
    "for i in website_ratings:\n",
    "    number =i[0]\n",
    "    print(number)"
   ]
  },
  {
   "cell_type": "code",
   "execution_count": 37,
   "id": "a6181220",
   "metadata": {},
   "outputs": [],
   "source": [
    "def rating_number(rating):\n",
    "    number =int(rating[0])\n",
    "    return number"
   ]
  },
  {
   "cell_type": "code",
   "execution_count": 39,
   "id": "8bd11a4a",
   "metadata": {},
   "outputs": [
    {
     "data": {
      "text/plain": [
       "1"
      ]
     },
     "execution_count": 39,
     "metadata": {},
     "output_type": "execute_result"
    }
   ],
   "source": [
    "rating_number(website_ratings[1])"
   ]
  },
  {
   "cell_type": "code",
   "execution_count": 46,
   "id": "b952ae91",
   "metadata": {},
   "outputs": [],
   "source": [
    "def rating_number1(rating,index):\n",
    "    number1 = int(rating[index])\n",
    "    return number1"
   ]
  },
  {
   "cell_type": "code",
   "execution_count": 47,
   "id": "e06cd1f6",
   "metadata": {},
   "outputs": [
    {
     "data": {
      "text/plain": [
       "5"
      ]
     },
     "execution_count": 47,
     "metadata": {},
     "output_type": "execute_result"
    }
   ],
   "source": [
    "rating_number1('stars:5',-1)"
   ]
  },
  {
   "cell_type": "code",
   "execution_count": 48,
   "id": "b28d8870",
   "metadata": {},
   "outputs": [
    {
     "data": {
      "text/plain": [
       "4"
      ]
     },
     "execution_count": 48,
     "metadata": {},
     "output_type": "execute_result"
    }
   ],
   "source": [
    "rating_number1(rating='stars:4',index=-1)"
   ]
  },
  {
   "cell_type": "code",
   "execution_count": 50,
   "id": "1de5beda",
   "metadata": {},
   "outputs": [],
   "source": [
    "def rating_number2(* args):\n",
    "    for x in args:\n",
    "        number =int(x[0])\n",
    "        print(number)"
   ]
  },
  {
   "cell_type": "code",
   "execution_count": 54,
   "id": "8af1d834",
   "metadata": {},
   "outputs": [
    {
     "name": "stdout",
     "output_type": "stream",
     "text": [
      "5\n",
      "1\n",
      "3\n"
     ]
    }
   ],
   "source": [
    "rating_number2(*website_ratings) #this will unpack element in the list"
   ]
  },
  {
   "cell_type": "code",
   "execution_count": 55,
   "id": "f5006471",
   "metadata": {},
   "outputs": [
    {
     "name": "stdout",
     "output_type": "stream",
     "text": [
      "5\n",
      "1\n",
      "3\n"
     ]
    }
   ],
   "source": [
    "rating_number2('5 stars','1 star','3 stars')"
   ]
  },
  {
   "cell_type": "markdown",
   "id": "f7e639b7",
   "metadata": {},
   "source": [
    "***"
   ]
  },
  {
   "cell_type": "markdown",
   "id": "c95ed5c0",
   "metadata": {},
   "source": [
    "## Return Type"
   ]
  },
  {
   "cell_type": "code",
   "execution_count": 23,
   "id": "ce753351",
   "metadata": {},
   "outputs": [],
   "source": [
    "def concatenate(*args):\n",
    "    sentence =\"\"\n",
    "    for i in args:\n",
    "        sentence +=i +\" \"\n",
    "    last_word =sentence[2]\n",
    "    return [sentence.rstrip(),last_word]"
   ]
  },
  {
   "cell_type": "code",
   "execution_count": 24,
   "id": "17656363",
   "metadata": {},
   "outputs": [
    {
     "data": {
      "text/plain": [
       "['hello what is your name', 'l']"
      ]
     },
     "execution_count": 24,
     "metadata": {},
     "output_type": "execute_result"
    }
   ],
   "source": [
    "concatenate('hello','what','is','your','name')"
   ]
  },
  {
   "cell_type": "code",
   "execution_count": 28,
   "id": "7fd9f716",
   "metadata": {},
   "outputs": [],
   "source": [
    "rating_list = ['10 star','5 star','3 star','2 star','8 star']\n"
   ]
  },
  {
   "cell_type": "code",
   "execution_count": 31,
   "id": "10de29a8",
   "metadata": {},
   "outputs": [
    {
     "data": {
      "text/plain": [
       "1"
      ]
     },
     "execution_count": 31,
     "metadata": {},
     "output_type": "execute_result"
    }
   ],
   "source": [
    "rating_number = int(rating_list[0][0])\n",
    "rating_number"
   ]
  },
  {
   "cell_type": "code",
   "execution_count": 34,
   "id": "44b36695",
   "metadata": {},
   "outputs": [],
   "source": [
    "def rating(rating):\n",
    "    rating_no =int(rating[0])\n",
    "    return rating,rating_no"
   ]
  },
  {
   "cell_type": "code",
   "execution_count": 35,
   "id": "c72ab7a3",
   "metadata": {},
   "outputs": [
    {
     "data": {
      "text/plain": [
       "('5 star', 5)"
      ]
     },
     "execution_count": 35,
     "metadata": {},
     "output_type": "execute_result"
    }
   ],
   "source": [
    "rating('5 star')"
   ]
  },
  {
   "cell_type": "markdown",
   "id": "778a9f04",
   "metadata": {},
   "source": [
    "---"
   ]
  },
  {
   "cell_type": "markdown",
   "id": "72b0c990",
   "metadata": {},
   "source": [
    "## Creating and Importing a modules"
   ]
  },
  {
   "cell_type": "code",
   "execution_count": 6,
   "id": "431a81f6",
   "metadata": {},
   "outputs": [],
   "source": [
    "web_rating =['9 stars','2 stars','3 stars','8 stars','7 stars','5 stars']"
   ]
  },
  {
   "cell_type": "code",
   "execution_count": 7,
   "id": "135db1e7",
   "metadata": {},
   "outputs": [
    {
     "data": {
      "text/plain": [
       "9"
      ]
     },
     "execution_count": 7,
     "metadata": {},
     "output_type": "execute_result"
    }
   ],
   "source": [
    "rating_number =int(web_rating[0][0])\n",
    "rating_number"
   ]
  },
  {
   "cell_type": "code",
   "execution_count": 8,
   "id": "6c26dc9a",
   "metadata": {},
   "outputs": [],
   "source": []
  },
  {
   "cell_type": "code",
   "execution_count": 9,
   "id": "60706452",
   "metadata": {},
   "outputs": [
    {
     "data": {
      "text/plain": [
       "9"
      ]
     },
     "execution_count": 9,
     "metadata": {},
     "output_type": "execute_result"
    }
   ],
   "source": [
    "rating_clean('9 stars')"
   ]
  },
  {
   "cell_type": "code",
   "execution_count": 11,
   "id": "8c301bef",
   "metadata": {},
   "outputs": [
    {
     "name": "stdout",
     "output_type": "stream",
     "text": [
      "[9, 2, 3, 8, 7, 5]\n"
     ]
    }
   ],
   "source": [
    "numeric_list =[]\n",
    "for i in web_rating:\n",
    "    number_rating =int(i[0])\n",
    "    numeric_list.append(number_rating)\n",
    "print(numeric_list)\n",
    "\n",
    "    "
   ]
  },
  {
   "cell_type": "code",
   "execution_count": 101,
   "id": "13490072",
   "metadata": {},
   "outputs": [
    {
     "name": "stdout",
     "output_type": "stream",
     "text": [
      "Overwriting rating_clean_list.py\n"
     ]
    }
   ],
   "source": [
    "%%writefile rating_clean_list.py\n",
    "\n",
    "def rating_list_clean(rating_list):\n",
    "    \"\"\" clean list of rating and return numeric rating list\n",
    "    Args:\n",
    "        rating_list(list):list of text string\n",
    "    Returns:\n",
    "        list:list of integer\n",
    "    \"\"\"\n",
    "    \n",
    "    number_list =[]\n",
    "    for i in rating_list:\n",
    "        number =int(i[0])\n",
    "        number_list.append(number)\n",
    "    return number_list\n",
    "\n",
    "def rating_clean(rating):\n",
    "    \"\"\"gets numeric portion from web rating\n",
    "    Args:\n",
    "        rating(str):text rating from web\n",
    "        \n",
    "    Returns\n",
    "        int:integer portion of rating\n",
    "    \"\"\"\n",
    "    \n",
    "    rating_number =int(rating[0])\n",
    "    return rating_number\n",
    "\n",
    "\n"
   ]
  },
  {
   "cell_type": "code",
   "execution_count": 1,
   "id": "240b81c9",
   "metadata": {},
   "outputs": [],
   "source": [
    "## Two functions are created rating_clean and rating_list_clean"
   ]
  },
  {
   "cell_type": "code",
   "execution_count": 130,
   "id": "12344139",
   "metadata": {},
   "outputs": [
    {
     "data": {
      "text/plain": [
       "9"
      ]
     },
     "execution_count": 130,
     "metadata": {},
     "output_type": "execute_result"
    }
   ],
   "source": [
    "rating_clean('9 star')"
   ]
  },
  {
   "cell_type": "code",
   "execution_count": 104,
   "id": "1d91ca73",
   "metadata": {},
   "outputs": [],
   "source": [
    "import rating_clean_list"
   ]
  },
  {
   "cell_type": "code",
   "execution_count": 129,
   "id": "17e29993",
   "metadata": {},
   "outputs": [
    {
     "data": {
      "text/plain": [
       "8"
      ]
     },
     "execution_count": 129,
     "metadata": {},
     "output_type": "execute_result"
    }
   ],
   "source": [
    "rating_clean_list.rating_clean('8 stars')"
   ]
  },
  {
   "cell_type": "code",
   "execution_count": 106,
   "id": "5816a181",
   "metadata": {},
   "outputs": [],
   "source": [
    "web_rating1 =['9 stars','2 stars','3 stars','8 stars','7 stars','5 stars','9 stars','2 stars','3 stars','8 stars','7 stars','5 stars']"
   ]
  },
  {
   "cell_type": "code",
   "execution_count": 107,
   "id": "f2fae395",
   "metadata": {},
   "outputs": [
    {
     "data": {
      "text/plain": [
       "[9, 2, 3, 8, 7, 5, 9, 2, 3, 8, 7, 5]"
      ]
     },
     "execution_count": 107,
     "metadata": {},
     "output_type": "execute_result"
    }
   ],
   "source": [
    "rating_clean_list.rating_list_clean(web_rating1)"
   ]
  },
  {
   "cell_type": "code",
   "execution_count": 131,
   "id": "7e020d40",
   "metadata": {},
   "outputs": [],
   "source": [
    "from rating_clean_list import rating_clean"
   ]
  },
  {
   "cell_type": "code",
   "execution_count": 108,
   "id": "f3733ade",
   "metadata": {},
   "outputs": [
    {
     "data": {
      "text/plain": [
       "6"
      ]
     },
     "execution_count": 108,
     "metadata": {},
     "output_type": "execute_result"
    }
   ],
   "source": [
    "rating_clean('6 stars')"
   ]
  },
  {
   "cell_type": "code",
   "execution_count": 109,
   "id": "4916a387",
   "metadata": {},
   "outputs": [
    {
     "data": {
      "text/plain": [
       "9"
      ]
     },
     "execution_count": 109,
     "metadata": {},
     "output_type": "execute_result"
    }
   ],
   "source": [
    "rating_clean_list.rating_clean('9 stars')"
   ]
  },
  {
   "cell_type": "code",
   "execution_count": 126,
   "id": "d6304957",
   "metadata": {},
   "outputs": [],
   "source": [
    "import mul_add_list"
   ]
  },
  {
   "cell_type": "code",
   "execution_count": 127,
   "id": "320467e9",
   "metadata": {},
   "outputs": [],
   "source": [
    "new_list1 =[9,10,21,20]"
   ]
  },
  {
   "cell_type": "code",
   "execution_count": 128,
   "id": "aa9e2f7d",
   "metadata": {},
   "outputs": [
    {
     "name": "stdout",
     "output_type": "stream",
     "text": [
      "37800\n"
     ]
    }
   ],
   "source": [
    "mul_add_list.mult(new_list1)"
   ]
  },
  {
   "cell_type": "code",
   "execution_count": 81,
   "id": "04a07eed",
   "metadata": {},
   "outputs": [
    {
     "name": "stdout",
     "output_type": "stream",
     "text": [
      "60\n"
     ]
    }
   ],
   "source": [
    "num=0\n",
    "for i in new_list1:\n",
    "    x=i\n",
    "    num=x+num\n",
    "print(num)"
   ]
  },
  {
   "cell_type": "code",
   "execution_count": 7,
   "id": "bf6f7ba4",
   "metadata": {},
   "outputs": [
    {
     "name": "stdout",
     "output_type": "stream",
     "text": [
      "Overwriting mul_add_list1.py\n"
     ]
    }
   ],
   "source": [
    "%%writefile mul_add_list1.py\n",
    "\n",
    "def mult(number):\n",
    "    num=1\n",
    "    for i in number:\n",
    "        x=i\n",
    "        num=x*num\n",
    "    return num\n",
    "    \n",
    "def addition(number1):\n",
    "    num1=0\n",
    "    for n in number1:\n",
    "        y=n\n",
    "        num1=y+num1\n",
    "    return num1\n",
    "\n",
    "def greet(name1,name2):\n",
    "    return name1+ \"\"+name2"
   ]
  },
  {
   "cell_type": "code",
   "execution_count": 8,
   "id": "1486a75c",
   "metadata": {},
   "outputs": [],
   "source": [
    "import mul_add_list1"
   ]
  },
  {
   "cell_type": "code",
   "execution_count": 9,
   "id": "bfcc40ca",
   "metadata": {},
   "outputs": [],
   "source": [
    "list2=[100,1,2]"
   ]
  },
  {
   "cell_type": "code",
   "execution_count": 10,
   "id": "4a34ee02",
   "metadata": {},
   "outputs": [
    {
     "data": {
      "text/plain": [
       "103"
      ]
     },
     "execution_count": 10,
     "metadata": {},
     "output_type": "execute_result"
    }
   ],
   "source": [
    "mul_add_list1.addition(list2)"
   ]
  },
  {
   "cell_type": "code",
   "execution_count": 145,
   "id": "c30f7e09",
   "metadata": {},
   "outputs": [
    {
     "data": {
      "text/plain": [
       "'haihello'"
      ]
     },
     "execution_count": 145,
     "metadata": {},
     "output_type": "execute_result"
    }
   ],
   "source": [
    "mul_add_list1.greet('hai','hello')"
   ]
  },
  {
   "cell_type": "code",
   "execution_count": 146,
   "id": "788fde0b",
   "metadata": {},
   "outputs": [
    {
     "data": {
      "text/plain": [
       "6600"
      ]
     },
     "execution_count": 146,
     "metadata": {},
     "output_type": "execute_result"
    }
   ],
   "source": [
    "new =[10,22,30]\n",
    "mul_add_list1.mult(new)"
   ]
  },
  {
   "cell_type": "code",
   "execution_count": 150,
   "id": "0e380755",
   "metadata": {},
   "outputs": [
    {
     "data": {
      "text/plain": [
       "'srrrkkk'"
      ]
     },
     "execution_count": 150,
     "metadata": {},
     "output_type": "execute_result"
    }
   ],
   "source": [
    "mul_add_list1.greet('srrr','kkk')"
   ]
  },
  {
   "cell_type": "markdown",
   "id": "97ec5af3",
   "metadata": {},
   "source": [
    "***"
   ]
  },
  {
   "cell_type": "markdown",
   "id": "7b437df3",
   "metadata": {},
   "source": [
    "## Task 2:Creating a Module"
   ]
  },
  {
   "cell_type": "markdown",
   "id": "3ded2315",
   "metadata": {},
   "source": [
    "### Modified Tax Calculator\n",
    "\n",
    "Since the tax calculator we made was primarily for our Stowe employees, let's modify the tax calculator below to have a default tax rate of 6%. \n",
    "\n",
    "Also, we want the output of the function to return a list containing the subtotal, tax, and totals.\n",
    "\n",
    "\n",
    "\n"
   ]
  },
  {
   "cell_type": "code",
   "execution_count": 1,
   "id": "2408a198",
   "metadata": {},
   "outputs": [
    {
     "name": "stdout",
     "output_type": "stream",
     "text": [
      "Overwriting tax_calculator.py\n"
     ]
    }
   ],
   "source": [
    "%%writefile tax_calculator.py\n",
    "\n",
    "def tax_calculator1(subtotal,tax_rate=0.06):\n",
    "    \n",
    "    \"\"\" takes in subtotal ,default tax rate and return list of subtotal,\n",
    "    tax and total.\n",
    "    \n",
    "    Args:\n",
    "        subtotal(float,int):cost of item.\n",
    "        tax_rate(optioanl):tax rate of store location,by default here tax_rate \n",
    "        is 0.06\n",
    "    \n",
    "    Return:\n",
    "        list:list containing subtotal,total and tax.\"\"\"\n",
    "    \n",
    "    tax = subtotal * tax_rate\n",
    "    total = subtotal + tax\n",
    "    return [subtotal,round(tax,2),round(total,2)]"
   ]
  },
  {
   "cell_type": "markdown",
   "id": "72688ef4",
   "metadata": {},
   "source": [
    "***"
   ]
  },
  {
   "cell_type": "markdown",
   "id": "431b5ec4",
   "metadata": {},
   "source": [
    "## Task 3:Importing a modules"
   ]
  },
  {
   "cell_type": "markdown",
   "id": "1ace5c8f",
   "metadata": {},
   "source": [
    "Using the tax calculator!\n",
    "Now that we have a working tax calculator, we need to put it to work.\n",
    "\n",
    "First, import the tax calculator.\n",
    "\n"
   ]
  },
  {
   "cell_type": "code",
   "execution_count": 2,
   "id": "0df9b4a0",
   "metadata": {},
   "outputs": [],
   "source": [
    "import tax_calculator"
   ]
  },
  {
   "cell_type": "markdown",
   "id": "c40b0572",
   "metadata": {},
   "source": [
    "#### Processing Transactions\n",
    "\n",
    "Apply the tax calculator to the list of subtotals below.\n",
    "\n",
    "We want to store all of the results in a single list, so each list returned from the tax calculator should be a list stored in a list called `full_transactions`. Use the default tax rate for each transaction.\n"
   ]
  },
  {
   "cell_type": "code",
   "execution_count": 3,
   "id": "89b7a573",
   "metadata": {},
   "outputs": [],
   "source": [
    "subtotals = [15.98, 899.97, 799.97, 117.96, 5.99, 599.99]\n"
   ]
  },
  {
   "cell_type": "code",
   "execution_count": 4,
   "id": "c1f0b8de",
   "metadata": {},
   "outputs": [
    {
     "name": "stdout",
     "output_type": "stream",
     "text": [
      "[[15.98, 0.96, 16.94], [899.97, 54.0, 953.97], [799.97, 48.0, 847.97], [117.96, 7.08, 125.04], [5.99, 0.36, 6.35], [599.99, 36.0, 635.99]]\n"
     ]
    }
   ],
   "source": [
    "full_transaction1=[]\n",
    "for i in subtotals:\n",
    "    full_transaction1.append(tax_calculator.tax_calculator1(i))\n",
    "print(full_transaction1)"
   ]
  },
  {
   "cell_type": "code",
   "execution_count": 5,
   "id": "74a77838",
   "metadata": {},
   "outputs": [
    {
     "data": {
      "text/plain": [
       "[[15.98, 0.96, 16.94],\n",
       " [899.97, 54.0, 953.97],\n",
       " [799.97, 48.0, 847.97],\n",
       " [117.96, 7.08, 125.04],\n",
       " [5.99, 0.36, 6.35],\n",
       " [599.99, 36.0, 635.99]]"
      ]
     },
     "execution_count": 5,
     "metadata": {},
     "output_type": "execute_result"
    }
   ],
   "source": [
    "full_transaction1"
   ]
  },
  {
   "cell_type": "markdown",
   "id": "30a3c0d9",
   "metadata": {},
   "source": [
    "***"
   ]
  },
  {
   "cell_type": "markdown",
   "id": "6fa21646",
   "metadata": {},
   "source": [
    "### Transaction Dictionary\n",
    "Great! Now that you've done that, combine the transactions with the customer_ids below into a dictionary.\n",
    "\n",
    "We want the customer_ids as keys, and the transactions as values."
   ]
  },
  {
   "cell_type": "code",
   "execution_count": 11,
   "id": "b96847a6",
   "metadata": {},
   "outputs": [],
   "source": [
    "customer_ids = ['C00004', 'C00007', 'C00015', 'C00016', 'C00020', 'C00010']\n",
    "\n"
   ]
  },
  {
   "cell_type": "code",
   "execution_count": 19,
   "id": "cc5cf839",
   "metadata": {},
   "outputs": [],
   "source": [
    "customer_trans = dict(zip(customer_ids,full_transaction1))"
   ]
  },
  {
   "cell_type": "code",
   "execution_count": 20,
   "id": "d6f61aec",
   "metadata": {},
   "outputs": [
    {
     "data": {
      "text/plain": [
       "{'C00004': [15.98, 0.96, 16.94],\n",
       " 'C00007': [899.97, 54.0, 953.97],\n",
       " 'C00015': [799.97, 48.0, 847.97],\n",
       " 'C00016': [117.96, 7.08, 125.04],\n",
       " 'C00020': [5.99, 0.36, 6.35],\n",
       " 'C00010': [599.99, 36.0, 635.99]}"
      ]
     },
     "execution_count": 20,
     "metadata": {},
     "output_type": "execute_result"
    }
   ],
   "source": [
    "customer_trans"
   ]
  },
  {
   "cell_type": "code",
   "execution_count": 22,
   "id": "f7d817e6",
   "metadata": {},
   "outputs": [
    {
     "data": {
      "text/plain": [
       "[899.97, 54.0, 953.97]"
      ]
     },
     "execution_count": 22,
     "metadata": {},
     "output_type": "execute_result"
    }
   ],
   "source": [
    "customer_trans['C00007']"
   ]
  },
  {
   "cell_type": "markdown",
   "id": "e8e39fea",
   "metadata": {},
   "source": [
    "***"
   ]
  },
  {
   "cell_type": "markdown",
   "id": "a12f02d2",
   "metadata": {},
   "source": [
    "## Map function"
   ]
  },
  {
   "cell_type": "markdown",
   "id": "15836abe",
   "metadata": {},
   "source": [
    "Map Function is an efficient way to apply function to all items in an iterables.<br>\n",
    "map(function,iterables)"
   ]
  },
  {
   "cell_type": "code",
   "execution_count": 23,
   "id": "17b246d1",
   "metadata": {},
   "outputs": [],
   "source": [
    "def convert(number):\n",
    "    return '$'+str(number)\n"
   ]
  },
  {
   "cell_type": "code",
   "execution_count": 24,
   "id": "ab0c0aaa",
   "metadata": {},
   "outputs": [
    {
     "data": {
      "text/plain": [
       "'$5'"
      ]
     },
     "execution_count": 24,
     "metadata": {},
     "output_type": "execute_result"
    }
   ],
   "source": [
    "convert(5)"
   ]
  },
  {
   "cell_type": "code",
   "execution_count": 29,
   "id": "48dc40eb",
   "metadata": {},
   "outputs": [
    {
     "name": "stdout",
     "output_type": "stream",
     "text": [
      "['$10', '$21', '$30', '$7']\n"
     ]
    }
   ],
   "source": [
    "num_list=[10,21,30,7]\n",
    "new_list=[]\n",
    "for i in num_list:\n",
    "    new_list.append(convert(i))##convert function is used inside the for loop\n",
    "print(new_list)"
   ]
  },
  {
   "cell_type": "code",
   "execution_count": 27,
   "id": "a886a474",
   "metadata": {},
   "outputs": [],
   "source": [
    "new_list2 = list(map(convert,num_list))"
   ]
  },
  {
   "cell_type": "code",
   "execution_count": 28,
   "id": "72efb67a",
   "metadata": {},
   "outputs": [
    {
     "data": {
      "text/plain": [
       "['$10', '$21', '$30', '$7']"
      ]
     },
     "execution_count": 28,
     "metadata": {},
     "output_type": "execute_result"
    }
   ],
   "source": [
    "new_list2"
   ]
  },
  {
   "cell_type": "markdown",
   "id": "ee2d0867",
   "metadata": {},
   "source": [
    "***"
   ]
  },
  {
   "cell_type": "markdown",
   "id": "4598e38c",
   "metadata": {},
   "source": [
    "## Task 4:Map function"
   ]
  },
  {
   "cell_type": "markdown",
   "id": "705389b1",
   "metadata": {},
   "source": [
    "### Mapping the tax calculator\n",
    "\n",
    "Now that we've successfully got our tax calculator working, can you apply it to the subtotals below?\n",
    "\n",
    "Should be quick! Thanks!\n",
    "\n",
    "P.S. Don't use a loop!"
   ]
  },
  {
   "cell_type": "code",
   "execution_count": 30,
   "id": "6ca97994",
   "metadata": {},
   "outputs": [],
   "source": [
    "subtotals = [1799.94, 99.99, 254.95, 29.98, 99.99]"
   ]
  },
  {
   "cell_type": "code",
   "execution_count": 32,
   "id": "3c7be2f0",
   "metadata": {},
   "outputs": [],
   "source": [
    "from tax_calculator import tax_calculator1"
   ]
  },
  {
   "cell_type": "code",
   "execution_count": 35,
   "id": "8debf766",
   "metadata": {},
   "outputs": [],
   "source": [
    "mapping_values = list(map(tax_calculator1,subtotals))"
   ]
  },
  {
   "cell_type": "code",
   "execution_count": 36,
   "id": "b9486497",
   "metadata": {},
   "outputs": [
    {
     "data": {
      "text/plain": [
       "[[1799.94, 108.0, 1907.94],\n",
       " [99.99, 6.0, 105.99],\n",
       " [254.95, 15.3, 270.25],\n",
       " [29.98, 1.8, 31.78],\n",
       " [99.99, 6.0, 105.99]]"
      ]
     },
     "execution_count": 36,
     "metadata": {},
     "output_type": "execute_result"
    }
   ],
   "source": [
    "mapping_values"
   ]
  },
  {
   "cell_type": "markdown",
   "id": "f3a88390",
   "metadata": {},
   "source": [
    "***"
   ]
  },
  {
   "cell_type": "markdown",
   "id": "8e824ca3",
   "metadata": {},
   "source": [
    "## Lambda function"
   ]
  },
  {
   "cell_type": "code",
   "execution_count": 1,
   "id": "8003f38a",
   "metadata": {},
   "outputs": [],
   "source": [
    "cust_id =['c00001','c00002','c00003','c00005','c11112']"
   ]
  },
  {
   "cell_type": "code",
   "execution_count": 2,
   "id": "e0c3fb03",
   "metadata": {},
   "outputs": [],
   "source": [
    "id1 ='c00002'"
   ]
  },
  {
   "cell_type": "code",
   "execution_count": 14,
   "id": "c32ba0a6",
   "metadata": {},
   "outputs": [],
   "source": [
    "def cust_number(ids):\n",
    "    number =int(ids[1:])\n",
    "    return number"
   ]
  },
  {
   "cell_type": "code",
   "execution_count": 15,
   "id": "8978f684",
   "metadata": {},
   "outputs": [
    {
     "data": {
      "text/plain": [
       "2"
      ]
     },
     "execution_count": 15,
     "metadata": {},
     "output_type": "execute_result"
    }
   ],
   "source": [
    "cust_number(id1)"
   ]
  },
  {
   "cell_type": "code",
   "execution_count": 16,
   "id": "4c99e3f8",
   "metadata": {},
   "outputs": [],
   "source": [
    "#to apply the cust_number function to cust_id list we use map function\n",
    "\n",
    "number_id = list(map(cust_number,cust_id))"
   ]
  },
  {
   "cell_type": "code",
   "execution_count": 17,
   "id": "82b3cbd2",
   "metadata": {},
   "outputs": [
    {
     "data": {
      "text/plain": [
       "[1, 2, 3, 5, 11112]"
      ]
     },
     "execution_count": 17,
     "metadata": {},
     "output_type": "execute_result"
    }
   ],
   "source": [
    "number_id"
   ]
  },
  {
   "cell_type": "code",
   "execution_count": 18,
   "id": "dec78d82",
   "metadata": {},
   "outputs": [],
   "source": [
    "# using lambda function we can do the same\n",
    "\n",
    "cust_id1 =['c00001','c00002','c00003','c00005','c11112','c00004','c00007','c00003',\n",
    "           'c00008','c11112']"
   ]
  },
  {
   "cell_type": "code",
   "execution_count": 19,
   "id": "4534dead",
   "metadata": {},
   "outputs": [],
   "source": [
    "# lambda function\n",
    "\n",
    "x = list(map(lambda ids:int(ids[1:]),cust_id1))"
   ]
  },
  {
   "cell_type": "code",
   "execution_count": 20,
   "id": "82cc9132",
   "metadata": {},
   "outputs": [
    {
     "name": "stdout",
     "output_type": "stream",
     "text": [
      "[1, 2, 3, 5, 11112, 4, 7, 3, 8, 11112]\n"
     ]
    }
   ],
   "source": [
    "print(x)"
   ]
  },
  {
   "cell_type": "markdown",
   "id": "32bef0e2",
   "metadata": {},
   "source": [
    "***"
   ]
  },
  {
   "cell_type": "markdown",
   "id": "e7dde545",
   "metadata": {},
   "source": [
    "## Task 5:Lambda function"
   ]
  },
  {
   "cell_type": "markdown",
   "id": "26c70c1b",
   "metadata": {},
   "source": [
    "### Apply A Special Discount\n",
    "\n",
    "\n",
    "We need to apply a discount for customers who purchased more than 500 dollars worth of product – they’re starting to complain it hasn’t been applied. They need to get 10% off on their orders.\n",
    "\n",
    "\n",
    "Can you quickly apply a discount? Store the new prices in a list called `discounted_subtotals`."
   ]
  },
  {
   "cell_type": "code",
   "execution_count": 24,
   "id": "fa9cc893",
   "metadata": {},
   "outputs": [],
   "source": [
    "subtotals = [15.98, 899.97, 799.97, 117.96, 5.99, 599.99]\n",
    "\n",
    "discounted_subtotals =list(map(lambda x:round(x*0.9,2) if x > 500 else x ,\n",
    "                               subtotals))"
   ]
  },
  {
   "cell_type": "code",
   "execution_count": 25,
   "id": "945ce623",
   "metadata": {},
   "outputs": [
    {
     "data": {
      "text/plain": [
       "[15.98, 809.97, 719.97, 117.96, 5.99, 539.99]"
      ]
     },
     "execution_count": 25,
     "metadata": {},
     "output_type": "execute_result"
    }
   ],
   "source": [
    "discounted_subtotals"
   ]
  },
  {
   "cell_type": "markdown",
   "id": "2f1c4d06",
   "metadata": {},
   "source": [
    "***"
   ]
  },
  {
   "cell_type": "markdown",
   "id": "cd9e8df0",
   "metadata": {},
   "source": [
    "## Comprehensions"
   ]
  },
  {
   "cell_type": "markdown",
   "id": "0b822074",
   "metadata": {},
   "source": [
    "Comprehension can generate sequence from other sequences.<br>\n",
    "syntax: new_list=[expression for member in other_iterable(if condition)]"
   ]
  },
  {
   "cell_type": "code",
   "execution_count": 27,
   "id": "e8fc92a2",
   "metadata": {},
   "outputs": [
    {
     "name": "stdout",
     "output_type": "stream",
     "text": [
      "[5.19, 7.04, 5.9, 3.52, 2.64, 87.99]\n"
     ]
    }
   ],
   "source": [
    "## creating a list of euro price from usd price\n",
    "\n",
    "usd_price =[5.9,8,6.7,4,3,99.99]\n",
    "exchange_rate =0.88\n",
    "euro_price =[]\n",
    "\n",
    "for i in usd_price:\n",
    "    euro_price.append(round(i*exchange_rate,2))\n",
    "print(euro_price)\n",
    "    "
   ]
  },
  {
   "cell_type": "code",
   "execution_count": 34,
   "id": "48f62a10",
   "metadata": {},
   "outputs": [],
   "source": [
    "#we can use comprehension to do this in a single line of code\n",
    "\n",
    "euro_price2 = [round(i*exchange_rate,2) for i in usd_price]\n"
   ]
  },
  {
   "cell_type": "code",
   "execution_count": 35,
   "id": "9b3a528b",
   "metadata": {},
   "outputs": [
    {
     "data": {
      "text/plain": [
       "[5.19, 7.04, 5.9, 3.52, 2.64, 87.99]"
      ]
     },
     "execution_count": 35,
     "metadata": {},
     "output_type": "execute_result"
    }
   ],
   "source": [
    "euro_price2"
   ]
  },
  {
   "cell_type": "code",
   "execution_count": 37,
   "id": "5a23dd2a",
   "metadata": {},
   "outputs": [
    {
     "data": {
      "text/plain": [
       "[7.04, 5.9, 87.99]"
      ]
     },
     "execution_count": 37,
     "metadata": {},
     "output_type": "execute_result"
    }
   ],
   "source": [
    "euro_price3 =[round(i* exchange_rate,2) for i in usd_price if i>6]\n",
    "euro_price3"
   ]
  },
  {
   "cell_type": "code",
   "execution_count": 38,
   "id": "35452c6f",
   "metadata": {},
   "outputs": [],
   "source": [
    "import numpy as np"
   ]
  },
  {
   "cell_type": "code",
   "execution_count": 39,
   "id": "5521ca71",
   "metadata": {},
   "outputs": [],
   "source": [
    "ratings =['5 star','1 star','2 star','8 star',\n",
    "         '9 star','6 star','7 star','1 star']"
   ]
  },
  {
   "cell_type": "code",
   "execution_count": 42,
   "id": "f6de7a49",
   "metadata": {},
   "outputs": [],
   "source": [
    "rating_number =[int(i[0]) for i in ratings]"
   ]
  },
  {
   "cell_type": "code",
   "execution_count": 43,
   "id": "ed8294a1",
   "metadata": {},
   "outputs": [
    {
     "data": {
      "text/plain": [
       "[5, 1, 2, 8, 9, 6, 7, 1]"
      ]
     },
     "execution_count": 43,
     "metadata": {},
     "output_type": "execute_result"
    }
   ],
   "source": [
    "rating_number"
   ]
  },
  {
   "cell_type": "code",
   "execution_count": 44,
   "id": "3148238d",
   "metadata": {},
   "outputs": [
    {
     "data": {
      "text/plain": [
       "4.875"
      ]
     },
     "execution_count": 44,
     "metadata": {},
     "output_type": "execute_result"
    }
   ],
   "source": [
    "np.mean(rating_number)"
   ]
  },
  {
   "cell_type": "code",
   "execution_count": 47,
   "id": "8a265160",
   "metadata": {},
   "outputs": [],
   "source": [
    "rating_number1 =[int(i[0]) for i in ratings if int(i[0])<6]"
   ]
  },
  {
   "cell_type": "code",
   "execution_count": 48,
   "id": "8cce68e7",
   "metadata": {},
   "outputs": [
    {
     "data": {
      "text/plain": [
       "[5, 1, 2, 1]"
      ]
     },
     "execution_count": 48,
     "metadata": {},
     "output_type": "execute_result"
    }
   ],
   "source": [
    "rating_number1"
   ]
  },
  {
   "cell_type": "code",
   "execution_count": 49,
   "id": "93e9acea",
   "metadata": {},
   "outputs": [
    {
     "data": {
      "text/plain": [
       "2.25"
      ]
     },
     "execution_count": 49,
     "metadata": {},
     "output_type": "execute_result"
    }
   ],
   "source": [
    "np.mean(rating_number1)"
   ]
  },
  {
   "cell_type": "markdown",
   "id": "a843581f",
   "metadata": {},
   "source": [
    "***"
   ]
  },
  {
   "cell_type": "markdown",
   "id": "7e479e2c",
   "metadata": {},
   "source": [
    "## Task 6:List comprehension"
   ]
  },
  {
   "cell_type": "markdown",
   "id": "0e224d7a",
   "metadata": {},
   "source": [
    "### Total Cost of European Items\n",
    "\n",
    "Below is the code to recreate our European item dictionary.\n",
    "\n",
    "Run the cells below, then follow the instructions below."
   ]
  },
  {
   "cell_type": "code",
   "execution_count": 50,
   "id": "f2b3c0dc",
   "metadata": {},
   "outputs": [],
   "source": [
    "# Data for dictionary - run this cell and the followwing to create it\n",
    "\n",
    "item_ids = [\n",
    "    10001, 10002, 10003, 10004, 10005, \n",
    "    10006, 10007, 10008, 10009\n",
    "]\n",
    "\n",
    "item_names = [\n",
    "    \"Coffee\", \"Beanie\", \"Gloves\", \"Sweatshirt\", \"Helmet\",\n",
    "    \"Snow Pants\", \"Coat\", \"Ski Poles\", \"Ski Boots\"\n",
    "]\n",
    "\n",
    "euro_prices = [\n",
    "    5.27, 8.79, 17.59, 21.99, 87.99, \n",
    "    70.39, 105.59, 87.99, 175.99\n",
    "]\n",
    "\n",
    "item_category = [\n",
    "    \"beverage\", \"clothing\", \"clothing\", \"clothing\", \"safety\",\n",
    "    \"clothing\", \"clothing\", \"hardware\", \"hardware\",\n",
    "]\n",
    "\n",
    "sizes = [\n",
    "    [\"250mL\"],\n",
    "    [\"Child\", \"Adult\"],\n",
    "    [\"Child\", \"Adult\"],\n",
    "    [\"XS\", \"S\", \"M\", \"L\", \"XL\", \"XXL\"],\n",
    "    [\"Child\", \"Adult\"],\n",
    "    [\"XS\", \"S\", \"M\", \"L\", \"XL\", \"XXL\"],\n",
    "    [\"S\", \"M\", \"L\"],\n",
    "    [\"S\", \"M\", \"L\"],\n",
    "    [5, 6, 7, 8, 9, 10, 11],\n",
    "    [\"S\", \"M\", \"L\"],\n",
    "    [5, 6, 7, 8, 9, 10, 11],\n",
    "    [\"NA\"],\n",
    "    [\"S\", \"M\", \"L\", \"Powder\"],\n",
    "]"
   ]
  },
  {
   "cell_type": "code",
   "execution_count": 57,
   "id": "6c0da2b7",
   "metadata": {},
   "outputs": [],
   "source": [
    "euro_item ={item:[name,price,category,size]for item,name,price,category,size in zip(item_ids,item_names,\n",
    "                                    euro_prices,item_category,sizes)}"
   ]
  },
  {
   "cell_type": "code",
   "execution_count": 58,
   "id": "f0f4933c",
   "metadata": {},
   "outputs": [
    {
     "data": {
      "text/plain": [
       "{10001: ['Coffee', 5.27, 'beverage', ['250mL']],\n",
       " 10002: ['Beanie', 8.79, 'clothing', ['Child', 'Adult']],\n",
       " 10003: ['Gloves', 17.59, 'clothing', ['Child', 'Adult']],\n",
       " 10004: ['Sweatshirt', 21.99, 'clothing', ['XS', 'S', 'M', 'L', 'XL', 'XXL']],\n",
       " 10005: ['Helmet', 87.99, 'safety', ['Child', 'Adult']],\n",
       " 10006: ['Snow Pants', 70.39, 'clothing', ['XS', 'S', 'M', 'L', 'XL', 'XXL']],\n",
       " 10007: ['Coat', 105.59, 'clothing', ['S', 'M', 'L']],\n",
       " 10008: ['Ski Poles', 87.99, 'hardware', ['S', 'M', 'L']],\n",
       " 10009: ['Ski Boots', 175.99, 'hardware', [5, 6, 7, 8, 9, 10, 11]]}"
      ]
     },
     "execution_count": 58,
     "metadata": {},
     "output_type": "execute_result"
    }
   ],
   "source": [
    "euro_item"
   ]
  },
  {
   "cell_type": "code",
   "execution_count": 61,
   "id": "cc4e9c89",
   "metadata": {},
   "outputs": [
    {
     "data": {
      "text/plain": [
       "5.27"
      ]
     },
     "execution_count": 61,
     "metadata": {},
     "output_type": "execute_result"
    }
   ],
   "source": [
    "euro_item[10001][1]"
   ]
  },
  {
   "cell_type": "code",
   "execution_count": 68,
   "id": "5c0be944",
   "metadata": {},
   "outputs": [],
   "source": [
    "x =sum([i[1] for i in euro_item.values()])"
   ]
  },
  {
   "cell_type": "code",
   "execution_count": 69,
   "id": "823bbd08",
   "metadata": {},
   "outputs": [
    {
     "data": {
      "text/plain": [
       "581.59"
      ]
     },
     "execution_count": 69,
     "metadata": {},
     "output_type": "execute_result"
    }
   ],
   "source": [
    "x"
   ]
  },
  {
   "cell_type": "markdown",
   "id": "3ece48f7",
   "metadata": {},
   "source": [
    "***"
   ]
  },
  {
   "cell_type": "markdown",
   "id": "894c92b0",
   "metadata": {},
   "source": [
    "## Dictionary comprehension"
   ]
  },
  {
   "cell_type": "markdown",
   "id": "05f6dd87",
   "metadata": {},
   "source": [
    "comprehension can also create dictionaries from other iterables\n"
   ]
  },
  {
   "cell_type": "markdown",
   "id": "5ff9944e",
   "metadata": {},
   "source": [
    "syntax: new_dict = {key:value for key,value in other_iterables(if condition)}"
   ]
  },
  {
   "cell_type": "code",
   "execution_count": 70,
   "id": "545dad33",
   "metadata": {},
   "outputs": [],
   "source": [
    "items =['skis','snow','board','boots']\n",
    "status =[[5,249.99],[0,21.99],[0,9.99],[12,79.99]]"
   ]
  },
  {
   "cell_type": "code",
   "execution_count": 71,
   "id": "2bad6d07",
   "metadata": {},
   "outputs": [],
   "source": [
    "new_dict ={item : round(stat[0] * stat[1],2)for item,stat in zip(items,status)}"
   ]
  },
  {
   "cell_type": "code",
   "execution_count": 72,
   "id": "55e6f0f7",
   "metadata": {},
   "outputs": [
    {
     "data": {
      "text/plain": [
       "{'skis': 1249.95, 'snow': 0.0, 'board': 0.0, 'boots': 959.88}"
      ]
     },
     "execution_count": 72,
     "metadata": {},
     "output_type": "execute_result"
    }
   ],
   "source": [
    "new_dict"
   ]
  },
  {
   "cell_type": "markdown",
   "id": "d6f27a5d",
   "metadata": {},
   "source": [
    "***"
   ]
  },
  {
   "cell_type": "markdown",
   "id": "62724c68",
   "metadata": {},
   "source": [
    "## Task 7:Dictionary comprehension"
   ]
  },
  {
   "cell_type": "markdown",
   "id": "2f826d1f",
   "metadata": {},
   "source": [
    "### Transaction Dictionary Creator\n",
    "\n",
    "Hi there, we need to make some final updates to our tax calculator function.\n",
    "\n",
    "We need a function takes a list of customer_ids, a list of subtotals, and a tax rate, that calls the tax_calculator on a list of subtotals, then returns a dictionary with customer_IDs as keys, and the lists returned from tax_calculator as the values.\n",
    "\n",
    "A dictionary comprehension would be very helpful here.\n",
    "\n",
    "Your function will need the following arguments:\n",
    "\n",
    "* customer_ids - a list of strings\n",
    "* subtotals - a list of numbers\n",
    "* tax_rate - the tax rate which will be passed to tax_calculator\n",
    "\n",
    "The output will be a dictionary with:\n",
    "\n",
    "* Customer IDs as keys\n",
    "* [subtotal, tax, total] as values\n"
   ]
  },
  {
   "cell_type": "code",
   "execution_count": 2,
   "id": "c20b4fad",
   "metadata": {},
   "outputs": [],
   "source": [
    "from tax_calculator import tax_calculator1\n"
   ]
  },
  {
   "cell_type": "code",
   "execution_count": 3,
   "id": "029cfa46",
   "metadata": {},
   "outputs": [
    {
     "data": {
      "text/plain": [
       "[200, 12.0, 212.0]"
      ]
     },
     "execution_count": 3,
     "metadata": {},
     "output_type": "execute_result"
    }
   ],
   "source": [
    "tax_calculator1(200)"
   ]
  },
  {
   "cell_type": "code",
   "execution_count": 7,
   "id": "944e3e61",
   "metadata": {},
   "outputs": [
    {
     "data": {
      "text/plain": [
       "[[100, 6.0, 106.0], [230, 13.8, 243.8], [40, 2.4, 42.4]]"
      ]
     },
     "execution_count": 7,
     "metadata": {},
     "output_type": "execute_result"
    }
   ],
   "source": [
    "list_new=[100,230,40]\n",
    "\n",
    "calculated_list = list(map(tax_calculator1,list_new))\n",
    "calculated_list"
   ]
  },
  {
   "cell_type": "code",
   "execution_count": 8,
   "id": "19d78c02",
   "metadata": {},
   "outputs": [],
   "source": [
    "customer_ids = ['C00004', 'C00007', 'C00015', 'C00016', 'C00020', 'C00010']\n",
    "\n",
    "subtotals = [15.98, 899.97, 799.97, 117.96, 5.99, 599.99]"
   ]
  },
  {
   "cell_type": "code",
   "execution_count": 9,
   "id": "484ea720",
   "metadata": {},
   "outputs": [],
   "source": [
    "transaction_dict ={k: tax_calculator1(v)for k,v in zip(customer_ids,subtotals)}"
   ]
  },
  {
   "cell_type": "code",
   "execution_count": 10,
   "id": "b2bb63f7",
   "metadata": {},
   "outputs": [
    {
     "data": {
      "text/plain": [
       "{'C00004': [15.98, 0.96, 16.94],\n",
       " 'C00007': [899.97, 54.0, 953.97],\n",
       " 'C00015': [799.97, 48.0, 847.97],\n",
       " 'C00016': [117.96, 7.08, 125.04],\n",
       " 'C00020': [5.99, 0.36, 6.35],\n",
       " 'C00010': [599.99, 36.0, 635.99]}"
      ]
     },
     "execution_count": 10,
     "metadata": {},
     "output_type": "execute_result"
    }
   ],
   "source": [
    "transaction_dict"
   ]
  },
  {
   "cell_type": "markdown",
   "id": "b3df84ef",
   "metadata": {},
   "source": [
    "***"
   ]
  },
  {
   "cell_type": "markdown",
   "id": "e034cba1",
   "metadata": {},
   "source": [
    "### Note:\n",
    "<span style='color:purple'>1.**Functions** are resuable block of code.<br>\n",
    "    2. External **packages and libraries** provide access to functions developed by others<br>\n",
    "    3.**Map()** applies a function to an iterable without the use of for loop<br>\n",
    "    4.**Comprehension** can create sequence and dictionaries from other iterables."
   ]
  }
 ],
 "metadata": {
  "kernelspec": {
   "display_name": "Python 3 (ipykernel)",
   "language": "python",
   "name": "python3"
  },
  "language_info": {
   "codemirror_mode": {
    "name": "ipython",
    "version": 3
   },
   "file_extension": ".py",
   "mimetype": "text/x-python",
   "name": "python",
   "nbconvert_exporter": "python",
   "pygments_lexer": "ipython3",
   "version": "3.10.9"
  }
 },
 "nbformat": 4,
 "nbformat_minor": 5
}
