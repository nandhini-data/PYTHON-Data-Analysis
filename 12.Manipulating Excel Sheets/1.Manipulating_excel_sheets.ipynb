{
 "cells": [
  {
   "cell_type": "markdown",
   "id": "12bb9c6f",
   "metadata": {},
   "source": [
    "# <center>Manipulating excel sheets using python</center>"
   ]
  },
  {
   "cell_type": "markdown",
   "id": "e4952ce5",
   "metadata": {},
   "source": [
    "* [<span style='color:purple'>**Navigating workbook**](#Navigating-workbook)\n",
    "* [<span style='color:purple'>**Navigating cells**](#Navigating-cells)\n",
    "    * [<span style='color:purple'>Task 1:Navigating workbook](#Task-1:Navigating-workbook)\n",
    "* [<span style='color:purple'>**Looping through cells in sheet**](#Looping-through-cells-in-sheet)"
   ]
  },
  {
   "cell_type": "code",
   "execution_count": 4,
   "id": "91a778d1",
   "metadata": {},
   "outputs": [],
   "source": [
    "## Importing openpyxl package to manipulate data from excel using python\n",
    "import openpyxl as xl"
   ]
  },
  {
   "cell_type": "markdown",
   "id": "ce32cbf4",
   "metadata": {},
   "source": [
    "## Navigating workbook"
   ]
  },
  {
   "cell_type": "code",
   "execution_count": 2,
   "id": "0ee1ab9f",
   "metadata": {},
   "outputs": [],
   "source": [
    "workbook =xl.load_workbook(filename=\"maven_ski_shop_data.xlsx\")"
   ]
  },
  {
   "cell_type": "code",
   "execution_count": 3,
   "id": "c76421bf",
   "metadata": {},
   "outputs": [
    {
     "data": {
      "text/plain": [
       "['Item_Info', 'Inventory_Levels', 'Orders_Info']"
      ]
     },
     "execution_count": 3,
     "metadata": {},
     "output_type": "execute_result"
    }
   ],
   "source": [
    "workbook.sheetnames #This will return sheetnames in a workbook"
   ]
  },
  {
   "cell_type": "code",
   "execution_count": 5,
   "id": "b2aea522",
   "metadata": {},
   "outputs": [
    {
     "data": {
      "text/plain": [
       "<Worksheet \"Inventory_Levels\">"
      ]
     },
     "execution_count": 5,
     "metadata": {},
     "output_type": "execute_result"
    }
   ],
   "source": [
    "workbook.active\n"
   ]
  },
  {
   "cell_type": "code",
   "execution_count": 6,
   "id": "a8c634bf",
   "metadata": {},
   "outputs": [
    {
     "data": {
      "text/plain": [
       "<Worksheet \"Item_Info\">"
      ]
     },
     "execution_count": 6,
     "metadata": {},
     "output_type": "execute_result"
    }
   ],
   "source": [
    "workbook.active=0\n",
    "workbook.active"
   ]
  },
  {
   "cell_type": "code",
   "execution_count": 7,
   "id": "26b5ff65",
   "metadata": {},
   "outputs": [],
   "source": [
    "items = workbook['Item_Info']\n",
    "inventory = workbook['Inventory_Levels']\n",
    "orders = workbook['Orders_Info']"
   ]
  },
  {
   "cell_type": "code",
   "execution_count": 8,
   "id": "26faa840",
   "metadata": {},
   "outputs": [
    {
     "data": {
      "text/plain": [
       "<Worksheet \"Item_Info\">"
      ]
     },
     "execution_count": 8,
     "metadata": {},
     "output_type": "execute_result"
    }
   ],
   "source": [
    "items"
   ]
  },
  {
   "cell_type": "code",
   "execution_count": 9,
   "id": "ee9a5efb",
   "metadata": {},
   "outputs": [
    {
     "data": {
      "text/plain": [
       "<Worksheet \"Inventory_Levels\">"
      ]
     },
     "execution_count": 9,
     "metadata": {},
     "output_type": "execute_result"
    }
   ],
   "source": [
    "inventory"
   ]
  },
  {
   "cell_type": "code",
   "execution_count": 10,
   "id": "046aa2c8",
   "metadata": {},
   "outputs": [
    {
     "data": {
      "text/plain": [
       "<Worksheet \"Orders_Info\">"
      ]
     },
     "execution_count": 10,
     "metadata": {},
     "output_type": "execute_result"
    }
   ],
   "source": [
    "orders"
   ]
  },
  {
   "cell_type": "markdown",
   "id": "0116dc5d",
   "metadata": {},
   "source": [
    "## Navigating cells"
   ]
  },
  {
   "cell_type": "code",
   "execution_count": 11,
   "id": "16c73172",
   "metadata": {},
   "outputs": [
    {
     "data": {
      "text/plain": [
       "<Cell 'Item_Info'.B1>"
      ]
     },
     "execution_count": 11,
     "metadata": {},
     "output_type": "execute_result"
    }
   ],
   "source": [
    "#you can navigate cell by using A1 style coordinate\n",
    "\n",
    "items['B1']"
   ]
  },
  {
   "cell_type": "code",
   "execution_count": 12,
   "id": "e5a50956",
   "metadata": {},
   "outputs": [
    {
     "data": {
      "text/plain": [
       "'Product_Name'"
      ]
     },
     "execution_count": 12,
     "metadata": {},
     "output_type": "execute_result"
    }
   ],
   "source": [
    "items['B1'].value"
   ]
  },
  {
   "cell_type": "code",
   "execution_count": 13,
   "id": "e9e968d0",
   "metadata": {},
   "outputs": [
    {
     "data": {
      "text/plain": [
       "'Coffee'"
      ]
     },
     "execution_count": 13,
     "metadata": {},
     "output_type": "execute_result"
    }
   ],
   "source": [
    "items['B2'].value"
   ]
  },
  {
   "cell_type": "code",
   "execution_count": 14,
   "id": "83db9c43",
   "metadata": {},
   "outputs": [
    {
     "data": {
      "text/plain": [
       "5.99"
      ]
     },
     "execution_count": 14,
     "metadata": {},
     "output_type": "execute_result"
    }
   ],
   "source": [
    "items['C2'].value"
   ]
  },
  {
   "cell_type": "code",
   "execution_count": 15,
   "id": "394598b6",
   "metadata": {},
   "outputs": [
    {
     "data": {
      "text/plain": [
       "'Gloves'"
      ]
     },
     "execution_count": 15,
     "metadata": {},
     "output_type": "execute_result"
    }
   ],
   "source": [
    "items.cell(row =4,column=2).value"
   ]
  },
  {
   "cell_type": "code",
   "execution_count": 16,
   "id": "59c3021a",
   "metadata": {},
   "outputs": [
    {
     "data": {
      "text/plain": [
       "'11/26/2021'"
      ]
     },
     "execution_count": 16,
     "metadata": {},
     "output_type": "execute_result"
    }
   ],
   "source": [
    "orders['C3'].value"
   ]
  },
  {
   "cell_type": "code",
   "execution_count": 17,
   "id": "77672979",
   "metadata": {},
   "outputs": [
    {
     "data": {
      "text/plain": [
       "<Worksheet \"Item_Info\">"
      ]
     },
     "execution_count": 17,
     "metadata": {},
     "output_type": "execute_result"
    }
   ],
   "source": [
    "items"
   ]
  },
  {
   "cell_type": "code",
   "execution_count": 19,
   "id": "3aeb18e3",
   "metadata": {},
   "outputs": [
    {
     "data": {
      "text/plain": [
       "100"
      ]
     },
     "execution_count": 19,
     "metadata": {},
     "output_type": "execute_result"
    }
   ],
   "source": [
    "inventory['B2'].value"
   ]
  },
  {
   "cell_type": "code",
   "execution_count": 20,
   "id": "400186e7",
   "metadata": {},
   "outputs": [
    {
     "name": "stdout",
     "output_type": "stream",
     "text": [
      "Available\n"
     ]
    }
   ],
   "source": [
    "if inventory['B2'].value <5 :\n",
    "    print(\"Low stock\")\n",
    "else:\n",
    "    print(\"Available\")"
   ]
  },
  {
   "cell_type": "markdown",
   "id": "a641368d",
   "metadata": {},
   "source": [
    "## Task 1:Navigating workbook"
   ]
  },
  {
   "cell_type": "markdown",
   "id": "23e53e5c",
   "metadata": {},
   "source": [
    "### Excel Data Sales Tax\n",
    "\n",
    "We need to calculate the sales tax for customer C00003 in the excel workbook 'maven_ski_shop_data'.\n",
    "\n",
    "Their transaction should be in row 'D10'. Apply a sales tax of 8%. \n",
    "\n"
   ]
  },
  {
   "cell_type": "code",
   "execution_count": 23,
   "id": "57d3f27a",
   "metadata": {},
   "outputs": [
    {
     "data": {
      "text/plain": [
       "99.99"
      ]
     },
     "execution_count": 23,
     "metadata": {},
     "output_type": "execute_result"
    }
   ],
   "source": [
    "orders['D10'].value"
   ]
  },
  {
   "cell_type": "markdown",
   "id": "cee38e69",
   "metadata": {},
   "source": [
    "### Sales Tax Calculation\n",
    "\n",
    "Ok, you should be ready to go - calculate the sales tax and total for the transaction in cell D10. \n",
    "\n",
    "Remember we already have a tax calculator function to do this! \n",
    "\n",
    "Consider printing your output with a string message!"
   ]
  },
  {
   "cell_type": "code",
   "execution_count": 26,
   "id": "6122e564",
   "metadata": {},
   "outputs": [],
   "source": [
    "def tax_calculator1(subtotal,tax_rate=0.06):\n",
    "    \n",
    "    \"\"\" takes in subtotal ,default tax rate and return list of subtotal,\n",
    "    tax and total.\n",
    "    \n",
    "    Args:\n",
    "        subtotal(float,int):cost of item.\n",
    "        tax_rate(optioanl):tax rate of store location,by default here tax_rate \n",
    "        is 0.06\n",
    "    \n",
    "    Return:\n",
    "        list:list containing subtotal,total and tax.\"\"\"\n",
    "    \n",
    "    tax = subtotal * tax_rate\n",
    "    total = subtotal + tax\n",
    "    return [subtotal,round(tax,2),round(total,2)]"
   ]
  },
  {
   "cell_type": "code",
   "execution_count": 27,
   "id": "6580f770",
   "metadata": {},
   "outputs": [],
   "source": [
    "transaction = tax_calculator1(orders['D10'].value,0.08)"
   ]
  },
  {
   "cell_type": "code",
   "execution_count": 28,
   "id": "53b4c0ff",
   "metadata": {},
   "outputs": [
    {
     "data": {
      "text/plain": [
       "[99.99, 8.0, 107.99]"
      ]
     },
     "execution_count": 28,
     "metadata": {},
     "output_type": "execute_result"
    }
   ],
   "source": [
    "transaction"
   ]
  },
  {
   "cell_type": "code",
   "execution_count": 30,
   "id": "0fbc6459",
   "metadata": {},
   "outputs": [
    {
     "name": "stdout",
     "output_type": "stream",
     "text": [
      "sales tax: $8.0\n",
      "Total have to pay: $107.99\n"
     ]
    }
   ],
   "source": [
    "print(\"sales tax: $\"+ str(transaction[1]))\n",
    "print(\"Total have to pay: $\"+ str(transaction[2]))"
   ]
  },
  {
   "cell_type": "markdown",
   "id": "a5e92d51",
   "metadata": {},
   "source": [
    "## Looping through cells in sheet"
   ]
  },
  {
   "cell_type": "code",
   "execution_count": 34,
   "id": "5618fb74",
   "metadata": {},
   "outputs": [
    {
     "name": "stdout",
     "output_type": "stream",
     "text": [
      "maximum rows in item worksheet: 14\n",
      "columns in items worksheet: 6\n"
     ]
    }
   ],
   "source": [
    "print(\"maximum rows in item worksheet:\", items.max_row)\n",
    "print(\"columns in items worksheet:\",items.max_column)"
   ]
  },
  {
   "cell_type": "code",
   "execution_count": 36,
   "id": "7247e8dc",
   "metadata": {},
   "outputs": [
    {
     "name": "stdout",
     "output_type": "stream",
     "text": [
      "B1 Product_Name\n",
      "B2 Coffee\n",
      "B3 Beanie\n",
      "B4 Gloves\n",
      "B5 Sweatshirt\n",
      "B6 Helmet\n",
      "B7 Snow Pants\n",
      "B8 Coat\n",
      "B9 Ski Poles\n",
      "B10 Ski Boots\n",
      "B11 Skis\n",
      "B12 Snowboard Boots\n",
      "B13 Bindings\n",
      "B14 Snowboard\n"
     ]
    }
   ],
   "source": [
    "#print the column B1 in a excel worksheet (items)\n",
    "\n",
    "for i in range(1,items.max_row+1):\n",
    "    print(f'B{i}',items[f'B{i}'].value)"
   ]
  },
  {
   "cell_type": "code",
   "execution_count": null,
   "id": "e4fe718e",
   "metadata": {},
   "outputs": [],
   "source": []
  }
 ],
 "metadata": {
  "kernelspec": {
   "display_name": "Python 3 (ipykernel)",
   "language": "python",
   "name": "python3"
  },
  "language_info": {
   "codemirror_mode": {
    "name": "ipython",
    "version": 3
   },
   "file_extension": ".py",
   "mimetype": "text/x-python",
   "name": "python",
   "nbconvert_exporter": "python",
   "pygments_lexer": "ipython3",
   "version": "3.10.9"
  }
 },
 "nbformat": 4,
 "nbformat_minor": 5
}
