{
 "cells": [
  {
   "cell_type": "markdown",
   "id": "12bb9c6f",
   "metadata": {},
   "source": [
    "# <center>Manipulating excel sheets using python</center>"
   ]
  },
  {
   "cell_type": "markdown",
   "id": "e4952ce5",
   "metadata": {},
   "source": [
    "* [<span style='color:purple'>**Navigating workbook**](#Navigating-workbook)\n",
    "* [<span style='color:purple'>**Navigating cells**](#Navigating-cells)\n",
    "    * [<span style='color:purple'>Task 1:Navigating workbook](#Task-1:Navigating-workbook)\n",
    "* [<span style='color:purple'>**Looping through cells in sheet**](#Looping-through-cells-in-sheet)"
   ]
  },
  {
   "cell_type": "code",
   "execution_count": 1,
   "id": "91a778d1",
   "metadata": {},
   "outputs": [],
   "source": [
    "## Importing openpyxl package to manipulate data from excel using python\n",
    "import openpyxl as xl"
   ]
  },
  {
   "cell_type": "markdown",
   "id": "ce32cbf4",
   "metadata": {},
   "source": [
    "## Navigating workbook"
   ]
  },
  {
   "cell_type": "code",
   "execution_count": 2,
   "id": "0ee1ab9f",
   "metadata": {},
   "outputs": [],
   "source": [
    "workbook =xl.load_workbook(filename=\"maven_ski_shop_data.xlsx\")"
   ]
  },
  {
   "cell_type": "code",
   "execution_count": 3,
   "id": "c76421bf",
   "metadata": {},
   "outputs": [
    {
     "data": {
      "text/plain": [
       "['Item_Info', 'Inventory_Levels', 'Orders_Info']"
      ]
     },
     "execution_count": 3,
     "metadata": {},
     "output_type": "execute_result"
    }
   ],
   "source": [
    "workbook.sheetnames #This will return sheetnames in a workbook"
   ]
  },
  {
   "cell_type": "code",
   "execution_count": 4,
   "id": "b2aea522",
   "metadata": {},
   "outputs": [
    {
     "data": {
      "text/plain": [
       "<Worksheet \"Inventory_Levels\">"
      ]
     },
     "execution_count": 4,
     "metadata": {},
     "output_type": "execute_result"
    }
   ],
   "source": [
    "workbook.active\n"
   ]
  },
  {
   "cell_type": "code",
   "execution_count": 5,
   "id": "a8c634bf",
   "metadata": {},
   "outputs": [
    {
     "data": {
      "text/plain": [
       "<Worksheet \"Item_Info\">"
      ]
     },
     "execution_count": 5,
     "metadata": {},
     "output_type": "execute_result"
    }
   ],
   "source": [
    "workbook.active=0\n",
    "workbook.active"
   ]
  },
  {
   "cell_type": "code",
   "execution_count": 6,
   "id": "26b5ff65",
   "metadata": {},
   "outputs": [],
   "source": [
    "items = workbook['Item_Info']\n",
    "inventory = workbook['Inventory_Levels']\n",
    "orders = workbook['Orders_Info']"
   ]
  },
  {
   "cell_type": "code",
   "execution_count": 7,
   "id": "26faa840",
   "metadata": {},
   "outputs": [
    {
     "data": {
      "text/plain": [
       "<Worksheet \"Item_Info\">"
      ]
     },
     "execution_count": 7,
     "metadata": {},
     "output_type": "execute_result"
    }
   ],
   "source": [
    "items"
   ]
  },
  {
   "cell_type": "code",
   "execution_count": 8,
   "id": "ee9a5efb",
   "metadata": {},
   "outputs": [
    {
     "data": {
      "text/plain": [
       "<Worksheet \"Inventory_Levels\">"
      ]
     },
     "execution_count": 8,
     "metadata": {},
     "output_type": "execute_result"
    }
   ],
   "source": [
    "inventory"
   ]
  },
  {
   "cell_type": "code",
   "execution_count": 9,
   "id": "046aa2c8",
   "metadata": {},
   "outputs": [
    {
     "data": {
      "text/plain": [
       "<Worksheet \"Orders_Info\">"
      ]
     },
     "execution_count": 9,
     "metadata": {},
     "output_type": "execute_result"
    }
   ],
   "source": [
    "orders"
   ]
  },
  {
   "cell_type": "markdown",
   "id": "0116dc5d",
   "metadata": {},
   "source": [
    "## Navigating cells"
   ]
  },
  {
   "cell_type": "code",
   "execution_count": 10,
   "id": "16c73172",
   "metadata": {},
   "outputs": [
    {
     "data": {
      "text/plain": [
       "<Cell 'Item_Info'.B1>"
      ]
     },
     "execution_count": 10,
     "metadata": {},
     "output_type": "execute_result"
    }
   ],
   "source": [
    "#you can navigate cell by using A1 style coordinate\n",
    "\n",
    "items['B1']"
   ]
  },
  {
   "cell_type": "code",
   "execution_count": 11,
   "id": "e5a50956",
   "metadata": {},
   "outputs": [
    {
     "data": {
      "text/plain": [
       "'Product_Name'"
      ]
     },
     "execution_count": 11,
     "metadata": {},
     "output_type": "execute_result"
    }
   ],
   "source": [
    "items['B1'].value"
   ]
  },
  {
   "cell_type": "code",
   "execution_count": 12,
   "id": "e9e968d0",
   "metadata": {},
   "outputs": [
    {
     "data": {
      "text/plain": [
       "'Coffee'"
      ]
     },
     "execution_count": 12,
     "metadata": {},
     "output_type": "execute_result"
    }
   ],
   "source": [
    "items['B2'].value"
   ]
  },
  {
   "cell_type": "code",
   "execution_count": 13,
   "id": "83db9c43",
   "metadata": {},
   "outputs": [
    {
     "data": {
      "text/plain": [
       "5.99"
      ]
     },
     "execution_count": 13,
     "metadata": {},
     "output_type": "execute_result"
    }
   ],
   "source": [
    "items['C2'].value"
   ]
  },
  {
   "cell_type": "code",
   "execution_count": 14,
   "id": "394598b6",
   "metadata": {},
   "outputs": [
    {
     "data": {
      "text/plain": [
       "'Gloves'"
      ]
     },
     "execution_count": 14,
     "metadata": {},
     "output_type": "execute_result"
    }
   ],
   "source": [
    "items.cell(row =4,column=2).value"
   ]
  },
  {
   "cell_type": "code",
   "execution_count": 15,
   "id": "59c3021a",
   "metadata": {},
   "outputs": [
    {
     "data": {
      "text/plain": [
       "'11/26/2021'"
      ]
     },
     "execution_count": 15,
     "metadata": {},
     "output_type": "execute_result"
    }
   ],
   "source": [
    "orders['C3'].value"
   ]
  },
  {
   "cell_type": "code",
   "execution_count": 16,
   "id": "77672979",
   "metadata": {},
   "outputs": [
    {
     "data": {
      "text/plain": [
       "<Worksheet \"Item_Info\">"
      ]
     },
     "execution_count": 16,
     "metadata": {},
     "output_type": "execute_result"
    }
   ],
   "source": [
    "items"
   ]
  },
  {
   "cell_type": "code",
   "execution_count": 17,
   "id": "3aeb18e3",
   "metadata": {},
   "outputs": [
    {
     "data": {
      "text/plain": [
       "100"
      ]
     },
     "execution_count": 17,
     "metadata": {},
     "output_type": "execute_result"
    }
   ],
   "source": [
    "inventory['B2'].value"
   ]
  },
  {
   "cell_type": "code",
   "execution_count": 18,
   "id": "400186e7",
   "metadata": {},
   "outputs": [
    {
     "name": "stdout",
     "output_type": "stream",
     "text": [
      "Available\n"
     ]
    }
   ],
   "source": [
    "if inventory['B2'].value <5 :\n",
    "    print(\"Low stock\")\n",
    "else:\n",
    "    print(\"Available\")"
   ]
  },
  {
   "cell_type": "markdown",
   "id": "a641368d",
   "metadata": {},
   "source": [
    "## Task 1:Navigating workbook"
   ]
  },
  {
   "cell_type": "markdown",
   "id": "23e53e5c",
   "metadata": {},
   "source": [
    "### Excel Data Sales Tax\n",
    "\n",
    "We need to calculate the sales tax for customer C00003 in the excel workbook 'maven_ski_shop_data'.\n",
    "\n",
    "Their transaction should be in row 'D10'. Apply a sales tax of 8%. \n",
    "\n"
   ]
  },
  {
   "cell_type": "code",
   "execution_count": 19,
   "id": "57d3f27a",
   "metadata": {},
   "outputs": [
    {
     "data": {
      "text/plain": [
       "99.99"
      ]
     },
     "execution_count": 19,
     "metadata": {},
     "output_type": "execute_result"
    }
   ],
   "source": [
    "orders['D10'].value"
   ]
  },
  {
   "cell_type": "markdown",
   "id": "cee38e69",
   "metadata": {},
   "source": [
    "### Sales Tax Calculation\n",
    "\n",
    "Ok, you should be ready to go - calculate the sales tax and total for the transaction in cell D10. \n",
    "\n",
    "Remember we already have a tax calculator function to do this! \n",
    "\n",
    "Consider printing your output with a string message!"
   ]
  },
  {
   "cell_type": "code",
   "execution_count": 20,
   "id": "6122e564",
   "metadata": {},
   "outputs": [],
   "source": [
    "def tax_calculator1(subtotal,tax_rate=0.06):\n",
    "    \n",
    "    \"\"\" takes in subtotal ,default tax rate and return list of subtotal,\n",
    "    tax and total.\n",
    "    \n",
    "    Args:\n",
    "        subtotal(float,int):cost of item.\n",
    "        tax_rate(optioanl):tax rate of store location,by default here tax_rate \n",
    "        is 0.06\n",
    "    \n",
    "    Return:\n",
    "        list:list containing subtotal,total and tax.\"\"\"\n",
    "    \n",
    "    tax = subtotal * tax_rate\n",
    "    total = subtotal + tax\n",
    "    return [subtotal,round(tax,2),round(total,2)]"
   ]
  },
  {
   "cell_type": "code",
   "execution_count": 21,
   "id": "6580f770",
   "metadata": {},
   "outputs": [],
   "source": [
    "transaction = tax_calculator1(orders['D10'].value,0.08)"
   ]
  },
  {
   "cell_type": "code",
   "execution_count": 22,
   "id": "53b4c0ff",
   "metadata": {},
   "outputs": [
    {
     "data": {
      "text/plain": [
       "[99.99, 8.0, 107.99]"
      ]
     },
     "execution_count": 22,
     "metadata": {},
     "output_type": "execute_result"
    }
   ],
   "source": [
    "transaction"
   ]
  },
  {
   "cell_type": "code",
   "execution_count": 23,
   "id": "0fbc6459",
   "metadata": {},
   "outputs": [
    {
     "name": "stdout",
     "output_type": "stream",
     "text": [
      "sales tax: $8.0\n",
      "Total have to pay: $107.99\n"
     ]
    }
   ],
   "source": [
    "print(\"sales tax: $\"+ str(transaction[1]))\n",
    "print(\"Total have to pay: $\"+ str(transaction[2]))"
   ]
  },
  {
   "cell_type": "markdown",
   "id": "a5e92d51",
   "metadata": {},
   "source": [
    "## Looping through cells in sheet"
   ]
  },
  {
   "cell_type": "code",
   "execution_count": 24,
   "id": "5618fb74",
   "metadata": {},
   "outputs": [
    {
     "name": "stdout",
     "output_type": "stream",
     "text": [
      "maximum rows in item worksheet: 14\n",
      "columns in items worksheet: 6\n"
     ]
    }
   ],
   "source": [
    "print(\"maximum rows in item worksheet:\", items.max_row)\n",
    "print(\"columns in items worksheet:\",items.max_column)"
   ]
  },
  {
   "cell_type": "code",
   "execution_count": 25,
   "id": "7247e8dc",
   "metadata": {},
   "outputs": [
    {
     "name": "stdout",
     "output_type": "stream",
     "text": [
      "B1 Product_Name\n",
      "B2 Coffee\n",
      "B3 Beanie\n",
      "B4 Gloves\n",
      "B5 Sweatshirt\n",
      "B6 Helmet\n",
      "B7 Snow Pants\n",
      "B8 Coat\n",
      "B9 Ski Poles\n",
      "B10 Ski Boots\n",
      "B11 Skis\n",
      "B12 Snowboard Boots\n",
      "B13 Bindings\n",
      "B14 Snowboard\n"
     ]
    }
   ],
   "source": [
    "#print the column B1 in a excel worksheet (items)\n",
    "\n",
    "for i in range(1,items.max_row+1):\n",
    "    print(f'B{i}',items[f'B{i}'].value)"
   ]
  },
  {
   "cell_type": "code",
   "execution_count": 29,
   "id": "e4fe718e",
   "metadata": {},
   "outputs": [
    {
     "data": {
      "text/plain": [
       "'Ski Boots'"
      ]
     },
     "execution_count": 29,
     "metadata": {},
     "output_type": "execute_result"
    }
   ],
   "source": [
    "items['B10'].value"
   ]
  },
  {
   "cell_type": "code",
   "execution_count": 31,
   "id": "0774d57f",
   "metadata": {},
   "outputs": [],
   "source": [
    "items['F1'] = 'Euro price'\n",
    "#here Euro price is assigned to F1 by creating new column"
   ]
  },
  {
   "cell_type": "code",
   "execution_count": 32,
   "id": "12afb582",
   "metadata": {},
   "outputs": [
    {
     "data": {
      "text/plain": [
       "6"
      ]
     },
     "execution_count": 32,
     "metadata": {},
     "output_type": "execute_result"
    }
   ],
   "source": [
    "items.max_column"
   ]
  },
  {
   "cell_type": "code",
   "execution_count": 33,
   "id": "25738d15",
   "metadata": {},
   "outputs": [],
   "source": [
    "#write data to a column by looping through its rows and assigning values\n",
    "\n",
    "exchange_rate =0.88\n",
    "\n",
    "for i in range(2,items.max_row+1):\n",
    "    items[f'F{i}'] = round(items[f'C{i}'].value * exchange_rate,2)"
   ]
  },
  {
   "cell_type": "code",
   "execution_count": 40,
   "id": "9a22a2d3",
   "metadata": {},
   "outputs": [
    {
     "name": "stdout",
     "output_type": "stream",
     "text": [
      "F2 -- 5.27\n",
      "F3 -- 8.79\n",
      "F4 -- 17.59\n",
      "F5 -- 21.99\n",
      "F6 -- 87.99\n",
      "F7 -- 70.39\n",
      "F8 -- 105.59\n",
      "F9 -- 87.99\n",
      "F10 -- 175.99\n",
      "F11 -- 527.99\n",
      "F12 -- 114.39\n",
      "F13 -- 131.99\n",
      "F14 -- 439.99\n"
     ]
    }
   ],
   "source": [
    "for i in range(2,items.max_row+1):\n",
    "    print( f'F{i}',\"--\",items[f'F{i}'].value)"
   ]
  },
  {
   "cell_type": "code",
   "execution_count": 41,
   "id": "d14f2c92",
   "metadata": {},
   "outputs": [
    {
     "data": {
      "text/plain": [
       "<Worksheet \"Inventory_Levels\">"
      ]
     },
     "execution_count": 41,
     "metadata": {},
     "output_type": "execute_result"
    }
   ],
   "source": [
    "inventory"
   ]
  },
  {
   "cell_type": "code",
   "execution_count": 42,
   "id": "693e996e",
   "metadata": {},
   "outputs": [
    {
     "name": "stdout",
     "output_type": "stream",
     "text": [
      "1 Quantity_in_stock\n",
      "2 100\n",
      "3 15\n",
      "4 10\n",
      "5 25\n",
      "6 8\n",
      "7 6\n",
      "8 0\n",
      "9 0\n",
      "10 1\n",
      "11 5\n",
      "12 0\n",
      "13 4\n"
     ]
    }
   ],
   "source": [
    "for i in range(1,inventory.max_row+1):\n",
    "    print(i,inventory[f\"B{i}\"].value)"
   ]
  },
  {
   "cell_type": "code",
   "execution_count": 45,
   "id": "2c7d0913",
   "metadata": {},
   "outputs": [],
   "source": [
    "for i in range(1,inventory.max_row+1):\n",
    "    if i ==1:\n",
    "        inventory[f\"C{i}\"].value ='Inventory status'\n",
    "    elif inventory[f\"B{i}\"].value >5:\n",
    "        inventory[f\"C{i}\"].value= \"Healthy stock\"\n",
    "    elif inventory[f\"B{i}\"].value >0:\n",
    "        inventory[f\"C{i}\"].value =\"low stock\"\n",
    "    else:\n",
    "        inventory[f\"C{i}\"].value  =\"out of stock\""
   ]
  },
  {
   "cell_type": "code",
   "execution_count": 46,
   "id": "d05dd181",
   "metadata": {},
   "outputs": [
    {
     "name": "stdout",
     "output_type": "stream",
     "text": [
      "1 Inventory status\n",
      "2 Healthy stock\n",
      "3 Healthy stock\n",
      "4 Healthy stock\n",
      "5 Healthy stock\n",
      "6 Healthy stock\n",
      "7 Healthy stock\n",
      "8 out of stock\n",
      "9 out of stock\n",
      "10 low stock\n",
      "11 low stock\n",
      "12 out of stock\n",
      "13 low stock\n"
     ]
    }
   ],
   "source": [
    "for i in range(1,inventory.max_row+1):\n",
    "    print(i,inventory[f\"C{i}\"].value)"
   ]
  },
  {
   "cell_type": "code",
   "execution_count": 48,
   "id": "0c46f059",
   "metadata": {},
   "outputs": [],
   "source": [
    "workbook.save(\"maven_ski_shop_data_fix.xlsx\")"
   ]
  },
  {
   "cell_type": "code",
   "execution_count": null,
   "id": "b3b73170",
   "metadata": {},
   "outputs": [],
   "source": []
  }
 ],
 "metadata": {
  "kernelspec": {
   "display_name": "Python 3 (ipykernel)",
   "language": "python",
   "name": "python3"
  },
  "language_info": {
   "codemirror_mode": {
    "name": "ipython",
    "version": 3
   },
   "file_extension": ".py",
   "mimetype": "text/x-python",
   "name": "python",
   "nbconvert_exporter": "python",
   "pygments_lexer": "ipython3",
   "version": "3.10.9"
  }
 },
 "nbformat": 4,
 "nbformat_minor": 5
}
