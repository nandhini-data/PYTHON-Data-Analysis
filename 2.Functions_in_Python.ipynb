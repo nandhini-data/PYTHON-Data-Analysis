{
 "cells": [
  {
   "cell_type": "markdown",
   "id": "fffa07c4",
   "metadata": {},
   "source": [
    "## <center>Functions</center>"
   ]
  },
  {
   "cell_type": "markdown",
   "id": "5e24190c",
   "metadata": {},
   "source": [
    "**Functions** are reusable block of code that perform specific task when it is called.<br>\n",
    "They take in data and perform set of actions and return a result"
   ]
  },
  {
   "cell_type": "code",
   "execution_count": 2,
   "id": "c2cee22a",
   "metadata": {},
   "outputs": [],
   "source": [
    "price_list =[30,40,200,100,23]"
   ]
  },
  {
   "cell_type": "code",
   "execution_count": 3,
   "id": "56d6182b",
   "metadata": {},
   "outputs": [
    {
     "data": {
      "text/plain": [
       "200"
      ]
     },
     "execution_count": 3,
     "metadata": {},
     "output_type": "execute_result"
    }
   ],
   "source": [
    "max(price_list)"
   ]
  },
  {
   "cell_type": "code",
   "execution_count": 4,
   "id": "c8351074",
   "metadata": {},
   "outputs": [],
   "source": [
    "def concatenator(string1,string2):\n",
    "    return string1+\" \"+string2"
   ]
  },
  {
   "cell_type": "code",
   "execution_count": 7,
   "id": "ab5116fe",
   "metadata": {},
   "outputs": [
    {
     "data": {
      "text/plain": [
       "'hello how are you'"
      ]
     },
     "execution_count": 7,
     "metadata": {},
     "output_type": "execute_result"
    }
   ],
   "source": [
    "concatenator('hello','how are you')"
   ]
  },
  {
   "cell_type": "code",
   "execution_count": 5,
   "id": "dc8eb2db",
   "metadata": {},
   "outputs": [
    {
     "name": "stdout",
     "output_type": "stream",
     "text": [
      "1000\n"
     ]
    }
   ],
   "source": [
    "list1 =[100,200,300,400]\n",
    "\n",
    "total =0\n",
    "for i in list1:\n",
    "    total =total+i\n",
    "print(total)"
   ]
  },
  {
   "cell_type": "code",
   "execution_count": 7,
   "id": "5fe6b4f8",
   "metadata": {},
   "outputs": [
    {
     "name": "stdout",
     "output_type": "stream",
     "text": [
      "810\n"
     ]
    }
   ],
   "source": [
    "list2 =[300,400,50,60]\n",
    "\n",
    "total =0\n",
    "for i in list2:\n",
    "    total =total+i\n",
    "print(total)"
   ]
  },
  {
   "cell_type": "code",
   "execution_count": 8,
   "id": "4496f239",
   "metadata": {},
   "outputs": [],
   "source": [
    "def total(arg):\n",
    "    total =0\n",
    "    for i in arg:\n",
    "        total=total+i\n",
    "    return total"
   ]
  },
  {
   "cell_type": "code",
   "execution_count": 9,
   "id": "a94618a3",
   "metadata": {},
   "outputs": [
    {
     "data": {
      "text/plain": [
       "1000"
      ]
     },
     "execution_count": 9,
     "metadata": {},
     "output_type": "execute_result"
    }
   ],
   "source": [
    "total(list1)"
   ]
  },
  {
   "cell_type": "code",
   "execution_count": 10,
   "id": "66d577ee",
   "metadata": {},
   "outputs": [
    {
     "data": {
      "text/plain": [
       "810"
      ]
     },
     "execution_count": 10,
     "metadata": {},
     "output_type": "execute_result"
    }
   ],
   "source": [
    "total(list2)"
   ]
  },
  {
   "cell_type": "code",
   "execution_count": null,
   "id": "cc2c8844",
   "metadata": {},
   "outputs": [],
   "source": []
  }
 ],
 "metadata": {
  "kernelspec": {
   "display_name": "Python 3 (ipykernel)",
   "language": "python",
   "name": "python3"
  },
  "language_info": {
   "codemirror_mode": {
    "name": "ipython",
    "version": 3
   },
   "file_extension": ".py",
   "mimetype": "text/x-python",
   "name": "python",
   "nbconvert_exporter": "python",
   "pygments_lexer": "ipython3",
   "version": "3.10.9"
  }
 },
 "nbformat": 4,
 "nbformat_minor": 5
}
