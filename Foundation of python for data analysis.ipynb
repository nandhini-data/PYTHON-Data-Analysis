{
 "cells": [
  {
   "cell_type": "markdown",
   "id": "b315a201",
   "metadata": {},
   "source": [
    "# Python Foundation For Data Analysis"
   ]
  },
  {
   "cell_type": "markdown",
   "id": "682ed58d",
   "metadata": {},
   "source": [
    "## Project Objective\n",
    "\n",
    "<span style='font-family:Georgia'><span style='color:green'>1. Process the missing data fields<br>\n",
    "    2. Reshape and aggregate data<br>\n",
    "    3. Calculate KPI and deliver insight on black friday sales<br>\n",
    "    4. Bild a simple data pipeline and export the processed data to excel to share with leardership"
   ]
  },
  {
   "cell_type": "code",
   "execution_count": null,
   "id": "5d68bb1c",
   "metadata": {},
   "outputs": [],
   "source": []
  }
 ],
 "metadata": {
  "kernelspec": {
   "display_name": "Python 3 (ipykernel)",
   "language": "python",
   "name": "python3"
  },
  "language_info": {
   "codemirror_mode": {
    "name": "ipython",
    "version": 3
   },
   "file_extension": ".py",
   "mimetype": "text/x-python",
   "name": "python",
   "nbconvert_exporter": "python",
   "pygments_lexer": "ipython3",
   "version": "3.10.9"
  }
 },
 "nbformat": 4,
 "nbformat_minor": 5
}
