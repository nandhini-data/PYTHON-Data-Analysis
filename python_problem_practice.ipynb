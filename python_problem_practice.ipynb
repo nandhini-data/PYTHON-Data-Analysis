{
 "cells": [
  {
   "cell_type": "markdown",
   "id": "53a510fc",
   "metadata": {},
   "source": [
    "# <center>Python Practice</center>"
   ]
  },
  {
   "cell_type": "markdown",
   "id": "6a944037",
   "metadata": {},
   "source": [
    "### 1.Name the keyword which helps in writing code involves condition.\n",
    "if condition"
   ]
  },
  {
   "cell_type": "markdown",
   "id": "44512791",
   "metadata": {},
   "source": [
    "### 2.Write the syntax of simple if statement\n",
    "\n"
   ]
  },
  {
   "cell_type": "code",
   "execution_count": 2,
   "id": "91c7944f",
   "metadata": {},
   "outputs": [],
   "source": [
    "#if condition:\n",
    "#   statement\n",
    "    "
   ]
  },
  {
   "cell_type": "markdown",
   "id": "7d3bf4a5",
   "metadata": {},
   "source": [
    "### 3.Is there any limit of statement that can appear under an if block\n",
    "No"
   ]
  },
  {
   "cell_type": "markdown",
   "id": "f5fd66ab",
   "metadata": {},
   "source": [
    "### 4.Write a program to check whether a person is eligible for voting or not."
   ]
  },
  {
   "cell_type": "code",
   "execution_count": 4,
   "id": "55ecf961",
   "metadata": {},
   "outputs": [
    {
     "name": "stdout",
     "output_type": "stream",
     "text": [
      "Enter the age:17\n",
      "Not eligible to vote\n"
     ]
    }
   ],
   "source": [
    "n = int(input(\"Enter the age:\"))\n",
    "if n > 18:\n",
    "    print(\"Person is eligible to vote\")\n",
    "else:\n",
    "    print(\"Not eligible to vote\")\n"
   ]
  },
  {
   "cell_type": "markdown",
   "id": "d85f862a",
   "metadata": {},
   "source": [
    "### 5. Write a program to check whether a number entered  by user is even or odd"
   ]
  },
  {
   "cell_type": "code",
   "execution_count": 13,
   "id": "b9495886",
   "metadata": {},
   "outputs": [
    {
     "name": "stdout",
     "output_type": "stream",
     "text": [
      "Enter the number:9\n",
      "9 is a odd number\n"
     ]
    }
   ],
   "source": [
    "num = int(input(\"Enter the number:\"))\n",
    "if num%2 ==0:\n",
    "    print(f\"{num} is a even number\")\n",
    "else:\n",
    "    print(num,\"is a odd number\")"
   ]
  },
  {
   "cell_type": "markdown",
   "id": "67642a82",
   "metadata": {},
   "source": [
    "### 6. Write a program to check whether a number is divisible by 7 or not"
   ]
  },
  {
   "cell_type": "code",
   "execution_count": 24,
   "id": "7eb93fb9",
   "metadata": {},
   "outputs": [
    {
     "name": "stdout",
     "output_type": "stream",
     "text": [
      "Enter the number49\n",
      "49 is divisible by 7\n"
     ]
    }
   ],
   "source": [
    "num = int(input(\"Enter the number:\"))\n",
    "if num%7 == 0:\n",
    "    print(f\"{num} is divisible by 7\")\n",
    "else:\n",
    "    print(num,\"is not divisible by 7\")"
   ]
  },
  {
   "cell_type": "markdown",
   "id": "70cf3999",
   "metadata": {},
   "source": [
    "### 7. Write a program to display \"Hello\" if a number entered ny user is a multiple of 5 otherwise print \"Bye\""
   ]
  },
  {
   "cell_type": "code",
   "execution_count": 27,
   "id": "62b3c256",
   "metadata": {},
   "outputs": [
    {
     "name": "stdout",
     "output_type": "stream",
     "text": [
      "Enter the number:78\n",
      "Bye\n"
     ]
    }
   ],
   "source": [
    "num = int(input(\"Enter the number:\"))\n",
    "if num % 5 ==0:\n",
    "    print(\"Hello\")\n",
    "else:\n",
    "    print(\"Bye\")"
   ]
  },
  {
   "cell_type": "markdown",
   "id": "4742cb13",
   "metadata": {},
   "source": [
    "### 8.Write a program to calculate the electricity bill (accept the number of unit from user) according to following criteria:\n",
    "| Unit|Price|\n",
    "|:--:|:--:|\n",
    "|First 100 units|No charge|\n",
    "|Next 100 units| 5 per unit|\n",
    "|After 200 Units| 10 per unit|\n",
    "Example: if input unit is 350 then total bill amount is 2000\n"
   ]
  },
  {
   "cell_type": "code",
   "execution_count": 31,
   "id": "139c46ae",
   "metadata": {},
   "outputs": [
    {
     "name": "stdout",
     "output_type": "stream",
     "text": [
      "Enter the number350\n",
      "The price is  2000\n"
     ]
    }
   ],
   "source": [
    "num = int(input(\"Enter the number\"))\n",
    "if num <=100:\n",
    "    print(\"No Charge\")\n",
    "elif num > 100 and num <= 200:\n",
    "    price = (num - 100) * 5\n",
    "    print(\"The price is :\",price)\n",
    "else:\n",
    "    price = 500 +(num -200) * 10\n",
    "    print(\"The price is \",price)"
   ]
  },
  {
   "cell_type": "markdown",
   "id": "9c29bad5",
   "metadata": {},
   "source": [
    "### 9.Write a program to display the last digit of a number.(hint any number % 10 will return the last digit)"
   ]
  },
  {
   "cell_type": "code",
   "execution_count": 33,
   "id": "2c2d85be",
   "metadata": {},
   "outputs": [
    {
     "name": "stdout",
     "output_type": "stream",
     "text": [
      "Enter the number:345\n",
      "Last digit of the  345 is 5\n"
     ]
    }
   ],
   "source": [
    "num =int(input(\"Enter the number:\"))\n",
    "last_digit = num % 10\n",
    "print(\"Last digit of the \",num,\"is\",last_digit)"
   ]
  },
  {
   "cell_type": "markdown",
   "id": "1f70807e",
   "metadata": {},
   "source": [
    "### 10.Write a program to check whether the last digit of a number (entered by user) is divisible by 3 or not"
   ]
  },
  {
   "cell_type": "code",
   "execution_count": 34,
   "id": "d416ee62",
   "metadata": {},
   "outputs": [
    {
     "name": "stdout",
     "output_type": "stream",
     "text": [
      "Enter the number:43\n",
      "The last digit of a number is divisible by 3\n"
     ]
    }
   ],
   "source": [
    "n =int(input(\"Enter the number:\"))\n",
    "last_digit = n % 10\n",
    "if last_digit % 3 == 0:\n",
    "    print(\"The last digit of a number is divisible by 3\")\n",
    "else:\n",
    "    print(\"The last digit of number is not divisible by 3\")"
   ]
  },
  {
   "cell_type": "markdown",
   "id": "de2d768c",
   "metadata": {},
   "source": [
    "### 11. Write a python program to accept percentage from the user and display the grade according to the following criteria:\n",
    " |Marks|Grade|\n",
    " |:--:|:--:|\n",
    " |>90|A|\n",
    " |>80 and <=90|B|\n",
    " |>=60 and <=80|C|\n",
    " below 60|D|"
   ]
  },
  {
   "cell_type": "code",
   "execution_count": 5,
   "id": "5fb1112a",
   "metadata": {},
   "outputs": [
    {
     "name": "stdout",
     "output_type": "stream",
     "text": [
      "Enter the percentage:56\n",
      "Grade is D\n"
     ]
    }
   ],
   "source": [
    "n = int(input(\"Enter the percentage:\"))\n",
    "if n > 90:\n",
    "    print(\"Grade is A\")\n",
    "elif n>80 and n<=90:\n",
    "    print(\"Grade is B\")\n",
    "elif n>=60 and n<=80:\n",
    "    print(\"Grade is C\")\n",
    "else:\n",
    "    print(\"Grade is D\")"
   ]
  },
  {
   "cell_type": "markdown",
   "id": "c1f8bcd0",
   "metadata": {},
   "source": [
    "### 12. Write the output of the following if a =9"
   ]
  },
  {
   "cell_type": "code",
   "execution_count": 12,
   "id": "0e8219ff",
   "metadata": {},
   "outputs": [],
   "source": [
    "#if(a>5 and a<=10):\n",
    "#print(\"Hello\")\n",
    "#else:\n",
    "#print(\"Bye\")\n",
    "\n",
    "    "
   ]
  },
  {
   "cell_type": "markdown",
   "id": "f7c5b64f",
   "metadata": {},
   "source": [
    "#### Output: Hello"
   ]
  },
  {
   "cell_type": "markdown",
   "id": "2530a203",
   "metadata": {},
   "source": [
    "### 13. Write a program to check a character is vowel or not"
   ]
  },
  {
   "cell_type": "code",
   "execution_count": 6,
   "id": "bf172452",
   "metadata": {},
   "outputs": [
    {
     "name": "stdout",
     "output_type": "stream",
     "text": [
      "Enter the character:e\n",
      "Entered character is vowel\n"
     ]
    }
   ],
   "source": [
    "ch =input(\"Enter the character:\")\n",
    "vowel =\"aeiouAEIOU\"\n",
    "if ch in vowel:\n",
    "    print(\"Entered character is vowel\")\n",
    "else:\n",
    "    print(\"Entered character is not vowel\")\n",
    "    "
   ]
  },
  {
   "cell_type": "markdown",
   "id": "7c6f641f",
   "metadata": {},
   "source": [
    "### 14. Given 2  sets of integers, M and N, print their symmetric difference in ascending order. The term symmetric difference indicates those values that exist in either M or N  but do not exist in both."
   ]
  },
  {
   "cell_type": "code",
   "execution_count": 15,
   "id": "1c7c28c8",
   "metadata": {},
   "outputs": [
    {
     "name": "stdout",
     "output_type": "stream",
     "text": [
      "2 4 5 9\n",
      "{9, 2, 4, 5}\n",
      "2 4 11 12\n",
      "{2, 11, 4, 12}\n",
      "5\n",
      "9\n",
      "11\n",
      "12\n"
     ]
    }
   ],
   "source": [
    "M = input()\n",
    "a = M.split()\n",
    "set1 = set(map(int,a))\n",
    "print(set1)\n",
    "\n",
    "N = input()\n",
    "b = N.split()\n",
    "set2 = set(map(int,b))\n",
    "print(set2)\n",
    "\n",
    "c = set1.symmetric_difference(set2)\n",
    "\n",
    "for i in c:\n",
    "    print(i)"
   ]
  },
  {
   "cell_type": "markdown",
   "id": "dd5cb741",
   "metadata": {},
   "source": [
    "### 15.Printing number"
   ]
  },
  {
   "cell_type": "code",
   "execution_count": 36,
   "id": "f6cb97cb",
   "metadata": {},
   "outputs": [
    {
     "name": "stdout",
     "output_type": "stream",
     "text": [
      " \n",
      "1  \n",
      "2 2  \n",
      "3 3 3  \n",
      "4 4 4 4  \n",
      "5 5 5 5 5  \n"
     ]
    }
   ],
   "source": [
    "rows = 6\n",
    "\n",
    "for i in range(rows):\n",
    "    for j in range(i):\n",
    "        print(i,end =\" \")\n",
    "    print(\" \")"
   ]
  },
  {
   "cell_type": "code",
   "execution_count": null,
   "id": "8324bac6",
   "metadata": {},
   "outputs": [],
   "source": []
  }
 ],
 "metadata": {
  "kernelspec": {
   "display_name": "Python 3 (ipykernel)",
   "language": "python",
   "name": "python3"
  },
  "language_info": {
   "codemirror_mode": {
    "name": "ipython",
    "version": 3
   },
   "file_extension": ".py",
   "mimetype": "text/x-python",
   "name": "python",
   "nbconvert_exporter": "python",
   "pygments_lexer": "ipython3",
   "version": "3.10.9"
  }
 },
 "nbformat": 4,
 "nbformat_minor": 5
}
